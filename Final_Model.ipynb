{
 "cells": [
  {
   "cell_type": "code",
   "execution_count": null,
   "metadata": {
    "colab": {
     "base_uri": "https://localhost:8080/",
     "height": 360
    },
    "colab_type": "code",
    "id": "alQsCo8G7-YY",
    "outputId": "8317e72b-d888-4c41-dbdd-b8ca63aa4b2a"
   },
   "outputs": [
    {
     "name": "stdout",
     "output_type": "stream",
     "text": [
      "Collecting feature_engine\n",
      "  Downloading https://files.pythonhosted.org/packages/57/cb/afbd5caa894ced21b8990b2b4bf7f6aea6ca392e787d8b37a542cb13a4e0/feature_engine-0.4.31-py2.py3-none-any.whl\n",
      "Requirement already satisfied: numpy>=1.18.2 in /usr/local/lib/python3.6/dist-packages (from feature_engine) (1.18.5)\n",
      "Requirement already satisfied: scikit-learn>=0.22.2 in /usr/local/lib/python3.6/dist-packages (from feature_engine) (0.22.2.post1)\n",
      "Requirement already satisfied: scipy>=1.4.1 in /usr/local/lib/python3.6/dist-packages (from feature_engine) (1.4.1)\n",
      "Requirement already satisfied: pandas>=1.0.3 in /usr/local/lib/python3.6/dist-packages (from feature_engine) (1.0.4)\n",
      "Collecting statsmodels>=0.11.1\n",
      "\u001b[?25l  Downloading https://files.pythonhosted.org/packages/cb/83/540fd83238a18abe6c2d280fa8e489ac5fcefa1f370f0ca1acd16ae1b860/statsmodels-0.11.1-cp36-cp36m-manylinux1_x86_64.whl (8.7MB)\n",
      "\u001b[K     |████████████████████████████████| 8.7MB 7.6MB/s \n",
      "\u001b[?25hRequirement already satisfied: joblib>=0.11 in /usr/local/lib/python3.6/dist-packages (from scikit-learn>=0.22.2->feature_engine) (0.15.1)\n",
      "Requirement already satisfied: pytz>=2017.2 in /usr/local/lib/python3.6/dist-packages (from pandas>=1.0.3->feature_engine) (2018.9)\n",
      "Requirement already satisfied: python-dateutil>=2.6.1 in /usr/local/lib/python3.6/dist-packages (from pandas>=1.0.3->feature_engine) (2.8.1)\n",
      "Requirement already satisfied: patsy>=0.5 in /usr/local/lib/python3.6/dist-packages (from statsmodels>=0.11.1->feature_engine) (0.5.1)\n",
      "Requirement already satisfied: six>=1.5 in /usr/local/lib/python3.6/dist-packages (from python-dateutil>=2.6.1->pandas>=1.0.3->feature_engine) (1.12.0)\n",
      "Installing collected packages: statsmodels, feature-engine\n",
      "  Found existing installation: statsmodels 0.10.2\n",
      "    Uninstalling statsmodels-0.10.2:\n",
      "      Successfully uninstalled statsmodels-0.10.2\n",
      "Successfully installed feature-engine-0.4.31 statsmodels-0.11.1\n"
     ]
    }
   ],
   "source": [
    "! pip install feature_engine"
   ]
  },
  {
   "cell_type": "code",
   "execution_count": null,
   "metadata": {
    "colab": {},
    "colab_type": "code",
    "id": "h6xTfIjrHozv"
   },
   "outputs": [],
   "source": [
    "import pandas as pd\n",
    "import numpy as np\n",
    "import matplotlib.pyplot as plt\n",
    "import warnings\n",
    "warnings.filterwarnings(\"ignore\")\n",
    "import seaborn as sns\n",
    "from sklearn.preprocessing import MinMaxScaler\n",
    "from sklearn.preprocessing import StandardScaler\n",
    "from sklearn.model_selection import cross_val_score\n",
    "from sklearn.model_selection import KFold\n",
    "from sklearn.metrics import confusion_matrix,accuracy_score,classification_report,roc_auc_score,roc_curve\n",
    "from feature_engine import categorical_encoders as ce"
   ]
  },
  {
   "cell_type": "code",
   "execution_count": null,
   "metadata": {
    "colab": {},
    "colab_type": "code",
    "id": "qsZ2qrmHLL3T"
   },
   "outputs": [],
   "source": [
    "df=pd.read_csv(\"drive/My Drive/L&T/train.csv\")"
   ]
  },
  {
   "cell_type": "code",
   "execution_count": null,
   "metadata": {
    "colab": {
     "base_uri": "https://localhost:8080/",
     "height": 296
    },
    "colab_type": "code",
    "id": "PejC_BjJ40hm",
    "outputId": "474378c3-e0fb-443e-b1ee-c6b41fdbc1fd"
   },
   "outputs": [
    {
     "data": {
      "text/plain": [
       "<matplotlib.axes._subplots.AxesSubplot at 0x7ffa6f484978>"
      ]
     },
     "execution_count": 4,
     "metadata": {
      "tags": []
     },
     "output_type": "execute_result"
    },
    {
     "data": {
      "image/png": "[encoded data removed]",
      "text/plain": [
       "<Figure size 432x288 with 1 Axes>"
      ]
     },
     "metadata": {
      "needs_background": "light",
      "tags": []
     },
     "output_type": "display_data"
    }
   ],
   "source": [
    "sns.distplot(df[\"ltv\"])"
   ]
  },
  {
   "cell_type": "code",
   "execution_count": null,
   "metadata": {
    "colab": {
     "base_uri": "https://localhost:8080/",
     "height": 34
    },
    "colab_type": "code",
    "id": "T7qNmLeF5Z14",
    "outputId": "ccd21d93-cdf6-451b-e02c-f5e928889e21"
   },
   "outputs": [
    {
     "data": {
      "text/plain": [
       "1.293927649863921"
      ]
     },
     "execution_count": 5,
     "metadata": {
      "tags": []
     },
     "output_type": "execute_result"
    }
   ],
   "source": [
    "df[\"ltv\"].kurt()"
   ]
  },
  {
   "cell_type": "code",
   "execution_count": null,
   "metadata": {
    "colab": {
     "base_uri": "https://localhost:8080/",
     "height": 296
    },
    "colab_type": "code",
    "id": "0nUg2q4E470_",
    "outputId": "2edd8568-15fd-4b68-bc5e-a63b754b7d2a"
   },
   "outputs": [
    {
     "data": {
      "text/plain": [
       "<matplotlib.axes._subplots.AxesSubplot at 0x7ffa6e7e8240>"
      ]
     },
     "execution_count": 6,
     "metadata": {
      "tags": []
     },
     "output_type": "execute_result"
    },
    {
     "data": {
      "image/png": "[encoded data removed]",
      "text/plain": [
       "<Figure size 432x288 with 1 Axes>"
      ]
     },
     "metadata": {
      "needs_background": "light",
      "tags": []
     },
     "output_type": "display_data"
    }
   ],
   "source": [
    "sns.distplot(np.log(1/df[\"ltv\"]))"
   ]
  },
  {
   "cell_type": "code",
   "execution_count": null,
   "metadata": {
    "colab": {
     "base_uri": "https://localhost:8080/",
     "height": 224
    },
    "colab_type": "code",
    "id": "xtV2YACqLsAA",
    "outputId": "71160aa0-a386-4b7a-cbcf-ac9e8eb3d7ba"
   },
   "outputs": [
    {
     "data": {
      "text/html": [
       "<div>\n",
       "<style scoped>\n",
       "    .dataframe tbody tr th:only-of-type {\n",
       "        vertical-align: middle;\n",
       "    }\n",
       "\n",
       "    .dataframe tbody tr th {\n",
       "        vertical-align: top;\n",
       "    }\n",
       "\n",
       "    .dataframe thead th {\n",
       "        text-align: right;\n",
       "    }\n",
       "</style>\n",
       "<table border=\"1\" class=\"dataframe\">\n",
       "  <thead>\n",
       "    <tr style=\"text-align: right;\">\n",
       "      <th></th>\n",
       "      <th>UniqueID</th>\n",
       "      <th>disbursed_amount</th>\n",
       "      <th>asset_cost</th>\n",
       "      <th>ltv</th>\n",
       "      <th>branch_id</th>\n",
       "      <th>supplier_id</th>\n",
       "      <th>manufacturer_id</th>\n",
       "      <th>Current_pincode_ID</th>\n",
       "      <th>Date.of.Birth</th>\n",
       "      <th>Employment.Type</th>\n",
       "      <th>DisbursalDate</th>\n",
       "      <th>State_ID</th>\n",
       "      <th>Employee_code_ID</th>\n",
       "      <th>MobileNo_Avl_Flag</th>\n",
       "      <th>Aadhar_flag</th>\n",
       "      <th>PAN_flag</th>\n",
       "      <th>VoterID_flag</th>\n",
       "      <th>Driving_flag</th>\n",
       "      <th>Passport_flag</th>\n",
       "      <th>PERFORM_CNS.SCORE</th>\n",
       "      <th>PERFORM_CNS.SCORE.DESCRIPTION</th>\n",
       "      <th>PRI.NO.OF.ACCTS</th>\n",
       "      <th>PRI.ACTIVE.ACCTS</th>\n",
       "      <th>PRI.OVERDUE.ACCTS</th>\n",
       "      <th>PRI.CURRENT.BALANCE</th>\n",
       "      <th>PRI.SANCTIONED.AMOUNT</th>\n",
       "      <th>PRI.DISBURSED.AMOUNT</th>\n",
       "      <th>SEC.NO.OF.ACCTS</th>\n",
       "      <th>SEC.ACTIVE.ACCTS</th>\n",
       "      <th>SEC.OVERDUE.ACCTS</th>\n",
       "      <th>SEC.CURRENT.BALANCE</th>\n",
       "      <th>SEC.SANCTIONED.AMOUNT</th>\n",
       "      <th>SEC.DISBURSED.AMOUNT</th>\n",
       "      <th>PRIMARY.INSTAL.AMT</th>\n",
       "      <th>SEC.INSTAL.AMT</th>\n",
       "      <th>NEW.ACCTS.IN.LAST.SIX.MONTHS</th>\n",
       "      <th>DELINQUENT.ACCTS.IN.LAST.SIX.MONTHS</th>\n",
       "      <th>AVERAGE.ACCT.AGE</th>\n",
       "      <th>CREDIT.HISTORY.LENGTH</th>\n",
       "      <th>NO.OF_INQUIRIES</th>\n",
       "      <th>loan_default</th>\n",
       "    </tr>\n",
       "  </thead>\n",
       "  <tbody>\n",
       "    <tr>\n",
       "      <th>0</th>\n",
       "      <td>420825</td>\n",
       "      <td>50578</td>\n",
       "      <td>58400</td>\n",
       "      <td>89.55</td>\n",
       "      <td>67</td>\n",
       "      <td>22807</td>\n",
       "      <td>45</td>\n",
       "      <td>1441</td>\n",
       "      <td>01-01-1984</td>\n",
       "      <td>Salaried</td>\n",
       "      <td>03-08-2018</td>\n",
       "      <td>6</td>\n",
       "      <td>1998</td>\n",
       "      <td>1</td>\n",
       "      <td>1</td>\n",
       "      <td>0</td>\n",
       "      <td>0</td>\n",
       "      <td>0</td>\n",
       "      <td>0</td>\n",
       "      <td>0</td>\n",
       "      <td>No Bureau History Available</td>\n",
       "      <td>0</td>\n",
       "      <td>0</td>\n",
       "      <td>0</td>\n",
       "      <td>0</td>\n",
       "      <td>0</td>\n",
       "      <td>0</td>\n",
       "      <td>0</td>\n",
       "      <td>0</td>\n",
       "      <td>0</td>\n",
       "      <td>0</td>\n",
       "      <td>0</td>\n",
       "      <td>0</td>\n",
       "      <td>0</td>\n",
       "      <td>0</td>\n",
       "      <td>0</td>\n",
       "      <td>0</td>\n",
       "      <td>0yrs 0mon</td>\n",
       "      <td>0yrs 0mon</td>\n",
       "      <td>0</td>\n",
       "      <td>0</td>\n",
       "    </tr>\n",
       "    <tr>\n",
       "      <th>1</th>\n",
       "      <td>537409</td>\n",
       "      <td>47145</td>\n",
       "      <td>65550</td>\n",
       "      <td>73.23</td>\n",
       "      <td>67</td>\n",
       "      <td>22807</td>\n",
       "      <td>45</td>\n",
       "      <td>1502</td>\n",
       "      <td>31-07-1985</td>\n",
       "      <td>Self employed</td>\n",
       "      <td>26-09-2018</td>\n",
       "      <td>6</td>\n",
       "      <td>1998</td>\n",
       "      <td>1</td>\n",
       "      <td>1</td>\n",
       "      <td>0</td>\n",
       "      <td>0</td>\n",
       "      <td>0</td>\n",
       "      <td>0</td>\n",
       "      <td>598</td>\n",
       "      <td>I-Medium Risk</td>\n",
       "      <td>1</td>\n",
       "      <td>1</td>\n",
       "      <td>1</td>\n",
       "      <td>27600</td>\n",
       "      <td>50200</td>\n",
       "      <td>50200</td>\n",
       "      <td>0</td>\n",
       "      <td>0</td>\n",
       "      <td>0</td>\n",
       "      <td>0</td>\n",
       "      <td>0</td>\n",
       "      <td>0</td>\n",
       "      <td>1991</td>\n",
       "      <td>0</td>\n",
       "      <td>0</td>\n",
       "      <td>1</td>\n",
       "      <td>1yrs 11mon</td>\n",
       "      <td>1yrs 11mon</td>\n",
       "      <td>0</td>\n",
       "      <td>1</td>\n",
       "    </tr>\n",
       "    <tr>\n",
       "      <th>2</th>\n",
       "      <td>417566</td>\n",
       "      <td>53278</td>\n",
       "      <td>61360</td>\n",
       "      <td>89.63</td>\n",
       "      <td>67</td>\n",
       "      <td>22807</td>\n",
       "      <td>45</td>\n",
       "      <td>1497</td>\n",
       "      <td>24-08-1985</td>\n",
       "      <td>Self employed</td>\n",
       "      <td>01-08-2018</td>\n",
       "      <td>6</td>\n",
       "      <td>1998</td>\n",
       "      <td>1</td>\n",
       "      <td>1</td>\n",
       "      <td>0</td>\n",
       "      <td>0</td>\n",
       "      <td>0</td>\n",
       "      <td>0</td>\n",
       "      <td>0</td>\n",
       "      <td>No Bureau History Available</td>\n",
       "      <td>0</td>\n",
       "      <td>0</td>\n",
       "      <td>0</td>\n",
       "      <td>0</td>\n",
       "      <td>0</td>\n",
       "      <td>0</td>\n",
       "      <td>0</td>\n",
       "      <td>0</td>\n",
       "      <td>0</td>\n",
       "      <td>0</td>\n",
       "      <td>0</td>\n",
       "      <td>0</td>\n",
       "      <td>0</td>\n",
       "      <td>0</td>\n",
       "      <td>0</td>\n",
       "      <td>0</td>\n",
       "      <td>0yrs 0mon</td>\n",
       "      <td>0yrs 0mon</td>\n",
       "      <td>0</td>\n",
       "      <td>0</td>\n",
       "    </tr>\n",
       "    <tr>\n",
       "      <th>3</th>\n",
       "      <td>624493</td>\n",
       "      <td>57513</td>\n",
       "      <td>66113</td>\n",
       "      <td>88.48</td>\n",
       "      <td>67</td>\n",
       "      <td>22807</td>\n",
       "      <td>45</td>\n",
       "      <td>1501</td>\n",
       "      <td>30-12-1993</td>\n",
       "      <td>Self employed</td>\n",
       "      <td>26-10-2018</td>\n",
       "      <td>6</td>\n",
       "      <td>1998</td>\n",
       "      <td>1</td>\n",
       "      <td>1</td>\n",
       "      <td>0</td>\n",
       "      <td>0</td>\n",
       "      <td>0</td>\n",
       "      <td>0</td>\n",
       "      <td>305</td>\n",
       "      <td>L-Very High Risk</td>\n",
       "      <td>3</td>\n",
       "      <td>0</td>\n",
       "      <td>0</td>\n",
       "      <td>0</td>\n",
       "      <td>0</td>\n",
       "      <td>0</td>\n",
       "      <td>0</td>\n",
       "      <td>0</td>\n",
       "      <td>0</td>\n",
       "      <td>0</td>\n",
       "      <td>0</td>\n",
       "      <td>0</td>\n",
       "      <td>31</td>\n",
       "      <td>0</td>\n",
       "      <td>0</td>\n",
       "      <td>0</td>\n",
       "      <td>0yrs 8mon</td>\n",
       "      <td>1yrs 3mon</td>\n",
       "      <td>1</td>\n",
       "      <td>1</td>\n",
       "    </tr>\n",
       "    <tr>\n",
       "      <th>4</th>\n",
       "      <td>539055</td>\n",
       "      <td>52378</td>\n",
       "      <td>60300</td>\n",
       "      <td>88.39</td>\n",
       "      <td>67</td>\n",
       "      <td>22807</td>\n",
       "      <td>45</td>\n",
       "      <td>1495</td>\n",
       "      <td>09-12-1977</td>\n",
       "      <td>Self employed</td>\n",
       "      <td>26-09-2018</td>\n",
       "      <td>6</td>\n",
       "      <td>1998</td>\n",
       "      <td>1</td>\n",
       "      <td>1</td>\n",
       "      <td>0</td>\n",
       "      <td>0</td>\n",
       "      <td>0</td>\n",
       "      <td>0</td>\n",
       "      <td>0</td>\n",
       "      <td>No Bureau History Available</td>\n",
       "      <td>0</td>\n",
       "      <td>0</td>\n",
       "      <td>0</td>\n",
       "      <td>0</td>\n",
       "      <td>0</td>\n",
       "      <td>0</td>\n",
       "      <td>0</td>\n",
       "      <td>0</td>\n",
       "      <td>0</td>\n",
       "      <td>0</td>\n",
       "      <td>0</td>\n",
       "      <td>0</td>\n",
       "      <td>0</td>\n",
       "      <td>0</td>\n",
       "      <td>0</td>\n",
       "      <td>0</td>\n",
       "      <td>0yrs 0mon</td>\n",
       "      <td>0yrs 0mon</td>\n",
       "      <td>1</td>\n",
       "      <td>1</td>\n",
       "    </tr>\n",
       "  </tbody>\n",
       "</table>\n",
       "</div>"
      ],
      "text/plain": [
       "   UniqueID  disbursed_amount  ...  NO.OF_INQUIRIES  loan_default\n",
       "0    420825             50578  ...                0             0\n",
       "1    537409             47145  ...                0             1\n",
       "2    417566             53278  ...                0             0\n",
       "3    624493             57513  ...                1             1\n",
       "4    539055             52378  ...                1             1\n",
       "\n",
       "[5 rows x 41 columns]"
      ]
     },
     "execution_count": 7,
     "metadata": {
      "tags": []
     },
     "output_type": "execute_result"
    }
   ],
   "source": [
    "df.head()"
   ]
  },
  {
   "cell_type": "code",
   "execution_count": null,
   "metadata": {
    "colab": {
     "base_uri": "https://localhost:8080/",
     "height": 306
    },
    "colab_type": "code",
    "id": "gNYtGpIiM5gV",
    "outputId": "a0e3322f-1fbd-4e72-b9c3-75c72664ed1b"
   },
   "outputs": [
    {
     "data": {
      "text/plain": [
       "UniqueID                         233154\n",
       "branch_id                            82\n",
       "supplier_id                        2953\n",
       "manufacturer_id                      11\n",
       "Current_pincode_ID                 6698\n",
       "Employment.Type                       3\n",
       "State_ID                             22\n",
       "Employee_code_ID                   3270\n",
       "MobileNo_Avl_Flag                     1\n",
       "Aadhar_flag                           2\n",
       "PAN_flag                              2\n",
       "VoterID_flag                          2\n",
       "Driving_flag                          2\n",
       "Passport_flag                         2\n",
       "PERFORM_CNS.SCORE.DESCRIPTION         6\n",
       "DisbursalDate_Month                  12\n",
       "dtype: int64"
      ]
     },
     "execution_count": 8,
     "metadata": {
      "tags": []
     },
     "output_type": "execute_result"
    }
   ],
   "source": [
    "def cns_desc(x):\n",
    "    if x<300:\n",
    "        return 0\n",
    "    elif (x>=300) and (x<=350):\n",
    "        return 1\n",
    "    elif (x>350) and (x<=570):\n",
    "        return 2\n",
    "    elif (x>570) and (x<=630):\n",
    "        return 3\n",
    "    elif (x>630) and (x<=705):\n",
    "        return 4\n",
    "    else:\n",
    "        return 5\n",
    "\n",
    "df[\"Date.of.Birth\"]=pd.to_datetime(df[\"Date.of.Birth\"])\n",
    "\n",
    "df[\"DisbursalDate\"]=pd.to_datetime(df[\"DisbursalDate\"])\n",
    "df[\"DisbursalDate_Month\"]=df[\"DisbursalDate\"].dt.month\n",
    "\n",
    "df[\"Age_at_disbursement\"]=((df['DisbursalDate']-df[\"Date.of.Birth\"])/365).apply(lambda x:x.days)\n",
    "\n",
    "df[\"Employment.Type\"]=df[\"Employment.Type\"].map({'Salaried':0,\"Self employed\":1,np.nan:2})\n",
    "\n",
    "df[\"PERFORM_CNS.SCORE.DESCRIPTION\"]=df[\"PERFORM_CNS.SCORE\"].apply(cns_desc)\n",
    "\n",
    "df[\"AVERAGE.ACCT.AGE\"]=df[\"AVERAGE.ACCT.AGE\"].apply(lambda x:(int((x.split(\"y\"))[0])*12)+(int((x.split())[1].split(\"m\")[0])))\n",
    "\n",
    "df[\"CREDIT.HISTORY.LENGTH\"]=df[\"CREDIT.HISTORY.LENGTH\"].apply(lambda x:(int((x.split(\"y\"))[0])*12)+(int((x.split())[1].split(\"m\")[0])))\n",
    "\n",
    "df['NO.OF.ACCTS']=df['PRI.NO.OF.ACCTS']+df['SEC.NO.OF.ACCTS']\n",
    "df['ACTIVE.ACCTS']=df['PRI.ACTIVE.ACCTS']+df['SEC.ACTIVE.ACCTS']\n",
    "df['OVERDUE.ACCTS']=df['PRI.OVERDUE.ACCTS']+df['SEC.OVERDUE.ACCTS']\n",
    "df['CURRENT.BALANCE']=df['PRI.CURRENT.BALANCE']+df['SEC.CURRENT.BALANCE']\n",
    "df['SANCTIONED.AMOUNT']=df['PRI.SANCTIONED.AMOUNT']+df['SEC.SANCTIONED.AMOUNT']\n",
    "df['DISBURSED.AMOUNT']=df['PRI.DISBURSED.AMOUNT']+df['SEC.DISBURSED.AMOUNT']\n",
    "df['INSTAL.AMT']=df['PRIMARY.INSTAL.AMT']+df['SEC.INSTAL.AMT']\n",
    "\n",
    "df=df.drop(['PRI.NO.OF.ACCTS','SEC.NO.OF.ACCTS','PRI.ACTIVE.ACCTS','SEC.ACTIVE.ACCTS','PRI.OVERDUE.ACCTS','SEC.OVERDUE.ACCTS','PRI.CURRENT.BALANCE','SEC.CURRENT.BALANCE','PRI.SANCTIONED.AMOUNT','SEC.SANCTIONED.AMOUNT','PRI.DISBURSED.AMOUNT','SEC.DISBURSED.AMOUNT','PRIMARY.INSTAL.AMT','SEC.INSTAL.AMT'],axis=1)\n",
    "\n",
    "df.nunique()\n",
    "\n",
    "df.columns\n",
    "\n",
    "df=df.drop(columns=['Date.of.Birth',\"DisbursalDate\"])\n",
    "\n",
    "cols=df.columns.to_list()\n",
    "\n",
    "cat_cols=['UniqueID','branch_id','supplier_id', 'manufacturer_id', 'Current_pincode_ID','Employment.Type', 'State_ID',\n",
    "          'Employee_code_ID','MobileNo_Avl_Flag', 'Aadhar_flag', 'PAN_flag', 'VoterID_flag','Driving_flag', 'Passport_flag',\n",
    "       'PERFORM_CNS.SCORE.DESCRIPTION','DisbursalDate_Month']\n",
    "\n",
    "target_col=\"loan_default\"\n",
    "\n",
    "num_cols=['disbursed_amount','asset_cost','ltv','PERFORM_CNS.SCORE','NEW.ACCTS.IN.LAST.SIX.MONTHS',\n",
    "          'DELINQUENT.ACCTS.IN.LAST.SIX.MONTHS','AVERAGE.ACCT.AGE','CREDIT.HISTORY.LENGTH','NO.OF_INQUIRIES',\n",
    "          'Age_at_disbursement','NO.OF.ACCTS','ACTIVE.ACCTS','OVERDUE.ACCTS','CURRENT.BALANCE','SANCTIONED.AMOUNT',\n",
    "             'DISBURSED.AMOUNT','INSTAL.AMT']\n",
    "\n",
    "df[cat_cols].nunique()\n",
    "\n",
    "\n"
   ]
  },
  {
   "cell_type": "code",
   "execution_count": null,
   "metadata": {
    "colab": {
     "base_uri": "https://localhost:8080/",
     "height": 204
    },
    "colab_type": "code",
    "id": "QEgwwejU9q1S",
    "outputId": "8e9e5551-9190-4935-d429-3f920c9af544"
   },
   "outputs": [
    {
     "data": {
      "text/plain": [
       "Index(['UniqueID', 'disbursed_amount', 'asset_cost', 'ltv', 'branch_id',\n",
       "       'supplier_id', 'manufacturer_id', 'Current_pincode_ID',\n",
       "       'Employment.Type', 'State_ID', 'Employee_code_ID', 'MobileNo_Avl_Flag',\n",
       "       'Aadhar_flag', 'PAN_flag', 'VoterID_flag', 'Driving_flag',\n",
       "       'Passport_flag', 'PERFORM_CNS.SCORE', 'PERFORM_CNS.SCORE.DESCRIPTION',\n",
       "       'NEW.ACCTS.IN.LAST.SIX.MONTHS', 'DELINQUENT.ACCTS.IN.LAST.SIX.MONTHS',\n",
       "       'AVERAGE.ACCT.AGE', 'CREDIT.HISTORY.LENGTH', 'NO.OF_INQUIRIES',\n",
       "       'loan_default', 'DisbursalDate_Month', 'Age_at_disbursement',\n",
       "       'NO.OF.ACCTS', 'ACTIVE.ACCTS', 'OVERDUE.ACCTS', 'CURRENT.BALANCE',\n",
       "       'SANCTIONED.AMOUNT', 'DISBURSED.AMOUNT', 'INSTAL.AMT'],\n",
       "      dtype='object')"
      ]
     },
     "execution_count": 9,
     "metadata": {
      "tags": []
     },
     "output_type": "execute_result"
    }
   ],
   "source": [
    "df.columns"
   ]
  },
  {
   "cell_type": "code",
   "execution_count": null,
   "metadata": {
    "colab": {},
    "colab_type": "code",
    "id": "1QCw3lk39nLz"
   },
   "outputs": [],
   "source": [
    "encoder = ce.CountFrequencyCategoricalEncoder(encoding_method='frequency',\n",
    "                         variables=['branch_id', 'supplier_id',\n",
    "       'manufacturer_id', 'Current_pincode_ID', 'Employment.Type', 'State_ID',\n",
    "       'Employee_code_ID','PERFORM_CNS.SCORE.DESCRIPTION'])"
   ]
  },
  {
   "cell_type": "code",
   "execution_count": null,
   "metadata": {
    "colab": {},
    "colab_type": "code",
    "id": "udx4kyZT9522"
   },
   "outputs": [],
   "source": [
    "cols=['branch_id', 'supplier_id',\n",
    "       'manufacturer_id', 'Current_pincode_ID', 'Employment.Type', 'State_ID',\n",
    "       'Employee_code_ID','PERFORM_CNS.SCORE.DESCRIPTION']\n",
    "for i in cols:\n",
    "  df[i]=df[i].astype(object)\n",
    "  encoder = ce.CountFrequencyCategoricalEncoder(encoding_method='frequency',variables=[i])\n",
    "  encoder.fit(df)\n",
    "  df[i+\"_freq_encode\"]=encoder.transform(df)[i]\n",
    "  df[i]=df[i].astype(int)"
   ]
  },
  {
   "cell_type": "code",
   "execution_count": null,
   "metadata": {
    "colab": {
     "base_uri": "https://localhost:8080/",
     "height": 850
    },
    "colab_type": "code",
    "id": "OGOjW6oXC3Sj",
    "outputId": "c991c35c-1003-405a-94d1-1c4453de4b6a"
   },
   "outputs": [
    {
     "name": "stdout",
     "output_type": "stream",
     "text": [
      "<class 'pandas.core.frame.DataFrame'>\n",
      "RangeIndex: 233154 entries, 0 to 233153\n",
      "Data columns (total 42 columns):\n",
      " #   Column                                     Non-Null Count   Dtype  \n",
      "---  ------                                     --------------   -----  \n",
      " 0   UniqueID                                   233154 non-null  int64  \n",
      " 1   disbursed_amount                           233154 non-null  int64  \n",
      " 2   asset_cost                                 233154 non-null  int64  \n",
      " 3   ltv                                        233154 non-null  float64\n",
      " 4   branch_id                                  233154 non-null  int64  \n",
      " 5   supplier_id                                233154 non-null  int64  \n",
      " 6   manufacturer_id                            233154 non-null  int64  \n",
      " 7   Current_pincode_ID                         233154 non-null  int64  \n",
      " 8   Employment.Type                            233154 non-null  int64  \n",
      " 9   State_ID                                   233154 non-null  int64  \n",
      " 10  Employee_code_ID                           233154 non-null  int64  \n",
      " 11  MobileNo_Avl_Flag                          233154 non-null  int64  \n",
      " 12  Aadhar_flag                                233154 non-null  int64  \n",
      " 13  PAN_flag                                   233154 non-null  int64  \n",
      " 14  VoterID_flag                               233154 non-null  int64  \n",
      " 15  Driving_flag                               233154 non-null  int64  \n",
      " 16  Passport_flag                              233154 non-null  int64  \n",
      " 17  PERFORM_CNS.SCORE                          233154 non-null  int64  \n",
      " 18  PERFORM_CNS.SCORE.DESCRIPTION              233154 non-null  int64  \n",
      " 19  NEW.ACCTS.IN.LAST.SIX.MONTHS               233154 non-null  int64  \n",
      " 20  DELINQUENT.ACCTS.IN.LAST.SIX.MONTHS        233154 non-null  int64  \n",
      " 21  AVERAGE.ACCT.AGE                           233154 non-null  int64  \n",
      " 22  CREDIT.HISTORY.LENGTH                      233154 non-null  int64  \n",
      " 23  NO.OF_INQUIRIES                            233154 non-null  int64  \n",
      " 24  loan_default                               233154 non-null  int64  \n",
      " 25  DisbursalDate_Month                        233154 non-null  int64  \n",
      " 26  Age_at_disbursement                        233154 non-null  int64  \n",
      " 27  NO.OF.ACCTS                                233154 non-null  int64  \n",
      " 28  ACTIVE.ACCTS                               233154 non-null  int64  \n",
      " 29  OVERDUE.ACCTS                              233154 non-null  int64  \n",
      " 30  CURRENT.BALANCE                            233154 non-null  int64  \n",
      " 31  SANCTIONED.AMOUNT                          233154 non-null  int64  \n",
      " 32  DISBURSED.AMOUNT                           233154 non-null  int64  \n",
      " 33  INSTAL.AMT                                 233154 non-null  int64  \n",
      " 34  branch_id_freq_encode                      233154 non-null  float64\n",
      " 35  supplier_id_freq_encode                    233154 non-null  float64\n",
      " 36  manufacturer_id_freq_encode                233154 non-null  float64\n",
      " 37  Current_pincode_ID_freq_encode             233154 non-null  float64\n",
      " 38  Employment.Type_freq_encode                233154 non-null  float64\n",
      " 39  State_ID_freq_encode                       233154 non-null  float64\n",
      " 40  Employee_code_ID_freq_encode               233154 non-null  float64\n",
      " 41  PERFORM_CNS.SCORE.DESCRIPTION_freq_encode  233154 non-null  float64\n",
      "dtypes: float64(9), int64(33)\n",
      "memory usage: 74.7 MB\n"
     ]
    }
   ],
   "source": [
    "df.info()"
   ]
  },
  {
   "cell_type": "code",
   "execution_count": null,
   "metadata": {
    "colab": {},
    "colab_type": "code",
    "id": "57PG_kIzZxum"
   },
   "outputs": [],
   "source": [
    "df=df.drop(columns=[\"UniqueID\"])\n",
    "X=df.drop(columns=[\"loan_default\"])\n",
    "y=df[\"loan_default\"]\n"
   ]
  },
  {
   "cell_type": "code",
   "execution_count": null,
   "metadata": {
    "colab": {},
    "colab_type": "code",
    "id": "kydnr1Mfa7ej"
   },
   "outputs": [],
   "source": [
    "def validation(X,y,model,scoring=\"roc_auc\"):\n",
    "    fold=KFold(n_splits=5,shuffle=True, random_state=1)\n",
    "    results=cross_val_score(model,X=X,y=y,cv=fold,scoring=scoring,n_jobs=-1)\n",
    "    print(\"mean_auc-\",results.mean())\n",
    "    print(\"std_auc-\",results.std(ddof=1))\n",
    "    return results\n"
   ]
  },
  {
   "cell_type": "code",
   "execution_count": null,
   "metadata": {
    "colab": {},
    "colab_type": "code",
    "id": "LnvvLtzpbDuE"
   },
   "outputs": [],
   "source": [
    "import lightgbm as lgb\n",
    "from sklearn.ensemble import RandomForestClassifier"
   ]
  },
  {
   "cell_type": "code",
   "execution_count": null,
   "metadata": {
    "colab": {},
    "colab_type": "code",
    "id": "_gosZdavbAf_"
   },
   "outputs": [],
   "source": [
    "#validation(X,y,lgb.LGBMClassifier())"
   ]
  },
  {
   "cell_type": "markdown",
   "metadata": {
    "colab_type": "text",
    "id": "Vl1HH7c7Zxj9"
   },
   "source": [
    "**LightGBM**"
   ]
  },
  {
   "cell_type": "code",
   "execution_count": null,
   "metadata": {
    "colab": {},
    "colab_type": "code",
    "id": "FTcG5YXRbV8j"
   },
   "outputs": [],
   "source": [
    "lgb_params = {}\n",
    "lgb_params['learning_rate'] = 0.1\n",
    "lgb_params['boosting_type'] = 'gbdt'\n",
    "lgb_params['objective'] = 'binary'\n",
    "lgb_params['metric']='logloss'\n",
    "lgb_params['num_leaves'] = 39\n",
    "lgb_params['max_depth'] = 11\n",
    "lgb_params[\"subsample\"]=1\n",
    "lgb_params[\"colsample_bytree\"]=.5\n",
    "lgb_params[\"min_child_samples\"]=65\n",
    "lgb_params[\"reg_lambda\"]=1\n",
    "lgb_params[\"n_estimators\"]=500"
   ]
  },
  {
   "cell_type": "code",
   "execution_count": null,
   "metadata": {
    "colab": {
     "base_uri": "https://localhost:8080/",
     "height": 68
    },
    "colab_type": "code",
    "id": "hgyrg3g0bF-J",
    "outputId": "4deed501-219b-45d6-aa6c-bdc9897f086e"
   },
   "outputs": [
    {
     "name": "stdout",
     "output_type": "stream",
     "text": [
      "mean_auc- 0.6704557240920792\n",
      "std_auc- 0.0011878422871161465\n"
     ]
    },
    {
     "data": {
      "text/plain": [
       "array([0.670251  , 0.67057945, 0.66974838, 0.67239514, 0.66930465])"
      ]
     },
     "execution_count": 38,
     "metadata": {
      "tags": []
     },
     "output_type": "execute_result"
    }
   ],
   "source": [
    "validation(X,y,lgb.LGBMClassifier(**lgb_params))"
   ]
  },
  {
   "cell_type": "code",
   "execution_count": null,
   "metadata": {
    "colab": {},
    "colab_type": "code",
    "id": "SS_P-gsFDFrp"
   },
   "outputs": [],
   "source": [
    "rf_params={}\n",
    "rf_params[\"max_depth\"]=23\n",
    "rf_params[\"n_estimators\"]=400\n",
    "rf_params[\"min_samples_leaf\"]=20\n",
    "rf_params[\"random_state\"]=0\n",
    "rf_params[\"criterion\"]=\"entropy\""
   ]
  },
  {
   "cell_type": "code",
   "execution_count": null,
   "metadata": {
    "colab": {
     "base_uri": "https://localhost:8080/",
     "height": 68
    },
    "colab_type": "code",
    "id": "2_c-ERB1XzC1",
    "outputId": "0952de2d-5467-44a6-b2e0-999c6050c928"
   },
   "outputs": [
    {
     "name": "stdout",
     "output_type": "stream",
     "text": [
      "mean_auc- 0.6654076062690589\n",
      "std_auc- 0.0025503295480204437\n"
     ]
    },
    {
     "data": {
      "text/plain": [
       "array([0.66450502, 0.66794972, 0.66238838, 0.66817978, 0.66401513])"
      ]
     },
     "execution_count": 40,
     "metadata": {
      "tags": []
     },
     "output_type": "execute_result"
    }
   ],
   "source": [
    "validation(X,y,RandomForestClassifier(**rf_params))"
   ]
  },
  {
   "cell_type": "code",
   "execution_count": null,
   "metadata": {
    "colab": {},
    "colab_type": "code",
    "id": "t_OTAskBE-aN"
   },
   "outputs": [],
   "source": [
    "from sklearn.metrics import accuracy_score,roc_auc_score,classification_report\n",
    "def model_eval(model,X_train, X_test, y_train, y_test):\n",
    "    model.fit(X_train,y_train)\n",
    "    y_pred=model.predict(X_test)\n",
    "    pred_prob=model.predict_proba(X_test)[:,-1]\n",
    "    print('accuracy:',accuracy_score(y_test, y_pred))\n",
    "    print(classification_report(y_test, y_pred))\n",
    "    print('roc_auc:',roc_auc_score(y_test, pred_prob)) "
   ]
  },
  {
   "cell_type": "code",
   "execution_count": null,
   "metadata": {
    "colab": {},
    "colab_type": "code",
    "id": "a0uM3Ph2YP2S"
   },
   "outputs": [],
   "source": [
    "from sklearn.model_selection import train_test_split\n",
    "\n",
    "X_train, X_test, y_train, y_test = train_test_split(X, y, test_size=0.3, random_state=1)"
   ]
  },
  {
   "cell_type": "code",
   "execution_count": null,
   "metadata": {
    "colab": {
     "base_uri": "https://localhost:8080/",
     "height": 204
    },
    "colab_type": "code",
    "id": "m54Sw_clYc7-",
    "outputId": "d7db699a-2282-42a7-daff-4ccd9aa3c337"
   },
   "outputs": [
    {
     "name": "stdout",
     "output_type": "stream",
     "text": [
      "accuracy: 0.7839650020729981\n",
      "              precision    recall  f1-score   support\n",
      "\n",
      "           0       0.79      0.99      0.88     54800\n",
      "           1       0.52      0.04      0.07     15147\n",
      "\n",
      "    accuracy                           0.78     69947\n",
      "   macro avg       0.65      0.51      0.48     69947\n",
      "weighted avg       0.73      0.78      0.70     69947\n",
      "\n",
      "roc_auc: 0.6696002026852177\n"
     ]
    }
   ],
   "source": [
    "model_eval(lgb.LGBMClassifier(**lgb_params),X_train, X_test, y_train, y_test)"
   ]
  },
  {
   "cell_type": "code",
   "execution_count": null,
   "metadata": {
    "colab": {
     "base_uri": "https://localhost:8080/",
     "height": 204
    },
    "colab_type": "code",
    "id": "ufoy0cGZYgyf",
    "outputId": "ba88f56a-3589-4a62-a4bd-f23a89c867a5"
   },
   "outputs": [
    {
     "name": "stdout",
     "output_type": "stream",
     "text": [
      "accuracy: 0.7839364089953822\n",
      "              precision    recall  f1-score   support\n",
      "\n",
      "           0       0.78      1.00      0.88     54800\n",
      "           1       0.61      0.01      0.01     15147\n",
      "\n",
      "    accuracy                           0.78     69947\n",
      "   macro avg       0.70      0.50      0.45     69947\n",
      "weighted avg       0.75      0.78      0.69     69947\n",
      "\n",
      "roc_auc: 0.6650106251918546\n"
     ]
    }
   ],
   "source": [
    "model_eval(RandomForestClassifier(**rf_params),X_train, X_test, y_train, y_test)"
   ]
  },
  {
   "cell_type": "code",
   "execution_count": null,
   "metadata": {
    "colab": {},
    "colab_type": "code",
    "id": "LRSsEGO1Ygrk"
   },
   "outputs": [],
   "source": []
  },
  {
   "cell_type": "code",
   "execution_count": null,
   "metadata": {
    "colab": {},
    "colab_type": "code",
    "id": "CLRoi49CYggJ"
   },
   "outputs": [],
   "source": []
  },
  {
   "cell_type": "code",
   "execution_count": null,
   "metadata": {
    "colab": {},
    "colab_type": "code",
    "id": "ilj1B7NSDFTN"
   },
   "outputs": [],
   "source": [
    "from sklearn.model_selection import GridSearchCV"
   ]
  },
  {
   "cell_type": "code",
   "execution_count": null,
   "metadata": {
    "colab": {},
    "colab_type": "code",
    "id": "ZpbibFKPXlxJ"
   },
   "outputs": [],
   "source": []
  },
  {
   "cell_type": "code",
   "execution_count": null,
   "metadata": {
    "colab": {
     "base_uri": "https://localhost:8080/",
     "height": 408
    },
    "colab_type": "code",
    "id": "Bvw0LGwPDFmY",
    "outputId": "1adc3bcc-37f0-46e0-8d02-afb07daaab76"
   },
   "outputs": [
    {
     "data": {
      "text/plain": [
       "GridSearchCV(cv=KFold(n_splits=5, random_state=1, shuffle=True),\n",
       "             error_score=nan,\n",
       "             estimator=RandomForestClassifier(bootstrap=True, ccp_alpha=0.0,\n",
       "                                              class_weight=None,\n",
       "                                              criterion='gini', max_depth=None,\n",
       "                                              max_features='auto',\n",
       "                                              max_leaf_nodes=None,\n",
       "                                              max_samples=None,\n",
       "                                              min_impurity_decrease=0.0,\n",
       "                                              min_impurity_split=None,\n",
       "                                              min_samples_leaf=1,\n",
       "                                              min_samples_split=2,\n",
       "                                              min_weight_fraction_leaf=0.0,\n",
       "                                              n_estimators=100, n_jobs=None,\n",
       "                                              oob_score=False,\n",
       "                                              random_state=None, verbose=0,\n",
       "                                              warm_start=False),\n",
       "             iid='deprecated', n_jobs=-1,\n",
       "             param_grid={'max_depth': [17, 20, 23],\n",
       "                         'min_samples_leaf': [9, 14, 19], 'n_estimators': [100],\n",
       "                         'random_state': [0]},\n",
       "             pre_dispatch='2*n_jobs', refit=True, return_train_score=False,\n",
       "             scoring='roc_auc', verbose=0)"
      ]
     },
     "execution_count": 34,
     "metadata": {
      "tags": []
     },
     "output_type": "execute_result"
    }
   ],
   "source": [
    "fold=KFold(n_splits=5,shuffle=True, random_state=1)\n",
    "grid=GridSearchCV(estimator=RandomForestClassifier(),param_grid=params,scoring=\"roc_auc\",cv=fold,n_jobs=-1)\n",
    "grid.fit(X,y)"
   ]
  },
  {
   "cell_type": "code",
   "execution_count": null,
   "metadata": {
    "colab": {
     "base_uri": "https://localhost:8080/",
     "height": 328
    },
    "colab_type": "code",
    "id": "zQexuqL4W79P",
    "outputId": "65d14599-9af6-4cce-f516-a289364106fe"
   },
   "outputs": [
    {
     "data": {
      "text/html": [
       "<div>\n",
       "<style scoped>\n",
       "    .dataframe tbody tr th:only-of-type {\n",
       "        vertical-align: middle;\n",
       "    }\n",
       "\n",
       "    .dataframe tbody tr th {\n",
       "        vertical-align: top;\n",
       "    }\n",
       "\n",
       "    .dataframe thead th {\n",
       "        text-align: right;\n",
       "    }\n",
       "</style>\n",
       "<table border=\"1\" class=\"dataframe\">\n",
       "  <thead>\n",
       "    <tr style=\"text-align: right;\">\n",
       "      <th></th>\n",
       "      <th>param_max_depth</th>\n",
       "      <th>param_min_samples_leaf</th>\n",
       "      <th>mean_test_score</th>\n",
       "      <th>std_test_score</th>\n",
       "    </tr>\n",
       "  </thead>\n",
       "  <tbody>\n",
       "    <tr>\n",
       "      <th>5</th>\n",
       "      <td>20</td>\n",
       "      <td>19</td>\n",
       "      <td>0.663630</td>\n",
       "      <td>0.002381</td>\n",
       "    </tr>\n",
       "    <tr>\n",
       "      <th>8</th>\n",
       "      <td>23</td>\n",
       "      <td>19</td>\n",
       "      <td>0.663016</td>\n",
       "      <td>0.002112</td>\n",
       "    </tr>\n",
       "    <tr>\n",
       "      <th>1</th>\n",
       "      <td>17</td>\n",
       "      <td>14</td>\n",
       "      <td>0.662845</td>\n",
       "      <td>0.002575</td>\n",
       "    </tr>\n",
       "    <tr>\n",
       "      <th>2</th>\n",
       "      <td>17</td>\n",
       "      <td>19</td>\n",
       "      <td>0.662590</td>\n",
       "      <td>0.002357</td>\n",
       "    </tr>\n",
       "    <tr>\n",
       "      <th>4</th>\n",
       "      <td>20</td>\n",
       "      <td>14</td>\n",
       "      <td>0.662511</td>\n",
       "      <td>0.002399</td>\n",
       "    </tr>\n",
       "    <tr>\n",
       "      <th>3</th>\n",
       "      <td>20</td>\n",
       "      <td>9</td>\n",
       "      <td>0.662219</td>\n",
       "      <td>0.002672</td>\n",
       "    </tr>\n",
       "    <tr>\n",
       "      <th>7</th>\n",
       "      <td>23</td>\n",
       "      <td>14</td>\n",
       "      <td>0.662047</td>\n",
       "      <td>0.002990</td>\n",
       "    </tr>\n",
       "    <tr>\n",
       "      <th>0</th>\n",
       "      <td>17</td>\n",
       "      <td>9</td>\n",
       "      <td>0.662047</td>\n",
       "      <td>0.002305</td>\n",
       "    </tr>\n",
       "    <tr>\n",
       "      <th>6</th>\n",
       "      <td>23</td>\n",
       "      <td>9</td>\n",
       "      <td>0.660848</td>\n",
       "      <td>0.002933</td>\n",
       "    </tr>\n",
       "  </tbody>\n",
       "</table>\n",
       "</div>"
      ],
      "text/plain": [
       "  param_max_depth param_min_samples_leaf  mean_test_score  std_test_score\n",
       "5              20                     19         0.663630        0.002381\n",
       "8              23                     19         0.663016        0.002112\n",
       "1              17                     14         0.662845        0.002575\n",
       "2              17                     19         0.662590        0.002357\n",
       "4              20                     14         0.662511        0.002399\n",
       "3              20                      9         0.662219        0.002672\n",
       "7              23                     14         0.662047        0.002990\n",
       "0              17                      9         0.662047        0.002305\n",
       "6              23                      9         0.660848        0.002933"
      ]
     },
     "execution_count": 35,
     "metadata": {
      "tags": []
     },
     "output_type": "execute_result"
    }
   ],
   "source": [
    "pd.DataFrame(grid.cv_results_)[[\"param_max_depth\",\"param_min_samples_leaf\",\"mean_test_score\",\"std_test_score\"]].sort_values(\"mean_test_score\",ascending=False)"
   ]
  },
  {
   "cell_type": "code",
   "execution_count": null,
   "metadata": {
    "colab": {
     "base_uri": "https://localhost:8080/",
     "height": 669
    },
    "colab_type": "code",
    "id": "Mi6XlsC9DFgy",
    "outputId": "70128f59-47c1-4ad0-d41f-f91520fec2b5"
   },
   "outputs": [
    {
     "data": {
      "text/html": [
       "<div>\n",
       "<style scoped>\n",
       "    .dataframe tbody tr th:only-of-type {\n",
       "        vertical-align: middle;\n",
       "    }\n",
       "\n",
       "    .dataframe tbody tr th {\n",
       "        vertical-align: top;\n",
       "    }\n",
       "\n",
       "    .dataframe thead th {\n",
       "        text-align: right;\n",
       "    }\n",
       "</style>\n",
       "<table border=\"1\" class=\"dataframe\">\n",
       "  <thead>\n",
       "    <tr style=\"text-align: right;\">\n",
       "      <th></th>\n",
       "      <th>param_max_depth</th>\n",
       "      <th>param_min_samples_leaf</th>\n",
       "      <th>mean_test_score</th>\n",
       "      <th>std_test_score</th>\n",
       "    </tr>\n",
       "  </thead>\n",
       "  <tbody>\n",
       "    <tr>\n",
       "      <th>19</th>\n",
       "      <td>14</td>\n",
       "      <td>9</td>\n",
       "      <td>0.660998</td>\n",
       "      <td>0.001924</td>\n",
       "    </tr>\n",
       "    <tr>\n",
       "      <th>17</th>\n",
       "      <td>14</td>\n",
       "      <td>5</td>\n",
       "      <td>0.660796</td>\n",
       "      <td>0.002286</td>\n",
       "    </tr>\n",
       "    <tr>\n",
       "      <th>18</th>\n",
       "      <td>14</td>\n",
       "      <td>7</td>\n",
       "      <td>0.660604</td>\n",
       "      <td>0.001943</td>\n",
       "    </tr>\n",
       "    <tr>\n",
       "      <th>16</th>\n",
       "      <td>14</td>\n",
       "      <td>3</td>\n",
       "      <td>0.659814</td>\n",
       "      <td>0.002480</td>\n",
       "    </tr>\n",
       "    <tr>\n",
       "      <th>15</th>\n",
       "      <td>14</td>\n",
       "      <td>1</td>\n",
       "      <td>0.659062</td>\n",
       "      <td>0.001752</td>\n",
       "    </tr>\n",
       "    <tr>\n",
       "      <th>14</th>\n",
       "      <td>11</td>\n",
       "      <td>9</td>\n",
       "      <td>0.657677</td>\n",
       "      <td>0.002108</td>\n",
       "    </tr>\n",
       "    <tr>\n",
       "      <th>12</th>\n",
       "      <td>11</td>\n",
       "      <td>5</td>\n",
       "      <td>0.657514</td>\n",
       "      <td>0.002148</td>\n",
       "    </tr>\n",
       "    <tr>\n",
       "      <th>13</th>\n",
       "      <td>11</td>\n",
       "      <td>7</td>\n",
       "      <td>0.657039</td>\n",
       "      <td>0.002159</td>\n",
       "    </tr>\n",
       "    <tr>\n",
       "      <th>11</th>\n",
       "      <td>11</td>\n",
       "      <td>3</td>\n",
       "      <td>0.656971</td>\n",
       "      <td>0.002016</td>\n",
       "    </tr>\n",
       "    <tr>\n",
       "      <th>10</th>\n",
       "      <td>11</td>\n",
       "      <td>1</td>\n",
       "      <td>0.656806</td>\n",
       "      <td>0.002002</td>\n",
       "    </tr>\n",
       "    <tr>\n",
       "      <th>9</th>\n",
       "      <td>8</td>\n",
       "      <td>9</td>\n",
       "      <td>0.650203</td>\n",
       "      <td>0.001715</td>\n",
       "    </tr>\n",
       "    <tr>\n",
       "      <th>8</th>\n",
       "      <td>8</td>\n",
       "      <td>7</td>\n",
       "      <td>0.650169</td>\n",
       "      <td>0.002048</td>\n",
       "    </tr>\n",
       "    <tr>\n",
       "      <th>7</th>\n",
       "      <td>8</td>\n",
       "      <td>5</td>\n",
       "      <td>0.650110</td>\n",
       "      <td>0.001878</td>\n",
       "    </tr>\n",
       "    <tr>\n",
       "      <th>5</th>\n",
       "      <td>8</td>\n",
       "      <td>1</td>\n",
       "      <td>0.650110</td>\n",
       "      <td>0.001991</td>\n",
       "    </tr>\n",
       "    <tr>\n",
       "      <th>6</th>\n",
       "      <td>8</td>\n",
       "      <td>3</td>\n",
       "      <td>0.649754</td>\n",
       "      <td>0.001776</td>\n",
       "    </tr>\n",
       "    <tr>\n",
       "      <th>1</th>\n",
       "      <td>5</td>\n",
       "      <td>3</td>\n",
       "      <td>0.637738</td>\n",
       "      <td>0.002136</td>\n",
       "    </tr>\n",
       "    <tr>\n",
       "      <th>3</th>\n",
       "      <td>5</td>\n",
       "      <td>7</td>\n",
       "      <td>0.637715</td>\n",
       "      <td>0.002037</td>\n",
       "    </tr>\n",
       "    <tr>\n",
       "      <th>2</th>\n",
       "      <td>5</td>\n",
       "      <td>5</td>\n",
       "      <td>0.637712</td>\n",
       "      <td>0.002131</td>\n",
       "    </tr>\n",
       "    <tr>\n",
       "      <th>4</th>\n",
       "      <td>5</td>\n",
       "      <td>9</td>\n",
       "      <td>0.637693</td>\n",
       "      <td>0.002070</td>\n",
       "    </tr>\n",
       "    <tr>\n",
       "      <th>0</th>\n",
       "      <td>5</td>\n",
       "      <td>1</td>\n",
       "      <td>0.637652</td>\n",
       "      <td>0.002202</td>\n",
       "    </tr>\n",
       "  </tbody>\n",
       "</table>\n",
       "</div>"
      ],
      "text/plain": [
       "   param_max_depth param_min_samples_leaf  mean_test_score  std_test_score\n",
       "19              14                      9         0.660998        0.001924\n",
       "17              14                      5         0.660796        0.002286\n",
       "18              14                      7         0.660604        0.001943\n",
       "16              14                      3         0.659814        0.002480\n",
       "15              14                      1         0.659062        0.001752\n",
       "14              11                      9         0.657677        0.002108\n",
       "12              11                      5         0.657514        0.002148\n",
       "13              11                      7         0.657039        0.002159\n",
       "11              11                      3         0.656971        0.002016\n",
       "10              11                      1         0.656806        0.002002\n",
       "9                8                      9         0.650203        0.001715\n",
       "8                8                      7         0.650169        0.002048\n",
       "7                8                      5         0.650110        0.001878\n",
       "5                8                      1         0.650110        0.001991\n",
       "6                8                      3         0.649754        0.001776\n",
       "1                5                      3         0.637738        0.002136\n",
       "3                5                      7         0.637715        0.002037\n",
       "2                5                      5         0.637712        0.002131\n",
       "4                5                      9         0.637693        0.002070\n",
       "0                5                      1         0.637652        0.002202"
      ]
     },
     "execution_count": 32,
     "metadata": {
      "tags": []
     },
     "output_type": "execute_result"
    }
   ],
   "source": [
    "pd.DataFrame(grid.cv_results_)[[\"param_max_depth\",\"param_min_samples_leaf\",\"mean_test_score\",\"std_test_score\"]].sort_values(\"mean_test_score\",ascending=False)"
   ]
  },
  {
   "cell_type": "code",
   "execution_count": null,
   "metadata": {
    "colab": {},
    "colab_type": "code",
    "id": "ciwhjZuPDFMT"
   },
   "outputs": [],
   "source": []
  },
  {
   "cell_type": "code",
   "execution_count": null,
   "metadata": {
    "colab": {
     "base_uri": "https://localhost:8080/",
     "height": 68
    },
    "colab_type": "code",
    "id": "MkiVJfM3ASuG",
    "outputId": "f6aa07a9-5396-4bc4-db62-69ed04819fc1"
   },
   "outputs": [
    {
     "name": "stdout",
     "output_type": "stream",
     "text": [
      "mean_auc- 0.6362897078030184\n",
      "std_auc- 0.0027861639746557783\n"
     ]
    },
    {
     "data": {
      "text/plain": [
       "array([0.63585581, 0.63947606, 0.63246484, 0.63940155, 0.63425028])"
      ]
     },
     "execution_count": 20,
     "metadata": {
      "tags": []
     },
     "output_type": "execute_result"
    }
   ],
   "source": [
    "validation(X,y,RandomForestClassifier())"
   ]
  },
  {
   "cell_type": "code",
   "execution_count": null,
   "metadata": {
    "colab": {},
    "colab_type": "code",
    "id": "liBkKdOuAS_O"
   },
   "outputs": [],
   "source": []
  },
  {
   "cell_type": "code",
   "execution_count": null,
   "metadata": {
    "colab": {
     "base_uri": "https://localhost:8080/",
     "height": 136
    },
    "colab_type": "code",
    "id": "JcEFkHYLDzmh",
    "outputId": "f32183df-c550-4dd2-9d02-7afb77d970bd"
   },
   "outputs": [
    {
     "data": {
      "text/plain": [
       "LGBMClassifier(boosting_type='gbdt', class_weight=None, colsample_bytree=0.5,\n",
       "               importance_type='split', learning_rate=0.1, max_depth=11,\n",
       "               metric='logloss', min_child_samples=65, min_child_weight=0.001,\n",
       "               min_split_gain=0.0, n_estimators=500, n_jobs=-1, num_leaves=39,\n",
       "               objective='binary', random_state=None, reg_alpha=0.0,\n",
       "               reg_lambda=1, silent=True, subsample=1, subsample_for_bin=200000,\n",
       "               subsample_freq=0)"
      ]
     },
     "execution_count": 169,
     "metadata": {
      "tags": []
     },
     "output_type": "execute_result"
    }
   ],
   "source": [
    "model=lgb.LGBMClassifier(**params)\n",
    "model.fit(X,y)"
   ]
  },
  {
   "cell_type": "code",
   "execution_count": null,
   "metadata": {
    "colab": {
     "base_uri": "https://localhost:8080/",
     "height": 538
    },
    "colab_type": "code",
    "id": "I90q_qJREAih",
    "outputId": "443c5af7-9a85-40f0-b418-ba9a026a7998"
   },
   "outputs": [
    {
     "data": {
      "text/plain": [
       "<matplotlib.axes._subplots.AxesSubplot at 0x7fd5030d5da0>"
      ]
     },
     "execution_count": 174,
     "metadata": {
      "tags": []
     },
     "output_type": "execute_result"
    },
    {
     "data": {
      "text/plain": [
       "<Figure size 1008x504 with 0 Axes>"
      ]
     },
     "metadata": {
      "tags": []
     },
     "output_type": "display_data"
    },
    {
     "data": {
      "image/png": "[encoded data removed]",
      "text/plain": [
       "<Figure size 432x288 with 1 Axes>"
      ]
     },
     "metadata": {
      "needs_background": "light",
      "tags": []
     },
     "output_type": "display_data"
    }
   ],
   "source": [
    "plt.figure(figsize=(14,7))\n",
    "pd.DataFrame(data=model.feature_importances_,index=X.columns,columns=[\"Scores\"]).sort_values(\"Scores\",ascending=False).plot.bar()"
   ]
  },
  {
   "cell_type": "code",
   "execution_count": null,
   "metadata": {
    "colab": {},
    "colab_type": "code",
    "id": "g2slTlgYbS6R"
   },
   "outputs": [],
   "source": [
    "def validation_cv(max_depth,num_leaves):\n",
    "  scores={}\n",
    "  best_score=0\n",
    "  num_leaves_param_list=[]\n",
    "  max_depth_param_list=[]\n",
    "  score_list=[]\n",
    "  #max_depth=np.arange(22,45,3)\n",
    "  #num_leaves=np.arange(30,81,10)\n",
    "  for i in max_depth:\n",
    "      for j in num_leaves:\n",
    "          #max_depth_param=random.choice(max_depth)\n",
    "          max_depth_param_list.append(i)\n",
    "          #num_leaves_param=random.choice(num_leaves)\n",
    "          num_leaves_param_list.append(j)\n",
    "          params[\"max_depth\"]=i \n",
    "          params[\"num_leaves\"]=j\n",
    "          fold=KFold(n_splits=5,shuffle=True, random_state=1)\n",
    "          score=cross_val_score(lgb.LGBMClassifier(**params),X,y,scoring=\"roc_auc\",cv=fold)\n",
    "          score_list.append(score)\n",
    "          #score=lgb.cv(params,train_set=dtrain,metrics=\"auc\",nfold=5,num_boost_round=1000,early_stopping_rounds=100)\n",
    "          print(\"max_depth-\",i,\"num_leaves-\",j)\n",
    "          print(\"bias auc-\",np.mean(score))\n",
    "          print(\"variance auc-\",np.std(score,ddof=1))\n",
    "          print(score)\n",
    "          # if score.mean()>best_score:\n",
    "          #     best_score=score.mean()\n",
    "          #     print(\"best_score-\",best_score,\"max_depth-\",i,\"num_leaves\",j)\n",
    "  return score_list"
   ]
  },
  {
   "cell_type": "code",
   "execution_count": null,
   "metadata": {
    "colab": {
     "base_uri": "https://localhost:8080/",
     "height": 1000
    },
    "colab_type": "code",
    "id": "-6Z0KsqXedSs",
    "outputId": "b7e812d1-7a8b-4f1c-9a5d-c03195404c29"
   },
   "outputs": [
    {
     "name": "stdout",
     "output_type": "stream",
     "text": [
      "max_depth- 10 num_leaves- 37\n",
      "bias auc- 0.6660269226085219\n",
      "variance auc- 0.001584411521480566\n",
      "[0.66672405 0.66735977 0.6649047  0.66732056 0.66382554]\n",
      "max_depth- 10 num_leaves- 38\n",
      "bias auc- 0.666129686325284\n",
      "variance auc- 0.0015776561015810242\n",
      "[0.66595856 0.66745763 0.66502967 0.66796564 0.66423693]\n",
      "max_depth- 10 num_leaves- 39\n",
      "bias auc- 0.6663774796225492\n",
      "variance auc- 0.0016151993640447105\n",
      "[0.66762127 0.66721917 0.66435083 0.66777477 0.66492136]\n",
      "max_depth- 10 num_leaves- 40\n",
      "bias auc- 0.6663200567335001\n",
      "variance auc- 0.001736842481365071\n",
      "[0.66691553 0.66777777 0.66490214 0.66792266 0.66408218]\n",
      "max_depth- 10 num_leaves- 41\n",
      "bias auc- 0.6662224589550968\n",
      "variance auc- 0.0016885349768120624\n",
      "[0.66656671 0.66671474 0.66551201 0.66845409 0.66386474]\n",
      "max_depth- 10 num_leaves- 42\n",
      "bias auc- 0.6661775368973959\n",
      "variance auc- 0.0015181384049707672\n",
      "[0.6662353  0.66732874 0.6646555  0.66799612 0.66467204]\n",
      "max_depth- 11 num_leaves- 37\n",
      "bias auc- 0.6658178425896449\n",
      "variance auc- 0.0016118748061971489\n",
      "[0.6665266  0.66648968 0.66430723 0.66777341 0.66399229]\n",
      "max_depth- 11 num_leaves- 38\n",
      "bias auc- 0.6660981187603392\n",
      "variance auc- 0.0012670181587122174\n",
      "[0.66679957 0.66712891 0.66484627 0.66711972 0.66459613]\n",
      "max_depth- 11 num_leaves- 39\n",
      "bias auc- 0.6664081891390837\n",
      "variance auc- 0.0011007342229303837\n",
      "[0.66661142 0.66744643 0.66604463 0.66723606 0.66470241]\n",
      "max_depth- 11 num_leaves- 40\n",
      "bias auc- 0.6663525377686959\n",
      "variance auc- 0.0016149664963771102\n",
      "[0.666771   0.6666025  0.6652485  0.66867761 0.66446309]\n",
      "max_depth- 11 num_leaves- 41\n",
      "bias auc- 0.6662650889859286\n",
      "variance auc- 0.0016781041809051434\n",
      "[0.66696837 0.66711227 0.66445067 0.66823076 0.66456337]\n",
      "max_depth- 11 num_leaves- 42\n",
      "bias auc- 0.6667133915207615\n",
      "variance auc- 0.0016000165491698044\n",
      "[0.66696397 0.66803903 0.66553028 0.66838004 0.66465363]\n",
      "max_depth- 12 num_leaves- 37\n",
      "bias auc- 0.6660904417564671\n",
      "variance auc- 0.0014487438224383012\n",
      "[0.66652303 0.66746308 0.66449454 0.66735606 0.6646155 ]\n",
      "max_depth- 12 num_leaves- 38\n",
      "bias auc- 0.6657970232420551\n",
      "variance auc- 0.0012398080166886982\n",
      "[0.66609299 0.66675932 0.66467186 0.66711972 0.66434122]\n",
      "max_depth- 12 num_leaves- 39\n",
      "bias auc- 0.6662715540798236\n",
      "variance auc- 0.001715690327140622\n",
      "[0.6672313  0.66757021 0.66472525 0.66772135 0.66410966]\n",
      "max_depth- 12 num_leaves- 40\n",
      "bias auc- 0.6661616593341305\n",
      "variance auc- 0.0014764019818188315\n",
      "[0.66718405 0.66704576 0.66415526 0.66740776 0.66501547]\n",
      "max_depth- 12 num_leaves- 41\n",
      "bias auc- 0.6662258313139845\n",
      "variance auc- 0.001253979997327551\n",
      "[0.6669156  0.66700182 0.66485613 0.66746839 0.66488721]\n",
      "max_depth- 12 num_leaves- 42\n",
      "bias auc- 0.6665367889043208\n",
      "variance auc- 0.00169780559298864\n",
      "[0.66734393 0.66691113 0.66519681 0.66872915 0.66450292]\n"
     ]
    }
   ],
   "source": [
    "score_list=validation_cv([10,11,12],[37,38,39,40,41,42])"
   ]
  },
  {
   "cell_type": "code",
   "execution_count": null,
   "metadata": {
    "colab": {},
    "colab_type": "code",
    "id": "chkXcu0ZjPj4"
   },
   "outputs": [],
   "source": [
    "ind=[]\n",
    "for i in [10,11,12]:\n",
    "  for j in [37,38,39,40,41,42]:\n",
    "    ind.append((\"max_depth_\"+str(i),\"num_leaves_\"+str(j)))"
   ]
  },
  {
   "cell_type": "code",
   "execution_count": null,
   "metadata": {
    "colab": {},
    "colab_type": "code",
    "id": "h0RMLLdcNavq"
   },
   "outputs": [],
   "source": [
    "index_to_be_used=pd.MultiIndex.from_tuples(ind,names=(\"max_depth\",\"num_leaves\"))"
   ]
  },
  {
   "cell_type": "code",
   "execution_count": null,
   "metadata": {
    "colab": {},
    "colab_type": "code",
    "id": "-_SDrP3Td9WP"
   },
   "outputs": [],
   "source": [
    "validation_max_depth_num_leaves_df=pd.DataFrame(data=[i.mean() for i in score_list],index=index_to_be_used,columns=[\"mean\"])\n",
    "validation_max_depth_num_leaves_df[\"std\"]=[np.std(i,ddof=1) for i in score_list]"
   ]
  },
  {
   "cell_type": "code",
   "execution_count": null,
   "metadata": {
    "colab": {
     "base_uri": "https://localhost:8080/",
     "height": 638
    },
    "colab_type": "code",
    "id": "YZ2DabVjh3Q4",
    "outputId": "85991269-f3de-4927-dae7-929663ceef28"
   },
   "outputs": [
    {
     "data": {
      "text/html": [
       "<div>\n",
       "<style scoped>\n",
       "    .dataframe tbody tr th:only-of-type {\n",
       "        vertical-align: middle;\n",
       "    }\n",
       "\n",
       "    .dataframe tbody tr th {\n",
       "        vertical-align: top;\n",
       "    }\n",
       "\n",
       "    .dataframe thead th {\n",
       "        text-align: right;\n",
       "    }\n",
       "</style>\n",
       "<table border=\"1\" class=\"dataframe\">\n",
       "  <thead>\n",
       "    <tr style=\"text-align: right;\">\n",
       "      <th></th>\n",
       "      <th></th>\n",
       "      <th>mean</th>\n",
       "      <th>std</th>\n",
       "    </tr>\n",
       "    <tr>\n",
       "      <th>max_depth</th>\n",
       "      <th>num_leaves</th>\n",
       "      <th></th>\n",
       "      <th></th>\n",
       "    </tr>\n",
       "  </thead>\n",
       "  <tbody>\n",
       "    <tr>\n",
       "      <th>max_depth_11</th>\n",
       "      <th>num_leaves_42</th>\n",
       "      <td>0.666713</td>\n",
       "      <td>0.001600</td>\n",
       "    </tr>\n",
       "    <tr>\n",
       "      <th>max_depth_12</th>\n",
       "      <th>num_leaves_42</th>\n",
       "      <td>0.666537</td>\n",
       "      <td>0.001698</td>\n",
       "    </tr>\n",
       "    <tr>\n",
       "      <th>max_depth_11</th>\n",
       "      <th>num_leaves_39</th>\n",
       "      <td>0.666408</td>\n",
       "      <td>0.001101</td>\n",
       "    </tr>\n",
       "    <tr>\n",
       "      <th>max_depth_10</th>\n",
       "      <th>num_leaves_39</th>\n",
       "      <td>0.666377</td>\n",
       "      <td>0.001615</td>\n",
       "    </tr>\n",
       "    <tr>\n",
       "      <th>max_depth_11</th>\n",
       "      <th>num_leaves_40</th>\n",
       "      <td>0.666353</td>\n",
       "      <td>0.001615</td>\n",
       "    </tr>\n",
       "    <tr>\n",
       "      <th>max_depth_10</th>\n",
       "      <th>num_leaves_40</th>\n",
       "      <td>0.666320</td>\n",
       "      <td>0.001737</td>\n",
       "    </tr>\n",
       "    <tr>\n",
       "      <th>max_depth_12</th>\n",
       "      <th>num_leaves_39</th>\n",
       "      <td>0.666272</td>\n",
       "      <td>0.001716</td>\n",
       "    </tr>\n",
       "    <tr>\n",
       "      <th>max_depth_11</th>\n",
       "      <th>num_leaves_41</th>\n",
       "      <td>0.666265</td>\n",
       "      <td>0.001678</td>\n",
       "    </tr>\n",
       "    <tr>\n",
       "      <th>max_depth_12</th>\n",
       "      <th>num_leaves_41</th>\n",
       "      <td>0.666226</td>\n",
       "      <td>0.001254</td>\n",
       "    </tr>\n",
       "    <tr>\n",
       "      <th rowspan=\"2\" valign=\"top\">max_depth_10</th>\n",
       "      <th>num_leaves_41</th>\n",
       "      <td>0.666222</td>\n",
       "      <td>0.001689</td>\n",
       "    </tr>\n",
       "    <tr>\n",
       "      <th>num_leaves_42</th>\n",
       "      <td>0.666178</td>\n",
       "      <td>0.001518</td>\n",
       "    </tr>\n",
       "    <tr>\n",
       "      <th>max_depth_12</th>\n",
       "      <th>num_leaves_40</th>\n",
       "      <td>0.666162</td>\n",
       "      <td>0.001476</td>\n",
       "    </tr>\n",
       "    <tr>\n",
       "      <th>max_depth_10</th>\n",
       "      <th>num_leaves_38</th>\n",
       "      <td>0.666130</td>\n",
       "      <td>0.001578</td>\n",
       "    </tr>\n",
       "    <tr>\n",
       "      <th>max_depth_11</th>\n",
       "      <th>num_leaves_38</th>\n",
       "      <td>0.666098</td>\n",
       "      <td>0.001267</td>\n",
       "    </tr>\n",
       "    <tr>\n",
       "      <th>max_depth_12</th>\n",
       "      <th>num_leaves_37</th>\n",
       "      <td>0.666090</td>\n",
       "      <td>0.001449</td>\n",
       "    </tr>\n",
       "    <tr>\n",
       "      <th>max_depth_10</th>\n",
       "      <th>num_leaves_37</th>\n",
       "      <td>0.666027</td>\n",
       "      <td>0.001584</td>\n",
       "    </tr>\n",
       "    <tr>\n",
       "      <th>max_depth_11</th>\n",
       "      <th>num_leaves_37</th>\n",
       "      <td>0.665818</td>\n",
       "      <td>0.001612</td>\n",
       "    </tr>\n",
       "    <tr>\n",
       "      <th>max_depth_12</th>\n",
       "      <th>num_leaves_38</th>\n",
       "      <td>0.665797</td>\n",
       "      <td>0.001240</td>\n",
       "    </tr>\n",
       "  </tbody>\n",
       "</table>\n",
       "</div>"
      ],
      "text/plain": [
       "                                mean       std\n",
       "max_depth    num_leaves                       \n",
       "max_depth_11 num_leaves_42  0.666713  0.001600\n",
       "max_depth_12 num_leaves_42  0.666537  0.001698\n",
       "max_depth_11 num_leaves_39  0.666408  0.001101\n",
       "max_depth_10 num_leaves_39  0.666377  0.001615\n",
       "max_depth_11 num_leaves_40  0.666353  0.001615\n",
       "max_depth_10 num_leaves_40  0.666320  0.001737\n",
       "max_depth_12 num_leaves_39  0.666272  0.001716\n",
       "max_depth_11 num_leaves_41  0.666265  0.001678\n",
       "max_depth_12 num_leaves_41  0.666226  0.001254\n",
       "max_depth_10 num_leaves_41  0.666222  0.001689\n",
       "             num_leaves_42  0.666178  0.001518\n",
       "max_depth_12 num_leaves_40  0.666162  0.001476\n",
       "max_depth_10 num_leaves_38  0.666130  0.001578\n",
       "max_depth_11 num_leaves_38  0.666098  0.001267\n",
       "max_depth_12 num_leaves_37  0.666090  0.001449\n",
       "max_depth_10 num_leaves_37  0.666027  0.001584\n",
       "max_depth_11 num_leaves_37  0.665818  0.001612\n",
       "max_depth_12 num_leaves_38  0.665797  0.001240"
      ]
     },
     "execution_count": 55,
     "metadata": {
      "tags": []
     },
     "output_type": "execute_result"
    }
   ],
   "source": [
    "validation_max_depth_num_leaves_df.sort_values(by=\"mean\",ascending=False)"
   ]
  },
  {
   "cell_type": "code",
   "execution_count": null,
   "metadata": {
    "colab": {},
    "colab_type": "code",
    "id": "poHbq7hcjgln"
   },
   "outputs": [],
   "source": [
    "def validation_cv(min_child_samples):\n",
    "  scores={}\n",
    "  best_score=0\n",
    "  #num_leaves_param_list=[]\n",
    "  #max_depth_param_list=[]\n",
    "  score_list=[]\n",
    "  #max_depth=np.arange(22,45,3)\n",
    "  #num_leaves=np.arange(30,81,10)\n",
    "  for i in min_child_samples:\n",
    "    #for j in colsample_bytree:\n",
    "        #max_depth_param=random.choice(max_depth)\n",
    "        #max_depth_param_list.append(max_depth_param)\n",
    "        #num_leaves_param=random.choice(num_leaves)\n",
    "        #num_leaves_param_list.append(num_leaves_param)\n",
    "        params[\"min_child_samples\"]=i \n",
    "        #params[\"colsample_bytree\"]=j\n",
    "        fold=KFold(n_splits=5,shuffle=True, random_state=1)\n",
    "        score=cross_val_score(lgb.LGBMClassifier(**params),X,y,scoring=\"roc_auc\",cv=fold)\n",
    "        score_list.append(score)\n",
    "        #score=lgb.cv(params,train_set=dtrain,metrics=\"auc\",nfold=5,num_boost_round=1000,early_stopping_rounds=100)\n",
    "        print(\"min_child_samples-\",i)\n",
    "        print(\"bias auc-\",np.mean(score))\n",
    "        print(\"variance auc-\",np.std(score,ddof=1))\n",
    "        print(score)\n",
    "        # if score.mean()>best_score:\n",
    "        #     best_score=score.mean()\n",
    "        #     print(\"best_score-\",best_score,\"min_child_samples-\",i)\n",
    "  return score_list"
   ]
  },
  {
   "cell_type": "code",
   "execution_count": null,
   "metadata": {
    "colab": {
     "base_uri": "https://localhost:8080/",
     "height": 561
    },
    "colab_type": "code",
    "id": "DCECRuY8sUU_",
    "outputId": "4f75528e-1f4f-411f-cc94-ef45e36237cd"
   },
   "outputs": [
    {
     "name": "stdout",
     "output_type": "stream",
     "text": [
      "min_child_samples- 62\n",
      "bias auc- 0.6661399711055485\n",
      "variance auc- 0.0014322330077622993\n",
      "[0.66669047 0.66725083 0.66471835 0.6675397  0.6645005 ]\n",
      "min_child_samples- 63\n",
      "bias auc- 0.6659524414570858\n",
      "variance auc- 0.0013528759523025076\n",
      "[0.66718577 0.66647533 0.66461062 0.66709436 0.66439613]\n",
      "min_child_samples- 64\n",
      "bias auc- 0.6659323143244326\n",
      "variance auc- 0.0017551695709066512\n",
      "[0.66660505 0.6666796  0.66487738 0.66800054 0.663499  ]\n",
      "min_child_samples- 65\n",
      "bias auc- 0.6664081891390837\n",
      "variance auc- 0.0011007342229303837\n",
      "[0.66661142 0.66744643 0.66604463 0.66723606 0.66470241]\n",
      "min_child_samples- 66\n",
      "bias auc- 0.6661442560658611\n",
      "variance auc- 0.0016016885857853738\n",
      "[0.66756693 0.66728544 0.66526207 0.6668434  0.66376344]\n",
      "min_child_samples- 67\n",
      "bias auc- 0.6662304368178139\n",
      "variance auc- 0.0018065817161644954\n",
      "[0.66703552 0.66773892 0.66431861 0.66781779 0.66424135]\n",
      "min_child_samples- 68\n",
      "bias auc- 0.6661592228031151\n",
      "variance auc- 0.0016703994588643635\n",
      "[0.66717736 0.66759446 0.66446995 0.66734543 0.66420891]\n",
      "min_child_samples- 69\n",
      "bias auc- 0.6662056414683647\n",
      "variance auc- 0.0014352865711085682\n",
      "[0.66779721 0.66670498 0.66432782 0.66707605 0.66512215]\n"
     ]
    }
   ],
   "source": [
    "score_list=validation_cv([62,63,64,65,66,67,68,69])"
   ]
  },
  {
   "cell_type": "code",
   "execution_count": null,
   "metadata": {
    "colab": {},
    "colab_type": "code",
    "id": "lr2-ZwYNS9oG"
   },
   "outputs": [],
   "source": [
    "ind=[]\n",
    "for i in [62,63,64,65,66,67,68,69]:\n",
    "    ind.append((\"max_depth\"+str(28),\"min_child_samples\"+str(i)))"
   ]
  },
  {
   "cell_type": "code",
   "execution_count": null,
   "metadata": {
    "colab": {},
    "colab_type": "code",
    "id": "wMH9aHp0S9oL"
   },
   "outputs": [],
   "source": [
    "index_to_be_used=pd.MultiIndex.from_tuples(ind,names=(\"max_depth\",\"min_child_samples\"))"
   ]
  },
  {
   "cell_type": "code",
   "execution_count": null,
   "metadata": {
    "colab": {},
    "colab_type": "code",
    "id": "fDMKQZ_LS9oN"
   },
   "outputs": [],
   "source": [
    "validation_min_child_samples_df=pd.DataFrame(data=[i.mean() for i in score_list],index=index_to_be_used,columns=[\"mean\"])\n",
    "validation_min_child_samples_df[\"std\"]=[np.std(i,ddof=1) for i in score_list]"
   ]
  },
  {
   "cell_type": "code",
   "execution_count": null,
   "metadata": {
    "colab": {
     "base_uri": "https://localhost:8080/",
     "height": 328
    },
    "colab_type": "code",
    "id": "nprIQGIbS9oQ",
    "outputId": "9b4bdecc-143f-4f18-efee-443c7e27d380"
   },
   "outputs": [
    {
     "data": {
      "text/html": [
       "<div>\n",
       "<style scoped>\n",
       "    .dataframe tbody tr th:only-of-type {\n",
       "        vertical-align: middle;\n",
       "    }\n",
       "\n",
       "    .dataframe tbody tr th {\n",
       "        vertical-align: top;\n",
       "    }\n",
       "\n",
       "    .dataframe thead th {\n",
       "        text-align: right;\n",
       "    }\n",
       "</style>\n",
       "<table border=\"1\" class=\"dataframe\">\n",
       "  <thead>\n",
       "    <tr style=\"text-align: right;\">\n",
       "      <th></th>\n",
       "      <th></th>\n",
       "      <th>mean</th>\n",
       "      <th>std</th>\n",
       "    </tr>\n",
       "    <tr>\n",
       "      <th>max_depth</th>\n",
       "      <th>min_child_samples</th>\n",
       "      <th></th>\n",
       "      <th></th>\n",
       "    </tr>\n",
       "  </thead>\n",
       "  <tbody>\n",
       "    <tr>\n",
       "      <th rowspan=\"8\" valign=\"top\">max_depth28</th>\n",
       "      <th>min_child_samples65</th>\n",
       "      <td>0.666408</td>\n",
       "      <td>0.001101</td>\n",
       "    </tr>\n",
       "    <tr>\n",
       "      <th>min_child_samples67</th>\n",
       "      <td>0.666230</td>\n",
       "      <td>0.001807</td>\n",
       "    </tr>\n",
       "    <tr>\n",
       "      <th>min_child_samples69</th>\n",
       "      <td>0.666206</td>\n",
       "      <td>0.001435</td>\n",
       "    </tr>\n",
       "    <tr>\n",
       "      <th>min_child_samples68</th>\n",
       "      <td>0.666159</td>\n",
       "      <td>0.001670</td>\n",
       "    </tr>\n",
       "    <tr>\n",
       "      <th>min_child_samples66</th>\n",
       "      <td>0.666144</td>\n",
       "      <td>0.001602</td>\n",
       "    </tr>\n",
       "    <tr>\n",
       "      <th>min_child_samples62</th>\n",
       "      <td>0.666140</td>\n",
       "      <td>0.001432</td>\n",
       "    </tr>\n",
       "    <tr>\n",
       "      <th>min_child_samples63</th>\n",
       "      <td>0.665952</td>\n",
       "      <td>0.001353</td>\n",
       "    </tr>\n",
       "    <tr>\n",
       "      <th>min_child_samples64</th>\n",
       "      <td>0.665932</td>\n",
       "      <td>0.001755</td>\n",
       "    </tr>\n",
       "  </tbody>\n",
       "</table>\n",
       "</div>"
      ],
      "text/plain": [
       "                                     mean       std\n",
       "max_depth   min_child_samples                      \n",
       "max_depth28 min_child_samples65  0.666408  0.001101\n",
       "            min_child_samples67  0.666230  0.001807\n",
       "            min_child_samples69  0.666206  0.001435\n",
       "            min_child_samples68  0.666159  0.001670\n",
       "            min_child_samples66  0.666144  0.001602\n",
       "            min_child_samples62  0.666140  0.001432\n",
       "            min_child_samples63  0.665952  0.001353\n",
       "            min_child_samples64  0.665932  0.001755"
      ]
     },
     "execution_count": 67,
     "metadata": {
      "tags": []
     },
     "output_type": "execute_result"
    }
   ],
   "source": [
    "validation_min_child_samples_df.sort_values(by=\"mean\",ascending=False)"
   ]
  },
  {
   "cell_type": "code",
   "execution_count": null,
   "metadata": {
    "colab": {},
    "colab_type": "code",
    "id": "AG_hfooz2BVg"
   },
   "outputs": [],
   "source": [
    "def validation_cv(subsample,colsample_bytree):\n",
    "  scores={}\n",
    "  best_score=0\n",
    "  #num_leaves_param_list=[]\n",
    "  #max_depth_param_list=[]\n",
    "  score_list=[]\n",
    "  #max_depth=np.arange(22,45,3)\n",
    "  #num_leaves=np.arange(30,81,10)\n",
    "  for i in subsample:\n",
    "      for j in colsample_bytree:\n",
    "          #max_depth_param=random.choice(max_depth)\n",
    "          #max_depth_param_list.append(max_depth_param)\n",
    "          #num_leaves_param=random.choice(num_leaves)\n",
    "          #num_leaves_param_list.append(num_leaves_param)\n",
    "          params[\"subsample\"]=i \n",
    "          params[\"colsample_bytree\"]=j\n",
    "          fold=KFold(n_splits=5,shuffle=True, random_state=1)\n",
    "          score=cross_val_score(lgb.LGBMClassifier(**params),X,y,scoring=\"roc_auc\",cv=fold)\n",
    "          score_list.append(score)\n",
    "          #score=lgb.cv(params,train_set=dtrain,metrics=\"auc\",nfold=5,num_boost_round=1000,early_stopping_rounds=100)\n",
    "          print(\"subsample-\",i,\"colsample_bytree-\",j)\n",
    "          print(\"bias auc-\",np.mean(score))\n",
    "          print(\"variance auc-\",np.std(score,ddof=1))\n",
    "          print(score)\n",
    "          # if score.mean()>best_score:\n",
    "          #     best_score=score.mean()\n",
    "          #     print(\"best_score-\",best_score,\"subsample-\",i,\"colsample_bytree\",j)\n",
    "  return score_list"
   ]
  },
  {
   "cell_type": "code",
   "execution_count": null,
   "metadata": {
    "colab": {
     "base_uri": "https://localhost:8080/",
     "height": 1000
    },
    "colab_type": "code",
    "id": "-w1TxO4z27cG",
    "outputId": "91fe6b19-9b86-4d4d-e721-4a8ed0f09327"
   },
   "outputs": [
    {
     "name": "stdout",
     "output_type": "stream",
     "text": [
      "subsample- 0.5 colsample_bytree- 0.5\n",
      "bias auc- 0.6674513349351248\n",
      "variance auc- 0.0010246848061703194\n",
      "[0.66758124 0.66773478 0.66633582 0.66894518 0.66665966]\n",
      "subsample- 0.5 colsample_bytree- 0.6\n",
      "bias auc- 0.667231363458293\n",
      "variance auc- 0.0016342665549265967\n",
      "[0.66869652 0.66864538 0.66576372 0.66782694 0.66522425]\n",
      "subsample- 0.5 colsample_bytree- 0.7\n",
      "bias auc- 0.6666707452318101\n",
      "variance auc- 0.001450673327745075\n",
      "[0.66798181 0.667484   0.66511341 0.66770093 0.66507357]\n",
      "subsample- 0.5 colsample_bytree- 0.8\n",
      "bias auc- 0.6664037813089474\n",
      "variance auc- 0.0016444367559072424\n",
      "[0.66734341 0.66709825 0.66547913 0.66809171 0.66400641]\n",
      "subsample- 0.5 colsample_bytree- 0.9\n",
      "bias auc- 0.6664081891390837\n",
      "variance auc- 0.0011007342229303837\n",
      "[0.66661142 0.66744643 0.66604463 0.66723606 0.66470241]\n",
      "subsample- 0.5 colsample_bytree- 1\n",
      "bias auc- 0.6659888815771328\n",
      "variance auc- 0.0018897325268389727\n",
      "[0.66643204 0.66726645 0.66395799 0.66817905 0.66410887]\n",
      "subsample- 0.6 colsample_bytree- 0.5\n",
      "bias auc- 0.6674513349351248\n",
      "variance auc- 0.0010246848061703194\n",
      "[0.66758124 0.66773478 0.66633582 0.66894518 0.66665966]\n",
      "subsample- 0.6 colsample_bytree- 0.6\n",
      "bias auc- 0.667231363458293\n",
      "variance auc- 0.0016342665549265967\n",
      "[0.66869652 0.66864538 0.66576372 0.66782694 0.66522425]\n",
      "subsample- 0.6 colsample_bytree- 0.7\n",
      "bias auc- 0.6666707452318101\n",
      "variance auc- 0.001450673327745075\n",
      "[0.66798181 0.667484   0.66511341 0.66770093 0.66507357]\n",
      "subsample- 0.6 colsample_bytree- 0.8\n",
      "bias auc- 0.6664037813089474\n",
      "variance auc- 0.0016444367559072424\n",
      "[0.66734341 0.66709825 0.66547913 0.66809171 0.66400641]\n",
      "subsample- 0.6 colsample_bytree- 0.9\n",
      "bias auc- 0.6664081891390837\n",
      "variance auc- 0.0011007342229303837\n",
      "[0.66661142 0.66744643 0.66604463 0.66723606 0.66470241]\n",
      "subsample- 0.6 colsample_bytree- 1\n",
      "bias auc- 0.6659888815771328\n",
      "variance auc- 0.0018897325268389727\n",
      "[0.66643204 0.66726645 0.66395799 0.66817905 0.66410887]\n",
      "subsample- 0.7 colsample_bytree- 0.5\n",
      "bias auc- 0.6674513349351248\n",
      "variance auc- 0.0010246848061703194\n",
      "[0.66758124 0.66773478 0.66633582 0.66894518 0.66665966]\n",
      "subsample- 0.7 colsample_bytree- 0.6\n",
      "bias auc- 0.667231363458293\n",
      "variance auc- 0.0016342665549265967\n",
      "[0.66869652 0.66864538 0.66576372 0.66782694 0.66522425]\n",
      "subsample- 0.7 colsample_bytree- 0.7\n",
      "bias auc- 0.6666707452318101\n",
      "variance auc- 0.001450673327745075\n",
      "[0.66798181 0.667484   0.66511341 0.66770093 0.66507357]\n",
      "subsample- 0.7 colsample_bytree- 0.8\n",
      "bias auc- 0.6664037813089474\n",
      "variance auc- 0.0016444367559072424\n",
      "[0.66734341 0.66709825 0.66547913 0.66809171 0.66400641]\n",
      "subsample- 0.7 colsample_bytree- 0.9\n",
      "bias auc- 0.6664081891390837\n",
      "variance auc- 0.0011007342229303837\n",
      "[0.66661142 0.66744643 0.66604463 0.66723606 0.66470241]\n",
      "subsample- 0.7 colsample_bytree- 1\n",
      "bias auc- 0.6659888815771328\n",
      "variance auc- 0.0018897325268389727\n",
      "[0.66643204 0.66726645 0.66395799 0.66817905 0.66410887]\n",
      "subsample- 0.8 colsample_bytree- 0.5\n",
      "bias auc- 0.6674513349351248\n",
      "variance auc- 0.0010246848061703194\n",
      "[0.66758124 0.66773478 0.66633582 0.66894518 0.66665966]\n",
      "subsample- 0.8 colsample_bytree- 0.6\n",
      "bias auc- 0.667231363458293\n",
      "variance auc- 0.0016342665549265967\n",
      "[0.66869652 0.66864538 0.66576372 0.66782694 0.66522425]\n",
      "subsample- 0.8 colsample_bytree- 0.7\n",
      "bias auc- 0.6666707452318101\n",
      "variance auc- 0.001450673327745075\n",
      "[0.66798181 0.667484   0.66511341 0.66770093 0.66507357]\n",
      "subsample- 0.8 colsample_bytree- 0.8\n",
      "bias auc- 0.6664037813089474\n",
      "variance auc- 0.0016444367559072424\n",
      "[0.66734341 0.66709825 0.66547913 0.66809171 0.66400641]\n",
      "subsample- 0.8 colsample_bytree- 0.9\n",
      "bias auc- 0.6664081891390837\n",
      "variance auc- 0.0011007342229303837\n",
      "[0.66661142 0.66744643 0.66604463 0.66723606 0.66470241]\n",
      "subsample- 0.8 colsample_bytree- 1\n",
      "bias auc- 0.6659888815771328\n",
      "variance auc- 0.0018897325268389727\n",
      "[0.66643204 0.66726645 0.66395799 0.66817905 0.66410887]\n",
      "subsample- 0.9 colsample_bytree- 0.5\n",
      "bias auc- 0.6674513349351248\n",
      "variance auc- 0.0010246848061703194\n",
      "[0.66758124 0.66773478 0.66633582 0.66894518 0.66665966]\n",
      "subsample- 0.9 colsample_bytree- 0.6\n",
      "bias auc- 0.667231363458293\n",
      "variance auc- 0.0016342665549265967\n",
      "[0.66869652 0.66864538 0.66576372 0.66782694 0.66522425]\n",
      "subsample- 0.9 colsample_bytree- 0.7\n",
      "bias auc- 0.6666707452318101\n",
      "variance auc- 0.001450673327745075\n",
      "[0.66798181 0.667484   0.66511341 0.66770093 0.66507357]\n",
      "subsample- 0.9 colsample_bytree- 0.8\n",
      "bias auc- 0.6664037813089474\n",
      "variance auc- 0.0016444367559072424\n",
      "[0.66734341 0.66709825 0.66547913 0.66809171 0.66400641]\n",
      "subsample- 0.9 colsample_bytree- 0.9\n",
      "bias auc- 0.6664081891390837\n",
      "variance auc- 0.0011007342229303837\n",
      "[0.66661142 0.66744643 0.66604463 0.66723606 0.66470241]\n",
      "subsample- 0.9 colsample_bytree- 1\n",
      "bias auc- 0.6659888815771328\n",
      "variance auc- 0.0018897325268389727\n",
      "[0.66643204 0.66726645 0.66395799 0.66817905 0.66410887]\n",
      "subsample- 1 colsample_bytree- 0.5\n",
      "bias auc- 0.6674513349351248\n",
      "variance auc- 0.0010246848061703194\n",
      "[0.66758124 0.66773478 0.66633582 0.66894518 0.66665966]\n",
      "subsample- 1 colsample_bytree- 0.6\n",
      "bias auc- 0.667231363458293\n",
      "variance auc- 0.0016342665549265967\n",
      "[0.66869652 0.66864538 0.66576372 0.66782694 0.66522425]\n",
      "subsample- 1 colsample_bytree- 0.7\n",
      "bias auc- 0.6666707452318101\n",
      "variance auc- 0.001450673327745075\n",
      "[0.66798181 0.667484   0.66511341 0.66770093 0.66507357]\n",
      "subsample- 1 colsample_bytree- 0.8\n",
      "bias auc- 0.6664037813089474\n",
      "variance auc- 0.0016444367559072424\n",
      "[0.66734341 0.66709825 0.66547913 0.66809171 0.66400641]\n",
      "subsample- 1 colsample_bytree- 0.9\n",
      "bias auc- 0.6664081891390837\n",
      "variance auc- 0.0011007342229303837\n",
      "[0.66661142 0.66744643 0.66604463 0.66723606 0.66470241]\n",
      "subsample- 1 colsample_bytree- 1\n",
      "bias auc- 0.6659888815771328\n",
      "variance auc- 0.0018897325268389727\n",
      "[0.66643204 0.66726645 0.66395799 0.66817905 0.66410887]\n"
     ]
    }
   ],
   "source": [
    "score_list=validation_cv([.5,.6,.7,.8,.9,1],[.5,.6,.7,.8,.9,1])"
   ]
  },
  {
   "cell_type": "code",
   "execution_count": null,
   "metadata": {
    "colab": {},
    "colab_type": "code",
    "id": "fpm2tMND6phm"
   },
   "outputs": [],
   "source": [
    "ind=[]\n",
    "for i in [.5,.6,.7,.8,.9,1]:\n",
    "  for j in [.5,.6,.7,.8,.9,1]:\n",
    "    ind.append((\"subsample_\"+str(i),\"colsample_bytree_\"+str(j)))"
   ]
  },
  {
   "cell_type": "code",
   "execution_count": null,
   "metadata": {
    "colab": {},
    "colab_type": "code",
    "id": "sFjtMffd6phq"
   },
   "outputs": [],
   "source": [
    "index_to_be_used=pd.MultiIndex.from_tuples(ind,names=(\"subsample\",\"colsample_bytree\"))"
   ]
  },
  {
   "cell_type": "code",
   "execution_count": null,
   "metadata": {
    "colab": {},
    "colab_type": "code",
    "id": "mmI2exRp6phu"
   },
   "outputs": [],
   "source": [
    "validation_subsample_colsample_bytree_df=pd.DataFrame(data=[i.mean() for i in score_list],index=index_to_be_used,columns=[\"mean\"])\n",
    "validation_subsample_colsample_bytree_df[\"std\"]=[np.std(i,ddof=1) for i in score_list]"
   ]
  },
  {
   "cell_type": "code",
   "execution_count": null,
   "metadata": {
    "colab": {
     "base_uri": "https://localhost:8080/",
     "height": 1000
    },
    "colab_type": "code",
    "id": "AZ1lt1zX8EHw",
    "outputId": "a7bb1a35-8cc9-43a2-c650-33f7fcccfc1c"
   },
   "outputs": [
    {
     "data": {
      "text/html": [
       "<div>\n",
       "<style scoped>\n",
       "    .dataframe tbody tr th:only-of-type {\n",
       "        vertical-align: middle;\n",
       "    }\n",
       "\n",
       "    .dataframe tbody tr th {\n",
       "        vertical-align: top;\n",
       "    }\n",
       "\n",
       "    .dataframe thead th {\n",
       "        text-align: right;\n",
       "    }\n",
       "</style>\n",
       "<table border=\"1\" class=\"dataframe\">\n",
       "  <thead>\n",
       "    <tr style=\"text-align: right;\">\n",
       "      <th></th>\n",
       "      <th></th>\n",
       "      <th>mean</th>\n",
       "      <th>std</th>\n",
       "    </tr>\n",
       "    <tr>\n",
       "      <th>subsample</th>\n",
       "      <th>colsample_bytree</th>\n",
       "      <th></th>\n",
       "      <th></th>\n",
       "    </tr>\n",
       "  </thead>\n",
       "  <tbody>\n",
       "    <tr>\n",
       "      <th>subsample_0.5</th>\n",
       "      <th>colsample_bytree_0.5</th>\n",
       "      <td>0.667451</td>\n",
       "      <td>0.001025</td>\n",
       "    </tr>\n",
       "    <tr>\n",
       "      <th>subsample_0.6</th>\n",
       "      <th>colsample_bytree_0.5</th>\n",
       "      <td>0.667451</td>\n",
       "      <td>0.001025</td>\n",
       "    </tr>\n",
       "    <tr>\n",
       "      <th>subsample_1</th>\n",
       "      <th>colsample_bytree_0.5</th>\n",
       "      <td>0.667451</td>\n",
       "      <td>0.001025</td>\n",
       "    </tr>\n",
       "    <tr>\n",
       "      <th>subsample_0.9</th>\n",
       "      <th>colsample_bytree_0.5</th>\n",
       "      <td>0.667451</td>\n",
       "      <td>0.001025</td>\n",
       "    </tr>\n",
       "    <tr>\n",
       "      <th>subsample_0.7</th>\n",
       "      <th>colsample_bytree_0.5</th>\n",
       "      <td>0.667451</td>\n",
       "      <td>0.001025</td>\n",
       "    </tr>\n",
       "    <tr>\n",
       "      <th>subsample_0.8</th>\n",
       "      <th>colsample_bytree_0.5</th>\n",
       "      <td>0.667451</td>\n",
       "      <td>0.001025</td>\n",
       "    </tr>\n",
       "    <tr>\n",
       "      <th>subsample_0.5</th>\n",
       "      <th>colsample_bytree_0.6</th>\n",
       "      <td>0.667231</td>\n",
       "      <td>0.001634</td>\n",
       "    </tr>\n",
       "    <tr>\n",
       "      <th>subsample_0.7</th>\n",
       "      <th>colsample_bytree_0.6</th>\n",
       "      <td>0.667231</td>\n",
       "      <td>0.001634</td>\n",
       "    </tr>\n",
       "    <tr>\n",
       "      <th>subsample_0.9</th>\n",
       "      <th>colsample_bytree_0.6</th>\n",
       "      <td>0.667231</td>\n",
       "      <td>0.001634</td>\n",
       "    </tr>\n",
       "    <tr>\n",
       "      <th>subsample_0.6</th>\n",
       "      <th>colsample_bytree_0.6</th>\n",
       "      <td>0.667231</td>\n",
       "      <td>0.001634</td>\n",
       "    </tr>\n",
       "    <tr>\n",
       "      <th>subsample_0.8</th>\n",
       "      <th>colsample_bytree_0.6</th>\n",
       "      <td>0.667231</td>\n",
       "      <td>0.001634</td>\n",
       "    </tr>\n",
       "    <tr>\n",
       "      <th>subsample_1</th>\n",
       "      <th>colsample_bytree_0.6</th>\n",
       "      <td>0.667231</td>\n",
       "      <td>0.001634</td>\n",
       "    </tr>\n",
       "    <tr>\n",
       "      <th>subsample_0.6</th>\n",
       "      <th>colsample_bytree_0.7</th>\n",
       "      <td>0.666671</td>\n",
       "      <td>0.001451</td>\n",
       "    </tr>\n",
       "    <tr>\n",
       "      <th>subsample_0.7</th>\n",
       "      <th>colsample_bytree_0.7</th>\n",
       "      <td>0.666671</td>\n",
       "      <td>0.001451</td>\n",
       "    </tr>\n",
       "    <tr>\n",
       "      <th>subsample_0.5</th>\n",
       "      <th>colsample_bytree_0.7</th>\n",
       "      <td>0.666671</td>\n",
       "      <td>0.001451</td>\n",
       "    </tr>\n",
       "    <tr>\n",
       "      <th>subsample_0.8</th>\n",
       "      <th>colsample_bytree_0.7</th>\n",
       "      <td>0.666671</td>\n",
       "      <td>0.001451</td>\n",
       "    </tr>\n",
       "    <tr>\n",
       "      <th>subsample_1</th>\n",
       "      <th>colsample_bytree_0.7</th>\n",
       "      <td>0.666671</td>\n",
       "      <td>0.001451</td>\n",
       "    </tr>\n",
       "    <tr>\n",
       "      <th>subsample_0.9</th>\n",
       "      <th>colsample_bytree_0.7</th>\n",
       "      <td>0.666671</td>\n",
       "      <td>0.001451</td>\n",
       "    </tr>\n",
       "    <tr>\n",
       "      <th>subsample_0.5</th>\n",
       "      <th>colsample_bytree_0.9</th>\n",
       "      <td>0.666408</td>\n",
       "      <td>0.001101</td>\n",
       "    </tr>\n",
       "    <tr>\n",
       "      <th>subsample_0.9</th>\n",
       "      <th>colsample_bytree_0.9</th>\n",
       "      <td>0.666408</td>\n",
       "      <td>0.001101</td>\n",
       "    </tr>\n",
       "    <tr>\n",
       "      <th>subsample_0.7</th>\n",
       "      <th>colsample_bytree_0.9</th>\n",
       "      <td>0.666408</td>\n",
       "      <td>0.001101</td>\n",
       "    </tr>\n",
       "    <tr>\n",
       "      <th>subsample_0.6</th>\n",
       "      <th>colsample_bytree_0.9</th>\n",
       "      <td>0.666408</td>\n",
       "      <td>0.001101</td>\n",
       "    </tr>\n",
       "    <tr>\n",
       "      <th>subsample_1</th>\n",
       "      <th>colsample_bytree_0.9</th>\n",
       "      <td>0.666408</td>\n",
       "      <td>0.001101</td>\n",
       "    </tr>\n",
       "    <tr>\n",
       "      <th>subsample_0.8</th>\n",
       "      <th>colsample_bytree_0.9</th>\n",
       "      <td>0.666408</td>\n",
       "      <td>0.001101</td>\n",
       "    </tr>\n",
       "    <tr>\n",
       "      <th>subsample_0.9</th>\n",
       "      <th>colsample_bytree_0.8</th>\n",
       "      <td>0.666404</td>\n",
       "      <td>0.001644</td>\n",
       "    </tr>\n",
       "    <tr>\n",
       "      <th>subsample_0.6</th>\n",
       "      <th>colsample_bytree_0.8</th>\n",
       "      <td>0.666404</td>\n",
       "      <td>0.001644</td>\n",
       "    </tr>\n",
       "    <tr>\n",
       "      <th>subsample_0.5</th>\n",
       "      <th>colsample_bytree_0.8</th>\n",
       "      <td>0.666404</td>\n",
       "      <td>0.001644</td>\n",
       "    </tr>\n",
       "    <tr>\n",
       "      <th>subsample_1</th>\n",
       "      <th>colsample_bytree_0.8</th>\n",
       "      <td>0.666404</td>\n",
       "      <td>0.001644</td>\n",
       "    </tr>\n",
       "    <tr>\n",
       "      <th>subsample_0.7</th>\n",
       "      <th>colsample_bytree_0.8</th>\n",
       "      <td>0.666404</td>\n",
       "      <td>0.001644</td>\n",
       "    </tr>\n",
       "    <tr>\n",
       "      <th>subsample_0.8</th>\n",
       "      <th>colsample_bytree_0.8</th>\n",
       "      <td>0.666404</td>\n",
       "      <td>0.001644</td>\n",
       "    </tr>\n",
       "    <tr>\n",
       "      <th>subsample_0.5</th>\n",
       "      <th>colsample_bytree_1</th>\n",
       "      <td>0.665989</td>\n",
       "      <td>0.001890</td>\n",
       "    </tr>\n",
       "    <tr>\n",
       "      <th>subsample_0.9</th>\n",
       "      <th>colsample_bytree_1</th>\n",
       "      <td>0.665989</td>\n",
       "      <td>0.001890</td>\n",
       "    </tr>\n",
       "    <tr>\n",
       "      <th>subsample_0.8</th>\n",
       "      <th>colsample_bytree_1</th>\n",
       "      <td>0.665989</td>\n",
       "      <td>0.001890</td>\n",
       "    </tr>\n",
       "    <tr>\n",
       "      <th>subsample_0.7</th>\n",
       "      <th>colsample_bytree_1</th>\n",
       "      <td>0.665989</td>\n",
       "      <td>0.001890</td>\n",
       "    </tr>\n",
       "    <tr>\n",
       "      <th>subsample_0.6</th>\n",
       "      <th>colsample_bytree_1</th>\n",
       "      <td>0.665989</td>\n",
       "      <td>0.001890</td>\n",
       "    </tr>\n",
       "    <tr>\n",
       "      <th>subsample_1</th>\n",
       "      <th>colsample_bytree_1</th>\n",
       "      <td>0.665989</td>\n",
       "      <td>0.001890</td>\n",
       "    </tr>\n",
       "  </tbody>\n",
       "</table>\n",
       "</div>"
      ],
      "text/plain": [
       "                                        mean       std\n",
       "subsample     colsample_bytree                        \n",
       "subsample_0.5 colsample_bytree_0.5  0.667451  0.001025\n",
       "subsample_0.6 colsample_bytree_0.5  0.667451  0.001025\n",
       "subsample_1   colsample_bytree_0.5  0.667451  0.001025\n",
       "subsample_0.9 colsample_bytree_0.5  0.667451  0.001025\n",
       "subsample_0.7 colsample_bytree_0.5  0.667451  0.001025\n",
       "subsample_0.8 colsample_bytree_0.5  0.667451  0.001025\n",
       "subsample_0.5 colsample_bytree_0.6  0.667231  0.001634\n",
       "subsample_0.7 colsample_bytree_0.6  0.667231  0.001634\n",
       "subsample_0.9 colsample_bytree_0.6  0.667231  0.001634\n",
       "subsample_0.6 colsample_bytree_0.6  0.667231  0.001634\n",
       "subsample_0.8 colsample_bytree_0.6  0.667231  0.001634\n",
       "subsample_1   colsample_bytree_0.6  0.667231  0.001634\n",
       "subsample_0.6 colsample_bytree_0.7  0.666671  0.001451\n",
       "subsample_0.7 colsample_bytree_0.7  0.666671  0.001451\n",
       "subsample_0.5 colsample_bytree_0.7  0.666671  0.001451\n",
       "subsample_0.8 colsample_bytree_0.7  0.666671  0.001451\n",
       "subsample_1   colsample_bytree_0.7  0.666671  0.001451\n",
       "subsample_0.9 colsample_bytree_0.7  0.666671  0.001451\n",
       "subsample_0.5 colsample_bytree_0.9  0.666408  0.001101\n",
       "subsample_0.9 colsample_bytree_0.9  0.666408  0.001101\n",
       "subsample_0.7 colsample_bytree_0.9  0.666408  0.001101\n",
       "subsample_0.6 colsample_bytree_0.9  0.666408  0.001101\n",
       "subsample_1   colsample_bytree_0.9  0.666408  0.001101\n",
       "subsample_0.8 colsample_bytree_0.9  0.666408  0.001101\n",
       "subsample_0.9 colsample_bytree_0.8  0.666404  0.001644\n",
       "subsample_0.6 colsample_bytree_0.8  0.666404  0.001644\n",
       "subsample_0.5 colsample_bytree_0.8  0.666404  0.001644\n",
       "subsample_1   colsample_bytree_0.8  0.666404  0.001644\n",
       "subsample_0.7 colsample_bytree_0.8  0.666404  0.001644\n",
       "subsample_0.8 colsample_bytree_0.8  0.666404  0.001644\n",
       "subsample_0.5 colsample_bytree_1    0.665989  0.001890\n",
       "subsample_0.9 colsample_bytree_1    0.665989  0.001890\n",
       "subsample_0.8 colsample_bytree_1    0.665989  0.001890\n",
       "subsample_0.7 colsample_bytree_1    0.665989  0.001890\n",
       "subsample_0.6 colsample_bytree_1    0.665989  0.001890\n",
       "subsample_1   colsample_bytree_1    0.665989  0.001890"
      ]
     },
     "execution_count": 75,
     "metadata": {
      "tags": []
     },
     "output_type": "execute_result"
    }
   ],
   "source": [
    "validation_subsample_colsample_bytree_df.sort_values(by=\"mean\",ascending=False)"
   ]
  },
  {
   "cell_type": "code",
   "execution_count": null,
   "metadata": {
    "colab": {},
    "colab_type": "code",
    "id": "cyFMqh_a0DRE"
   },
   "outputs": [],
   "source": []
  },
  {
   "cell_type": "code",
   "execution_count": null,
   "metadata": {
    "colab": {},
    "colab_type": "code",
    "id": "7FZ6bYRyJaeJ"
   },
   "outputs": [],
   "source": [
    "def validation_cv(reg_lambda):\n",
    "  scores={}\n",
    "  best_score=0\n",
    "  #num_leaves_param_list=[]\n",
    "  #max_depth_param_list=[]\n",
    "  score_list=[]\n",
    "  #max_depth=np.arange(22,45,3)\n",
    "  #num_leaves=np.arange(30,81,10)\n",
    "  for i in reg_lambda:\n",
    "    #for j in colsample_bytree:\n",
    "        #max_depth_param=random.choice(max_depth)\n",
    "        #max_depth_param_list.append(max_depth_param)\n",
    "        #num_leaves_param=random.choice(num_leaves)\n",
    "        #num_leaves_param_list.append(num_leaves_param)\n",
    "        params[\"reg_lambda\"]=i \n",
    "        #params[\"colsample_bytree\"]=j\n",
    "        fold=KFold(n_splits=5,shuffle=True, random_state=1)\n",
    "        score=cross_val_score(lgb.LGBMClassifier(**params),X,y,scoring=\"roc_auc\",cv=fold)\n",
    "        score_list.append(score)\n",
    "        #score=lgb.cv(params,train_set=dtrain,metrics=\"auc\",nfold=5,num_boost_round=1000,early_stopping_rounds=100)\n",
    "        print(\"reg_lambda-\",i)\n",
    "        print(\"bias auc-\",np.mean(score))\n",
    "        print(\"variance auc-\",np.std(score,ddof=1))\n",
    "        print(score)\n",
    "        # if score.mean()>best_score:\n",
    "        #     best_score=score.mean()\n",
    "        #     print(\"best_score-\",best_score,\"reg_lambda-\",i)\n",
    "  return score_list"
   ]
  },
  {
   "cell_type": "code",
   "execution_count": null,
   "metadata": {
    "colab": {
     "base_uri": "https://localhost:8080/",
     "height": 221
    },
    "colab_type": "code",
    "id": "O-hyhmttJ1mC",
    "outputId": "7422931c-b34f-4c8a-895d-d6f8ad310609"
   },
   "outputs": [
    {
     "name": "stdout",
     "output_type": "stream",
     "text": [
      "reg_lambda- 0.9\n",
      "bias auc- 0.6673719634857893\n",
      "variance auc- 0.0013127333849215852\n",
      "[0.66748711 0.6674562  0.66618971 0.66944327 0.66628352]\n",
      "reg_lambda- 1\n",
      "bias auc- 0.6676243779036388\n",
      "variance auc- 0.0011934257594398412\n",
      "[0.66798357 0.66805008 0.6670817  0.66909434 0.6659122 ]\n",
      "reg_lambda- 1.1\n",
      "bias auc- 0.6674707052205502\n",
      "variance auc- 0.0013645418628469334\n",
      "[0.6679437  0.6683822  0.66682107 0.66879167 0.66541489]\n"
     ]
    }
   ],
   "source": [
    "score_list=validation_cv([.9,1,1.1])"
   ]
  },
  {
   "cell_type": "code",
   "execution_count": null,
   "metadata": {
    "colab": {},
    "colab_type": "code",
    "id": "NYbYG3dALatX"
   },
   "outputs": [],
   "source": [
    "validation_reg_lambda_df=pd.DataFrame(data=[i.mean() for i in score_list],index=[.9,1,1.1],columns=[\"mean\"])\n",
    "validation_reg_lambda_df[\"std\"]=[np.std(i,ddof=1) for i in score_list]"
   ]
  },
  {
   "cell_type": "code",
   "execution_count": null,
   "metadata": {
    "colab": {
     "base_uri": "https://localhost:8080/",
     "height": 142
    },
    "colab_type": "code",
    "id": "V9t9yPA41F9N",
    "outputId": "7d6e0785-538c-4334-8b5e-be6395e662f6"
   },
   "outputs": [
    {
     "data": {
      "text/html": [
       "<div>\n",
       "<style scoped>\n",
       "    .dataframe tbody tr th:only-of-type {\n",
       "        vertical-align: middle;\n",
       "    }\n",
       "\n",
       "    .dataframe tbody tr th {\n",
       "        vertical-align: top;\n",
       "    }\n",
       "\n",
       "    .dataframe thead th {\n",
       "        text-align: right;\n",
       "    }\n",
       "</style>\n",
       "<table border=\"1\" class=\"dataframe\">\n",
       "  <thead>\n",
       "    <tr style=\"text-align: right;\">\n",
       "      <th></th>\n",
       "      <th>mean</th>\n",
       "      <th>std</th>\n",
       "    </tr>\n",
       "  </thead>\n",
       "  <tbody>\n",
       "    <tr>\n",
       "      <th>1.0</th>\n",
       "      <td>0.667624</td>\n",
       "      <td>0.001193</td>\n",
       "    </tr>\n",
       "    <tr>\n",
       "      <th>1.1</th>\n",
       "      <td>0.667471</td>\n",
       "      <td>0.001365</td>\n",
       "    </tr>\n",
       "    <tr>\n",
       "      <th>0.9</th>\n",
       "      <td>0.667372</td>\n",
       "      <td>0.001313</td>\n",
       "    </tr>\n",
       "  </tbody>\n",
       "</table>\n",
       "</div>"
      ],
      "text/plain": [
       "         mean       std\n",
       "1.0  0.667624  0.001193\n",
       "1.1  0.667471  0.001365\n",
       "0.9  0.667372  0.001313"
      ]
     },
     "execution_count": 93,
     "metadata": {
      "tags": []
     },
     "output_type": "execute_result"
    }
   ],
   "source": [
    "validation_reg_lambda_df.sort_values(\"mean\",ascending=False)"
   ]
  },
  {
   "cell_type": "code",
   "execution_count": null,
   "metadata": {
    "colab": {},
    "colab_type": "code",
    "id": "6E-y7jA-alhA"
   },
   "outputs": [],
   "source": [
    "#catboost"
   ]
  },
  {
   "cell_type": "code",
   "execution_count": null,
   "metadata": {
    "colab": {
     "base_uri": "https://localhost:8080/",
     "height": 343
    },
    "colab_type": "code",
    "id": "63rcUkSUayAJ",
    "outputId": "22ad3b15-7aff-4f74-d411-bafdb60fb3f8"
   },
   "outputs": [
    {
     "name": "stdout",
     "output_type": "stream",
     "text": [
      "Collecting catboost\n",
      "\u001b[?25l  Downloading https://files.pythonhosted.org/packages/b2/aa/e61819d04ef2bbee778bf4b3a748db1f3ad23512377e43ecfdc3211437a0/catboost-0.23.2-cp36-none-manylinux1_x86_64.whl (64.8MB)\n",
      "\u001b[K     |████████████████████████████████| 64.8MB 60kB/s \n",
      "\u001b[?25hRequirement already satisfied: six in /usr/local/lib/python3.6/dist-packages (from catboost) (1.12.0)\n",
      "Requirement already satisfied: scipy in /usr/local/lib/python3.6/dist-packages (from catboost) (1.4.1)\n",
      "Requirement already satisfied: matplotlib in /usr/local/lib/python3.6/dist-packages (from catboost) (3.2.1)\n",
      "Requirement already satisfied: numpy>=1.16.0 in /usr/local/lib/python3.6/dist-packages (from catboost) (1.18.5)\n",
      "Requirement already satisfied: graphviz in /usr/local/lib/python3.6/dist-packages (from catboost) (0.10.1)\n",
      "Requirement already satisfied: pandas>=0.24.0 in /usr/local/lib/python3.6/dist-packages (from catboost) (1.0.4)\n",
      "Requirement already satisfied: plotly in /usr/local/lib/python3.6/dist-packages (from catboost) (4.4.1)\n",
      "Requirement already satisfied: cycler>=0.10 in /usr/local/lib/python3.6/dist-packages (from matplotlib->catboost) (0.10.0)\n",
      "Requirement already satisfied: pyparsing!=2.0.4,!=2.1.2,!=2.1.6,>=2.0.1 in /usr/local/lib/python3.6/dist-packages (from matplotlib->catboost) (2.4.7)\n",
      "Requirement already satisfied: kiwisolver>=1.0.1 in /usr/local/lib/python3.6/dist-packages (from matplotlib->catboost) (1.2.0)\n",
      "Requirement already satisfied: python-dateutil>=2.1 in /usr/local/lib/python3.6/dist-packages (from matplotlib->catboost) (2.8.1)\n",
      "Requirement already satisfied: pytz>=2017.2 in /usr/local/lib/python3.6/dist-packages (from pandas>=0.24.0->catboost) (2018.9)\n",
      "Requirement already satisfied: retrying>=1.3.3 in /usr/local/lib/python3.6/dist-packages (from plotly->catboost) (1.3.3)\n",
      "Installing collected packages: catboost\n",
      "Successfully installed catboost-0.23.2\n"
     ]
    }
   ],
   "source": [
    "! pip install catboost"
   ]
  },
  {
   "cell_type": "code",
   "execution_count": null,
   "metadata": {
    "colab": {},
    "colab_type": "code",
    "id": "udWHbNcpa0kR"
   },
   "outputs": [],
   "source": [
    "import catboost as cb"
   ]
  },
  {
   "cell_type": "code",
   "execution_count": null,
   "metadata": {
    "colab": {},
    "colab_type": "code",
    "id": "IPXIASdcbSVt"
   },
   "outputs": [],
   "source": [
    "params={}\n",
    "params[\"verbose\"]=0\n",
    "params['early_stopping_rounds']=50\n",
    "params[\"subsample\"]=.9\n"
   ]
  },
  {
   "cell_type": "code",
   "execution_count": null,
   "metadata": {
    "colab": {},
    "colab_type": "code",
    "id": "H3YGQn3QahmW"
   },
   "outputs": [],
   "source": [
    "def validation_cv(max_depth,min_child_samples):\n",
    "  scores={}\n",
    "  best_score=0\n",
    "  min_child_samples_param_list=[]\n",
    "  max_depth_param_list=[]\n",
    "  score_list=[]\n",
    "  #max_depth=np.arange(22,45,3)\n",
    "  #num_leaves=np.arange(30,81,10)\n",
    "  for i in max_depth:\n",
    "      for j in min_child_samples:\n",
    "          #max_depth_param=random.choice(max_depth)\n",
    "          max_depth_param_list.append(i)\n",
    "          #num_leaves_param=random.choice(num_leaves)\n",
    "          min_child_samples_param_list.append(j)\n",
    "          params[\"max_depth\"]=i \n",
    "          params[\"min_child_samples\"]=j\n",
    "          fold=KFold(n_splits=5,shuffle=True, random_state=1)\n",
    "          score=cross_val_score(cb.CatBoostClassifier(**params),X,y,scoring=\"roc_auc\",cv=fold)\n",
    "          score_list.append(score)\n",
    "          #score=lgb.cv(params,train_set=dtrain,metrics=\"auc\",nfold=5,num_boost_round=1000,early_stopping_rounds=100)\n",
    "          print(\"max_depth-\",i,\"min_child_samples-\",j)\n",
    "          print(\"bias auc-\",np.mean(score))\n",
    "          print(\"variance auc-\",np.std(score,ddof=1))\n",
    "          print(score)\n",
    "          # if score.mean()>best_score:\n",
    "          #     best_score=score.mean()\n",
    "          #     print(\"best_score-\",best_score,\"max_depth-\",i,\"num_leaves\",j)\n",
    "  return score_list"
   ]
  },
  {
   "cell_type": "code",
   "execution_count": null,
   "metadata": {
    "colab": {
     "base_uri": "https://localhost:8080/",
     "height": 850
    },
    "colab_type": "code",
    "id": "K6hN-9q1ahml",
    "outputId": "a3b0b627-da2c-490b-d911-8fcb5ab47a39"
   },
   "outputs": [
    {
     "name": "stdout",
     "output_type": "stream",
     "text": [
      "max_depth- 8 min_child_samples- 35\n",
      "bias auc- 0.6663316747033399\n",
      "variance auc- 0.0024911064716962965\n",
      "[0.66565509 0.66637385 0.66562806 0.67038984 0.66361154]\n",
      "max_depth- 8 min_child_samples- 45\n",
      "bias auc- 0.6663316747033399\n",
      "variance auc- 0.0024911064716962965\n",
      "[0.66565509 0.66637385 0.66562806 0.67038984 0.66361154]\n",
      "max_depth- 8 min_child_samples- 55\n",
      "bias auc- 0.6663316747033399\n",
      "variance auc- 0.0024911064716962965\n",
      "[0.66565509 0.66637385 0.66562806 0.67038984 0.66361154]\n",
      "max_depth- 8 min_child_samples- 65\n",
      "bias auc- 0.6663316747033399\n",
      "variance auc- 0.0024911064716962965\n",
      "[0.66565509 0.66637385 0.66562806 0.67038984 0.66361154]\n",
      "max_depth- 10 min_child_samples- 35\n",
      "bias auc- 0.6543244515506534\n",
      "variance auc- 0.0016132946916470083\n",
      "[0.6536035  0.65359735 0.65267162 0.65682958 0.65492021]\n",
      "max_depth- 10 min_child_samples- 45\n",
      "bias auc- 0.6543244515506534\n",
      "variance auc- 0.0016132946916470083\n",
      "[0.6536035  0.65359735 0.65267162 0.65682958 0.65492021]\n",
      "max_depth- 10 min_child_samples- 55\n",
      "bias auc- 0.6543244515506534\n",
      "variance auc- 0.0016132946916470083\n",
      "[0.6536035  0.65359735 0.65267162 0.65682958 0.65492021]\n"
     ]
    },
    {
     "ename": "KeyboardInterrupt",
     "evalue": "ignored",
     "output_type": "error",
     "traceback": [
      "\u001b[0;31m---------------------------------------------------------------------------\u001b[0m",
      "\u001b[0;31mKeyboardInterrupt\u001b[0m                         Traceback (most recent call last)",
      "\u001b[0;32m<ipython-input-36-0274e97c6c64>\u001b[0m in \u001b[0;36m<module>\u001b[0;34m()\u001b[0m\n\u001b[0;32m----> 1\u001b[0;31m \u001b[0mscore_list\u001b[0m\u001b[0;34m=\u001b[0m\u001b[0mvalidation_cv\u001b[0m\u001b[0;34m(\u001b[0m\u001b[0mnp\u001b[0m\u001b[0;34m.\u001b[0m\u001b[0marange\u001b[0m\u001b[0;34m(\u001b[0m\u001b[0;36m8\u001b[0m\u001b[0;34m,\u001b[0m\u001b[0;36m15\u001b[0m\u001b[0;34m,\u001b[0m\u001b[0;36m2\u001b[0m\u001b[0;34m)\u001b[0m\u001b[0;34m,\u001b[0m\u001b[0mnp\u001b[0m\u001b[0;34m.\u001b[0m\u001b[0marange\u001b[0m\u001b[0;34m(\u001b[0m\u001b[0;36m35\u001b[0m\u001b[0;34m,\u001b[0m\u001b[0;36m66\u001b[0m\u001b[0;34m,\u001b[0m\u001b[0;36m10\u001b[0m\u001b[0;34m)\u001b[0m\u001b[0;34m)\u001b[0m\u001b[0;34m\u001b[0m\u001b[0;34m\u001b[0m\u001b[0m\n\u001b[0m",
      "\u001b[0;32m<ipython-input-35-b7faf11b758d>\u001b[0m in \u001b[0;36mvalidation_cv\u001b[0;34m(max_depth, min_child_samples)\u001b[0m\n\u001b[1;32m     16\u001b[0m           \u001b[0mparams\u001b[0m\u001b[0;34m[\u001b[0m\u001b[0;34m\"min_child_samples\"\u001b[0m\u001b[0;34m]\u001b[0m\u001b[0;34m=\u001b[0m\u001b[0mj\u001b[0m\u001b[0;34m\u001b[0m\u001b[0;34m\u001b[0m\u001b[0m\n\u001b[1;32m     17\u001b[0m           \u001b[0mfold\u001b[0m\u001b[0;34m=\u001b[0m\u001b[0mKFold\u001b[0m\u001b[0;34m(\u001b[0m\u001b[0mn_splits\u001b[0m\u001b[0;34m=\u001b[0m\u001b[0;36m5\u001b[0m\u001b[0;34m,\u001b[0m\u001b[0mshuffle\u001b[0m\u001b[0;34m=\u001b[0m\u001b[0;32mTrue\u001b[0m\u001b[0;34m,\u001b[0m \u001b[0mrandom_state\u001b[0m\u001b[0;34m=\u001b[0m\u001b[0;36m1\u001b[0m\u001b[0;34m)\u001b[0m\u001b[0;34m\u001b[0m\u001b[0;34m\u001b[0m\u001b[0m\n\u001b[0;32m---> 18\u001b[0;31m           \u001b[0mscore\u001b[0m\u001b[0;34m=\u001b[0m\u001b[0mcross_val_score\u001b[0m\u001b[0;34m(\u001b[0m\u001b[0mcb\u001b[0m\u001b[0;34m.\u001b[0m\u001b[0mCatBoostClassifier\u001b[0m\u001b[0;34m(\u001b[0m\u001b[0;34m**\u001b[0m\u001b[0mparams\u001b[0m\u001b[0;34m)\u001b[0m\u001b[0;34m,\u001b[0m\u001b[0mX\u001b[0m\u001b[0;34m,\u001b[0m\u001b[0my\u001b[0m\u001b[0;34m,\u001b[0m\u001b[0mscoring\u001b[0m\u001b[0;34m=\u001b[0m\u001b[0;34m\"roc_auc\"\u001b[0m\u001b[0;34m,\u001b[0m\u001b[0mcv\u001b[0m\u001b[0;34m=\u001b[0m\u001b[0mfold\u001b[0m\u001b[0;34m)\u001b[0m\u001b[0;34m\u001b[0m\u001b[0;34m\u001b[0m\u001b[0m\n\u001b[0m\u001b[1;32m     19\u001b[0m           \u001b[0mscore_list\u001b[0m\u001b[0;34m.\u001b[0m\u001b[0mappend\u001b[0m\u001b[0;34m(\u001b[0m\u001b[0mscore\u001b[0m\u001b[0;34m)\u001b[0m\u001b[0;34m\u001b[0m\u001b[0;34m\u001b[0m\u001b[0m\n\u001b[1;32m     20\u001b[0m           \u001b[0;31m#score=lgb.cv(params,train_set=dtrain,metrics=\"auc\",nfold=5,num_boost_round=1000,early_stopping_rounds=100)\u001b[0m\u001b[0;34m\u001b[0m\u001b[0;34m\u001b[0m\u001b[0;34m\u001b[0m\u001b[0m\n",
      "\u001b[0;32m/usr/local/lib/python3.6/dist-packages/sklearn/model_selection/_validation.py\u001b[0m in \u001b[0;36mcross_val_score\u001b[0;34m(estimator, X, y, groups, scoring, cv, n_jobs, verbose, fit_params, pre_dispatch, error_score)\u001b[0m\n\u001b[1;32m    388\u001b[0m                                 \u001b[0mfit_params\u001b[0m\u001b[0;34m=\u001b[0m\u001b[0mfit_params\u001b[0m\u001b[0;34m,\u001b[0m\u001b[0;34m\u001b[0m\u001b[0;34m\u001b[0m\u001b[0m\n\u001b[1;32m    389\u001b[0m                                 \u001b[0mpre_dispatch\u001b[0m\u001b[0;34m=\u001b[0m\u001b[0mpre_dispatch\u001b[0m\u001b[0;34m,\u001b[0m\u001b[0;34m\u001b[0m\u001b[0;34m\u001b[0m\u001b[0m\n\u001b[0;32m--> 390\u001b[0;31m                                 error_score=error_score)\n\u001b[0m\u001b[1;32m    391\u001b[0m     \u001b[0;32mreturn\u001b[0m \u001b[0mcv_results\u001b[0m\u001b[0;34m[\u001b[0m\u001b[0;34m'test_score'\u001b[0m\u001b[0;34m]\u001b[0m\u001b[0;34m\u001b[0m\u001b[0;34m\u001b[0m\u001b[0m\n\u001b[1;32m    392\u001b[0m \u001b[0;34m\u001b[0m\u001b[0m\n",
      "\u001b[0;32m/usr/local/lib/python3.6/dist-packages/sklearn/model_selection/_validation.py\u001b[0m in \u001b[0;36mcross_validate\u001b[0;34m(estimator, X, y, groups, scoring, cv, n_jobs, verbose, fit_params, pre_dispatch, return_train_score, return_estimator, error_score)\u001b[0m\n\u001b[1;32m    234\u001b[0m             \u001b[0mreturn_times\u001b[0m\u001b[0;34m=\u001b[0m\u001b[0;32mTrue\u001b[0m\u001b[0;34m,\u001b[0m \u001b[0mreturn_estimator\u001b[0m\u001b[0;34m=\u001b[0m\u001b[0mreturn_estimator\u001b[0m\u001b[0;34m,\u001b[0m\u001b[0;34m\u001b[0m\u001b[0;34m\u001b[0m\u001b[0m\n\u001b[1;32m    235\u001b[0m             error_score=error_score)\n\u001b[0;32m--> 236\u001b[0;31m         for train, test in cv.split(X, y, groups))\n\u001b[0m\u001b[1;32m    237\u001b[0m \u001b[0;34m\u001b[0m\u001b[0m\n\u001b[1;32m    238\u001b[0m     \u001b[0mzipped_scores\u001b[0m \u001b[0;34m=\u001b[0m \u001b[0mlist\u001b[0m\u001b[0;34m(\u001b[0m\u001b[0mzip\u001b[0m\u001b[0;34m(\u001b[0m\u001b[0;34m*\u001b[0m\u001b[0mscores\u001b[0m\u001b[0;34m)\u001b[0m\u001b[0;34m)\u001b[0m\u001b[0;34m\u001b[0m\u001b[0;34m\u001b[0m\u001b[0m\n",
      "\u001b[0;32m/usr/local/lib/python3.6/dist-packages/joblib/parallel.py\u001b[0m in \u001b[0;36m__call__\u001b[0;34m(self, iterable)\u001b[0m\n\u001b[1;32m   1027\u001b[0m             \u001b[0;31m# remaining jobs.\u001b[0m\u001b[0;34m\u001b[0m\u001b[0;34m\u001b[0m\u001b[0;34m\u001b[0m\u001b[0m\n\u001b[1;32m   1028\u001b[0m             \u001b[0mself\u001b[0m\u001b[0;34m.\u001b[0m\u001b[0m_iterating\u001b[0m \u001b[0;34m=\u001b[0m \u001b[0;32mFalse\u001b[0m\u001b[0;34m\u001b[0m\u001b[0;34m\u001b[0m\u001b[0m\n\u001b[0;32m-> 1029\u001b[0;31m             \u001b[0;32mif\u001b[0m \u001b[0mself\u001b[0m\u001b[0;34m.\u001b[0m\u001b[0mdispatch_one_batch\u001b[0m\u001b[0;34m(\u001b[0m\u001b[0miterator\u001b[0m\u001b[0;34m)\u001b[0m\u001b[0;34m:\u001b[0m\u001b[0;34m\u001b[0m\u001b[0;34m\u001b[0m\u001b[0m\n\u001b[0m\u001b[1;32m   1030\u001b[0m                 \u001b[0mself\u001b[0m\u001b[0;34m.\u001b[0m\u001b[0m_iterating\u001b[0m \u001b[0;34m=\u001b[0m \u001b[0mself\u001b[0m\u001b[0;34m.\u001b[0m\u001b[0m_original_iterator\u001b[0m \u001b[0;32mis\u001b[0m \u001b[0;32mnot\u001b[0m \u001b[0;32mNone\u001b[0m\u001b[0;34m\u001b[0m\u001b[0;34m\u001b[0m\u001b[0m\n\u001b[1;32m   1031\u001b[0m \u001b[0;34m\u001b[0m\u001b[0m\n",
      "\u001b[0;32m/usr/local/lib/python3.6/dist-packages/joblib/parallel.py\u001b[0m in \u001b[0;36mdispatch_one_batch\u001b[0;34m(self, iterator)\u001b[0m\n\u001b[1;32m    845\u001b[0m                 \u001b[0;32mreturn\u001b[0m \u001b[0;32mFalse\u001b[0m\u001b[0;34m\u001b[0m\u001b[0;34m\u001b[0m\u001b[0m\n\u001b[1;32m    846\u001b[0m             \u001b[0;32melse\u001b[0m\u001b[0;34m:\u001b[0m\u001b[0;34m\u001b[0m\u001b[0;34m\u001b[0m\u001b[0m\n\u001b[0;32m--> 847\u001b[0;31m                 \u001b[0mself\u001b[0m\u001b[0;34m.\u001b[0m\u001b[0m_dispatch\u001b[0m\u001b[0;34m(\u001b[0m\u001b[0mtasks\u001b[0m\u001b[0;34m)\u001b[0m\u001b[0;34m\u001b[0m\u001b[0;34m\u001b[0m\u001b[0m\n\u001b[0m\u001b[1;32m    848\u001b[0m                 \u001b[0;32mreturn\u001b[0m \u001b[0;32mTrue\u001b[0m\u001b[0;34m\u001b[0m\u001b[0;34m\u001b[0m\u001b[0m\n\u001b[1;32m    849\u001b[0m \u001b[0;34m\u001b[0m\u001b[0m\n",
      "\u001b[0;32m/usr/local/lib/python3.6/dist-packages/joblib/parallel.py\u001b[0m in \u001b[0;36m_dispatch\u001b[0;34m(self, batch)\u001b[0m\n\u001b[1;32m    763\u001b[0m         \u001b[0;32mwith\u001b[0m \u001b[0mself\u001b[0m\u001b[0;34m.\u001b[0m\u001b[0m_lock\u001b[0m\u001b[0;34m:\u001b[0m\u001b[0;34m\u001b[0m\u001b[0;34m\u001b[0m\u001b[0m\n\u001b[1;32m    764\u001b[0m             \u001b[0mjob_idx\u001b[0m \u001b[0;34m=\u001b[0m \u001b[0mlen\u001b[0m\u001b[0;34m(\u001b[0m\u001b[0mself\u001b[0m\u001b[0;34m.\u001b[0m\u001b[0m_jobs\u001b[0m\u001b[0;34m)\u001b[0m\u001b[0;34m\u001b[0m\u001b[0;34m\u001b[0m\u001b[0m\n\u001b[0;32m--> 765\u001b[0;31m             \u001b[0mjob\u001b[0m \u001b[0;34m=\u001b[0m \u001b[0mself\u001b[0m\u001b[0;34m.\u001b[0m\u001b[0m_backend\u001b[0m\u001b[0;34m.\u001b[0m\u001b[0mapply_async\u001b[0m\u001b[0;34m(\u001b[0m\u001b[0mbatch\u001b[0m\u001b[0;34m,\u001b[0m \u001b[0mcallback\u001b[0m\u001b[0;34m=\u001b[0m\u001b[0mcb\u001b[0m\u001b[0;34m)\u001b[0m\u001b[0;34m\u001b[0m\u001b[0;34m\u001b[0m\u001b[0m\n\u001b[0m\u001b[1;32m    766\u001b[0m             \u001b[0;31m# A job can complete so quickly than its callback is\u001b[0m\u001b[0;34m\u001b[0m\u001b[0;34m\u001b[0m\u001b[0;34m\u001b[0m\u001b[0m\n\u001b[1;32m    767\u001b[0m             \u001b[0;31m# called before we get here, causing self._jobs to\u001b[0m\u001b[0;34m\u001b[0m\u001b[0;34m\u001b[0m\u001b[0;34m\u001b[0m\u001b[0m\n",
      "\u001b[0;32m/usr/local/lib/python3.6/dist-packages/joblib/_parallel_backends.py\u001b[0m in \u001b[0;36mapply_async\u001b[0;34m(self, func, callback)\u001b[0m\n\u001b[1;32m    204\u001b[0m     \u001b[0;32mdef\u001b[0m \u001b[0mapply_async\u001b[0m\u001b[0;34m(\u001b[0m\u001b[0mself\u001b[0m\u001b[0;34m,\u001b[0m \u001b[0mfunc\u001b[0m\u001b[0;34m,\u001b[0m \u001b[0mcallback\u001b[0m\u001b[0;34m=\u001b[0m\u001b[0;32mNone\u001b[0m\u001b[0;34m)\u001b[0m\u001b[0;34m:\u001b[0m\u001b[0;34m\u001b[0m\u001b[0;34m\u001b[0m\u001b[0m\n\u001b[1;32m    205\u001b[0m         \u001b[0;34m\"\"\"Schedule a func to be run\"\"\"\u001b[0m\u001b[0;34m\u001b[0m\u001b[0;34m\u001b[0m\u001b[0m\n\u001b[0;32m--> 206\u001b[0;31m         \u001b[0mresult\u001b[0m \u001b[0;34m=\u001b[0m \u001b[0mImmediateResult\u001b[0m\u001b[0;34m(\u001b[0m\u001b[0mfunc\u001b[0m\u001b[0;34m)\u001b[0m\u001b[0;34m\u001b[0m\u001b[0;34m\u001b[0m\u001b[0m\n\u001b[0m\u001b[1;32m    207\u001b[0m         \u001b[0;32mif\u001b[0m \u001b[0mcallback\u001b[0m\u001b[0;34m:\u001b[0m\u001b[0;34m\u001b[0m\u001b[0;34m\u001b[0m\u001b[0m\n\u001b[1;32m    208\u001b[0m             \u001b[0mcallback\u001b[0m\u001b[0;34m(\u001b[0m\u001b[0mresult\u001b[0m\u001b[0;34m)\u001b[0m\u001b[0;34m\u001b[0m\u001b[0;34m\u001b[0m\u001b[0m\n",
      "\u001b[0;32m/usr/local/lib/python3.6/dist-packages/joblib/_parallel_backends.py\u001b[0m in \u001b[0;36m__init__\u001b[0;34m(self, batch)\u001b[0m\n\u001b[1;32m    568\u001b[0m         \u001b[0;31m# Don't delay the application, to avoid keeping the input\u001b[0m\u001b[0;34m\u001b[0m\u001b[0;34m\u001b[0m\u001b[0;34m\u001b[0m\u001b[0m\n\u001b[1;32m    569\u001b[0m         \u001b[0;31m# arguments in memory\u001b[0m\u001b[0;34m\u001b[0m\u001b[0;34m\u001b[0m\u001b[0;34m\u001b[0m\u001b[0m\n\u001b[0;32m--> 570\u001b[0;31m         \u001b[0mself\u001b[0m\u001b[0;34m.\u001b[0m\u001b[0mresults\u001b[0m \u001b[0;34m=\u001b[0m \u001b[0mbatch\u001b[0m\u001b[0;34m(\u001b[0m\u001b[0;34m)\u001b[0m\u001b[0;34m\u001b[0m\u001b[0;34m\u001b[0m\u001b[0m\n\u001b[0m\u001b[1;32m    571\u001b[0m \u001b[0;34m\u001b[0m\u001b[0m\n\u001b[1;32m    572\u001b[0m     \u001b[0;32mdef\u001b[0m \u001b[0mget\u001b[0m\u001b[0;34m(\u001b[0m\u001b[0mself\u001b[0m\u001b[0;34m)\u001b[0m\u001b[0;34m:\u001b[0m\u001b[0;34m\u001b[0m\u001b[0;34m\u001b[0m\u001b[0m\n",
      "\u001b[0;32m/usr/local/lib/python3.6/dist-packages/joblib/parallel.py\u001b[0m in \u001b[0;36m__call__\u001b[0;34m(self)\u001b[0m\n\u001b[1;32m    251\u001b[0m         \u001b[0;32mwith\u001b[0m \u001b[0mparallel_backend\u001b[0m\u001b[0;34m(\u001b[0m\u001b[0mself\u001b[0m\u001b[0;34m.\u001b[0m\u001b[0m_backend\u001b[0m\u001b[0;34m,\u001b[0m \u001b[0mn_jobs\u001b[0m\u001b[0;34m=\u001b[0m\u001b[0mself\u001b[0m\u001b[0;34m.\u001b[0m\u001b[0m_n_jobs\u001b[0m\u001b[0;34m)\u001b[0m\u001b[0;34m:\u001b[0m\u001b[0;34m\u001b[0m\u001b[0;34m\u001b[0m\u001b[0m\n\u001b[1;32m    252\u001b[0m             return [func(*args, **kwargs)\n\u001b[0;32m--> 253\u001b[0;31m                     for func, args, kwargs in self.items]\n\u001b[0m\u001b[1;32m    254\u001b[0m \u001b[0;34m\u001b[0m\u001b[0m\n\u001b[1;32m    255\u001b[0m     \u001b[0;32mdef\u001b[0m \u001b[0m__reduce__\u001b[0m\u001b[0;34m(\u001b[0m\u001b[0mself\u001b[0m\u001b[0;34m)\u001b[0m\u001b[0;34m:\u001b[0m\u001b[0;34m\u001b[0m\u001b[0;34m\u001b[0m\u001b[0m\n",
      "\u001b[0;32m/usr/local/lib/python3.6/dist-packages/joblib/parallel.py\u001b[0m in \u001b[0;36m<listcomp>\u001b[0;34m(.0)\u001b[0m\n\u001b[1;32m    251\u001b[0m         \u001b[0;32mwith\u001b[0m \u001b[0mparallel_backend\u001b[0m\u001b[0;34m(\u001b[0m\u001b[0mself\u001b[0m\u001b[0;34m.\u001b[0m\u001b[0m_backend\u001b[0m\u001b[0;34m,\u001b[0m \u001b[0mn_jobs\u001b[0m\u001b[0;34m=\u001b[0m\u001b[0mself\u001b[0m\u001b[0;34m.\u001b[0m\u001b[0m_n_jobs\u001b[0m\u001b[0;34m)\u001b[0m\u001b[0;34m:\u001b[0m\u001b[0;34m\u001b[0m\u001b[0;34m\u001b[0m\u001b[0m\n\u001b[1;32m    252\u001b[0m             return [func(*args, **kwargs)\n\u001b[0;32m--> 253\u001b[0;31m                     for func, args, kwargs in self.items]\n\u001b[0m\u001b[1;32m    254\u001b[0m \u001b[0;34m\u001b[0m\u001b[0m\n\u001b[1;32m    255\u001b[0m     \u001b[0;32mdef\u001b[0m \u001b[0m__reduce__\u001b[0m\u001b[0;34m(\u001b[0m\u001b[0mself\u001b[0m\u001b[0;34m)\u001b[0m\u001b[0;34m:\u001b[0m\u001b[0;34m\u001b[0m\u001b[0;34m\u001b[0m\u001b[0m\n",
      "\u001b[0;32m/usr/local/lib/python3.6/dist-packages/sklearn/model_selection/_validation.py\u001b[0m in \u001b[0;36m_fit_and_score\u001b[0;34m(estimator, X, y, scorer, train, test, verbose, parameters, fit_params, return_train_score, return_parameters, return_n_test_samples, return_times, return_estimator, error_score)\u001b[0m\n\u001b[1;32m    513\u001b[0m             \u001b[0mestimator\u001b[0m\u001b[0;34m.\u001b[0m\u001b[0mfit\u001b[0m\u001b[0;34m(\u001b[0m\u001b[0mX_train\u001b[0m\u001b[0;34m,\u001b[0m \u001b[0;34m**\u001b[0m\u001b[0mfit_params\u001b[0m\u001b[0;34m)\u001b[0m\u001b[0;34m\u001b[0m\u001b[0;34m\u001b[0m\u001b[0m\n\u001b[1;32m    514\u001b[0m         \u001b[0;32melse\u001b[0m\u001b[0;34m:\u001b[0m\u001b[0;34m\u001b[0m\u001b[0;34m\u001b[0m\u001b[0m\n\u001b[0;32m--> 515\u001b[0;31m             \u001b[0mestimator\u001b[0m\u001b[0;34m.\u001b[0m\u001b[0mfit\u001b[0m\u001b[0;34m(\u001b[0m\u001b[0mX_train\u001b[0m\u001b[0;34m,\u001b[0m \u001b[0my_train\u001b[0m\u001b[0;34m,\u001b[0m \u001b[0;34m**\u001b[0m\u001b[0mfit_params\u001b[0m\u001b[0;34m)\u001b[0m\u001b[0;34m\u001b[0m\u001b[0;34m\u001b[0m\u001b[0m\n\u001b[0m\u001b[1;32m    516\u001b[0m \u001b[0;34m\u001b[0m\u001b[0m\n\u001b[1;32m    517\u001b[0m     \u001b[0;32mexcept\u001b[0m \u001b[0mException\u001b[0m \u001b[0;32mas\u001b[0m \u001b[0me\u001b[0m\u001b[0;34m:\u001b[0m\u001b[0;34m\u001b[0m\u001b[0;34m\u001b[0m\u001b[0m\n",
      "\u001b[0;32m/usr/local/lib/python3.6/dist-packages/catboost/core.py\u001b[0m in \u001b[0;36mfit\u001b[0;34m(self, X, y, cat_features, text_features, sample_weight, baseline, use_best_model, eval_set, verbose, logging_level, plot, column_description, verbose_eval, metric_period, silent, early_stopping_rounds, save_snapshot, snapshot_file, snapshot_interval, init_model)\u001b[0m\n\u001b[1;32m   4113\u001b[0m         self._fit(X, y, cat_features, text_features, None, sample_weight, None, None, None, None, baseline, use_best_model,\n\u001b[1;32m   4114\u001b[0m                   \u001b[0meval_set\u001b[0m\u001b[0;34m,\u001b[0m \u001b[0mverbose\u001b[0m\u001b[0;34m,\u001b[0m \u001b[0mlogging_level\u001b[0m\u001b[0;34m,\u001b[0m \u001b[0mplot\u001b[0m\u001b[0;34m,\u001b[0m \u001b[0mcolumn_description\u001b[0m\u001b[0;34m,\u001b[0m \u001b[0mverbose_eval\u001b[0m\u001b[0;34m,\u001b[0m \u001b[0mmetric_period\u001b[0m\u001b[0;34m,\u001b[0m\u001b[0;34m\u001b[0m\u001b[0;34m\u001b[0m\u001b[0m\n\u001b[0;32m-> 4115\u001b[0;31m                   silent, early_stopping_rounds, save_snapshot, snapshot_file, snapshot_interval, init_model)\n\u001b[0m\u001b[1;32m   4116\u001b[0m         \u001b[0;32mreturn\u001b[0m \u001b[0mself\u001b[0m\u001b[0;34m\u001b[0m\u001b[0;34m\u001b[0m\u001b[0m\n\u001b[1;32m   4117\u001b[0m \u001b[0;34m\u001b[0m\u001b[0m\n",
      "\u001b[0;32m/usr/local/lib/python3.6/dist-packages/catboost/core.py\u001b[0m in \u001b[0;36m_fit\u001b[0;34m(self, X, y, cat_features, text_features, pairs, sample_weight, group_id, group_weight, subgroup_id, pairs_weight, baseline, use_best_model, eval_set, verbose, logging_level, plot, column_description, verbose_eval, metric_period, silent, early_stopping_rounds, save_snapshot, snapshot_file, snapshot_interval, init_model)\u001b[0m\n\u001b[1;32m   1741\u001b[0m                 \u001b[0mparams\u001b[0m\u001b[0;34m,\u001b[0m\u001b[0;34m\u001b[0m\u001b[0;34m\u001b[0m\u001b[0m\n\u001b[1;32m   1742\u001b[0m                 \u001b[0mallow_clear_pool\u001b[0m\u001b[0;34m,\u001b[0m\u001b[0;34m\u001b[0m\u001b[0;34m\u001b[0m\u001b[0m\n\u001b[0;32m-> 1743\u001b[0;31m                 \u001b[0mtrain_params\u001b[0m\u001b[0;34m[\u001b[0m\u001b[0;34m\"init_model\"\u001b[0m\u001b[0;34m]\u001b[0m\u001b[0;34m\u001b[0m\u001b[0;34m\u001b[0m\u001b[0m\n\u001b[0m\u001b[1;32m   1744\u001b[0m             )\n\u001b[1;32m   1745\u001b[0m \u001b[0;34m\u001b[0m\u001b[0m\n",
      "\u001b[0;32m/usr/local/lib/python3.6/dist-packages/catboost/core.py\u001b[0m in \u001b[0;36m_train\u001b[0;34m(self, train_pool, test_pool, params, allow_clear_pool, init_model)\u001b[0m\n\u001b[1;32m   1228\u001b[0m \u001b[0;34m\u001b[0m\u001b[0m\n\u001b[1;32m   1229\u001b[0m     \u001b[0;32mdef\u001b[0m \u001b[0m_train\u001b[0m\u001b[0;34m(\u001b[0m\u001b[0mself\u001b[0m\u001b[0;34m,\u001b[0m \u001b[0mtrain_pool\u001b[0m\u001b[0;34m,\u001b[0m \u001b[0mtest_pool\u001b[0m\u001b[0;34m,\u001b[0m \u001b[0mparams\u001b[0m\u001b[0;34m,\u001b[0m \u001b[0mallow_clear_pool\u001b[0m\u001b[0;34m,\u001b[0m \u001b[0minit_model\u001b[0m\u001b[0;34m)\u001b[0m\u001b[0;34m:\u001b[0m\u001b[0;34m\u001b[0m\u001b[0;34m\u001b[0m\u001b[0m\n\u001b[0;32m-> 1230\u001b[0;31m         \u001b[0mself\u001b[0m\u001b[0;34m.\u001b[0m\u001b[0m_object\u001b[0m\u001b[0;34m.\u001b[0m\u001b[0m_train\u001b[0m\u001b[0;34m(\u001b[0m\u001b[0mtrain_pool\u001b[0m\u001b[0;34m,\u001b[0m \u001b[0mtest_pool\u001b[0m\u001b[0;34m,\u001b[0m \u001b[0mparams\u001b[0m\u001b[0;34m,\u001b[0m \u001b[0mallow_clear_pool\u001b[0m\u001b[0;34m,\u001b[0m \u001b[0minit_model\u001b[0m\u001b[0;34m.\u001b[0m\u001b[0m_object\u001b[0m \u001b[0;32mif\u001b[0m \u001b[0minit_model\u001b[0m \u001b[0;32melse\u001b[0m \u001b[0;32mNone\u001b[0m\u001b[0;34m)\u001b[0m\u001b[0;34m\u001b[0m\u001b[0;34m\u001b[0m\u001b[0m\n\u001b[0m\u001b[1;32m   1231\u001b[0m         \u001b[0mself\u001b[0m\u001b[0;34m.\u001b[0m\u001b[0m_set_trained_model_attributes\u001b[0m\u001b[0;34m(\u001b[0m\u001b[0;34m)\u001b[0m\u001b[0;34m\u001b[0m\u001b[0;34m\u001b[0m\u001b[0m\n\u001b[1;32m   1232\u001b[0m \u001b[0;34m\u001b[0m\u001b[0m\n",
      "\u001b[0;32m_catboost.pyx\u001b[0m in \u001b[0;36m_catboost._CatBoost._train\u001b[0;34m()\u001b[0m\n",
      "\u001b[0;32m_catboost.pyx\u001b[0m in \u001b[0;36m_catboost._CatBoost._train\u001b[0;34m()\u001b[0m\n",
      "\u001b[0;31mKeyboardInterrupt\u001b[0m: "
     ]
    }
   ],
   "source": [
    "score_list=validation_cv(np.arange(8,15,2),np.arange(35,66,10))"
   ]
  },
  {
   "cell_type": "code",
   "execution_count": null,
   "metadata": {
    "colab": {},
    "colab_type": "code",
    "id": "k4RGylWtahmv"
   },
   "outputs": [],
   "source": [
    "ind=[]\n",
    "for i in [10,11,12]:\n",
    "  for j in [37,38,39,40,41,42]:\n",
    "    ind.append((\"max_depth_\"+str(i),\"min_child_samples\"+str(j)))"
   ]
  },
  {
   "cell_type": "code",
   "execution_count": null,
   "metadata": {
    "colab": {},
    "colab_type": "code",
    "id": "Tx25Ezwpahm4"
   },
   "outputs": [],
   "source": [
    "index_to_be_used=pd.MultiIndex.from_tuples(ind,names=(\"max_depth\",\"min_child_samples\"))"
   ]
  },
  {
   "cell_type": "code",
   "execution_count": null,
   "metadata": {
    "colab": {},
    "colab_type": "code",
    "id": "O7oCb1tgahm-"
   },
   "outputs": [],
   "source": [
    "validation_max_depth_num_leaves_df=pd.DataFrame(data=[i.mean() for i in score_list],index=index_to_be_used,columns=[\"mean\"])\n",
    "validation_max_depth_num_leaves_df[\"std\"]=[np.std(i,ddof=1) for i in score_list]"
   ]
  },
  {
   "cell_type": "code",
   "execution_count": null,
   "metadata": {
    "colab": {
     "base_uri": "https://localhost:8080/",
     "height": 638
    },
    "colab_type": "code",
    "id": "sHLvNeTBahnG",
    "outputId": "85991269-f3de-4927-dae7-929663ceef28"
   },
   "outputs": [
    {
     "data": {
      "text/html": [
       "<div>\n",
       "<style scoped>\n",
       "    .dataframe tbody tr th:only-of-type {\n",
       "        vertical-align: middle;\n",
       "    }\n",
       "\n",
       "    .dataframe tbody tr th {\n",
       "        vertical-align: top;\n",
       "    }\n",
       "\n",
       "    .dataframe thead th {\n",
       "        text-align: right;\n",
       "    }\n",
       "</style>\n",
       "<table border=\"1\" class=\"dataframe\">\n",
       "  <thead>\n",
       "    <tr style=\"text-align: right;\">\n",
       "      <th></th>\n",
       "      <th></th>\n",
       "      <th>mean</th>\n",
       "      <th>std</th>\n",
       "    </tr>\n",
       "    <tr>\n",
       "      <th>max_depth</th>\n",
       "      <th>num_leaves</th>\n",
       "      <th></th>\n",
       "      <th></th>\n",
       "    </tr>\n",
       "  </thead>\n",
       "  <tbody>\n",
       "    <tr>\n",
       "      <th>max_depth_11</th>\n",
       "      <th>num_leaves_42</th>\n",
       "      <td>0.666713</td>\n",
       "      <td>0.001600</td>\n",
       "    </tr>\n",
       "    <tr>\n",
       "      <th>max_depth_12</th>\n",
       "      <th>num_leaves_42</th>\n",
       "      <td>0.666537</td>\n",
       "      <td>0.001698</td>\n",
       "    </tr>\n",
       "    <tr>\n",
       "      <th>max_depth_11</th>\n",
       "      <th>num_leaves_39</th>\n",
       "      <td>0.666408</td>\n",
       "      <td>0.001101</td>\n",
       "    </tr>\n",
       "    <tr>\n",
       "      <th>max_depth_10</th>\n",
       "      <th>num_leaves_39</th>\n",
       "      <td>0.666377</td>\n",
       "      <td>0.001615</td>\n",
       "    </tr>\n",
       "    <tr>\n",
       "      <th>max_depth_11</th>\n",
       "      <th>num_leaves_40</th>\n",
       "      <td>0.666353</td>\n",
       "      <td>0.001615</td>\n",
       "    </tr>\n",
       "    <tr>\n",
       "      <th>max_depth_10</th>\n",
       "      <th>num_leaves_40</th>\n",
       "      <td>0.666320</td>\n",
       "      <td>0.001737</td>\n",
       "    </tr>\n",
       "    <tr>\n",
       "      <th>max_depth_12</th>\n",
       "      <th>num_leaves_39</th>\n",
       "      <td>0.666272</td>\n",
       "      <td>0.001716</td>\n",
       "    </tr>\n",
       "    <tr>\n",
       "      <th>max_depth_11</th>\n",
       "      <th>num_leaves_41</th>\n",
       "      <td>0.666265</td>\n",
       "      <td>0.001678</td>\n",
       "    </tr>\n",
       "    <tr>\n",
       "      <th>max_depth_12</th>\n",
       "      <th>num_leaves_41</th>\n",
       "      <td>0.666226</td>\n",
       "      <td>0.001254</td>\n",
       "    </tr>\n",
       "    <tr>\n",
       "      <th rowspan=\"2\" valign=\"top\">max_depth_10</th>\n",
       "      <th>num_leaves_41</th>\n",
       "      <td>0.666222</td>\n",
       "      <td>0.001689</td>\n",
       "    </tr>\n",
       "    <tr>\n",
       "      <th>num_leaves_42</th>\n",
       "      <td>0.666178</td>\n",
       "      <td>0.001518</td>\n",
       "    </tr>\n",
       "    <tr>\n",
       "      <th>max_depth_12</th>\n",
       "      <th>num_leaves_40</th>\n",
       "      <td>0.666162</td>\n",
       "      <td>0.001476</td>\n",
       "    </tr>\n",
       "    <tr>\n",
       "      <th>max_depth_10</th>\n",
       "      <th>num_leaves_38</th>\n",
       "      <td>0.666130</td>\n",
       "      <td>0.001578</td>\n",
       "    </tr>\n",
       "    <tr>\n",
       "      <th>max_depth_11</th>\n",
       "      <th>num_leaves_38</th>\n",
       "      <td>0.666098</td>\n",
       "      <td>0.001267</td>\n",
       "    </tr>\n",
       "    <tr>\n",
       "      <th>max_depth_12</th>\n",
       "      <th>num_leaves_37</th>\n",
       "      <td>0.666090</td>\n",
       "      <td>0.001449</td>\n",
       "    </tr>\n",
       "    <tr>\n",
       "      <th>max_depth_10</th>\n",
       "      <th>num_leaves_37</th>\n",
       "      <td>0.666027</td>\n",
       "      <td>0.001584</td>\n",
       "    </tr>\n",
       "    <tr>\n",
       "      <th>max_depth_11</th>\n",
       "      <th>num_leaves_37</th>\n",
       "      <td>0.665818</td>\n",
       "      <td>0.001612</td>\n",
       "    </tr>\n",
       "    <tr>\n",
       "      <th>max_depth_12</th>\n",
       "      <th>num_leaves_38</th>\n",
       "      <td>0.665797</td>\n",
       "      <td>0.001240</td>\n",
       "    </tr>\n",
       "  </tbody>\n",
       "</table>\n",
       "</div>"
      ],
      "text/plain": [
       "                                mean       std\n",
       "max_depth    num_leaves                       \n",
       "max_depth_11 num_leaves_42  0.666713  0.001600\n",
       "max_depth_12 num_leaves_42  0.666537  0.001698\n",
       "max_depth_11 num_leaves_39  0.666408  0.001101\n",
       "max_depth_10 num_leaves_39  0.666377  0.001615\n",
       "max_depth_11 num_leaves_40  0.666353  0.001615\n",
       "max_depth_10 num_leaves_40  0.666320  0.001737\n",
       "max_depth_12 num_leaves_39  0.666272  0.001716\n",
       "max_depth_11 num_leaves_41  0.666265  0.001678\n",
       "max_depth_12 num_leaves_41  0.666226  0.001254\n",
       "max_depth_10 num_leaves_41  0.666222  0.001689\n",
       "             num_leaves_42  0.666178  0.001518\n",
       "max_depth_12 num_leaves_40  0.666162  0.001476\n",
       "max_depth_10 num_leaves_38  0.666130  0.001578\n",
       "max_depth_11 num_leaves_38  0.666098  0.001267\n",
       "max_depth_12 num_leaves_37  0.666090  0.001449\n",
       "max_depth_10 num_leaves_37  0.666027  0.001584\n",
       "max_depth_11 num_leaves_37  0.665818  0.001612\n",
       "max_depth_12 num_leaves_38  0.665797  0.001240"
      ]
     },
     "execution_count": 55,
     "metadata": {
      "tags": []
     },
     "output_type": "execute_result"
    }
   ],
   "source": [
    "validation_max_depth_num_leaves_df.sort_values(by=\"mean\",ascending=False)"
   ]
  }
 ],
 "metadata": {
  "colab": {
   "collapsed_sections": [],
   "name": "Final Model.ipynb",
   "provenance": []
  },
  "kernelspec": {
   "display_name": "Python 3 (ipykernel)",
   "language": "python",
   "name": "python3"
  },
  "language_info": {
   "codemirror_mode": {
    "name": "ipython",
    "version": 3
   },
   "file_extension": ".py",
   "mimetype": "text/x-python",
   "name": "python",
   "nbconvert_exporter": "python",
   "pygments_lexer": "ipython3",
   "version": "3.9.7"
  }
 },
 "nbformat": 4,
 "nbformat_minor": 1
}
