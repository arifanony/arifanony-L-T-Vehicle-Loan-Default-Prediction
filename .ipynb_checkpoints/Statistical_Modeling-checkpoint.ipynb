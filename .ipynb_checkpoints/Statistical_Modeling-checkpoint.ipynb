{
 "cells": [
  {
   "cell_type": "code",
   "execution_count": 1,
   "metadata": {},
   "outputs": [],
   "source": [
    "import numpy as np\n",
    "import pandas as pd\n",
    "import matplotlib.pyplot as plt\n",
    "import seaborn as sns\n",
    "color = sns.color_palette()\n",
    "%matplotlib inline\n",
    "\n",
    "from plotly import tools\n"
   ]
  },
  {
   "cell_type": "code",
   "execution_count": 2,
   "metadata": {},
   "outputs": [],
   "source": [
    "df=pd.read_csv(\"C:/Users/Arif/Desktop/l&t/train.csv\")"
   ]
  },
  {
   "cell_type": "code",
   "execution_count": 3,
   "metadata": {},
   "outputs": [],
   "source": [
    "pd.set_option(\"display.max_columns\",1000)"
   ]
  },
  {
   "cell_type": "code",
   "execution_count": 4,
   "metadata": {},
   "outputs": [
    {
     "data": {
      "text/html": [
       "<div>\n",
       "<style scoped>\n",
       "    .dataframe tbody tr th:only-of-type {\n",
       "        vertical-align: middle;\n",
       "    }\n",
       "\n",
       "    .dataframe tbody tr th {\n",
       "        vertical-align: top;\n",
       "    }\n",
       "\n",
       "    .dataframe thead th {\n",
       "        text-align: right;\n",
       "    }\n",
       "</style>\n",
       "<table border=\"1\" class=\"dataframe\">\n",
       "  <thead>\n",
       "    <tr style=\"text-align: right;\">\n",
       "      <th></th>\n",
       "      <th>UniqueID</th>\n",
       "      <th>disbursed_amount</th>\n",
       "      <th>asset_cost</th>\n",
       "      <th>ltv</th>\n",
       "      <th>branch_id</th>\n",
       "      <th>supplier_id</th>\n",
       "      <th>manufacturer_id</th>\n",
       "      <th>Current_pincode_ID</th>\n",
       "      <th>Date.of.Birth</th>\n",
       "      <th>Employment.Type</th>\n",
       "      <th>DisbursalDate</th>\n",
       "      <th>State_ID</th>\n",
       "      <th>Employee_code_ID</th>\n",
       "      <th>MobileNo_Avl_Flag</th>\n",
       "      <th>Aadhar_flag</th>\n",
       "      <th>PAN_flag</th>\n",
       "      <th>VoterID_flag</th>\n",
       "      <th>Driving_flag</th>\n",
       "      <th>Passport_flag</th>\n",
       "      <th>PERFORM_CNS.SCORE</th>\n",
       "      <th>PERFORM_CNS.SCORE.DESCRIPTION</th>\n",
       "      <th>PRI.NO.OF.ACCTS</th>\n",
       "      <th>PRI.ACTIVE.ACCTS</th>\n",
       "      <th>PRI.OVERDUE.ACCTS</th>\n",
       "      <th>PRI.CURRENT.BALANCE</th>\n",
       "      <th>PRI.SANCTIONED.AMOUNT</th>\n",
       "      <th>PRI.DISBURSED.AMOUNT</th>\n",
       "      <th>SEC.NO.OF.ACCTS</th>\n",
       "      <th>SEC.ACTIVE.ACCTS</th>\n",
       "      <th>SEC.OVERDUE.ACCTS</th>\n",
       "      <th>SEC.CURRENT.BALANCE</th>\n",
       "      <th>SEC.SANCTIONED.AMOUNT</th>\n",
       "      <th>SEC.DISBURSED.AMOUNT</th>\n",
       "      <th>PRIMARY.INSTAL.AMT</th>\n",
       "      <th>SEC.INSTAL.AMT</th>\n",
       "      <th>NEW.ACCTS.IN.LAST.SIX.MONTHS</th>\n",
       "      <th>DELINQUENT.ACCTS.IN.LAST.SIX.MONTHS</th>\n",
       "      <th>AVERAGE.ACCT.AGE</th>\n",
       "      <th>CREDIT.HISTORY.LENGTH</th>\n",
       "      <th>NO.OF_INQUIRIES</th>\n",
       "      <th>loan_default</th>\n",
       "    </tr>\n",
       "  </thead>\n",
       "  <tbody>\n",
       "    <tr>\n",
       "      <td>0</td>\n",
       "      <td>420825</td>\n",
       "      <td>50578</td>\n",
       "      <td>58400</td>\n",
       "      <td>89.55</td>\n",
       "      <td>67</td>\n",
       "      <td>22807</td>\n",
       "      <td>45</td>\n",
       "      <td>1441</td>\n",
       "      <td>01-01-84</td>\n",
       "      <td>Salaried</td>\n",
       "      <td>03-08-18</td>\n",
       "      <td>6</td>\n",
       "      <td>1998</td>\n",
       "      <td>1</td>\n",
       "      <td>1</td>\n",
       "      <td>0</td>\n",
       "      <td>0</td>\n",
       "      <td>0</td>\n",
       "      <td>0</td>\n",
       "      <td>0</td>\n",
       "      <td>No Bureau History Available</td>\n",
       "      <td>0</td>\n",
       "      <td>0</td>\n",
       "      <td>0</td>\n",
       "      <td>0</td>\n",
       "      <td>0</td>\n",
       "      <td>0</td>\n",
       "      <td>0</td>\n",
       "      <td>0</td>\n",
       "      <td>0</td>\n",
       "      <td>0</td>\n",
       "      <td>0</td>\n",
       "      <td>0</td>\n",
       "      <td>0</td>\n",
       "      <td>0</td>\n",
       "      <td>0</td>\n",
       "      <td>0</td>\n",
       "      <td>0yrs 0mon</td>\n",
       "      <td>0yrs 0mon</td>\n",
       "      <td>0</td>\n",
       "      <td>0</td>\n",
       "    </tr>\n",
       "    <tr>\n",
       "      <td>1</td>\n",
       "      <td>537409</td>\n",
       "      <td>47145</td>\n",
       "      <td>65550</td>\n",
       "      <td>73.23</td>\n",
       "      <td>67</td>\n",
       "      <td>22807</td>\n",
       "      <td>45</td>\n",
       "      <td>1502</td>\n",
       "      <td>31-07-85</td>\n",
       "      <td>Self employed</td>\n",
       "      <td>26-09-18</td>\n",
       "      <td>6</td>\n",
       "      <td>1998</td>\n",
       "      <td>1</td>\n",
       "      <td>1</td>\n",
       "      <td>0</td>\n",
       "      <td>0</td>\n",
       "      <td>0</td>\n",
       "      <td>0</td>\n",
       "      <td>598</td>\n",
       "      <td>I-Medium Risk</td>\n",
       "      <td>1</td>\n",
       "      <td>1</td>\n",
       "      <td>1</td>\n",
       "      <td>27600</td>\n",
       "      <td>50200</td>\n",
       "      <td>50200</td>\n",
       "      <td>0</td>\n",
       "      <td>0</td>\n",
       "      <td>0</td>\n",
       "      <td>0</td>\n",
       "      <td>0</td>\n",
       "      <td>0</td>\n",
       "      <td>1991</td>\n",
       "      <td>0</td>\n",
       "      <td>0</td>\n",
       "      <td>1</td>\n",
       "      <td>1yrs 11mon</td>\n",
       "      <td>1yrs 11mon</td>\n",
       "      <td>0</td>\n",
       "      <td>1</td>\n",
       "    </tr>\n",
       "    <tr>\n",
       "      <td>2</td>\n",
       "      <td>417566</td>\n",
       "      <td>53278</td>\n",
       "      <td>61360</td>\n",
       "      <td>89.63</td>\n",
       "      <td>67</td>\n",
       "      <td>22807</td>\n",
       "      <td>45</td>\n",
       "      <td>1497</td>\n",
       "      <td>24-08-85</td>\n",
       "      <td>Self employed</td>\n",
       "      <td>01-08-18</td>\n",
       "      <td>6</td>\n",
       "      <td>1998</td>\n",
       "      <td>1</td>\n",
       "      <td>1</td>\n",
       "      <td>0</td>\n",
       "      <td>0</td>\n",
       "      <td>0</td>\n",
       "      <td>0</td>\n",
       "      <td>0</td>\n",
       "      <td>No Bureau History Available</td>\n",
       "      <td>0</td>\n",
       "      <td>0</td>\n",
       "      <td>0</td>\n",
       "      <td>0</td>\n",
       "      <td>0</td>\n",
       "      <td>0</td>\n",
       "      <td>0</td>\n",
       "      <td>0</td>\n",
       "      <td>0</td>\n",
       "      <td>0</td>\n",
       "      <td>0</td>\n",
       "      <td>0</td>\n",
       "      <td>0</td>\n",
       "      <td>0</td>\n",
       "      <td>0</td>\n",
       "      <td>0</td>\n",
       "      <td>0yrs 0mon</td>\n",
       "      <td>0yrs 0mon</td>\n",
       "      <td>0</td>\n",
       "      <td>0</td>\n",
       "    </tr>\n",
       "    <tr>\n",
       "      <td>3</td>\n",
       "      <td>624493</td>\n",
       "      <td>57513</td>\n",
       "      <td>66113</td>\n",
       "      <td>88.48</td>\n",
       "      <td>67</td>\n",
       "      <td>22807</td>\n",
       "      <td>45</td>\n",
       "      <td>1501</td>\n",
       "      <td>30-12-93</td>\n",
       "      <td>Self employed</td>\n",
       "      <td>26-10-18</td>\n",
       "      <td>6</td>\n",
       "      <td>1998</td>\n",
       "      <td>1</td>\n",
       "      <td>1</td>\n",
       "      <td>0</td>\n",
       "      <td>0</td>\n",
       "      <td>0</td>\n",
       "      <td>0</td>\n",
       "      <td>305</td>\n",
       "      <td>L-Very High Risk</td>\n",
       "      <td>3</td>\n",
       "      <td>0</td>\n",
       "      <td>0</td>\n",
       "      <td>0</td>\n",
       "      <td>0</td>\n",
       "      <td>0</td>\n",
       "      <td>0</td>\n",
       "      <td>0</td>\n",
       "      <td>0</td>\n",
       "      <td>0</td>\n",
       "      <td>0</td>\n",
       "      <td>0</td>\n",
       "      <td>31</td>\n",
       "      <td>0</td>\n",
       "      <td>0</td>\n",
       "      <td>0</td>\n",
       "      <td>0yrs 8mon</td>\n",
       "      <td>1yrs 3mon</td>\n",
       "      <td>1</td>\n",
       "      <td>1</td>\n",
       "    </tr>\n",
       "    <tr>\n",
       "      <td>4</td>\n",
       "      <td>539055</td>\n",
       "      <td>52378</td>\n",
       "      <td>60300</td>\n",
       "      <td>88.39</td>\n",
       "      <td>67</td>\n",
       "      <td>22807</td>\n",
       "      <td>45</td>\n",
       "      <td>1495</td>\n",
       "      <td>09-12-77</td>\n",
       "      <td>Self employed</td>\n",
       "      <td>26-09-18</td>\n",
       "      <td>6</td>\n",
       "      <td>1998</td>\n",
       "      <td>1</td>\n",
       "      <td>1</td>\n",
       "      <td>0</td>\n",
       "      <td>0</td>\n",
       "      <td>0</td>\n",
       "      <td>0</td>\n",
       "      <td>0</td>\n",
       "      <td>No Bureau History Available</td>\n",
       "      <td>0</td>\n",
       "      <td>0</td>\n",
       "      <td>0</td>\n",
       "      <td>0</td>\n",
       "      <td>0</td>\n",
       "      <td>0</td>\n",
       "      <td>0</td>\n",
       "      <td>0</td>\n",
       "      <td>0</td>\n",
       "      <td>0</td>\n",
       "      <td>0</td>\n",
       "      <td>0</td>\n",
       "      <td>0</td>\n",
       "      <td>0</td>\n",
       "      <td>0</td>\n",
       "      <td>0</td>\n",
       "      <td>0yrs 0mon</td>\n",
       "      <td>0yrs 0mon</td>\n",
       "      <td>1</td>\n",
       "      <td>1</td>\n",
       "    </tr>\n",
       "  </tbody>\n",
       "</table>\n",
       "</div>"
      ],
      "text/plain": [
       "   UniqueID  disbursed_amount  asset_cost    ltv  branch_id  supplier_id  \\\n",
       "0    420825             50578       58400  89.55         67        22807   \n",
       "1    537409             47145       65550  73.23         67        22807   \n",
       "2    417566             53278       61360  89.63         67        22807   \n",
       "3    624493             57513       66113  88.48         67        22807   \n",
       "4    539055             52378       60300  88.39         67        22807   \n",
       "\n",
       "   manufacturer_id  Current_pincode_ID Date.of.Birth Employment.Type  \\\n",
       "0               45                1441      01-01-84        Salaried   \n",
       "1               45                1502      31-07-85   Self employed   \n",
       "2               45                1497      24-08-85   Self employed   \n",
       "3               45                1501      30-12-93   Self employed   \n",
       "4               45                1495      09-12-77   Self employed   \n",
       "\n",
       "  DisbursalDate  State_ID  Employee_code_ID  MobileNo_Avl_Flag  Aadhar_flag  \\\n",
       "0      03-08-18         6              1998                  1            1   \n",
       "1      26-09-18         6              1998                  1            1   \n",
       "2      01-08-18         6              1998                  1            1   \n",
       "3      26-10-18         6              1998                  1            1   \n",
       "4      26-09-18         6              1998                  1            1   \n",
       "\n",
       "   PAN_flag  VoterID_flag  Driving_flag  Passport_flag  PERFORM_CNS.SCORE  \\\n",
       "0         0             0             0              0                  0   \n",
       "1         0             0             0              0                598   \n",
       "2         0             0             0              0                  0   \n",
       "3         0             0             0              0                305   \n",
       "4         0             0             0              0                  0   \n",
       "\n",
       "  PERFORM_CNS.SCORE.DESCRIPTION  PRI.NO.OF.ACCTS  PRI.ACTIVE.ACCTS  \\\n",
       "0   No Bureau History Available                0                 0   \n",
       "1                 I-Medium Risk                1                 1   \n",
       "2   No Bureau History Available                0                 0   \n",
       "3              L-Very High Risk                3                 0   \n",
       "4   No Bureau History Available                0                 0   \n",
       "\n",
       "   PRI.OVERDUE.ACCTS  PRI.CURRENT.BALANCE  PRI.SANCTIONED.AMOUNT  \\\n",
       "0                  0                    0                      0   \n",
       "1                  1                27600                  50200   \n",
       "2                  0                    0                      0   \n",
       "3                  0                    0                      0   \n",
       "4                  0                    0                      0   \n",
       "\n",
       "   PRI.DISBURSED.AMOUNT  SEC.NO.OF.ACCTS  SEC.ACTIVE.ACCTS  SEC.OVERDUE.ACCTS  \\\n",
       "0                     0                0                 0                  0   \n",
       "1                 50200                0                 0                  0   \n",
       "2                     0                0                 0                  0   \n",
       "3                     0                0                 0                  0   \n",
       "4                     0                0                 0                  0   \n",
       "\n",
       "   SEC.CURRENT.BALANCE  SEC.SANCTIONED.AMOUNT  SEC.DISBURSED.AMOUNT  \\\n",
       "0                    0                      0                     0   \n",
       "1                    0                      0                     0   \n",
       "2                    0                      0                     0   \n",
       "3                    0                      0                     0   \n",
       "4                    0                      0                     0   \n",
       "\n",
       "   PRIMARY.INSTAL.AMT  SEC.INSTAL.AMT  NEW.ACCTS.IN.LAST.SIX.MONTHS  \\\n",
       "0                   0               0                             0   \n",
       "1                1991               0                             0   \n",
       "2                   0               0                             0   \n",
       "3                  31               0                             0   \n",
       "4                   0               0                             0   \n",
       "\n",
       "   DELINQUENT.ACCTS.IN.LAST.SIX.MONTHS AVERAGE.ACCT.AGE CREDIT.HISTORY.LENGTH  \\\n",
       "0                                    0        0yrs 0mon             0yrs 0mon   \n",
       "1                                    1       1yrs 11mon            1yrs 11mon   \n",
       "2                                    0        0yrs 0mon             0yrs 0mon   \n",
       "3                                    0        0yrs 8mon             1yrs 3mon   \n",
       "4                                    0        0yrs 0mon             0yrs 0mon   \n",
       "\n",
       "   NO.OF_INQUIRIES  loan_default  \n",
       "0                0             0  \n",
       "1                0             1  \n",
       "2                0             0  \n",
       "3                1             1  \n",
       "4                1             1  "
      ]
     },
     "execution_count": 4,
     "metadata": {},
     "output_type": "execute_result"
    }
   ],
   "source": [
    "df.head()"
   ]
  },
  {
   "cell_type": "code",
   "execution_count": 5,
   "metadata": {},
   "outputs": [
    {
     "data": {
      "text/plain": [
       "0    0.782929\n",
       "1    0.217071\n",
       "Name: loan_default, dtype: float64"
      ]
     },
     "execution_count": 5,
     "metadata": {},
     "output_type": "execute_result"
    }
   ],
   "source": [
    "df[\"loan_default\"].value_counts(normalize=True)"
   ]
  },
  {
   "cell_type": "code",
   "execution_count": 6,
   "metadata": {},
   "outputs": [
    {
     "data": {
      "text/plain": [
       "(233154, 41)"
      ]
     },
     "execution_count": 6,
     "metadata": {},
     "output_type": "execute_result"
    }
   ],
   "source": [
    "df.shape"
   ]
  },
  {
   "cell_type": "markdown",
   "metadata": {},
   "source": [
    "## Disbursed Amount"
   ]
  },
  {
   "cell_type": "code",
   "execution_count": 7,
   "metadata": {},
   "outputs": [
    {
     "data": {
      "text/plain": [
       "count    233154.000000\n",
       "mean      54356.993528\n",
       "std       12971.314171\n",
       "min       13320.000000\n",
       "25%       47145.000000\n",
       "50%       53803.000000\n",
       "75%       60413.000000\n",
       "max      990572.000000\n",
       "Name: disbursed_amount, dtype: float64"
      ]
     },
     "execution_count": 7,
     "metadata": {},
     "output_type": "execute_result"
    }
   ],
   "source": [
    "df[\"disbursed_amount\"].describe()"
   ]
  },
  {
   "cell_type": "code",
   "execution_count": 8,
   "metadata": {},
   "outputs": [
    {
     "data": {
      "text/plain": [
       "<matplotlib.axes._subplots.AxesSubplot at 0x1f1bacc4208>"
      ]
     },
     "execution_count": 8,
     "metadata": {},
     "output_type": "execute_result"
    },
    {
     "data": {
      "image/png": "[encoded data removed]",
      "text/plain": [
       "<Figure size 432x288 with 1 Axes>"
      ]
     },
     "metadata": {
      "needs_background": "light"
     },
     "output_type": "display_data"
    }
   ],
   "source": [
    "sns.distplot(df[df[\"loan_default\"]==0][\"disbursed_amount\"])\n",
    "sns.distplot(df[df[\"loan_default\"]==1][\"disbursed_amount\"])"
   ]
  },
  {
   "cell_type": "code",
   "execution_count": 9,
   "metadata": {},
   "outputs": [
    {
     "data": {
      "image/png": "[encoded data removed]",
      "text/plain": [
       "<Figure size 864x432 with 2 Axes>"
      ]
     },
     "metadata": {
      "needs_background": "light"
     },
     "output_type": "display_data"
    }
   ],
   "source": [
    "fig,ax=plt.subplots(1,2,figsize=(12,6))\n",
    "sns.distplot(df[\"disbursed_amount\"],ax=ax[0])\n",
    "sns.boxplot(df[\"disbursed_amount\"],ax=ax[1])\n",
    "plt.setp(ax[0].xaxis.get_majorticklabels(), rotation=45)\n",
    "plt.setp(ax[1].xaxis.get_majorticklabels(), rotation=45)\n",
    "plt.show()"
   ]
  },
  {
   "cell_type": "code",
   "execution_count": 10,
   "metadata": {},
   "outputs": [
    {
     "data": {
      "text/plain": [
       "<matplotlib.axes._subplots.AxesSubplot at 0x1f1ba48bf48>"
      ]
     },
     "execution_count": 10,
     "metadata": {},
     "output_type": "execute_result"
    },
    {
     "data": {
      "image/png": "[encoded data removed]",
      "text/plain": [
       "<Figure size 432x288 with 1 Axes>"
      ]
     },
     "metadata": {
      "needs_background": "light"
     },
     "output_type": "display_data"
    }
   ],
   "source": [
    "sns.boxplot(x=df[\"loan_default\"],y=df[\"disbursed_amount\"])"
   ]
  },
  {
   "cell_type": "code",
   "execution_count": 11,
   "metadata": {},
   "outputs": [
    {
     "name": "stdout",
     "output_type": "stream",
     "text": [
      "4.4922396638902455\n"
     ]
    }
   ],
   "source": [
    "print(df[\"disbursed_amount\"].skew())"
   ]
  },
  {
   "cell_type": "code",
   "execution_count": 12,
   "metadata": {},
   "outputs": [
    {
     "name": "stdout",
     "output_type": "stream",
     "text": [
      "249.9892735051841\n"
     ]
    }
   ],
   "source": [
    "print(df[\"disbursed_amount\"].kurt())"
   ]
  },
  {
   "cell_type": "raw",
   "metadata": {},
   "source": [
    "Most of the data are close towards the center as mean and median are almost identical."
   ]
  },
  {
   "cell_type": "code",
   "execution_count": 13,
   "metadata": {},
   "outputs": [],
   "source": [
    "from scipy.stats import f_oneway"
   ]
  },
  {
   "cell_type": "code",
   "execution_count": 14,
   "metadata": {},
   "outputs": [
    {
     "data": {
      "text/plain": [
       "F_onewayResult(statistic=4094324.885317873, pvalue=0.0)"
      ]
     },
     "execution_count": 14,
     "metadata": {},
     "output_type": "execute_result"
    }
   ],
   "source": [
    "f_oneway(df[\"loan_default\"],df[\"disbursed_amount\"])"
   ]
  },
  {
   "cell_type": "markdown",
   "metadata": {},
   "source": [
    "p-value less than .05 it failed to reject the null hypothesis which shows it is significant variable in spitting target variable."
   ]
  },
  {
   "cell_type": "markdown",
   "metadata": {},
   "source": [
    "## Loan to value ratio"
   ]
  },
  {
   "cell_type": "code",
   "execution_count": 15,
   "metadata": {},
   "outputs": [],
   "source": [
    "loan_0=df[df[\"loan_default\"]==0]\n",
    "loan_1=df[df[\"loan_default\"]==1]"
   ]
  },
  {
   "cell_type": "code",
   "execution_count": 16,
   "metadata": {},
   "outputs": [
    {
     "data": {
      "image/png": "[encoded data removed]",
      "text/plain": [
       "<Figure size 432x288 with 1 Axes>"
      ]
     },
     "metadata": {
      "needs_background": "light"
     },
     "output_type": "display_data"
    }
   ],
   "source": [
    "sns.distplot(loan_0[\"ltv\"])\n",
    "sns.distplot(loan_1[\"ltv\"])\n",
    "plt.legend([0,1])\n",
    "plt.show()"
   ]
  },
  {
   "cell_type": "code",
   "execution_count": 17,
   "metadata": {},
   "outputs": [
    {
     "data": {
      "text/plain": [
       "<matplotlib.axes._subplots.AxesSubplot at 0x1f1bacc60c8>"
      ]
     },
     "execution_count": 17,
     "metadata": {},
     "output_type": "execute_result"
    },
    {
     "data": {
      "image/png": "[encoded data removed]",
      "text/plain": [
       "<Figure size 432x288 with 1 Axes>"
      ]
     },
     "metadata": {
      "needs_background": "light"
     },
     "output_type": "display_data"
    }
   ],
   "source": [
    "sns.boxplot(x=df[\"loan_default\"],y=df[\"ltv\"])"
   ]
  },
  {
   "cell_type": "markdown",
   "metadata": {},
   "source": [
    "Higher the ltv,There are chances of getting defaulted."
   ]
  },
  {
   "cell_type": "markdown",
   "metadata": {},
   "source": [
    "### H0:Mean_of_0==Mean_of_1 \n",
    "### H1:Mean_of_0!=Mean_of_1"
   ]
  },
  {
   "cell_type": "code",
   "execution_count": 18,
   "metadata": {},
   "outputs": [],
   "source": [
    "from scipy.stats import ttest_ind"
   ]
  },
  {
   "cell_type": "code",
   "execution_count": 19,
   "metadata": {},
   "outputs": [
    {
     "data": {
      "text/plain": [
       "Ttest_indResult(statistic=-47.65077542766104, pvalue=0.0)"
      ]
     },
     "execution_count": 19,
     "metadata": {},
     "output_type": "execute_result"
    }
   ],
   "source": [
    "ttest_ind(loan_0[\"ltv\"],loan_1[\"ltv\"])"
   ]
  },
  {
   "cell_type": "markdown",
   "metadata": {},
   "source": [
    " p-value less than .05 it failed to reject the null hypothesis which shows it is significant variable in spitting target variable."
   ]
  },
  {
   "cell_type": "markdown",
   "metadata": {},
   "source": [
    "## asset_cost"
   ]
  },
  {
   "cell_type": "markdown",
   "metadata": {},
   "source": [
    "This is the orginal price of the vehicle from which depreceated value can be calculated over the course of its useful life "
   ]
  },
  {
   "cell_type": "code",
   "execution_count": 20,
   "metadata": {},
   "outputs": [
    {
     "data": {
      "text/plain": [
       "count    2.331540e+05\n",
       "mean     7.586507e+04\n",
       "std      1.894478e+04\n",
       "min      3.700000e+04\n",
       "25%      6.571700e+04\n",
       "50%      7.094600e+04\n",
       "75%      7.920175e+04\n",
       "max      1.628992e+06\n",
       "Name: asset_cost, dtype: float64"
      ]
     },
     "execution_count": 20,
     "metadata": {},
     "output_type": "execute_result"
    }
   ],
   "source": [
    "df[\"asset_cost\"].describe()"
   ]
  },
  {
   "cell_type": "code",
   "execution_count": 21,
   "metadata": {},
   "outputs": [
    {
     "name": "stdout",
     "output_type": "stream",
     "text": [
      "6.133485335511084\n"
     ]
    }
   ],
   "source": [
    "print(df[\"asset_cost\"].skew())"
   ]
  },
  {
   "cell_type": "code",
   "execution_count": 22,
   "metadata": {},
   "outputs": [
    {
     "name": "stdout",
     "output_type": "stream",
     "text": [
      "291.49393926915474\n"
     ]
    }
   ],
   "source": [
    "print(df[\"asset_cost\"].kurt())"
   ]
  },
  {
   "cell_type": "code",
   "execution_count": 23,
   "metadata": {},
   "outputs": [
    {
     "data": {
      "image/png": "[encoded data removed]",
      "text/plain": [
       "<Figure size 432x288 with 1 Axes>"
      ]
     },
     "metadata": {
      "needs_background": "light"
     },
     "output_type": "display_data"
    }
   ],
   "source": [
    "sns.scatterplot(df[\"disbursed_amount\"],df[\"asset_cost\"])\n",
    "plt.show()"
   ]
  },
  {
   "cell_type": "code",
   "execution_count": 24,
   "metadata": {},
   "outputs": [
    {
     "data": {
      "text/html": [
       "<div>\n",
       "<style scoped>\n",
       "    .dataframe tbody tr th:only-of-type {\n",
       "        vertical-align: middle;\n",
       "    }\n",
       "\n",
       "    .dataframe tbody tr th {\n",
       "        vertical-align: top;\n",
       "    }\n",
       "\n",
       "    .dataframe thead th {\n",
       "        text-align: right;\n",
       "    }\n",
       "</style>\n",
       "<table border=\"1\" class=\"dataframe\">\n",
       "  <thead>\n",
       "    <tr style=\"text-align: right;\">\n",
       "      <th></th>\n",
       "      <th>disbursed_amount</th>\n",
       "      <th>asset_cost</th>\n",
       "    </tr>\n",
       "  </thead>\n",
       "  <tbody>\n",
       "    <tr>\n",
       "      <td>disbursed_amount</td>\n",
       "      <td>1.000000</td>\n",
       "      <td>0.752668</td>\n",
       "    </tr>\n",
       "    <tr>\n",
       "      <td>asset_cost</td>\n",
       "      <td>0.752668</td>\n",
       "      <td>1.000000</td>\n",
       "    </tr>\n",
       "  </tbody>\n",
       "</table>\n",
       "</div>"
      ],
      "text/plain": [
       "                  disbursed_amount  asset_cost\n",
       "disbursed_amount          1.000000    0.752668\n",
       "asset_cost                0.752668    1.000000"
      ]
     },
     "execution_count": 24,
     "metadata": {},
     "output_type": "execute_result"
    }
   ],
   "source": [
    "df[[\"disbursed_amount\",\"asset_cost\"]].corr()"
   ]
  },
  {
   "cell_type": "markdown",
   "metadata": {},
   "source": [
    "Disbursed amount and asset cost seems to be positively correlated which is seen in both scatterplot as well as in correlation table."
   ]
  },
  {
   "cell_type": "markdown",
   "metadata": {},
   "source": [
    "### H0:Mean_of_0==Mean_of_1 \n",
    "### H1:Mean_of_0!=Mean_of_1"
   ]
  },
  {
   "cell_type": "code",
   "execution_count": 25,
   "metadata": {},
   "outputs": [
    {
     "data": {
      "text/plain": [
       "Ttest_indResult(statistic=-6.886906209368185, pvalue=5.716223071536896e-12)"
      ]
     },
     "execution_count": 25,
     "metadata": {},
     "output_type": "execute_result"
    }
   ],
   "source": [
    "ttest_ind(loan_0[\"asset_cost\"],loan_1[\"asset_cost\"])"
   ]
  },
  {
   "cell_type": "code",
   "execution_count": 26,
   "metadata": {},
   "outputs": [
    {
     "data": {
      "text/plain": [
       "loan_default\n",
       "0    75722.806128\n",
       "1    76378.176661\n",
       "Name: asset_cost, dtype: float64"
      ]
     },
     "execution_count": 26,
     "metadata": {},
     "output_type": "execute_result"
    }
   ],
   "source": [
    "df.groupby(\"loan_default\").mean()[\"asset_cost\"]"
   ]
  },
  {
   "cell_type": "markdown",
   "metadata": {},
   "source": [
    "p-value less than .05 it failed to reject the null hypothesis which shows it is significant variable in spitting target variable."
   ]
  },
  {
   "cell_type": "markdown",
   "metadata": {},
   "source": [
    "### Branch_id"
   ]
  },
  {
   "cell_type": "code",
   "execution_count": 27,
   "metadata": {},
   "outputs": [
    {
     "data": {
      "text/plain": [
       "82"
      ]
     },
     "execution_count": 27,
     "metadata": {},
     "output_type": "execute_result"
    }
   ],
   "source": [
    "df[\"branch_id\"].nunique()"
   ]
  },
  {
   "cell_type": "code",
   "execution_count": 28,
   "metadata": {},
   "outputs": [],
   "source": [
    "#comparison with target variable:\n",
    "com_df=pd.crosstab(df[\"branch_id\"],df[\"loan_default\"],normalize=\"index\")"
   ]
  },
  {
   "cell_type": "code",
   "execution_count": 29,
   "metadata": {},
   "outputs": [
    {
     "data": {
      "text/html": [
       "<div>\n",
       "<style scoped>\n",
       "    .dataframe tbody tr th:only-of-type {\n",
       "        vertical-align: middle;\n",
       "    }\n",
       "\n",
       "    .dataframe tbody tr th {\n",
       "        vertical-align: top;\n",
       "    }\n",
       "\n",
       "    .dataframe thead th {\n",
       "        text-align: right;\n",
       "    }\n",
       "</style>\n",
       "<table border=\"1\" class=\"dataframe\">\n",
       "  <thead>\n",
       "    <tr style=\"text-align: right;\">\n",
       "      <th>loan_default</th>\n",
       "      <th>0</th>\n",
       "      <th>1</th>\n",
       "    </tr>\n",
       "    <tr>\n",
       "      <th>branch_id</th>\n",
       "      <th></th>\n",
       "      <th></th>\n",
       "    </tr>\n",
       "  </thead>\n",
       "  <tbody>\n",
       "    <tr>\n",
       "      <td>251</td>\n",
       "      <td>0.656087</td>\n",
       "      <td>0.343913</td>\n",
       "    </tr>\n",
       "    <tr>\n",
       "      <td>254</td>\n",
       "      <td>0.675692</td>\n",
       "      <td>0.324308</td>\n",
       "    </tr>\n",
       "    <tr>\n",
       "      <td>97</td>\n",
       "      <td>0.686375</td>\n",
       "      <td>0.313625</td>\n",
       "    </tr>\n",
       "    <tr>\n",
       "      <td>36</td>\n",
       "      <td>0.703238</td>\n",
       "      <td>0.296762</td>\n",
       "    </tr>\n",
       "    <tr>\n",
       "      <td>78</td>\n",
       "      <td>0.708524</td>\n",
       "      <td>0.291476</td>\n",
       "    </tr>\n",
       "    <tr>\n",
       "      <td>...</td>\n",
       "      <td>...</td>\n",
       "      <td>...</td>\n",
       "    </tr>\n",
       "    <tr>\n",
       "      <td>100</td>\n",
       "      <td>0.842900</td>\n",
       "      <td>0.157100</td>\n",
       "    </tr>\n",
       "    <tr>\n",
       "      <td>1</td>\n",
       "      <td>0.850587</td>\n",
       "      <td>0.149413</td>\n",
       "    </tr>\n",
       "    <tr>\n",
       "      <td>17</td>\n",
       "      <td>0.852586</td>\n",
       "      <td>0.147414</td>\n",
       "    </tr>\n",
       "    <tr>\n",
       "      <td>8</td>\n",
       "      <td>0.863001</td>\n",
       "      <td>0.136999</td>\n",
       "    </tr>\n",
       "    <tr>\n",
       "      <td>152</td>\n",
       "      <td>0.866613</td>\n",
       "      <td>0.133387</td>\n",
       "    </tr>\n",
       "  </tbody>\n",
       "</table>\n",
       "<p>82 rows × 2 columns</p>\n",
       "</div>"
      ],
      "text/plain": [
       "loan_default         0         1\n",
       "branch_id                       \n",
       "251           0.656087  0.343913\n",
       "254           0.675692  0.324308\n",
       "97            0.686375  0.313625\n",
       "36            0.703238  0.296762\n",
       "78            0.708524  0.291476\n",
       "...                ...       ...\n",
       "100           0.842900  0.157100\n",
       "1             0.850587  0.149413\n",
       "17            0.852586  0.147414\n",
       "8             0.863001  0.136999\n",
       "152           0.866613  0.133387\n",
       "\n",
       "[82 rows x 2 columns]"
      ]
     },
     "execution_count": 29,
     "metadata": {},
     "output_type": "execute_result"
    }
   ],
   "source": [
    "com_df.sort_values(1,ascending=False)"
   ]
  },
  {
   "cell_type": "code",
   "execution_count": 30,
   "metadata": {},
   "outputs": [
    {
     "data": {
      "image/png": "[encoded data removed]",
      "text/plain": [
       "<Figure size 864x432 with 1 Axes>"
      ]
     },
     "metadata": {
      "needs_background": "light"
     },
     "output_type": "display_data"
    }
   ],
   "source": [
    "#plt.figure(figsize=(14,7))\n",
    "com_df.sort_values(1,ascending=False)[:15].plot.bar(figsize=(12,6))\n",
    "plt.show()"
   ]
  },
  {
   "cell_type": "markdown",
   "metadata": {},
   "source": [
    " These branches have highest number of defaulters`"
   ]
  },
  {
   "cell_type": "markdown",
   "metadata": {},
   "source": [
    "### H0-There is no siginificant relationship between the branches and no_of_defaulters\n",
    "### H1-There is  siginificant relationship between the branches and no_of_defaulters"
   ]
  },
  {
   "cell_type": "code",
   "execution_count": 31,
   "metadata": {},
   "outputs": [],
   "source": [
    "from scipy.stats import chi2_contingency"
   ]
  },
  {
   "cell_type": "code",
   "execution_count": 32,
   "metadata": {},
   "outputs": [],
   "source": [
    "conti_table=pd.crosstab(df[\"branch_id\"],df[\"loan_default\"])"
   ]
  },
  {
   "cell_type": "code",
   "execution_count": 33,
   "metadata": {},
   "outputs": [],
   "source": [
    "chi_2,p_value,dof,exp=chi2_contingency(conti_table)"
   ]
  },
  {
   "cell_type": "code",
   "execution_count": 34,
   "metadata": {},
   "outputs": [
    {
     "name": "stdout",
     "output_type": "stream",
     "text": [
      "chi_2- 2930.842784292354 p_value- 0.0\n"
     ]
    }
   ],
   "source": [
    "print(\"chi_2-\",chi_2,\"p_value-\",p_value)"
   ]
  },
  {
   "cell_type": "markdown",
   "metadata": {},
   "source": [
    "P_value less than .05 which rejects null hypotheis in favour of alternate hypothesis.There is significant relationship between the branches and no_of_defaulters."
   ]
  },
  {
   "cell_type": "markdown",
   "metadata": {},
   "source": [
    "### manufacturer_id"
   ]
  },
  {
   "cell_type": "code",
   "execution_count": 35,
   "metadata": {},
   "outputs": [
    {
     "data": {
      "text/plain": [
       "11"
      ]
     },
     "execution_count": 35,
     "metadata": {},
     "output_type": "execute_result"
    }
   ],
   "source": [
    "df[\"manufacturer_id\"].nunique()"
   ]
  },
  {
   "cell_type": "code",
   "execution_count": 36,
   "metadata": {},
   "outputs": [],
   "source": [
    "#comparison with target variable:\n",
    "com_df=pd.crosstab(df[\"manufacturer_id\"],df[\"loan_default\"],normalize=\"index\")"
   ]
  },
  {
   "cell_type": "code",
   "execution_count": 37,
   "metadata": {},
   "outputs": [
    {
     "data": {
      "text/html": [
       "<div>\n",
       "<style scoped>\n",
       "    .dataframe tbody tr th:only-of-type {\n",
       "        vertical-align: middle;\n",
       "    }\n",
       "\n",
       "    .dataframe tbody tr th {\n",
       "        vertical-align: top;\n",
       "    }\n",
       "\n",
       "    .dataframe thead th {\n",
       "        text-align: right;\n",
       "    }\n",
       "</style>\n",
       "<table border=\"1\" class=\"dataframe\">\n",
       "  <thead>\n",
       "    <tr style=\"text-align: right;\">\n",
       "      <th>loan_default</th>\n",
       "      <th>0</th>\n",
       "      <th>1</th>\n",
       "    </tr>\n",
       "    <tr>\n",
       "      <th>manufacturer_id</th>\n",
       "      <th></th>\n",
       "      <th></th>\n",
       "    </tr>\n",
       "  </thead>\n",
       "  <tbody>\n",
       "    <tr>\n",
       "      <td>153</td>\n",
       "      <td>0.666667</td>\n",
       "      <td>0.333333</td>\n",
       "    </tr>\n",
       "    <tr>\n",
       "      <td>48</td>\n",
       "      <td>0.727469</td>\n",
       "      <td>0.272531</td>\n",
       "    </tr>\n",
       "    <tr>\n",
       "      <td>45</td>\n",
       "      <td>0.771501</td>\n",
       "      <td>0.228499</td>\n",
       "    </tr>\n",
       "    <tr>\n",
       "      <td>120</td>\n",
       "      <td>0.779250</td>\n",
       "      <td>0.220750</td>\n",
       "    </tr>\n",
       "    <tr>\n",
       "      <td>49</td>\n",
       "      <td>0.781213</td>\n",
       "      <td>0.218787</td>\n",
       "    </tr>\n",
       "    <tr>\n",
       "      <td>67</td>\n",
       "      <td>0.782536</td>\n",
       "      <td>0.217464</td>\n",
       "    </tr>\n",
       "    <tr>\n",
       "      <td>51</td>\n",
       "      <td>0.792053</td>\n",
       "      <td>0.207947</td>\n",
       "    </tr>\n",
       "    <tr>\n",
       "      <td>86</td>\n",
       "      <td>0.795406</td>\n",
       "      <td>0.204594</td>\n",
       "    </tr>\n",
       "    <tr>\n",
       "      <td>145</td>\n",
       "      <td>0.799486</td>\n",
       "      <td>0.200514</td>\n",
       "    </tr>\n",
       "    <tr>\n",
       "      <td>152</td>\n",
       "      <td>1.000000</td>\n",
       "      <td>0.000000</td>\n",
       "    </tr>\n",
       "    <tr>\n",
       "      <td>156</td>\n",
       "      <td>1.000000</td>\n",
       "      <td>0.000000</td>\n",
       "    </tr>\n",
       "  </tbody>\n",
       "</table>\n",
       "</div>"
      ],
      "text/plain": [
       "loan_default            0         1\n",
       "manufacturer_id                    \n",
       "153              0.666667  0.333333\n",
       "48               0.727469  0.272531\n",
       "45               0.771501  0.228499\n",
       "120              0.779250  0.220750\n",
       "49               0.781213  0.218787\n",
       "67               0.782536  0.217464\n",
       "51               0.792053  0.207947\n",
       "86               0.795406  0.204594\n",
       "145              0.799486  0.200514\n",
       "152              1.000000  0.000000\n",
       "156              1.000000  0.000000"
      ]
     },
     "execution_count": 37,
     "metadata": {},
     "output_type": "execute_result"
    }
   ],
   "source": [
    "com_df.sort_values(1,ascending=False)"
   ]
  },
  {
   "cell_type": "code",
   "execution_count": 38,
   "metadata": {},
   "outputs": [
    {
     "data": {
      "text/plain": [
       "<matplotlib.axes._subplots.AxesSubplot at 0x1f1ba90bd08>"
      ]
     },
     "execution_count": 38,
     "metadata": {},
     "output_type": "execute_result"
    },
    {
     "data": {
      "image/png": "[encoded data removed]",
      "text/plain": [
       "<Figure size 864x432 with 1 Axes>"
      ]
     },
     "metadata": {
      "needs_background": "light"
     },
     "output_type": "display_data"
    }
   ],
   "source": [
    "df[\"manufacturer_id\"].value_counts().plot.bar(figsize=(12,6))"
   ]
  },
  {
   "cell_type": "markdown",
   "metadata": {},
   "source": [
    "Top 2 players in this market seems to have huge market share with them"
   ]
  },
  {
   "cell_type": "markdown",
   "metadata": {},
   "source": [
    "### H0-There is no siginificant relationship between the manufacturer and no_of_defaulters\n",
    "### H1-There is  siginificant relationship between the manufacturer and no_of_defaulters"
   ]
  },
  {
   "cell_type": "code",
   "execution_count": 39,
   "metadata": {},
   "outputs": [],
   "source": [
    "from scipy.stats import chi2_contingency"
   ]
  },
  {
   "cell_type": "code",
   "execution_count": 40,
   "metadata": {},
   "outputs": [],
   "source": [
    "conti_table=pd.crosstab(df[\"manufacturer_id\"],df[\"loan_default\"])"
   ]
  },
  {
   "cell_type": "code",
   "execution_count": 41,
   "metadata": {},
   "outputs": [],
   "source": [
    "chi_2,p_value,dof,exp=chi2_contingency(conti_table)"
   ]
  },
  {
   "cell_type": "code",
   "execution_count": 42,
   "metadata": {},
   "outputs": [
    {
     "name": "stdout",
     "output_type": "stream",
     "text": [
      "chi_2- 464.69764016358414 p_value- 1.5277380091688753e-93\n"
     ]
    }
   ],
   "source": [
    "print(\"chi_2-\",chi_2,\"p_value-\",p_value)"
   ]
  },
  {
   "cell_type": "markdown",
   "metadata": {},
   "source": [
    "P_value less than .05 which rejects null hypotheis in favour of alternate hypothesis.There is significant relationship between the manufactuers and no_of_defaulters."
   ]
  },
  {
   "cell_type": "markdown",
   "metadata": {},
   "source": [
    "### Current_pincode_ID"
   ]
  },
  {
   "cell_type": "code",
   "execution_count": 43,
   "metadata": {},
   "outputs": [
    {
     "data": {
      "text/plain": [
       "6698"
      ]
     },
     "execution_count": 43,
     "metadata": {},
     "output_type": "execute_result"
    }
   ],
   "source": [
    "df[\"Current_pincode_ID\"].nunique()"
   ]
  },
  {
   "cell_type": "code",
   "execution_count": 44,
   "metadata": {},
   "outputs": [
    {
     "data": {
      "text/plain": [
       "<matplotlib.axes._subplots.AxesSubplot at 0x1f1baf06ac8>"
      ]
     },
     "execution_count": 44,
     "metadata": {},
     "output_type": "execute_result"
    },
    {
     "data": {
      "image/png": "[encoded data removed]",
      "text/plain": [
       "<Figure size 864x432 with 1 Axes>"
      ]
     },
     "metadata": {
      "needs_background": "light"
     },
     "output_type": "display_data"
    }
   ],
   "source": [
    "df[\"Current_pincode_ID\"].value_counts()[:15].plot.bar(figsize=(12,6))"
   ]
  },
  {
   "cell_type": "markdown",
   "metadata": {},
   "source": [
    "### H0-There is no siginificant relationship between the Pincodes and no_of_defaulters\n",
    "### H1-There is  siginificant relationship between the Pincodes and no_of_defaulters"
   ]
  },
  {
   "cell_type": "code",
   "execution_count": 45,
   "metadata": {},
   "outputs": [],
   "source": [
    "from scipy.stats import chi2_contingency"
   ]
  },
  {
   "cell_type": "code",
   "execution_count": 46,
   "metadata": {},
   "outputs": [],
   "source": [
    "conti_table=pd.crosstab(df[\"Current_pincode_ID\"],df[\"loan_default\"])"
   ]
  },
  {
   "cell_type": "code",
   "execution_count": 47,
   "metadata": {},
   "outputs": [],
   "source": [
    "chi_2,p_value,dof,exp=chi2_contingency(conti_table)"
   ]
  },
  {
   "cell_type": "code",
   "execution_count": 48,
   "metadata": {},
   "outputs": [
    {
     "name": "stdout",
     "output_type": "stream",
     "text": [
      "chi_2- 12702.76993331368 p_value- 0.0\n"
     ]
    }
   ],
   "source": [
    "print(\"chi_2-\",chi_2,\"p_value-\",p_value)"
   ]
  },
  {
   "cell_type": "markdown",
   "metadata": {},
   "source": [
    "P_value less than .05 which rejects null hypotheis in favour of alternate hypothesis.There is significant relationship between the Current pincode and no_of_defaulters."
   ]
  },
  {
   "cell_type": "markdown",
   "metadata": {},
   "source": [
    "## Date_of_Birth and Disbursal Date"
   ]
  },
  {
   "cell_type": "code",
   "execution_count": 49,
   "metadata": {},
   "outputs": [
    {
     "data": {
      "text/plain": [
       "'26-09-18'"
      ]
     },
     "execution_count": 49,
     "metadata": {},
     "output_type": "execute_result"
    }
   ],
   "source": [
    "df[\"DisbursalDate\"][1]"
   ]
  },
  {
   "cell_type": "code",
   "execution_count": 50,
   "metadata": {},
   "outputs": [],
   "source": [
    "def calcAge(x):\n",
    "    year = int(x.split('-')[2])\n",
    "    if(year<=19):\n",
    "        age = 20-year\n",
    "    else:\n",
    "        age = 100 + (20-year)\n",
    "    return age\n",
    "\n",
    "df['Age_at_time_of_disbursement']=df['Date.of.Birth'].apply(calcAge)"
   ]
  },
  {
   "cell_type": "code",
   "execution_count": 51,
   "metadata": {},
   "outputs": [
    {
     "data": {
      "image/png": "[encoded data removed]",
      "text/plain": [
       "<Figure size 432x288 with 1 Axes>"
      ]
     },
     "metadata": {
      "needs_background": "light"
     },
     "output_type": "display_data"
    }
   ],
   "source": [
    "sns.distplot(df[\"Age_at_time_of_disbursement\"])\n",
    "plt.show()"
   ]
  },
  {
   "cell_type": "code",
   "execution_count": 52,
   "metadata": {},
   "outputs": [
    {
     "data": {
      "image/png": "[encoded data removed]",
      "text/plain": [
       "<Figure size 864x432 with 2 Axes>"
      ]
     },
     "metadata": {
      "needs_background": "light"
     },
     "output_type": "display_data"
    }
   ],
   "source": [
    "fig,ax=plt.subplots(1,2,figsize=(12,6))\n",
    "sns.distplot(df[\"Age_at_time_of_disbursement\"],ax=ax[0])\n",
    "sns.boxplot(df[\"Age_at_time_of_disbursement\"],ax=ax[1])\n",
    "plt.setp(ax[0].xaxis.get_majorticklabels(), rotation=45)\n",
    "plt.setp(ax[1].xaxis.get_majorticklabels(), rotation=45)\n",
    "plt.show()"
   ]
  },
  {
   "cell_type": "code",
   "execution_count": 53,
   "metadata": {},
   "outputs": [
    {
     "data": {
      "text/plain": [
       "<matplotlib.axes._subplots.AxesSubplot at 0x1f1bc757888>"
      ]
     },
     "execution_count": 53,
     "metadata": {},
     "output_type": "execute_result"
    },
    {
     "data": {
      "image/png": "[encoded data removed]",
      "text/plain": [
       "<Figure size 432x288 with 1 Axes>"
      ]
     },
     "metadata": {
      "needs_background": "light"
     },
     "output_type": "display_data"
    }
   ],
   "source": [
    "sns.boxplot(x=df[\"loan_default\"],y=df[\"Age_at_time_of_disbursement\"])"
   ]
  },
  {
   "cell_type": "markdown",
   "metadata": {},
   "source": [
    "### Both have same characteristic from the distplot.Let's do statistical test."
   ]
  },
  {
   "cell_type": "code",
   "execution_count": 54,
   "metadata": {},
   "outputs": [],
   "source": [
    "from scipy.stats import ttest_ind"
   ]
  },
  {
   "cell_type": "code",
   "execution_count": 55,
   "metadata": {},
   "outputs": [],
   "source": [
    "age_of_0=df[df[\"loan_default\"]==0][\"Age_at_time_of_disbursement\"]\n",
    "age_of_1=df[df[\"loan_default\"]==1][\"Age_at_time_of_disbursement\"]"
   ]
  },
  {
   "cell_type": "markdown",
   "metadata": {},
   "source": [
    "### H0:mean_age_of_non_defaulters==mean_age_of_non_defaulters\n",
    "### H1:mean_age_of_non_defaulters!=mean_age_of_non_defaulters"
   ]
  },
  {
   "cell_type": "code",
   "execution_count": 56,
   "metadata": {},
   "outputs": [
    {
     "data": {
      "text/plain": [
       "Ttest_indResult(statistic=18.016774851215157, pvalue=1.6119724395993934e-72)"
      ]
     },
     "execution_count": 56,
     "metadata": {},
     "output_type": "execute_result"
    }
   ],
   "source": [
    "ttest_ind(age_of_0,age_of_1)"
   ]
  },
  {
   "cell_type": "markdown",
   "metadata": {},
   "source": [
    "pvalue less than .05 which rejects null hypothesis in favour of alternate hypothesis that mean age of both groups differ."
   ]
  },
  {
   "cell_type": "code",
   "execution_count": 59,
   "metadata": {},
   "outputs": [],
   "source": [
    "#df[\"year_of_disbursement\"]=df[\"DisbursalDate\"].dt.year\n",
    "df[\"DisbursalDate\"]=pd.to_datetime(df[\"DisbursalDate\"])\n",
    "df[\"month_of_disbursement\"]=df[\"DisbursalDate\"].dt.month"
   ]
  },
  {
   "cell_type": "code",
   "execution_count": 60,
   "metadata": {},
   "outputs": [
    {
     "data": {
      "text/plain": [
       "array([ 3,  9,  1, 10,  5,  8,  6, 11, 12,  4,  7,  2], dtype=int64)"
      ]
     },
     "execution_count": 60,
     "metadata": {},
     "output_type": "execute_result"
    }
   ],
   "source": [
    "df[\"month_of_disbursement\"].unique()"
   ]
  },
  {
   "cell_type": "code",
   "execution_count": 61,
   "metadata": {},
   "outputs": [],
   "source": [
    "conti_table=pd.crosstab(df[\"month_of_disbursement\"],df[\"loan_default\"])"
   ]
  },
  {
   "cell_type": "code",
   "execution_count": 62,
   "metadata": {},
   "outputs": [
    {
     "data": {
      "text/html": [
       "<div>\n",
       "<style scoped>\n",
       "    .dataframe tbody tr th:only-of-type {\n",
       "        vertical-align: middle;\n",
       "    }\n",
       "\n",
       "    .dataframe tbody tr th {\n",
       "        vertical-align: top;\n",
       "    }\n",
       "\n",
       "    .dataframe thead th {\n",
       "        text-align: right;\n",
       "    }\n",
       "</style>\n",
       "<table border=\"1\" class=\"dataframe\">\n",
       "  <thead>\n",
       "    <tr style=\"text-align: right;\">\n",
       "      <th>loan_default</th>\n",
       "      <th>0</th>\n",
       "      <th>1</th>\n",
       "    </tr>\n",
       "    <tr>\n",
       "      <th>month_of_disbursement</th>\n",
       "      <th></th>\n",
       "      <th></th>\n",
       "    </tr>\n",
       "  </thead>\n",
       "  <tbody>\n",
       "    <tr>\n",
       "      <td>1</td>\n",
       "      <td>1316</td>\n",
       "      <td>392</td>\n",
       "    </tr>\n",
       "    <tr>\n",
       "      <td>2</td>\n",
       "      <td>23</td>\n",
       "      <td>2</td>\n",
       "    </tr>\n",
       "    <tr>\n",
       "      <td>3</td>\n",
       "      <td>4094</td>\n",
       "      <td>1054</td>\n",
       "    </tr>\n",
       "    <tr>\n",
       "      <td>4</td>\n",
       "      <td>3636</td>\n",
       "      <td>991</td>\n",
       "    </tr>\n",
       "    <tr>\n",
       "      <td>5</td>\n",
       "      <td>2279</td>\n",
       "      <td>611</td>\n",
       "    </tr>\n",
       "    <tr>\n",
       "      <td>6</td>\n",
       "      <td>4697</td>\n",
       "      <td>1294</td>\n",
       "    </tr>\n",
       "    <tr>\n",
       "      <td>7</td>\n",
       "      <td>3222</td>\n",
       "      <td>928</td>\n",
       "    </tr>\n",
       "    <tr>\n",
       "      <td>8</td>\n",
       "      <td>44938</td>\n",
       "      <td>12037</td>\n",
       "    </tr>\n",
       "    <tr>\n",
       "      <td>9</td>\n",
       "      <td>43910</td>\n",
       "      <td>10533</td>\n",
       "    </tr>\n",
       "    <tr>\n",
       "      <td>10</td>\n",
       "      <td>64474</td>\n",
       "      <td>20401</td>\n",
       "    </tr>\n",
       "    <tr>\n",
       "      <td>11</td>\n",
       "      <td>5484</td>\n",
       "      <td>1225</td>\n",
       "    </tr>\n",
       "    <tr>\n",
       "      <td>12</td>\n",
       "      <td>4470</td>\n",
       "      <td>1143</td>\n",
       "    </tr>\n",
       "  </tbody>\n",
       "</table>\n",
       "</div>"
      ],
      "text/plain": [
       "loan_default               0      1\n",
       "month_of_disbursement              \n",
       "1                       1316    392\n",
       "2                         23      2\n",
       "3                       4094   1054\n",
       "4                       3636    991\n",
       "5                       2279    611\n",
       "6                       4697   1294\n",
       "7                       3222    928\n",
       "8                      44938  12037\n",
       "9                      43910  10533\n",
       "10                     64474  20401\n",
       "11                      5484   1225\n",
       "12                      4470   1143"
      ]
     },
     "execution_count": 62,
     "metadata": {},
     "output_type": "execute_result"
    }
   ],
   "source": [
    "conti_table"
   ]
  },
  {
   "cell_type": "code",
   "execution_count": 63,
   "metadata": {},
   "outputs": [],
   "source": [
    "chi_2,p_value,dof,exp=chi2_contingency(conti_table)"
   ]
  },
  {
   "cell_type": "code",
   "execution_count": 64,
   "metadata": {},
   "outputs": [
    {
     "name": "stdout",
     "output_type": "stream",
     "text": [
      "chi_2- 524.4152509602986 p_value- 1.982490687174008e-105\n"
     ]
    }
   ],
   "source": [
    "print(\"chi_2-\",chi_2,\"p_value-\",p_value)"
   ]
  },
  {
   "cell_type": "markdown",
   "metadata": {},
   "source": [
    "P_value less than .05 which rejects null hypotheis in favour of alternate hypothesis.There is significant relationship between the  month and no_of_defaulters."
   ]
  },
  {
   "cell_type": "markdown",
   "metadata": {},
   "source": [
    "## Employment.Type"
   ]
  },
  {
   "cell_type": "code",
   "execution_count": 65,
   "metadata": {},
   "outputs": [
    {
     "data": {
      "text/plain": [
       "Self employed    127635\n",
       "Salaried          97858\n",
       "Name: Employment.Type, dtype: int64"
      ]
     },
     "execution_count": 65,
     "metadata": {},
     "output_type": "execute_result"
    }
   ],
   "source": [
    "df[\"Employment.Type\"].value_counts()"
   ]
  },
  {
   "cell_type": "code",
   "execution_count": 66,
   "metadata": {},
   "outputs": [
    {
     "data": {
      "text/plain": [
       "Employment.Type    7661\n",
       "dtype: int64"
      ]
     },
     "execution_count": 66,
     "metadata": {},
     "output_type": "execute_result"
    }
   ],
   "source": [
    "df.isnull().sum()[df.isnull().sum()>0]"
   ]
  },
  {
   "cell_type": "code",
   "execution_count": 67,
   "metadata": {},
   "outputs": [
    {
     "data": {
      "text/plain": [
       "0.32639371402592277"
      ]
     },
     "execution_count": 67,
     "metadata": {},
     "output_type": "execute_result"
    }
   ],
   "source": [
    "761*100/df.shape[0]"
   ]
  },
  {
   "cell_type": "markdown",
   "metadata": {},
   "source": [
    "#### There are 7661 null values in the column which is .32 of the total rows.So,replace them with mode"
   ]
  },
  {
   "cell_type": "code",
   "execution_count": 68,
   "metadata": {},
   "outputs": [],
   "source": [
    "df[\"Employment.Type\"]=df[\"Employment.Type\"].fillna(df[\"Employment.Type\"].mode()[0])"
   ]
  },
  {
   "cell_type": "markdown",
   "metadata": {},
   "source": [
    "## State_id"
   ]
  },
  {
   "cell_type": "code",
   "execution_count": 69,
   "metadata": {},
   "outputs": [
    {
     "name": "stdout",
     "output_type": "stream",
     "text": [
      "22\n"
     ]
    },
    {
     "data": {
      "text/plain": [
       "<matplotlib.lines.Line2D at 0x1f1c5067848>"
      ]
     },
     "execution_count": 69,
     "metadata": {},
     "output_type": "execute_result"
    },
    {
     "data": {
      "image/png": "[encoded data removed]",
      "text/plain": [
       "<Figure size 432x288 with 1 Axes>"
      ]
     },
     "metadata": {
      "needs_background": "light"
     },
     "output_type": "display_data"
    }
   ],
   "source": [
    "print(df[\"State_ID\"].nunique())\n",
    "state=df[\"State_ID\"].value_counts()\n",
    "\n",
    "state[\"percent\"]=state*100/state.sum()\n",
    "\n",
    "state[\"cumsum\"]=state[\"percent\"].cumsum()\n",
    "\n",
    "plt.plot(state[\"cumsum\"].values,\"-\",c=\"black\")\n",
    "plt.scatter(np.arange(0,22),state[\"cumsum\"].values,c=\"r\")\n",
    "plt.axhline(80)"
   ]
  },
  {
   "cell_type": "markdown",
   "metadata": {},
   "source": [
    "#### nearly seven states contribute to 80 percent of the customers"
   ]
  },
  {
   "cell_type": "markdown",
   "metadata": {},
   "source": [
    "### H0-There is no siginificant relationship between the Pincodes and no_of_defaulters\n",
    "### H1-There is  siginificant relationship between the Pincodes and no_of_defaulters"
   ]
  },
  {
   "cell_type": "code",
   "execution_count": 70,
   "metadata": {},
   "outputs": [],
   "source": [
    "conti_table=pd.crosstab(df[\"State_ID\"],df[\"loan_default\"])"
   ]
  },
  {
   "cell_type": "code",
   "execution_count": 71,
   "metadata": {},
   "outputs": [],
   "source": [
    "chi_2,p_value,dof,exp=chi2_contingency(conti_table)"
   ]
  },
  {
   "cell_type": "code",
   "execution_count": 72,
   "metadata": {},
   "outputs": [
    {
     "name": "stdout",
     "output_type": "stream",
     "text": [
      "chi_2- 1626.8617814468685 p_value- 0.0\n"
     ]
    }
   ],
   "source": [
    "print(\"chi_2-\",chi_2,\"p_value-\",p_value)"
   ]
  },
  {
   "cell_type": "code",
   "execution_count": 73,
   "metadata": {},
   "outputs": [],
   "source": [
    "from scipy.stats import chi2"
   ]
  },
  {
   "cell_type": "markdown",
   "metadata": {},
   "source": [
    " P_value less than .05 which rejects null hypotheis in favour of alternate hypothesis.There is significant relationship between the State_id and no_of_defaulters."
   ]
  },
  {
   "cell_type": "markdown",
   "metadata": {},
   "source": [
    "## PERFORM_CNS.SCORE"
   ]
  },
  {
   "cell_type": "code",
   "execution_count": 74,
   "metadata": {},
   "outputs": [
    {
     "data": {
      "text/plain": [
       "count    233154.000000\n",
       "mean        289.462994\n",
       "std         338.374779\n",
       "min           0.000000\n",
       "25%           0.000000\n",
       "50%           0.000000\n",
       "75%         678.000000\n",
       "max         890.000000\n",
       "Name: PERFORM_CNS.SCORE, dtype: float64"
      ]
     },
     "execution_count": 74,
     "metadata": {},
     "output_type": "execute_result"
    }
   ],
   "source": [
    "df[\"PERFORM_CNS.SCORE\"].describe()"
   ]
  },
  {
   "cell_type": "code",
   "execution_count": 75,
   "metadata": {},
   "outputs": [],
   "source": [
    "group_0=df[df[\"loan_default\"]==0]\n",
    "group_1=df[df[\"loan_default\"]==1]"
   ]
  },
  {
   "cell_type": "code",
   "execution_count": 76,
   "metadata": {},
   "outputs": [
    {
     "data": {
      "image/png": "[encoded data removed]",
      "text/plain": [
       "<Figure size 432x288 with 1 Axes>"
      ]
     },
     "metadata": {
      "needs_background": "light"
     },
     "output_type": "display_data"
    }
   ],
   "source": [
    "sns.distplot(group_0[\"PERFORM_CNS.SCORE\"])\n",
    "sns.distplot(group_1[\"PERFORM_CNS.SCORE\"])\n",
    "plt.legend([0,1])\n",
    "plt.show()"
   ]
  },
  {
   "cell_type": "code",
   "execution_count": 77,
   "metadata": {},
   "outputs": [
    {
     "data": {
      "text/plain": [
       "count    182543.000000\n",
       "mean        299.784270\n",
       "std         342.883794\n",
       "min           0.000000\n",
       "25%           0.000000\n",
       "50%          15.000000\n",
       "75%         690.000000\n",
       "max         890.000000\n",
       "Name: PERFORM_CNS.SCORE, dtype: float64"
      ]
     },
     "execution_count": 77,
     "metadata": {},
     "output_type": "execute_result"
    }
   ],
   "source": [
    "group_0[\"PERFORM_CNS.SCORE\"].describe()"
   ]
  },
  {
   "cell_type": "code",
   "execution_count": 78,
   "metadata": {},
   "outputs": [
    {
     "data": {
      "text/plain": [
       "count    50611.000000\n",
       "mean       252.236372\n",
       "std        318.826242\n",
       "min          0.000000\n",
       "25%          0.000000\n",
       "50%          0.000000\n",
       "75%        610.000000\n",
       "max        879.000000\n",
       "Name: PERFORM_CNS.SCORE, dtype: float64"
      ]
     },
     "execution_count": 78,
     "metadata": {},
     "output_type": "execute_result"
    }
   ],
   "source": [
    "group_1[\"PERFORM_CNS.SCORE\"].describe()"
   ]
  },
  {
   "cell_type": "markdown",
   "metadata": {},
   "source": [
    "### Nearly 50% of the customers in the defaulter's list have cns score of zero"
   ]
  },
  {
   "cell_type": "markdown",
   "metadata": {},
   "source": [
    "### H0:mean_CNS_Score_of_non_defaulters==mean_CNS_Score_of_non_defaulters\n",
    "### H1:mean_CNS_Score_of_non_defaulters!=mean_CNS_Score_of_non_defaulters"
   ]
  },
  {
   "cell_type": "code",
   "execution_count": 79,
   "metadata": {},
   "outputs": [
    {
     "data": {
      "text/plain": [
       "Ttest_indResult(statistic=28.018568872971258, pvalue=1.869421119257312e-172)"
      ]
     },
     "execution_count": 79,
     "metadata": {},
     "output_type": "execute_result"
    }
   ],
   "source": [
    "ttest_ind(group_0[\"PERFORM_CNS.SCORE\"],group_1[\"PERFORM_CNS.SCORE\"])"
   ]
  },
  {
   "cell_type": "markdown",
   "metadata": {},
   "source": [
    "#### pvalue less than .05 which rejects null hypothesis in favour of alternate hypothesis that CNS score of both groups differ."
   ]
  },
  {
   "cell_type": "code",
   "execution_count": 80,
   "metadata": {},
   "outputs": [
    {
     "data": {
      "text/plain": [
       "<matplotlib.axes._subplots.AxesSubplot at 0x1f1ccf2c508>"
      ]
     },
     "execution_count": 80,
     "metadata": {},
     "output_type": "execute_result"
    },
    {
     "data": {
      "image/png": "[encoded data removed]",
      "text/plain": [
       "<Figure size 432x288 with 1 Axes>"
      ]
     },
     "metadata": {
      "needs_background": "light"
     },
     "output_type": "display_data"
    }
   ],
   "source": [
    "sns.boxplot(x=df[\"loan_default\"],y=df[\"PERFORM_CNS.SCORE\"])"
   ]
  },
  {
   "cell_type": "markdown",
   "metadata": {},
   "source": [
    "### PERFORM_CNS.SCORE.DESCRIPTION"
   ]
  },
  {
   "cell_type": "code",
   "execution_count": 81,
   "metadata": {},
   "outputs": [
    {
     "data": {
      "text/plain": [
       "array(['No Bureau History Available', 'I-Medium Risk', 'L-Very High Risk',\n",
       "       'A-Very Low Risk',\n",
       "       'Not Scored: Not Enough Info available on the customer',\n",
       "       'D-Very Low Risk', 'M-Very High Risk', 'B-Very Low Risk',\n",
       "       'C-Very Low Risk', 'E-Low Risk', 'H-Medium Risk', 'F-Low Risk',\n",
       "       'K-High Risk',\n",
       "       'Not Scored: No Activity seen on the customer (Inactive)',\n",
       "       'Not Scored: Sufficient History Not Available',\n",
       "       'Not Scored: No Updates available in last 36 months', 'G-Low Risk',\n",
       "       'J-High Risk', 'Not Scored: Only a Guarantor',\n",
       "       'Not Scored: More than 50 active Accounts found'], dtype=object)"
      ]
     },
     "execution_count": 81,
     "metadata": {},
     "output_type": "execute_result"
    }
   ],
   "source": [
    "df[\"PERFORM_CNS.SCORE.DESCRIPTION\"].unique()"
   ]
  },
  {
   "cell_type": "code",
   "execution_count": 82,
   "metadata": {},
   "outputs": [
    {
     "data": {
      "text/html": [
       "<div>\n",
       "<style scoped>\n",
       "    .dataframe tbody tr th:only-of-type {\n",
       "        vertical-align: middle;\n",
       "    }\n",
       "\n",
       "    .dataframe tbody tr th {\n",
       "        vertical-align: top;\n",
       "    }\n",
       "\n",
       "    .dataframe thead tr th {\n",
       "        text-align: left;\n",
       "    }\n",
       "\n",
       "    .dataframe thead tr:last-of-type th {\n",
       "        text-align: right;\n",
       "    }\n",
       "</style>\n",
       "<table border=\"1\" class=\"dataframe\">\n",
       "  <thead>\n",
       "    <tr>\n",
       "      <th></th>\n",
       "      <th colspan=\"3\" halign=\"left\">PERFORM_CNS.SCORE</th>\n",
       "    </tr>\n",
       "    <tr>\n",
       "      <th></th>\n",
       "      <th>mean</th>\n",
       "      <th>min</th>\n",
       "      <th>max</th>\n",
       "    </tr>\n",
       "    <tr>\n",
       "      <th>PERFORM_CNS.SCORE.DESCRIPTION</th>\n",
       "      <th></th>\n",
       "      <th></th>\n",
       "      <th></th>\n",
       "    </tr>\n",
       "  </thead>\n",
       "  <tbody>\n",
       "    <tr>\n",
       "      <td>A-Very Low Risk</td>\n",
       "      <td>827.662631</td>\n",
       "      <td>806</td>\n",
       "      <td>890</td>\n",
       "    </tr>\n",
       "    <tr>\n",
       "      <td>B-Very Low Risk</td>\n",
       "      <td>774.183893</td>\n",
       "      <td>761</td>\n",
       "      <td>805</td>\n",
       "    </tr>\n",
       "    <tr>\n",
       "      <td>C-Very Low Risk</td>\n",
       "      <td>741.899221</td>\n",
       "      <td>736</td>\n",
       "      <td>760</td>\n",
       "    </tr>\n",
       "    <tr>\n",
       "      <td>D-Very Low Risk</td>\n",
       "      <td>715.958091</td>\n",
       "      <td>706</td>\n",
       "      <td>735</td>\n",
       "    </tr>\n",
       "    <tr>\n",
       "      <td>E-Low Risk</td>\n",
       "      <td>691.517437</td>\n",
       "      <td>681</td>\n",
       "      <td>705</td>\n",
       "    </tr>\n",
       "    <tr>\n",
       "      <td>F-Low Risk</td>\n",
       "      <td>666.064467</td>\n",
       "      <td>651</td>\n",
       "      <td>680</td>\n",
       "    </tr>\n",
       "    <tr>\n",
       "      <td>G-Low Risk</td>\n",
       "      <td>640.853561</td>\n",
       "      <td>631</td>\n",
       "      <td>650</td>\n",
       "    </tr>\n",
       "    <tr>\n",
       "      <td>H-Medium Risk</td>\n",
       "      <td>617.031947</td>\n",
       "      <td>601</td>\n",
       "      <td>630</td>\n",
       "    </tr>\n",
       "    <tr>\n",
       "      <td>I-Medium Risk</td>\n",
       "      <td>586.832644</td>\n",
       "      <td>571</td>\n",
       "      <td>600</td>\n",
       "    </tr>\n",
       "    <tr>\n",
       "      <td>J-High Risk</td>\n",
       "      <td>549.876734</td>\n",
       "      <td>521</td>\n",
       "      <td>570</td>\n",
       "    </tr>\n",
       "    <tr>\n",
       "      <td>K-High Risk</td>\n",
       "      <td>440.594177</td>\n",
       "      <td>351</td>\n",
       "      <td>520</td>\n",
       "    </tr>\n",
       "    <tr>\n",
       "      <td>L-Very High Risk</td>\n",
       "      <td>326.601411</td>\n",
       "      <td>301</td>\n",
       "      <td>350</td>\n",
       "    </tr>\n",
       "    <tr>\n",
       "      <td>M-Very High Risk</td>\n",
       "      <td>300.000000</td>\n",
       "      <td>300</td>\n",
       "      <td>300</td>\n",
       "    </tr>\n",
       "    <tr>\n",
       "      <td>No Bureau History Available</td>\n",
       "      <td>0.000000</td>\n",
       "      <td>0</td>\n",
       "      <td>0</td>\n",
       "    </tr>\n",
       "    <tr>\n",
       "      <td>Not Scored: More than 50 active Accounts found</td>\n",
       "      <td>11.000000</td>\n",
       "      <td>11</td>\n",
       "      <td>11</td>\n",
       "    </tr>\n",
       "    <tr>\n",
       "      <td>Not Scored: No Activity seen on the customer (Inactive)</td>\n",
       "      <td>16.000000</td>\n",
       "      <td>16</td>\n",
       "      <td>16</td>\n",
       "    </tr>\n",
       "    <tr>\n",
       "      <td>Not Scored: No Updates available in last 36 months</td>\n",
       "      <td>18.000000</td>\n",
       "      <td>18</td>\n",
       "      <td>18</td>\n",
       "    </tr>\n",
       "    <tr>\n",
       "      <td>Not Scored: Not Enough Info available on the customer</td>\n",
       "      <td>17.000000</td>\n",
       "      <td>17</td>\n",
       "      <td>17</td>\n",
       "    </tr>\n",
       "    <tr>\n",
       "      <td>Not Scored: Only a Guarantor</td>\n",
       "      <td>14.000000</td>\n",
       "      <td>14</td>\n",
       "      <td>14</td>\n",
       "    </tr>\n",
       "    <tr>\n",
       "      <td>Not Scored: Sufficient History Not Available</td>\n",
       "      <td>15.000000</td>\n",
       "      <td>15</td>\n",
       "      <td>15</td>\n",
       "    </tr>\n",
       "  </tbody>\n",
       "</table>\n",
       "</div>"
      ],
      "text/plain": [
       "                                                   PERFORM_CNS.SCORE          \n",
       "                                                                mean  min  max\n",
       "PERFORM_CNS.SCORE.DESCRIPTION                                                 \n",
       "A-Very Low Risk                                           827.662631  806  890\n",
       "B-Very Low Risk                                           774.183893  761  805\n",
       "C-Very Low Risk                                           741.899221  736  760\n",
       "D-Very Low Risk                                           715.958091  706  735\n",
       "E-Low Risk                                                691.517437  681  705\n",
       "F-Low Risk                                                666.064467  651  680\n",
       "G-Low Risk                                                640.853561  631  650\n",
       "H-Medium Risk                                             617.031947  601  630\n",
       "I-Medium Risk                                             586.832644  571  600\n",
       "J-High Risk                                               549.876734  521  570\n",
       "K-High Risk                                               440.594177  351  520\n",
       "L-Very High Risk                                          326.601411  301  350\n",
       "M-Very High Risk                                          300.000000  300  300\n",
       "No Bureau History Available                                 0.000000    0    0\n",
       "Not Scored: More than 50 active Accounts found             11.000000   11   11\n",
       "Not Scored: No Activity seen on the customer (I...         16.000000   16   16\n",
       "Not Scored: No Updates available in last 36 months         18.000000   18   18\n",
       "Not Scored: Not Enough Info available on the cu...         17.000000   17   17\n",
       "Not Scored: Only a Guarantor                               14.000000   14   14\n",
       "Not Scored: Sufficient History Not Available               15.000000   15   15"
      ]
     },
     "execution_count": 82,
     "metadata": {},
     "output_type": "execute_result"
    }
   ],
   "source": [
    "df.groupby(\"PERFORM_CNS.SCORE.DESCRIPTION\").agg({\"PERFORM_CNS.SCORE\":[\"mean\",\"min\",\"max\"]})"
   ]
  },
  {
   "cell_type": "code",
   "execution_count": 83,
   "metadata": {},
   "outputs": [],
   "source": [
    "val=['No Bureau History Available','Not Scored: Not Enough Info available on the customer',\n",
    "    'Not Scored: No Activity seen on the customer (Inactive)','Not Scored: Sufficient History Not Available',\n",
    "    'Not Scored: No Updates available in last 36 months','Not Scored: More than 50 active Accounts found','Not Scored: Only a Guarantor']"
   ]
  },
  {
   "cell_type": "code",
   "execution_count": 84,
   "metadata": {},
   "outputs": [],
   "source": [
    "for i in val:\n",
    "    df[\"PERFORM_CNS.SCORE.DESCRIPTION\"]=df[\"PERFORM_CNS.SCORE.DESCRIPTION\"].replace({i:\"No_Score\"})"
   ]
  },
  {
   "cell_type": "code",
   "execution_count": 85,
   "metadata": {},
   "outputs": [
    {
     "data": {
      "text/html": [
       "<div>\n",
       "<style scoped>\n",
       "    .dataframe tbody tr th:only-of-type {\n",
       "        vertical-align: middle;\n",
       "    }\n",
       "\n",
       "    .dataframe tbody tr th {\n",
       "        vertical-align: top;\n",
       "    }\n",
       "\n",
       "    .dataframe thead th {\n",
       "        text-align: right;\n",
       "    }\n",
       "</style>\n",
       "<table border=\"1\" class=\"dataframe\">\n",
       "  <thead>\n",
       "    <tr style=\"text-align: right;\">\n",
       "      <th>loan_default</th>\n",
       "      <th>0</th>\n",
       "      <th>1</th>\n",
       "    </tr>\n",
       "    <tr>\n",
       "      <th>PERFORM_CNS.SCORE.DESCRIPTION</th>\n",
       "      <th></th>\n",
       "      <th></th>\n",
       "    </tr>\n",
       "  </thead>\n",
       "  <tbody>\n",
       "    <tr>\n",
       "      <td>M-Very High Risk</td>\n",
       "      <td>0.695419</td>\n",
       "      <td>0.304581</td>\n",
       "    </tr>\n",
       "    <tr>\n",
       "      <td>L-Very High Risk</td>\n",
       "      <td>0.719577</td>\n",
       "      <td>0.280423</td>\n",
       "    </tr>\n",
       "    <tr>\n",
       "      <td>K-High Risk</td>\n",
       "      <td>0.721880</td>\n",
       "      <td>0.278120</td>\n",
       "    </tr>\n",
       "    <tr>\n",
       "      <td>I-Medium Risk</td>\n",
       "      <td>0.727371</td>\n",
       "      <td>0.272629</td>\n",
       "    </tr>\n",
       "    <tr>\n",
       "      <td>J-High Risk</td>\n",
       "      <td>0.747599</td>\n",
       "      <td>0.252401</td>\n",
       "    </tr>\n",
       "    <tr>\n",
       "      <td>H-Medium Risk</td>\n",
       "      <td>0.758133</td>\n",
       "      <td>0.241867</td>\n",
       "    </tr>\n",
       "    <tr>\n",
       "      <td>No_Score</td>\n",
       "      <td>0.770274</td>\n",
       "      <td>0.229726</td>\n",
       "    </tr>\n",
       "    <tr>\n",
       "      <td>G-Low Risk</td>\n",
       "      <td>0.802909</td>\n",
       "      <td>0.197091</td>\n",
       "    </tr>\n",
       "    <tr>\n",
       "      <td>F-Low Risk</td>\n",
       "      <td>0.813789</td>\n",
       "      <td>0.186211</td>\n",
       "    </tr>\n",
       "    <tr>\n",
       "      <td>C-Very Low Risk</td>\n",
       "      <td>0.827361</td>\n",
       "      <td>0.172639</td>\n",
       "    </tr>\n",
       "    <tr>\n",
       "      <td>E-Low Risk</td>\n",
       "      <td>0.828208</td>\n",
       "      <td>0.171792</td>\n",
       "    </tr>\n",
       "    <tr>\n",
       "      <td>A-Very Low Risk</td>\n",
       "      <td>0.834254</td>\n",
       "      <td>0.165746</td>\n",
       "    </tr>\n",
       "    <tr>\n",
       "      <td>D-Very Low Risk</td>\n",
       "      <td>0.850414</td>\n",
       "      <td>0.149586</td>\n",
       "    </tr>\n",
       "    <tr>\n",
       "      <td>B-Very Low Risk</td>\n",
       "      <td>0.868710</td>\n",
       "      <td>0.131290</td>\n",
       "    </tr>\n",
       "  </tbody>\n",
       "</table>\n",
       "</div>"
      ],
      "text/plain": [
       "loan_default                          0         1\n",
       "PERFORM_CNS.SCORE.DESCRIPTION                    \n",
       "M-Very High Risk               0.695419  0.304581\n",
       "L-Very High Risk               0.719577  0.280423\n",
       "K-High Risk                    0.721880  0.278120\n",
       "I-Medium Risk                  0.727371  0.272629\n",
       "J-High Risk                    0.747599  0.252401\n",
       "H-Medium Risk                  0.758133  0.241867\n",
       "No_Score                       0.770274  0.229726\n",
       "G-Low Risk                     0.802909  0.197091\n",
       "F-Low Risk                     0.813789  0.186211\n",
       "C-Very Low Risk                0.827361  0.172639\n",
       "E-Low Risk                     0.828208  0.171792\n",
       "A-Very Low Risk                0.834254  0.165746\n",
       "D-Very Low Risk                0.850414  0.149586\n",
       "B-Very Low Risk                0.868710  0.131290"
      ]
     },
     "execution_count": 85,
     "metadata": {},
     "output_type": "execute_result"
    }
   ],
   "source": [
    "pd.crosstab(df[\"PERFORM_CNS.SCORE.DESCRIPTION\"],df[\"loan_default\"],normalize=\"index\").sort_values(1,ascending=False)"
   ]
  },
  {
   "cell_type": "markdown",
   "metadata": {},
   "source": [
    "#### This column looks like a ordinal data.However,the No_score inspite of being not scored has relatively low percent of defaulters than high risk people"
   ]
  },
  {
   "cell_type": "code",
   "execution_count": 86,
   "metadata": {},
   "outputs": [],
   "source": [
    "#creating a column whether they are scored are not\n",
    "df[\"Scored_Or_Not\"]=df[\"PERFORM_CNS.SCORE.DESCRIPTION\"].apply(lambda x:1 if x==\"No_Score\" else 0)"
   ]
  },
  {
   "cell_type": "markdown",
   "metadata": {},
   "source": [
    "### H0-There is no siginificant relationship between the CNS.desc and no_of_defaulters\n",
    "### H1-There is  siginificant relationship between the CNS.desc and no_of_defaulters"
   ]
  },
  {
   "cell_type": "code",
   "execution_count": 87,
   "metadata": {},
   "outputs": [],
   "source": [
    "conti_table=pd.crosstab(df[\"PERFORM_CNS.SCORE.DESCRIPTION\"],df[\"loan_default\"])"
   ]
  },
  {
   "cell_type": "code",
   "execution_count": 88,
   "metadata": {},
   "outputs": [],
   "source": [
    "chi_2,p_value,dof,exp=chi2_contingency(conti_table)"
   ]
  },
  {
   "cell_type": "code",
   "execution_count": 89,
   "metadata": {},
   "outputs": [
    {
     "name": "stdout",
     "output_type": "stream",
     "text": [
      "chi_2- 2114.4654081820345 p_value- 0.0\n"
     ]
    }
   ],
   "source": [
    "print(\"chi_2-\",chi_2,\"p_value-\",p_value)"
   ]
  },
  {
   "cell_type": "markdown",
   "metadata": {},
   "source": [
    "P_value less than .05 which rejects null hypotheis in favour of alternate hypothesis.There is significant relationship between the CNS.desc and no_of_defaulters."
   ]
  },
  {
   "cell_type": "markdown",
   "metadata": {},
   "source": [
    "#### with p_value exactly zero this seems important variable."
   ]
  },
  {
   "cell_type": "markdown",
   "metadata": {},
   "source": [
    "### PRI.NO.OF.ACCTS"
   ]
  },
  {
   "cell_type": "code",
   "execution_count": 90,
   "metadata": {},
   "outputs": [
    {
     "data": {
      "text/plain": [
       "count    233154.000000\n",
       "mean          2.440636\n",
       "std           5.217233\n",
       "min           0.000000\n",
       "25%           0.000000\n",
       "50%           0.000000\n",
       "75%           3.000000\n",
       "max         453.000000\n",
       "Name: PRI.NO.OF.ACCTS, dtype: float64"
      ]
     },
     "execution_count": 90,
     "metadata": {},
     "output_type": "execute_result"
    }
   ],
   "source": [
    "df[\"PRI.NO.OF.ACCTS\"].describe()"
   ]
  },
  {
   "cell_type": "markdown",
   "metadata": {},
   "source": [
    "#### with over 50% of people have No loan accounts before"
   ]
  },
  {
   "cell_type": "code",
   "execution_count": 91,
   "metadata": {},
   "outputs": [
    {
     "data": {
      "text/plain": [
       "0    116950\n",
       "1     34978\n",
       "2     19784\n",
       "3     13015\n",
       "4      9323\n",
       "Name: PRI.NO.OF.ACCTS, dtype: int64"
      ]
     },
     "execution_count": 91,
     "metadata": {},
     "output_type": "execute_result"
    }
   ],
   "source": [
    "df[\"PRI.NO.OF.ACCTS\"].value_counts().head()"
   ]
  },
  {
   "cell_type": "code",
   "execution_count": 92,
   "metadata": {},
   "outputs": [
    {
     "data": {
      "text/plain": [
       "<matplotlib.axes._subplots.AxesSubplot at 0x1f1bcbd7e88>"
      ]
     },
     "execution_count": 92,
     "metadata": {},
     "output_type": "execute_result"
    },
    {
     "data": {
      "image/png": "[encoded data removed]",
      "text/plain": [
       "<Figure size 432x288 with 1 Axes>"
      ]
     },
     "metadata": {
      "needs_background": "light"
     },
     "output_type": "display_data"
    }
   ],
   "source": [
    "sns.distplot(df['PRI.NO.OF.ACCTS'])"
   ]
  },
  {
   "cell_type": "code",
   "execution_count": 93,
   "metadata": {},
   "outputs": [],
   "source": [
    "df[\"First_Time_Account_Holder\"]=df[\"PRI.NO.OF.ACCTS\"].apply(lambda x:1 if x==0 else 0)"
   ]
  },
  {
   "cell_type": "code",
   "execution_count": 94,
   "metadata": {},
   "outputs": [],
   "source": [
    "conti_table=pd.crosstab(df[\"First_Time_Account_Holder\"],df[\"loan_default\"],normalize=\"index\")"
   ]
  },
  {
   "cell_type": "markdown",
   "metadata": {},
   "source": [
    "### H0-There is no siginificant relationship between the First_Time_Account_Holder and no_of_defaulters\n",
    "### H1-There is  siginificant relationship between the First_Time_Account_Holder and no_of_defaulters"
   ]
  },
  {
   "cell_type": "code",
   "execution_count": 95,
   "metadata": {},
   "outputs": [],
   "source": [
    "chi_2,p_value,dof,exp=chi2_contingency(conti_table)"
   ]
  },
  {
   "cell_type": "code",
   "execution_count": 96,
   "metadata": {},
   "outputs": [
    {
     "name": "stdout",
     "output_type": "stream",
     "text": [
      "chi_2- 2.7767129608850434 p_value- 0.0956442825239546\n"
     ]
    }
   ],
   "source": [
    "print(\"chi_2-\",chi_2,\"p_value-\",p_value)"
   ]
  },
  {
   "cell_type": "markdown",
   "metadata": {},
   "source": [
    "#### With p_value less than .05 it fails to reject null hypothesis which stats that there is no significant relationship between first time account holders and no_of_defaulters"
   ]
  },
  {
   "cell_type": "markdown",
   "metadata": {},
   "source": [
    "### PRI.ACTIVE.ACCTS"
   ]
  },
  {
   "cell_type": "code",
   "execution_count": 97,
   "metadata": {},
   "outputs": [
    {
     "data": {
      "text/plain": [
       "count    233154.000000\n",
       "mean          1.039896\n",
       "std           1.941496\n",
       "min           0.000000\n",
       "25%           0.000000\n",
       "50%           0.000000\n",
       "75%           1.000000\n",
       "max         144.000000\n",
       "Name: PRI.ACTIVE.ACCTS, dtype: float64"
      ]
     },
     "execution_count": 97,
     "metadata": {},
     "output_type": "execute_result"
    }
   ],
   "source": [
    "df[\"PRI.ACTIVE.ACCTS\"].describe()"
   ]
  },
  {
   "cell_type": "markdown",
   "metadata": {},
   "source": [
    "#### here also over 50% people have no active accounts "
   ]
  },
  {
   "cell_type": "code",
   "execution_count": 98,
   "metadata": {},
   "outputs": [],
   "source": [
    "df[\"Active_accounts_Flag\"]=df[\"PRI.ACTIVE.ACCTS\"].apply(lambda x:0 if x==0 else 1)"
   ]
  },
  {
   "cell_type": "code",
   "execution_count": 99,
   "metadata": {},
   "outputs": [],
   "source": [
    "conti_table=pd.crosstab(df[\"Active_accounts_Flag\"],df[\"loan_default\"],normalize=\"index\")"
   ]
  },
  {
   "cell_type": "markdown",
   "metadata": {},
   "source": [
    "### H0-There is no siginificant relationship between the Active_Accounts_Flag and no_of_defaulters\n",
    "### H1-There is  siginificant relationship between the Active_Accounts_Flag and no_of_defaulters"
   ]
  },
  {
   "cell_type": "code",
   "execution_count": 100,
   "metadata": {},
   "outputs": [],
   "source": [
    "chi_2,p_value,dof,exp=chi2_contingency(conti_table)"
   ]
  },
  {
   "cell_type": "code",
   "execution_count": 101,
   "metadata": {},
   "outputs": [
    {
     "name": "stdout",
     "output_type": "stream",
     "text": [
      "chi_2- 2.826471242613229 p_value- 0.09272189051920196\n"
     ]
    }
   ],
   "source": [
    "print(\"chi_2-\",chi_2,\"p_value-\",p_value)"
   ]
  },
  {
   "cell_type": "markdown",
   "metadata": {},
   "source": [
    "#### This parameter also fails to reject null hypothesis which conveys there is no significant relationship between Active aaccounts flag and no_of_defaulters"
   ]
  },
  {
   "cell_type": "markdown",
   "metadata": {},
   "source": [
    "### PRI.OVERDUE.ACCTS"
   ]
  },
  {
   "cell_type": "code",
   "execution_count": 102,
   "metadata": {},
   "outputs": [
    {
     "data": {
      "text/plain": [
       "count    233154.000000\n",
       "mean          0.156549\n",
       "std           0.548787\n",
       "min           0.000000\n",
       "25%           0.000000\n",
       "50%           0.000000\n",
       "75%           0.000000\n",
       "max          25.000000\n",
       "Name: PRI.OVERDUE.ACCTS, dtype: float64"
      ]
     },
     "execution_count": 102,
     "metadata": {},
     "output_type": "execute_result"
    }
   ],
   "source": [
    "df[\"PRI.OVERDUE.ACCTS\"].describe()"
   ]
  },
  {
   "cell_type": "code",
   "execution_count": 103,
   "metadata": {},
   "outputs": [
    {
     "data": {
      "text/plain": [
       "0     206879\n",
       "1      19970\n",
       "2       4302\n",
       "3       1202\n",
       "4        404\n",
       "5        166\n",
       "6         96\n",
       "7         38\n",
       "8         27\n",
       "9         25\n",
       "11        12\n",
       "12         8\n",
       "10         6\n",
       "13         5\n",
       "14         5\n",
       "17         2\n",
       "18         2\n",
       "23         1\n",
       "15         1\n",
       "16         1\n",
       "19         1\n",
       "25         1\n",
       "Name: PRI.OVERDUE.ACCTS, dtype: int64"
      ]
     },
     "execution_count": 103,
     "metadata": {},
     "output_type": "execute_result"
    }
   ],
   "source": [
    "df[\"PRI.OVERDUE.ACCTS\"].value_counts()"
   ]
  },
  {
   "cell_type": "markdown",
   "metadata": {},
   "source": [
    "#### only around 25000 people have overdue accounts"
   ]
  },
  {
   "cell_type": "code",
   "execution_count": 104,
   "metadata": {},
   "outputs": [],
   "source": [
    "df[\"Overdue_accounts_Flag\"]=df[\"PRI.OVERDUE.ACCTS\"].apply(lambda x:0 if x==0 else 1)"
   ]
  },
  {
   "cell_type": "code",
   "execution_count": 105,
   "metadata": {},
   "outputs": [],
   "source": [
    "conti_table=pd.crosstab(df[\"Overdue_accounts_Flag\"],df[\"loan_default\"],normalize=\"index\")"
   ]
  },
  {
   "cell_type": "markdown",
   "metadata": {},
   "source": [
    "### H0-There is no siginificant relationship between the Overdue_accounts_Flag and no_of_defaulters\n",
    "### H1-There is  siginificant relationship between the Overdue_accounts_Flag and no_of_defaulters"
   ]
  },
  {
   "cell_type": "code",
   "execution_count": 106,
   "metadata": {},
   "outputs": [],
   "source": [
    "chi_2,p_value,dof,exp=chi2_contingency(conti_table)"
   ]
  },
  {
   "cell_type": "code",
   "execution_count": 107,
   "metadata": {},
   "outputs": [
    {
     "name": "stdout",
     "output_type": "stream",
     "text": [
      "chi_2- 2.386531795177552 p_value- 0.12238487774028094\n"
     ]
    }
   ],
   "source": [
    "print(\"chi_2-\",chi_2,\"p_value-\",p_value)"
   ]
  },
  {
   "cell_type": "markdown",
   "metadata": {},
   "source": [
    "#### This parameter also fails to reject null hypothesis which conveys there is no significant relationship between Overdue aaccounts flag and no_of_defaulters"
   ]
  },
  {
   "cell_type": "markdown",
   "metadata": {},
   "source": [
    "### PRI.CURRENT.BALANCE"
   ]
  },
  {
   "cell_type": "code",
   "execution_count": 108,
   "metadata": {},
   "outputs": [
    {
     "data": {
      "text/plain": [
       "count    2.331540e+05\n",
       "mean     1.659001e+05\n",
       "std      9.422736e+05\n",
       "min     -6.678296e+06\n",
       "25%      0.000000e+00\n",
       "50%      0.000000e+00\n",
       "75%      3.500650e+04\n",
       "max      9.652492e+07\n",
       "Name: PRI.CURRENT.BALANCE, dtype: float64"
      ]
     },
     "execution_count": 108,
     "metadata": {},
     "output_type": "execute_result"
    }
   ],
   "source": [
    "df[\"PRI.CURRENT.BALANCE\"].describe()"
   ]
  },
  {
   "cell_type": "code",
   "execution_count": 109,
   "metadata": {
    "scrolled": true
   },
   "outputs": [
    {
     "data": {
      "image/png": "[encoded data removed]",
      "text/plain": [
       "<Figure size 864x432 with 2 Axes>"
      ]
     },
     "metadata": {
      "needs_background": "light"
     },
     "output_type": "display_data"
    }
   ],
   "source": [
    "fig,ax=plt.subplots(1,2,figsize=(12,6))\n",
    "sns.distplot(df[\"PRI.CURRENT.BALANCE\"],ax=ax[0])\n",
    "sns.boxplot(df[\"PRI.CURRENT.BALANCE\"],ax=ax[1])\n",
    "plt.setp(ax[0].xaxis.get_majorticklabels(), rotation=45)\n",
    "plt.setp(ax[1].xaxis.get_majorticklabels(), rotation=45)\n",
    "plt.show()"
   ]
  },
  {
   "cell_type": "code",
   "execution_count": 110,
   "metadata": {},
   "outputs": [
    {
     "data": {
      "text/plain": [
       "<matplotlib.axes._subplots.AxesSubplot at 0x1f1bc953308>"
      ]
     },
     "execution_count": 110,
     "metadata": {},
     "output_type": "execute_result"
    },
    {
     "data": {
      "image/png": "[encoded data removed]",
      "text/plain": [
       "<Figure size 432x288 with 1 Axes>"
      ]
     },
     "metadata": {
      "needs_background": "light"
     },
     "output_type": "display_data"
    }
   ],
   "source": [
    "sns.boxplot(x=df[\"loan_default\"],y=df[\"PRI.CURRENT.BALANCE\"])"
   ]
  },
  {
   "cell_type": "markdown",
   "metadata": {},
   "source": [
    "#### There are some values less than zero which doesn't seem right"
   ]
  },
  {
   "cell_type": "markdown",
   "metadata": {},
   "source": [
    "### PRI.SANCTIONED.AMOUNT AND PRI.DISBURSED.AMOUNT"
   ]
  },
  {
   "cell_type": "code",
   "execution_count": 111,
   "metadata": {},
   "outputs": [
    {
     "data": {
      "text/plain": [
       "count    2.331540e+05\n",
       "mean     2.185039e+05\n",
       "std      2.374794e+06\n",
       "min      0.000000e+00\n",
       "25%      0.000000e+00\n",
       "50%      0.000000e+00\n",
       "75%      6.250000e+04\n",
       "max      1.000000e+09\n",
       "Name: PRI.SANCTIONED.AMOUNT, dtype: float64"
      ]
     },
     "execution_count": 111,
     "metadata": {},
     "output_type": "execute_result"
    }
   ],
   "source": [
    "df[\"PRI.SANCTIONED.AMOUNT\"].describe()"
   ]
  },
  {
   "cell_type": "code",
   "execution_count": 112,
   "metadata": {},
   "outputs": [
    {
     "data": {
      "text/plain": [
       "count    2.331540e+05\n",
       "mean     2.180659e+05\n",
       "std      2.377744e+06\n",
       "min      0.000000e+00\n",
       "25%      0.000000e+00\n",
       "50%      0.000000e+00\n",
       "75%      6.080000e+04\n",
       "max      1.000000e+09\n",
       "Name: PRI.DISBURSED.AMOUNT, dtype: float64"
      ]
     },
     "execution_count": 112,
     "metadata": {},
     "output_type": "execute_result"
    }
   ],
   "source": [
    "df[\"PRI.DISBURSED.AMOUNT\"].describe()"
   ]
  },
  {
   "cell_type": "markdown",
   "metadata": {},
   "source": [
    "#### both feature seems to have same characteristic"
   ]
  },
  {
   "cell_type": "code",
   "execution_count": 113,
   "metadata": {},
   "outputs": [],
   "source": [
    "from scipy.stats import zscore"
   ]
  },
  {
   "cell_type": "code",
   "execution_count": 114,
   "metadata": {},
   "outputs": [
    {
     "data": {
      "text/plain": [
       "<matplotlib.axes._subplots.AxesSubplot at 0x1f1b9be6dc8>"
      ]
     },
     "execution_count": 114,
     "metadata": {},
     "output_type": "execute_result"
    },
    {
     "data": {
      "image/png": "[encoded data removed]",
      "text/plain": [
       "<Figure size 432x288 with 1 Axes>"
      ]
     },
     "metadata": {
      "needs_background": "light"
     },
     "output_type": "display_data"
    }
   ],
   "source": [
    "sns.distplot(df[\"PRI.DISBURSED.AMOUNT\"])"
   ]
  },
  {
   "cell_type": "code",
   "execution_count": 115,
   "metadata": {},
   "outputs": [
    {
     "data": {
      "text/plain": [
       "<matplotlib.axes._subplots.AxesSubplot at 0x1f1ba7f05c8>"
      ]
     },
     "execution_count": 115,
     "metadata": {},
     "output_type": "execute_result"
    },
    {
     "data": {
      "image/png": "[encoded data removed]",
      "text/plain": [
       "<Figure size 432x288 with 1 Axes>"
      ]
     },
     "metadata": {
      "needs_background": "light"
     },
     "output_type": "display_data"
    }
   ],
   "source": [
    "sns.distplot(df[\"PRI.SANCTIONED.AMOUNT\"])"
   ]
  },
  {
   "cell_type": "code",
   "execution_count": 116,
   "metadata": {},
   "outputs": [
    {
     "data": {
      "text/html": [
       "<div>\n",
       "<style scoped>\n",
       "    .dataframe tbody tr th:only-of-type {\n",
       "        vertical-align: middle;\n",
       "    }\n",
       "\n",
       "    .dataframe tbody tr th {\n",
       "        vertical-align: top;\n",
       "    }\n",
       "\n",
       "    .dataframe thead th {\n",
       "        text-align: right;\n",
       "    }\n",
       "</style>\n",
       "<table border=\"1\" class=\"dataframe\">\n",
       "  <thead>\n",
       "    <tr style=\"text-align: right;\">\n",
       "      <th></th>\n",
       "      <th>PRI.SANCTIONED.AMOUNT</th>\n",
       "      <th>PRI.DISBURSED.AMOUNT</th>\n",
       "    </tr>\n",
       "  </thead>\n",
       "  <tbody>\n",
       "    <tr>\n",
       "      <td>PRI.SANCTIONED.AMOUNT</td>\n",
       "      <td>1.000000</td>\n",
       "      <td>0.998747</td>\n",
       "    </tr>\n",
       "    <tr>\n",
       "      <td>PRI.DISBURSED.AMOUNT</td>\n",
       "      <td>0.998747</td>\n",
       "      <td>1.000000</td>\n",
       "    </tr>\n",
       "  </tbody>\n",
       "</table>\n",
       "</div>"
      ],
      "text/plain": [
       "                       PRI.SANCTIONED.AMOUNT  PRI.DISBURSED.AMOUNT\n",
       "PRI.SANCTIONED.AMOUNT               1.000000              0.998747\n",
       "PRI.DISBURSED.AMOUNT                0.998747              1.000000"
      ]
     },
     "execution_count": 116,
     "metadata": {},
     "output_type": "execute_result"
    }
   ],
   "source": [
    "df[['PRI.SANCTIONED.AMOUNT','PRI.DISBURSED.AMOUNT']].corr()"
   ]
  },
  {
   "cell_type": "code",
   "execution_count": 117,
   "metadata": {},
   "outputs": [
    {
     "data": {
      "text/html": [
       "<div>\n",
       "<style scoped>\n",
       "    .dataframe tbody tr th:only-of-type {\n",
       "        vertical-align: middle;\n",
       "    }\n",
       "\n",
       "    .dataframe tbody tr th {\n",
       "        vertical-align: top;\n",
       "    }\n",
       "\n",
       "    .dataframe thead th {\n",
       "        text-align: right;\n",
       "    }\n",
       "</style>\n",
       "<table border=\"1\" class=\"dataframe\">\n",
       "  <thead>\n",
       "    <tr style=\"text-align: right;\">\n",
       "      <th></th>\n",
       "      <th>UniqueID</th>\n",
       "      <th>disbursed_amount</th>\n",
       "      <th>asset_cost</th>\n",
       "      <th>ltv</th>\n",
       "      <th>branch_id</th>\n",
       "      <th>supplier_id</th>\n",
       "      <th>manufacturer_id</th>\n",
       "      <th>Current_pincode_ID</th>\n",
       "      <th>Date.of.Birth</th>\n",
       "      <th>Employment.Type</th>\n",
       "      <th>DisbursalDate</th>\n",
       "      <th>State_ID</th>\n",
       "      <th>Employee_code_ID</th>\n",
       "      <th>MobileNo_Avl_Flag</th>\n",
       "      <th>Aadhar_flag</th>\n",
       "      <th>PAN_flag</th>\n",
       "      <th>VoterID_flag</th>\n",
       "      <th>Driving_flag</th>\n",
       "      <th>Passport_flag</th>\n",
       "      <th>PERFORM_CNS.SCORE</th>\n",
       "      <th>PERFORM_CNS.SCORE.DESCRIPTION</th>\n",
       "      <th>PRI.NO.OF.ACCTS</th>\n",
       "      <th>PRI.ACTIVE.ACCTS</th>\n",
       "      <th>PRI.OVERDUE.ACCTS</th>\n",
       "      <th>PRI.CURRENT.BALANCE</th>\n",
       "      <th>PRI.SANCTIONED.AMOUNT</th>\n",
       "      <th>PRI.DISBURSED.AMOUNT</th>\n",
       "      <th>SEC.NO.OF.ACCTS</th>\n",
       "      <th>SEC.ACTIVE.ACCTS</th>\n",
       "      <th>SEC.OVERDUE.ACCTS</th>\n",
       "      <th>SEC.CURRENT.BALANCE</th>\n",
       "      <th>SEC.SANCTIONED.AMOUNT</th>\n",
       "      <th>SEC.DISBURSED.AMOUNT</th>\n",
       "      <th>PRIMARY.INSTAL.AMT</th>\n",
       "      <th>SEC.INSTAL.AMT</th>\n",
       "      <th>NEW.ACCTS.IN.LAST.SIX.MONTHS</th>\n",
       "      <th>DELINQUENT.ACCTS.IN.LAST.SIX.MONTHS</th>\n",
       "      <th>AVERAGE.ACCT.AGE</th>\n",
       "      <th>CREDIT.HISTORY.LENGTH</th>\n",
       "      <th>NO.OF_INQUIRIES</th>\n",
       "      <th>loan_default</th>\n",
       "      <th>Age_at_time_of_disbursement</th>\n",
       "      <th>month_of_disbursement</th>\n",
       "      <th>Scored_Or_Not</th>\n",
       "      <th>First_Time_Account_Holder</th>\n",
       "      <th>Active_accounts_Flag</th>\n",
       "      <th>Overdue_accounts_Flag</th>\n",
       "    </tr>\n",
       "  </thead>\n",
       "  <tbody>\n",
       "    <tr>\n",
       "      <td>71593</td>\n",
       "      <td>598208</td>\n",
       "      <td>47773</td>\n",
       "      <td>85964</td>\n",
       "      <td>59.33</td>\n",
       "      <td>20</td>\n",
       "      <td>16700</td>\n",
       "      <td>86</td>\n",
       "      <td>6434</td>\n",
       "      <td>23-02-68</td>\n",
       "      <td>Self employed</td>\n",
       "      <td>2018-10-22</td>\n",
       "      <td>5</td>\n",
       "      <td>152</td>\n",
       "      <td>1</td>\n",
       "      <td>1</td>\n",
       "      <td>0</td>\n",
       "      <td>0</td>\n",
       "      <td>0</td>\n",
       "      <td>0</td>\n",
       "      <td>748</td>\n",
       "      <td>C-Very Low Risk</td>\n",
       "      <td>2</td>\n",
       "      <td>1</td>\n",
       "      <td>0</td>\n",
       "      <td>36041</td>\n",
       "      <td>1000000000</td>\n",
       "      <td>1000000000</td>\n",
       "      <td>0</td>\n",
       "      <td>0</td>\n",
       "      <td>0</td>\n",
       "      <td>0</td>\n",
       "      <td>0</td>\n",
       "      <td>0</td>\n",
       "      <td>0</td>\n",
       "      <td>0</td>\n",
       "      <td>0</td>\n",
       "      <td>0</td>\n",
       "      <td>2yrs 7mon</td>\n",
       "      <td>4yrs 2mon</td>\n",
       "      <td>0</td>\n",
       "      <td>1</td>\n",
       "      <td>52</td>\n",
       "      <td>10</td>\n",
       "      <td>0</td>\n",
       "      <td>0</td>\n",
       "      <td>1</td>\n",
       "      <td>0</td>\n",
       "    </tr>\n",
       "  </tbody>\n",
       "</table>\n",
       "</div>"
      ],
      "text/plain": [
       "       UniqueID  disbursed_amount  asset_cost    ltv  branch_id  supplier_id  \\\n",
       "71593    598208             47773       85964  59.33         20        16700   \n",
       "\n",
       "       manufacturer_id  Current_pincode_ID Date.of.Birth Employment.Type  \\\n",
       "71593               86                6434      23-02-68   Self employed   \n",
       "\n",
       "      DisbursalDate  State_ID  Employee_code_ID  MobileNo_Avl_Flag  \\\n",
       "71593    2018-10-22         5               152                  1   \n",
       "\n",
       "       Aadhar_flag  PAN_flag  VoterID_flag  Driving_flag  Passport_flag  \\\n",
       "71593            1         0             0             0              0   \n",
       "\n",
       "       PERFORM_CNS.SCORE PERFORM_CNS.SCORE.DESCRIPTION  PRI.NO.OF.ACCTS  \\\n",
       "71593                748               C-Very Low Risk                2   \n",
       "\n",
       "       PRI.ACTIVE.ACCTS  PRI.OVERDUE.ACCTS  PRI.CURRENT.BALANCE  \\\n",
       "71593                 1                  0                36041   \n",
       "\n",
       "       PRI.SANCTIONED.AMOUNT  PRI.DISBURSED.AMOUNT  SEC.NO.OF.ACCTS  \\\n",
       "71593             1000000000            1000000000                0   \n",
       "\n",
       "       SEC.ACTIVE.ACCTS  SEC.OVERDUE.ACCTS  SEC.CURRENT.BALANCE  \\\n",
       "71593                 0                  0                    0   \n",
       "\n",
       "       SEC.SANCTIONED.AMOUNT  SEC.DISBURSED.AMOUNT  PRIMARY.INSTAL.AMT  \\\n",
       "71593                      0                     0                   0   \n",
       "\n",
       "       SEC.INSTAL.AMT  NEW.ACCTS.IN.LAST.SIX.MONTHS  \\\n",
       "71593               0                             0   \n",
       "\n",
       "       DELINQUENT.ACCTS.IN.LAST.SIX.MONTHS AVERAGE.ACCT.AGE  \\\n",
       "71593                                    0        2yrs 7mon   \n",
       "\n",
       "      CREDIT.HISTORY.LENGTH  NO.OF_INQUIRIES  loan_default  \\\n",
       "71593             4yrs 2mon                0             1   \n",
       "\n",
       "       Age_at_time_of_disbursement  month_of_disbursement  Scored_Or_Not  \\\n",
       "71593                           52                     10              0   \n",
       "\n",
       "       First_Time_Account_Holder  Active_accounts_Flag  Overdue_accounts_Flag  \n",
       "71593                          0                     1                      0  "
      ]
     },
     "execution_count": 117,
     "metadata": {},
     "output_type": "execute_result"
    }
   ],
   "source": [
    "df[df[\"PRI.SANCTIONED.AMOUNT\"]==df[\"PRI.SANCTIONED.AMOUNT\"].max()]"
   ]
  },
  {
   "cell_type": "markdown",
   "metadata": {},
   "source": [
    "#### His primary sanctioned amount is 100 crore while he had only two accounts before and his current disbursed amount seems to be less than 50000 which is two extremes.Eitherway we can't rule out."
   ]
  },
  {
   "cell_type": "code",
   "execution_count": 118,
   "metadata": {},
   "outputs": [
    {
     "data": {
      "text/plain": [
       "Ttest_indResult(statistic=5.386857453201851, pvalue=7.176942237800462e-08)"
      ]
     },
     "execution_count": 118,
     "metadata": {},
     "output_type": "execute_result"
    }
   ],
   "source": [
    "ttest_ind(group_0[\"PRI.DISBURSED.AMOUNT\"],group_1[\"PRI.DISBURSED.AMOUNT\"])"
   ]
  },
  {
   "cell_type": "code",
   "execution_count": 119,
   "metadata": {},
   "outputs": [
    {
     "data": {
      "text/plain": [
       "Ttest_indResult(statistic=5.458812718452121, pvalue=4.798158421546997e-08)"
      ]
     },
     "execution_count": 119,
     "metadata": {},
     "output_type": "execute_result"
    }
   ],
   "source": [
    "ttest_ind(group_0[\"PRI.SANCTIONED.AMOUNT\"],group_1[\"PRI.SANCTIONED.AMOUNT\"])"
   ]
  },
  {
   "cell_type": "markdown",
   "metadata": {},
   "source": [
    "#### both variables have p_values less than .05 which states that mean of both groups are not equal(both are significant features)"
   ]
  },
  {
   "cell_type": "markdown",
   "metadata": {},
   "source": [
    "### SEC.NO.OF.ACCTS  SEC.ACTIVE.ACCTS SEC.OVERDUE.ACCTS"
   ]
  },
  {
   "cell_type": "code",
   "execution_count": 120,
   "metadata": {},
   "outputs": [
    {
     "data": {
      "text/plain": [
       "0    227289\n",
       "1      3466\n",
       "2      1036\n",
       "3       444\n",
       "4       292\n",
       "Name: SEC.NO.OF.ACCTS, dtype: int64"
      ]
     },
     "execution_count": 120,
     "metadata": {},
     "output_type": "execute_result"
    }
   ],
   "source": [
    "df[\"SEC.NO.OF.ACCTS\"].value_counts().head()"
   ]
  },
  {
   "cell_type": "markdown",
   "metadata": {},
   "source": [
    "#### over 2 lakh people have no secondary accounts"
   ]
  },
  {
   "cell_type": "code",
   "execution_count": 121,
   "metadata": {},
   "outputs": [],
   "source": [
    "conti_table=pd.crosstab(df['SEC.NO.OF.ACCTS'],df[\"loan_default\"],normalize=\"index\")"
   ]
  },
  {
   "cell_type": "markdown",
   "metadata": {},
   "source": [
    "### H0-There is no siginificant relationship between the SEC.NO.OF.ACCTS and no_of_defaulters\n",
    "### H1-There is  siginificant relationship between the SEC.NO.OF.ACCTS and no_of_defaulters"
   ]
  },
  {
   "cell_type": "code",
   "execution_count": 122,
   "metadata": {},
   "outputs": [],
   "source": [
    "chi_2,p_value,dof,exp=chi2_contingency(conti_table)"
   ]
  },
  {
   "cell_type": "code",
   "execution_count": 123,
   "metadata": {},
   "outputs": [
    {
     "name": "stdout",
     "output_type": "stream",
     "text": [
      "chi_2- 6.0045936375142555 p_value- 0.9999999963867071\n"
     ]
    }
   ],
   "source": [
    "print(\"chi_2-\",chi_2,\"p_value-\",p_value)"
   ]
  },
  {
   "cell_type": "markdown",
   "metadata": {},
   "source": [
    "#### This parameter also fails to reject null hypothesis which conveys there is no significant relationship between SEC.NO.OF.ACCTS  and no_of_defaulters"
   ]
  },
  {
   "cell_type": "code",
   "execution_count": 124,
   "metadata": {},
   "outputs": [
    {
     "data": {
      "text/plain": [
       "0    229337\n",
       "1      2684\n",
       "2       636\n",
       "3       195\n",
       "4       116\n",
       "Name: SEC.ACTIVE.ACCTS, dtype: int64"
      ]
     },
     "execution_count": 124,
     "metadata": {},
     "output_type": "execute_result"
    }
   ],
   "source": [
    "df[\"SEC.ACTIVE.ACCTS\"].value_counts().head()"
   ]
  },
  {
   "cell_type": "code",
   "execution_count": 125,
   "metadata": {},
   "outputs": [],
   "source": [
    "conti_table=pd.crosstab(df['SEC.ACTIVE.ACCTS'],df[\"loan_default\"],normalize=\"index\")"
   ]
  },
  {
   "cell_type": "markdown",
   "metadata": {},
   "source": [
    "### H0-There is no siginificant relationship between the SEC.ACTIVE.ACCTS and no_of_defaulters\n",
    "### H1-There is  siginificant relationship between the SEC.ACTIVE.ACCTS and no_of_defaulters"
   ]
  },
  {
   "cell_type": "code",
   "execution_count": 126,
   "metadata": {},
   "outputs": [],
   "source": [
    "chi_2,p_value,dof,exp=chi2_contingency(conti_table)"
   ]
  },
  {
   "cell_type": "code",
   "execution_count": 127,
   "metadata": {},
   "outputs": [
    {
     "name": "stdout",
     "output_type": "stream",
     "text": [
      "chi_2- 4.483899677775443 p_value- 0.9999765449816578\n"
     ]
    }
   ],
   "source": [
    "print(\"chi_2-\",chi_2,\"p_value-\",p_value)"
   ]
  },
  {
   "cell_type": "markdown",
   "metadata": {},
   "source": [
    "#### This parameter also fails to reject null hypothesis which conveys there is no significant relationship between SEC.ACTIVE.ACCTS  and no_of_defaulters"
   ]
  },
  {
   "cell_type": "code",
   "execution_count": 128,
   "metadata": {},
   "outputs": [
    {
     "data": {
      "text/plain": [
       "0    231817\n",
       "1      1129\n",
       "2       126\n",
       "3        47\n",
       "4        19\n",
       "Name: SEC.OVERDUE.ACCTS, dtype: int64"
      ]
     },
     "execution_count": 128,
     "metadata": {},
     "output_type": "execute_result"
    }
   ],
   "source": [
    "df[\"SEC.OVERDUE.ACCTS\"].value_counts().head()"
   ]
  },
  {
   "cell_type": "code",
   "execution_count": 129,
   "metadata": {},
   "outputs": [],
   "source": [
    "conti_table=pd.crosstab(df['SEC.OVERDUE.ACCTS'],df[\"loan_default\"],normalize=\"index\")"
   ]
  },
  {
   "cell_type": "markdown",
   "metadata": {},
   "source": [
    "### H0-There is no siginificant relationship between the SEC.OVERDUE.ACCTS and no_of_defaulters\n",
    "### H1-There is  siginificant relationship between the SEC.OVERDUE.ACCTS and no_of_defaulters"
   ]
  },
  {
   "cell_type": "code",
   "execution_count": 130,
   "metadata": {},
   "outputs": [],
   "source": [
    "chi_2,p_value,dof,exp=chi2_contingency(conti_table)"
   ]
  },
  {
   "cell_type": "code",
   "execution_count": 131,
   "metadata": {},
   "outputs": [
    {
     "name": "stdout",
     "output_type": "stream",
     "text": [
      "chi_2- 0.7006247696945116 p_value- 0.9995250753555058\n"
     ]
    }
   ],
   "source": [
    "print(\"chi_2-\",chi_2,\"p_value-\",p_value)"
   ]
  },
  {
   "cell_type": "markdown",
   "metadata": {},
   "source": [
    "#### This parameter also fails to reject null hypothesis which conveys there is no significant relationship between SEC.OVERDUE.ACCTS  and no_of_defaulters"
   ]
  },
  {
   "cell_type": "markdown",
   "metadata": {},
   "source": [
    "### SEC.CURRENT.BALANCE SEC.SANCTIONED.AMOUNT  SEC.DISBURSED.AMOUNT"
   ]
  },
  {
   "cell_type": "code",
   "execution_count": 132,
   "metadata": {},
   "outputs": [
    {
     "data": {
      "text/plain": [
       "count    2.331540e+05\n",
       "mean     5.427793e+03\n",
       "std      1.702370e+05\n",
       "min     -5.746470e+05\n",
       "25%      0.000000e+00\n",
       "50%      0.000000e+00\n",
       "75%      0.000000e+00\n",
       "max      3.603285e+07\n",
       "Name: SEC.CURRENT.BALANCE, dtype: float64"
      ]
     },
     "execution_count": 132,
     "metadata": {},
     "output_type": "execute_result"
    }
   ],
   "source": [
    "df[\"SEC.CURRENT.BALANCE\"].describe()"
   ]
  },
  {
   "cell_type": "code",
   "execution_count": 133,
   "metadata": {},
   "outputs": [
    {
     "data": {
      "text/html": [
       "<div>\n",
       "<style scoped>\n",
       "    .dataframe tbody tr th:only-of-type {\n",
       "        vertical-align: middle;\n",
       "    }\n",
       "\n",
       "    .dataframe tbody tr th {\n",
       "        vertical-align: top;\n",
       "    }\n",
       "\n",
       "    .dataframe thead th {\n",
       "        text-align: right;\n",
       "    }\n",
       "</style>\n",
       "<table border=\"1\" class=\"dataframe\">\n",
       "  <thead>\n",
       "    <tr style=\"text-align: right;\">\n",
       "      <th></th>\n",
       "      <th>UniqueID</th>\n",
       "      <th>disbursed_amount</th>\n",
       "      <th>asset_cost</th>\n",
       "      <th>ltv</th>\n",
       "      <th>branch_id</th>\n",
       "      <th>supplier_id</th>\n",
       "      <th>manufacturer_id</th>\n",
       "      <th>Current_pincode_ID</th>\n",
       "      <th>Date.of.Birth</th>\n",
       "      <th>Employment.Type</th>\n",
       "      <th>DisbursalDate</th>\n",
       "      <th>State_ID</th>\n",
       "      <th>Employee_code_ID</th>\n",
       "      <th>MobileNo_Avl_Flag</th>\n",
       "      <th>Aadhar_flag</th>\n",
       "      <th>PAN_flag</th>\n",
       "      <th>VoterID_flag</th>\n",
       "      <th>Driving_flag</th>\n",
       "      <th>Passport_flag</th>\n",
       "      <th>PERFORM_CNS.SCORE</th>\n",
       "      <th>PERFORM_CNS.SCORE.DESCRIPTION</th>\n",
       "      <th>PRI.NO.OF.ACCTS</th>\n",
       "      <th>PRI.ACTIVE.ACCTS</th>\n",
       "      <th>PRI.OVERDUE.ACCTS</th>\n",
       "      <th>PRI.CURRENT.BALANCE</th>\n",
       "      <th>PRI.SANCTIONED.AMOUNT</th>\n",
       "      <th>PRI.DISBURSED.AMOUNT</th>\n",
       "      <th>SEC.NO.OF.ACCTS</th>\n",
       "      <th>SEC.ACTIVE.ACCTS</th>\n",
       "      <th>SEC.OVERDUE.ACCTS</th>\n",
       "      <th>SEC.CURRENT.BALANCE</th>\n",
       "      <th>SEC.SANCTIONED.AMOUNT</th>\n",
       "      <th>SEC.DISBURSED.AMOUNT</th>\n",
       "      <th>PRIMARY.INSTAL.AMT</th>\n",
       "      <th>SEC.INSTAL.AMT</th>\n",
       "      <th>NEW.ACCTS.IN.LAST.SIX.MONTHS</th>\n",
       "      <th>DELINQUENT.ACCTS.IN.LAST.SIX.MONTHS</th>\n",
       "      <th>AVERAGE.ACCT.AGE</th>\n",
       "      <th>CREDIT.HISTORY.LENGTH</th>\n",
       "      <th>NO.OF_INQUIRIES</th>\n",
       "      <th>loan_default</th>\n",
       "      <th>Age_at_time_of_disbursement</th>\n",
       "      <th>month_of_disbursement</th>\n",
       "      <th>Scored_Or_Not</th>\n",
       "      <th>First_Time_Account_Holder</th>\n",
       "      <th>Active_accounts_Flag</th>\n",
       "      <th>Overdue_accounts_Flag</th>\n",
       "    </tr>\n",
       "  </thead>\n",
       "  <tbody>\n",
       "    <tr>\n",
       "      <td>2548</td>\n",
       "      <td>461175</td>\n",
       "      <td>49763</td>\n",
       "      <td>73616</td>\n",
       "      <td>70.64</td>\n",
       "      <td>142</td>\n",
       "      <td>17315</td>\n",
       "      <td>86</td>\n",
       "      <td>109</td>\n",
       "      <td>08-10-94</td>\n",
       "      <td>Salaried</td>\n",
       "      <td>2018-08-24</td>\n",
       "      <td>16</td>\n",
       "      <td>331</td>\n",
       "      <td>1</td>\n",
       "      <td>1</td>\n",
       "      <td>0</td>\n",
       "      <td>0</td>\n",
       "      <td>0</td>\n",
       "      <td>0</td>\n",
       "      <td>525</td>\n",
       "      <td>J-High Risk</td>\n",
       "      <td>9</td>\n",
       "      <td>5</td>\n",
       "      <td>1</td>\n",
       "      <td>96378</td>\n",
       "      <td>196500</td>\n",
       "      <td>196500</td>\n",
       "      <td>1</td>\n",
       "      <td>1</td>\n",
       "      <td>0</td>\n",
       "      <td>-30</td>\n",
       "      <td>100000</td>\n",
       "      <td>2239</td>\n",
       "      <td>2332</td>\n",
       "      <td>0</td>\n",
       "      <td>3</td>\n",
       "      <td>1</td>\n",
       "      <td>0yrs 10mon</td>\n",
       "      <td>2yrs 6mon</td>\n",
       "      <td>0</td>\n",
       "      <td>1</td>\n",
       "      <td>26</td>\n",
       "      <td>8</td>\n",
       "      <td>0</td>\n",
       "      <td>0</td>\n",
       "      <td>1</td>\n",
       "      <td>1</td>\n",
       "    </tr>\n",
       "    <tr>\n",
       "      <td>3657</td>\n",
       "      <td>577744</td>\n",
       "      <td>59259</td>\n",
       "      <td>77516</td>\n",
       "      <td>77.40</td>\n",
       "      <td>16</td>\n",
       "      <td>21498</td>\n",
       "      <td>86</td>\n",
       "      <td>2940</td>\n",
       "      <td>21-07-84</td>\n",
       "      <td>Salaried</td>\n",
       "      <td>2018-10-14</td>\n",
       "      <td>17</td>\n",
       "      <td>430</td>\n",
       "      <td>1</td>\n",
       "      <td>1</td>\n",
       "      <td>0</td>\n",
       "      <td>0</td>\n",
       "      <td>0</td>\n",
       "      <td>0</td>\n",
       "      <td>585</td>\n",
       "      <td>I-Medium Risk</td>\n",
       "      <td>3</td>\n",
       "      <td>0</td>\n",
       "      <td>0</td>\n",
       "      <td>0</td>\n",
       "      <td>0</td>\n",
       "      <td>0</td>\n",
       "      <td>1</td>\n",
       "      <td>1</td>\n",
       "      <td>0</td>\n",
       "      <td>-76</td>\n",
       "      <td>156994</td>\n",
       "      <td>156994</td>\n",
       "      <td>0</td>\n",
       "      <td>0</td>\n",
       "      <td>0</td>\n",
       "      <td>0</td>\n",
       "      <td>3yrs 2mon</td>\n",
       "      <td>10yrs 7mon</td>\n",
       "      <td>0</td>\n",
       "      <td>1</td>\n",
       "      <td>36</td>\n",
       "      <td>10</td>\n",
       "      <td>0</td>\n",
       "      <td>0</td>\n",
       "      <td>0</td>\n",
       "      <td>0</td>\n",
       "    </tr>\n",
       "    <tr>\n",
       "      <td>13333</td>\n",
       "      <td>473381</td>\n",
       "      <td>26060</td>\n",
       "      <td>52674</td>\n",
       "      <td>52.51</td>\n",
       "      <td>3</td>\n",
       "      <td>16167</td>\n",
       "      <td>45</td>\n",
       "      <td>91</td>\n",
       "      <td>26-02-63</td>\n",
       "      <td>Salaried</td>\n",
       "      <td>2018-08-29</td>\n",
       "      <td>1</td>\n",
       "      <td>630</td>\n",
       "      <td>1</td>\n",
       "      <td>1</td>\n",
       "      <td>0</td>\n",
       "      <td>0</td>\n",
       "      <td>0</td>\n",
       "      <td>0</td>\n",
       "      <td>610</td>\n",
       "      <td>H-Medium Risk</td>\n",
       "      <td>4</td>\n",
       "      <td>3</td>\n",
       "      <td>1</td>\n",
       "      <td>225759</td>\n",
       "      <td>539100</td>\n",
       "      <td>539100</td>\n",
       "      <td>1</td>\n",
       "      <td>1</td>\n",
       "      <td>0</td>\n",
       "      <td>-1</td>\n",
       "      <td>28964</td>\n",
       "      <td>28964</td>\n",
       "      <td>12319</td>\n",
       "      <td>0</td>\n",
       "      <td>0</td>\n",
       "      <td>0</td>\n",
       "      <td>2yrs 6mon</td>\n",
       "      <td>7yrs 0mon</td>\n",
       "      <td>0</td>\n",
       "      <td>0</td>\n",
       "      <td>57</td>\n",
       "      <td>8</td>\n",
       "      <td>0</td>\n",
       "      <td>0</td>\n",
       "      <td>1</td>\n",
       "      <td>1</td>\n",
       "    </tr>\n",
       "    <tr>\n",
       "      <td>18205</td>\n",
       "      <td>529513</td>\n",
       "      <td>39619</td>\n",
       "      <td>63084</td>\n",
       "      <td>67.37</td>\n",
       "      <td>160</td>\n",
       "      <td>15700</td>\n",
       "      <td>86</td>\n",
       "      <td>92</td>\n",
       "      <td>01-05-68</td>\n",
       "      <td>Self employed</td>\n",
       "      <td>2018-09-23</td>\n",
       "      <td>16</td>\n",
       "      <td>1191</td>\n",
       "      <td>1</td>\n",
       "      <td>1</td>\n",
       "      <td>1</td>\n",
       "      <td>0</td>\n",
       "      <td>0</td>\n",
       "      <td>0</td>\n",
       "      <td>839</td>\n",
       "      <td>A-Very Low Risk</td>\n",
       "      <td>1</td>\n",
       "      <td>0</td>\n",
       "      <td>0</td>\n",
       "      <td>0</td>\n",
       "      <td>0</td>\n",
       "      <td>0</td>\n",
       "      <td>1</td>\n",
       "      <td>1</td>\n",
       "      <td>0</td>\n",
       "      <td>-24</td>\n",
       "      <td>5436</td>\n",
       "      <td>5436</td>\n",
       "      <td>0</td>\n",
       "      <td>0</td>\n",
       "      <td>1</td>\n",
       "      <td>0</td>\n",
       "      <td>1yrs 7mon</td>\n",
       "      <td>3yrs 2mon</td>\n",
       "      <td>0</td>\n",
       "      <td>0</td>\n",
       "      <td>52</td>\n",
       "      <td>9</td>\n",
       "      <td>0</td>\n",
       "      <td>0</td>\n",
       "      <td>0</td>\n",
       "      <td>0</td>\n",
       "    </tr>\n",
       "    <tr>\n",
       "      <td>19182</td>\n",
       "      <td>446097</td>\n",
       "      <td>23166</td>\n",
       "      <td>54340</td>\n",
       "      <td>45.09</td>\n",
       "      <td>160</td>\n",
       "      <td>14151</td>\n",
       "      <td>45</td>\n",
       "      <td>60</td>\n",
       "      <td>12-01-83</td>\n",
       "      <td>Self employed</td>\n",
       "      <td>2018-08-17</td>\n",
       "      <td>1</td>\n",
       "      <td>1839</td>\n",
       "      <td>1</td>\n",
       "      <td>1</td>\n",
       "      <td>0</td>\n",
       "      <td>0</td>\n",
       "      <td>0</td>\n",
       "      <td>0</td>\n",
       "      <td>690</td>\n",
       "      <td>E-Low Risk</td>\n",
       "      <td>14</td>\n",
       "      <td>3</td>\n",
       "      <td>0</td>\n",
       "      <td>206000</td>\n",
       "      <td>518740</td>\n",
       "      <td>521684</td>\n",
       "      <td>1</td>\n",
       "      <td>1</td>\n",
       "      <td>0</td>\n",
       "      <td>-125</td>\n",
       "      <td>17000</td>\n",
       "      <td>17000</td>\n",
       "      <td>0</td>\n",
       "      <td>0</td>\n",
       "      <td>0</td>\n",
       "      <td>1</td>\n",
       "      <td>3yrs 2mon</td>\n",
       "      <td>12yrs 6mon</td>\n",
       "      <td>0</td>\n",
       "      <td>0</td>\n",
       "      <td>37</td>\n",
       "      <td>8</td>\n",
       "      <td>0</td>\n",
       "      <td>0</td>\n",
       "      <td>1</td>\n",
       "      <td>0</td>\n",
       "    </tr>\n",
       "  </tbody>\n",
       "</table>\n",
       "</div>"
      ],
      "text/plain": [
       "       UniqueID  disbursed_amount  asset_cost    ltv  branch_id  supplier_id  \\\n",
       "2548     461175             49763       73616  70.64        142        17315   \n",
       "3657     577744             59259       77516  77.40         16        21498   \n",
       "13333    473381             26060       52674  52.51          3        16167   \n",
       "18205    529513             39619       63084  67.37        160        15700   \n",
       "19182    446097             23166       54340  45.09        160        14151   \n",
       "\n",
       "       manufacturer_id  Current_pincode_ID Date.of.Birth Employment.Type  \\\n",
       "2548                86                 109      08-10-94        Salaried   \n",
       "3657                86                2940      21-07-84        Salaried   \n",
       "13333               45                  91      26-02-63        Salaried   \n",
       "18205               86                  92      01-05-68   Self employed   \n",
       "19182               45                  60      12-01-83   Self employed   \n",
       "\n",
       "      DisbursalDate  State_ID  Employee_code_ID  MobileNo_Avl_Flag  \\\n",
       "2548     2018-08-24        16               331                  1   \n",
       "3657     2018-10-14        17               430                  1   \n",
       "13333    2018-08-29         1               630                  1   \n",
       "18205    2018-09-23        16              1191                  1   \n",
       "19182    2018-08-17         1              1839                  1   \n",
       "\n",
       "       Aadhar_flag  PAN_flag  VoterID_flag  Driving_flag  Passport_flag  \\\n",
       "2548             1         0             0             0              0   \n",
       "3657             1         0             0             0              0   \n",
       "13333            1         0             0             0              0   \n",
       "18205            1         1             0             0              0   \n",
       "19182            1         0             0             0              0   \n",
       "\n",
       "       PERFORM_CNS.SCORE PERFORM_CNS.SCORE.DESCRIPTION  PRI.NO.OF.ACCTS  \\\n",
       "2548                 525                   J-High Risk                9   \n",
       "3657                 585                 I-Medium Risk                3   \n",
       "13333                610                 H-Medium Risk                4   \n",
       "18205                839               A-Very Low Risk                1   \n",
       "19182                690                    E-Low Risk               14   \n",
       "\n",
       "       PRI.ACTIVE.ACCTS  PRI.OVERDUE.ACCTS  PRI.CURRENT.BALANCE  \\\n",
       "2548                  5                  1                96378   \n",
       "3657                  0                  0                    0   \n",
       "13333                 3                  1               225759   \n",
       "18205                 0                  0                    0   \n",
       "19182                 3                  0               206000   \n",
       "\n",
       "       PRI.SANCTIONED.AMOUNT  PRI.DISBURSED.AMOUNT  SEC.NO.OF.ACCTS  \\\n",
       "2548                  196500                196500                1   \n",
       "3657                       0                     0                1   \n",
       "13333                 539100                539100                1   \n",
       "18205                      0                     0                1   \n",
       "19182                 518740                521684                1   \n",
       "\n",
       "       SEC.ACTIVE.ACCTS  SEC.OVERDUE.ACCTS  SEC.CURRENT.BALANCE  \\\n",
       "2548                  1                  0                  -30   \n",
       "3657                  1                  0                  -76   \n",
       "13333                 1                  0                   -1   \n",
       "18205                 1                  0                  -24   \n",
       "19182                 1                  0                 -125   \n",
       "\n",
       "       SEC.SANCTIONED.AMOUNT  SEC.DISBURSED.AMOUNT  PRIMARY.INSTAL.AMT  \\\n",
       "2548                  100000                  2239                2332   \n",
       "3657                  156994                156994                   0   \n",
       "13333                  28964                 28964               12319   \n",
       "18205                   5436                  5436                   0   \n",
       "19182                  17000                 17000                   0   \n",
       "\n",
       "       SEC.INSTAL.AMT  NEW.ACCTS.IN.LAST.SIX.MONTHS  \\\n",
       "2548                0                             3   \n",
       "3657                0                             0   \n",
       "13333               0                             0   \n",
       "18205               0                             1   \n",
       "19182               0                             0   \n",
       "\n",
       "       DELINQUENT.ACCTS.IN.LAST.SIX.MONTHS AVERAGE.ACCT.AGE  \\\n",
       "2548                                     1       0yrs 10mon   \n",
       "3657                                     0        3yrs 2mon   \n",
       "13333                                    0        2yrs 6mon   \n",
       "18205                                    0        1yrs 7mon   \n",
       "19182                                    1        3yrs 2mon   \n",
       "\n",
       "      CREDIT.HISTORY.LENGTH  NO.OF_INQUIRIES  loan_default  \\\n",
       "2548              2yrs 6mon                0             1   \n",
       "3657             10yrs 7mon                0             1   \n",
       "13333             7yrs 0mon                0             0   \n",
       "18205             3yrs 2mon                0             0   \n",
       "19182            12yrs 6mon                0             0   \n",
       "\n",
       "       Age_at_time_of_disbursement  month_of_disbursement  Scored_Or_Not  \\\n",
       "2548                            26                      8              0   \n",
       "3657                            36                     10              0   \n",
       "13333                           57                      8              0   \n",
       "18205                           52                      9              0   \n",
       "19182                           37                      8              0   \n",
       "\n",
       "       First_Time_Account_Holder  Active_accounts_Flag  Overdue_accounts_Flag  \n",
       "2548                           0                     1                      1  \n",
       "3657                           0                     0                      0  \n",
       "13333                          0                     1                      1  \n",
       "18205                          0                     0                      0  \n",
       "19182                          0                     1                      0  "
      ]
     },
     "execution_count": 133,
     "metadata": {},
     "output_type": "execute_result"
    }
   ],
   "source": [
    "df[df[\"SEC.CURRENT.BALANCE\"]<0].head()"
   ]
  },
  {
   "cell_type": "markdown",
   "metadata": {},
   "source": [
    "#### here also current balance have values less than zero"
   ]
  },
  {
   "cell_type": "code",
   "execution_count": 134,
   "metadata": {},
   "outputs": [
    {
     "data": {
      "text/plain": [
       "<matplotlib.axes._subplots.AxesSubplot at 0x1f1bb1509c8>"
      ]
     },
     "execution_count": 134,
     "metadata": {},
     "output_type": "execute_result"
    },
    {
     "data": {
      "image/png": "[encoded data removed]",
      "text/plain": [
       "<Figure size 432x288 with 1 Axes>"
      ]
     },
     "metadata": {
      "needs_background": "light"
     },
     "output_type": "display_data"
    }
   ],
   "source": [
    "sns.distplot(df[\"SEC.SANCTIONED.AMOUNT\"])"
   ]
  },
  {
   "cell_type": "code",
   "execution_count": 135,
   "metadata": {},
   "outputs": [
    {
     "data": {
      "text/plain": [
       "<matplotlib.axes._subplots.AxesSubplot at 0x1f1bb1294c8>"
      ]
     },
     "execution_count": 135,
     "metadata": {},
     "output_type": "execute_result"
    },
    {
     "data": {
      "image/png": "[encoded data removed]",
      "text/plain": [
       "<Figure size 432x288 with 1 Axes>"
      ]
     },
     "metadata": {
      "needs_background": "light"
     },
     "output_type": "display_data"
    }
   ],
   "source": [
    "sns.distplot(df[\"SEC.DISBURSED.AMOUNT\"])"
   ]
  },
  {
   "cell_type": "code",
   "execution_count": 136,
   "metadata": {},
   "outputs": [
    {
     "data": {
      "text/plain": [
       "<matplotlib.axes._subplots.AxesSubplot at 0x1f1bb225448>"
      ]
     },
     "execution_count": 136,
     "metadata": {},
     "output_type": "execute_result"
    },
    {
     "data": {
      "image/png": "[encoded data removed]",
      "text/plain": [
       "<Figure size 432x288 with 1 Axes>"
      ]
     },
     "metadata": {
      "needs_background": "light"
     },
     "output_type": "display_data"
    }
   ],
   "source": [
    "sns.distplot(df[\"SEC.CURRENT.BALANCE\"])"
   ]
  },
  {
   "cell_type": "code",
   "execution_count": 137,
   "metadata": {},
   "outputs": [
    {
     "data": {
      "text/plain": [
       "Ttest_indResult(statistic=2.6709443833814404, pvalue=0.0075643427363124875)"
      ]
     },
     "execution_count": 137,
     "metadata": {},
     "output_type": "execute_result"
    }
   ],
   "source": [
    "ttest_ind(group_0[\"SEC.CURRENT.BALANCE\"],group_1[\"SEC.CURRENT.BALANCE\"])"
   ]
  },
  {
   "cell_type": "code",
   "execution_count": 138,
   "metadata": {},
   "outputs": [
    {
     "data": {
      "text/plain": [
       "Ttest_indResult(statistic=3.017101025367004, pvalue=0.0025523226185338705)"
      ]
     },
     "execution_count": 138,
     "metadata": {},
     "output_type": "execute_result"
    }
   ],
   "source": [
    "ttest_ind(group_0[\"SEC.DISBURSED.AMOUNT\"],group_1[\"SEC.DISBURSED.AMOUNT\"])"
   ]
  },
  {
   "cell_type": "code",
   "execution_count": 139,
   "metadata": {},
   "outputs": [
    {
     "data": {
      "text/plain": [
       "Ttest_indResult(statistic=3.068298386446011, pvalue=0.002153062273491789)"
      ]
     },
     "execution_count": 139,
     "metadata": {},
     "output_type": "execute_result"
    }
   ],
   "source": [
    "ttest_ind(group_0[\"SEC.SANCTIONED.AMOUNT\"],group_1[\"SEC.SANCTIONED.AMOUNT\"])"
   ]
  },
  {
   "cell_type": "markdown",
   "metadata": {},
   "source": [
    "### PRIMARY.INSTAL.AMT SEC.INSTAL.AMT"
   ]
  },
  {
   "cell_type": "code",
   "execution_count": 140,
   "metadata": {},
   "outputs": [
    {
     "data": {
      "text/plain": [
       "count    2.331540e+05\n",
       "mean     1.310548e+04\n",
       "std      1.513679e+05\n",
       "min      0.000000e+00\n",
       "25%      0.000000e+00\n",
       "50%      0.000000e+00\n",
       "75%      1.999000e+03\n",
       "max      2.564281e+07\n",
       "Name: PRIMARY.INSTAL.AMT, dtype: float64"
      ]
     },
     "execution_count": 140,
     "metadata": {},
     "output_type": "execute_result"
    }
   ],
   "source": [
    "df[\"PRIMARY.INSTAL.AMT\"].describe()"
   ]
  },
  {
   "cell_type": "code",
   "execution_count": 141,
   "metadata": {},
   "outputs": [
    {
     "data": {
      "text/plain": [
       "count    2.331540e+05\n",
       "mean     3.232684e+02\n",
       "std      1.555369e+04\n",
       "min      0.000000e+00\n",
       "25%      0.000000e+00\n",
       "50%      0.000000e+00\n",
       "75%      0.000000e+00\n",
       "max      4.170901e+06\n",
       "Name: SEC.INSTAL.AMT, dtype: float64"
      ]
     },
     "execution_count": 141,
     "metadata": {},
     "output_type": "execute_result"
    }
   ],
   "source": [
    "df[\"SEC.INSTAL.AMT\"].describe()"
   ]
  },
  {
   "cell_type": "code",
   "execution_count": 142,
   "metadata": {},
   "outputs": [
    {
     "data": {
      "text/plain": [
       "<matplotlib.axes._subplots.AxesSubplot at 0x1f1bcde0088>"
      ]
     },
     "execution_count": 142,
     "metadata": {},
     "output_type": "execute_result"
    },
    {
     "data": {
      "image/png": "[encoded data removed]",
      "text/plain": [
       "<Figure size 432x288 with 1 Axes>"
      ]
     },
     "metadata": {
      "needs_background": "light"
     },
     "output_type": "display_data"
    }
   ],
   "source": [
    "sns.distplot(df[\"PRIMARY.INSTAL.AMT\"])"
   ]
  },
  {
   "cell_type": "code",
   "execution_count": 143,
   "metadata": {},
   "outputs": [
    {
     "data": {
      "text/plain": [
       "<matplotlib.axes._subplots.AxesSubplot at 0x1f1bcb541c8>"
      ]
     },
     "execution_count": 143,
     "metadata": {},
     "output_type": "execute_result"
    },
    {
     "data": {
      "image/png": "[encoded data removed]",
      "text/plain": [
       "<Figure size 432x288 with 1 Axes>"
      ]
     },
     "metadata": {
      "needs_background": "light"
     },
     "output_type": "display_data"
    }
   ],
   "source": [
    "sns.distplot(df[\"SEC.INSTAL.AMT\"])"
   ]
  },
  {
   "cell_type": "markdown",
   "metadata": {},
   "source": [
    "### in both cases,we see abnormal max values."
   ]
  },
  {
   "cell_type": "code",
   "execution_count": 144,
   "metadata": {},
   "outputs": [
    {
     "data": {
      "text/html": [
       "<div>\n",
       "<style scoped>\n",
       "    .dataframe tbody tr th:only-of-type {\n",
       "        vertical-align: middle;\n",
       "    }\n",
       "\n",
       "    .dataframe tbody tr th {\n",
       "        vertical-align: top;\n",
       "    }\n",
       "\n",
       "    .dataframe thead th {\n",
       "        text-align: right;\n",
       "    }\n",
       "</style>\n",
       "<table border=\"1\" class=\"dataframe\">\n",
       "  <thead>\n",
       "    <tr style=\"text-align: right;\">\n",
       "      <th></th>\n",
       "      <th>PRI.DISBURSED.AMOUNT</th>\n",
       "      <th>PRIMARY.INSTAL.AMT</th>\n",
       "    </tr>\n",
       "  </thead>\n",
       "  <tbody>\n",
       "    <tr>\n",
       "      <td>125308</td>\n",
       "      <td>1200000</td>\n",
       "      <td>25642806</td>\n",
       "    </tr>\n",
       "  </tbody>\n",
       "</table>\n",
       "</div>"
      ],
      "text/plain": [
       "        PRI.DISBURSED.AMOUNT  PRIMARY.INSTAL.AMT\n",
       "125308               1200000            25642806"
      ]
     },
     "execution_count": 144,
     "metadata": {},
     "output_type": "execute_result"
    }
   ],
   "source": [
    "df[df[\"PRIMARY.INSTAL.AMT\"]==df[\"PRIMARY.INSTAL.AMT\"].max()][[\"PRI.DISBURSED.AMOUNT\",\"PRIMARY.INSTAL.AMT\"]]"
   ]
  },
  {
   "cell_type": "markdown",
   "metadata": {},
   "source": [
    "#### how come primary install amt is greater than the primary disbursed amount.may be typo error which we should analyze"
   ]
  },
  {
   "cell_type": "markdown",
   "metadata": {},
   "source": [
    "### H0:mean_emi_of_non_defaulters==mean_emi_of_non_defaulters\n",
    "### H1:mean_emi_of_non_defaulters!=mean_emi_of_non_defaulters"
   ]
  },
  {
   "cell_type": "code",
   "execution_count": 145,
   "metadata": {},
   "outputs": [
    {
     "data": {
      "text/plain": [
       "Ttest_indResult(statistic=5.126237219178528, pvalue=2.958254960232989e-07)"
      ]
     },
     "execution_count": 145,
     "metadata": {},
     "output_type": "execute_result"
    }
   ],
   "source": [
    "ttest_ind(group_0[\"PRIMARY.INSTAL.AMT\"],group_1[\"PRIMARY.INSTAL.AMT\"])"
   ]
  },
  {
   "cell_type": "markdown",
   "metadata": {},
   "source": [
    "#### pvalue less than .05 which rejects null hypothesis in favour of alternate hypothesis that emi of both groups differ."
   ]
  },
  {
   "cell_type": "code",
   "execution_count": 146,
   "metadata": {},
   "outputs": [
    {
     "data": {
      "text/plain": [
       "Ttest_indResult(statistic=0.7476974360618777, pvalue=0.4546434321302706)"
      ]
     },
     "execution_count": 146,
     "metadata": {},
     "output_type": "execute_result"
    }
   ],
   "source": [
    "ttest_ind(group_0[\"SEC.INSTAL.AMT\"],group_1[\"SEC.INSTAL.AMT\"])"
   ]
  },
  {
   "cell_type": "markdown",
   "metadata": {},
   "source": [
    "#### pvalue greater than .05 it fails to reject which stats that mean of two groups are same (insignificant features)"
   ]
  },
  {
   "cell_type": "markdown",
   "metadata": {},
   "source": [
    "### 'NEW.ACCTS.IN.LAST.SIX.MONTHS"
   ]
  },
  {
   "cell_type": "code",
   "execution_count": 147,
   "metadata": {},
   "outputs": [
    {
     "data": {
      "text/plain": [
       "0    181494\n",
       "1     32099\n",
       "2     11015\n",
       "3      4458\n",
       "4      1957\n",
       "Name: NEW.ACCTS.IN.LAST.SIX.MONTHS, dtype: int64"
      ]
     },
     "execution_count": 147,
     "metadata": {},
     "output_type": "execute_result"
    }
   ],
   "source": [
    "df[\"NEW.ACCTS.IN.LAST.SIX.MONTHS\"].value_counts().head()"
   ]
  },
  {
   "cell_type": "code",
   "execution_count": 148,
   "metadata": {},
   "outputs": [],
   "source": [
    "conti_table=pd.crosstab(df['NEW.ACCTS.IN.LAST.SIX.MONTHS'],df[\"loan_default\"],normalize=\"index\")"
   ]
  },
  {
   "cell_type": "markdown",
   "metadata": {},
   "source": [
    "### H0-There is no siginificant relationship between the NEW.ACCTS.IN.LAST.SIX.MONTHS and no_of_defaulters\n",
    "### H1-There is  siginificant relationship between the NEW.ACCTS.IN.LAST.SIX.MONTHS and no_of_defaulters"
   ]
  },
  {
   "cell_type": "code",
   "execution_count": 149,
   "metadata": {},
   "outputs": [],
   "source": [
    "chi_2,p_value,dof,exp=chi2_contingency(conti_table)"
   ]
  },
  {
   "cell_type": "code",
   "execution_count": 150,
   "metadata": {},
   "outputs": [
    {
     "name": "stdout",
     "output_type": "stream",
     "text": [
      "chi_2- 6.8198968740511186 p_value- 0.9998828825427777\n"
     ]
    }
   ],
   "source": [
    "print(\"chi_2-\",chi_2,\"p_value-\",p_value)"
   ]
  },
  {
   "cell_type": "markdown",
   "metadata": {},
   "source": [
    "#### This parameter also fails to reject null hypothesis which conveys there is no significant relationship between   NEW.ACCTS.IN.LAST.SIX.MONTHS and no_of_defaulters"
   ]
  },
  {
   "cell_type": "markdown",
   "metadata": {},
   "source": [
    "### DELINQUENT.ACCTS.IN.LAST.SIX.MONTHS"
   ]
  },
  {
   "cell_type": "code",
   "execution_count": 151,
   "metadata": {},
   "outputs": [
    {
     "data": {
      "text/plain": [
       "0    214959\n",
       "1     14941\n",
       "2      2470\n",
       "3       537\n",
       "4       138\n",
       "Name: DELINQUENT.ACCTS.IN.LAST.SIX.MONTHS, dtype: int64"
      ]
     },
     "execution_count": 151,
     "metadata": {},
     "output_type": "execute_result"
    }
   ],
   "source": [
    "df[\"DELINQUENT.ACCTS.IN.LAST.SIX.MONTHS\"].value_counts().head()"
   ]
  },
  {
   "cell_type": "code",
   "execution_count": 152,
   "metadata": {},
   "outputs": [],
   "source": [
    "conti_table=pd.crosstab(df['DELINQUENT.ACCTS.IN.LAST.SIX.MONTHS'],df[\"loan_default\"],normalize=\"index\")"
   ]
  },
  {
   "cell_type": "code",
   "execution_count": 153,
   "metadata": {},
   "outputs": [
    {
     "data": {
      "text/html": [
       "<div>\n",
       "<style scoped>\n",
       "    .dataframe tbody tr th:only-of-type {\n",
       "        vertical-align: middle;\n",
       "    }\n",
       "\n",
       "    .dataframe tbody tr th {\n",
       "        vertical-align: top;\n",
       "    }\n",
       "\n",
       "    .dataframe thead th {\n",
       "        text-align: right;\n",
       "    }\n",
       "</style>\n",
       "<table border=\"1\" class=\"dataframe\">\n",
       "  <thead>\n",
       "    <tr style=\"text-align: right;\">\n",
       "      <th></th>\n",
       "      <th>UniqueID</th>\n",
       "      <th>disbursed_amount</th>\n",
       "      <th>asset_cost</th>\n",
       "      <th>ltv</th>\n",
       "      <th>branch_id</th>\n",
       "      <th>supplier_id</th>\n",
       "      <th>manufacturer_id</th>\n",
       "      <th>Current_pincode_ID</th>\n",
       "      <th>Date.of.Birth</th>\n",
       "      <th>Employment.Type</th>\n",
       "      <th>DisbursalDate</th>\n",
       "      <th>State_ID</th>\n",
       "      <th>Employee_code_ID</th>\n",
       "      <th>MobileNo_Avl_Flag</th>\n",
       "      <th>Aadhar_flag</th>\n",
       "      <th>PAN_flag</th>\n",
       "      <th>VoterID_flag</th>\n",
       "      <th>Driving_flag</th>\n",
       "      <th>Passport_flag</th>\n",
       "      <th>PERFORM_CNS.SCORE</th>\n",
       "      <th>PERFORM_CNS.SCORE.DESCRIPTION</th>\n",
       "      <th>PRI.NO.OF.ACCTS</th>\n",
       "      <th>PRI.ACTIVE.ACCTS</th>\n",
       "      <th>PRI.OVERDUE.ACCTS</th>\n",
       "      <th>PRI.CURRENT.BALANCE</th>\n",
       "      <th>PRI.SANCTIONED.AMOUNT</th>\n",
       "      <th>PRI.DISBURSED.AMOUNT</th>\n",
       "      <th>SEC.NO.OF.ACCTS</th>\n",
       "      <th>SEC.ACTIVE.ACCTS</th>\n",
       "      <th>SEC.OVERDUE.ACCTS</th>\n",
       "      <th>SEC.CURRENT.BALANCE</th>\n",
       "      <th>SEC.SANCTIONED.AMOUNT</th>\n",
       "      <th>SEC.DISBURSED.AMOUNT</th>\n",
       "      <th>PRIMARY.INSTAL.AMT</th>\n",
       "      <th>SEC.INSTAL.AMT</th>\n",
       "      <th>NEW.ACCTS.IN.LAST.SIX.MONTHS</th>\n",
       "      <th>DELINQUENT.ACCTS.IN.LAST.SIX.MONTHS</th>\n",
       "      <th>AVERAGE.ACCT.AGE</th>\n",
       "      <th>CREDIT.HISTORY.LENGTH</th>\n",
       "      <th>NO.OF_INQUIRIES</th>\n",
       "      <th>loan_default</th>\n",
       "      <th>Age_at_time_of_disbursement</th>\n",
       "      <th>month_of_disbursement</th>\n",
       "      <th>Scored_Or_Not</th>\n",
       "      <th>First_Time_Account_Holder</th>\n",
       "      <th>Active_accounts_Flag</th>\n",
       "      <th>Overdue_accounts_Flag</th>\n",
       "    </tr>\n",
       "  </thead>\n",
       "  <tbody>\n",
       "    <tr>\n",
       "      <td>0</td>\n",
       "      <td>420825</td>\n",
       "      <td>50578</td>\n",
       "      <td>58400</td>\n",
       "      <td>89.55</td>\n",
       "      <td>67</td>\n",
       "      <td>22807</td>\n",
       "      <td>45</td>\n",
       "      <td>1441</td>\n",
       "      <td>01-01-84</td>\n",
       "      <td>Salaried</td>\n",
       "      <td>2018-03-08</td>\n",
       "      <td>6</td>\n",
       "      <td>1998</td>\n",
       "      <td>1</td>\n",
       "      <td>1</td>\n",
       "      <td>0</td>\n",
       "      <td>0</td>\n",
       "      <td>0</td>\n",
       "      <td>0</td>\n",
       "      <td>0</td>\n",
       "      <td>No_Score</td>\n",
       "      <td>0</td>\n",
       "      <td>0</td>\n",
       "      <td>0</td>\n",
       "      <td>0</td>\n",
       "      <td>0</td>\n",
       "      <td>0</td>\n",
       "      <td>0</td>\n",
       "      <td>0</td>\n",
       "      <td>0</td>\n",
       "      <td>0</td>\n",
       "      <td>0</td>\n",
       "      <td>0</td>\n",
       "      <td>0</td>\n",
       "      <td>0</td>\n",
       "      <td>0</td>\n",
       "      <td>0</td>\n",
       "      <td>0yrs 0mon</td>\n",
       "      <td>0yrs 0mon</td>\n",
       "      <td>0</td>\n",
       "      <td>0</td>\n",
       "      <td>36</td>\n",
       "      <td>3</td>\n",
       "      <td>1</td>\n",
       "      <td>1</td>\n",
       "      <td>0</td>\n",
       "      <td>0</td>\n",
       "    </tr>\n",
       "    <tr>\n",
       "      <td>2</td>\n",
       "      <td>417566</td>\n",
       "      <td>53278</td>\n",
       "      <td>61360</td>\n",
       "      <td>89.63</td>\n",
       "      <td>67</td>\n",
       "      <td>22807</td>\n",
       "      <td>45</td>\n",
       "      <td>1497</td>\n",
       "      <td>24-08-85</td>\n",
       "      <td>Self employed</td>\n",
       "      <td>2018-01-08</td>\n",
       "      <td>6</td>\n",
       "      <td>1998</td>\n",
       "      <td>1</td>\n",
       "      <td>1</td>\n",
       "      <td>0</td>\n",
       "      <td>0</td>\n",
       "      <td>0</td>\n",
       "      <td>0</td>\n",
       "      <td>0</td>\n",
       "      <td>No_Score</td>\n",
       "      <td>0</td>\n",
       "      <td>0</td>\n",
       "      <td>0</td>\n",
       "      <td>0</td>\n",
       "      <td>0</td>\n",
       "      <td>0</td>\n",
       "      <td>0</td>\n",
       "      <td>0</td>\n",
       "      <td>0</td>\n",
       "      <td>0</td>\n",
       "      <td>0</td>\n",
       "      <td>0</td>\n",
       "      <td>0</td>\n",
       "      <td>0</td>\n",
       "      <td>0</td>\n",
       "      <td>0</td>\n",
       "      <td>0yrs 0mon</td>\n",
       "      <td>0yrs 0mon</td>\n",
       "      <td>0</td>\n",
       "      <td>0</td>\n",
       "      <td>35</td>\n",
       "      <td>1</td>\n",
       "      <td>1</td>\n",
       "      <td>1</td>\n",
       "      <td>0</td>\n",
       "      <td>0</td>\n",
       "    </tr>\n",
       "    <tr>\n",
       "      <td>4</td>\n",
       "      <td>539055</td>\n",
       "      <td>52378</td>\n",
       "      <td>60300</td>\n",
       "      <td>88.39</td>\n",
       "      <td>67</td>\n",
       "      <td>22807</td>\n",
       "      <td>45</td>\n",
       "      <td>1495</td>\n",
       "      <td>09-12-77</td>\n",
       "      <td>Self employed</td>\n",
       "      <td>2018-09-26</td>\n",
       "      <td>6</td>\n",
       "      <td>1998</td>\n",
       "      <td>1</td>\n",
       "      <td>1</td>\n",
       "      <td>0</td>\n",
       "      <td>0</td>\n",
       "      <td>0</td>\n",
       "      <td>0</td>\n",
       "      <td>0</td>\n",
       "      <td>No_Score</td>\n",
       "      <td>0</td>\n",
       "      <td>0</td>\n",
       "      <td>0</td>\n",
       "      <td>0</td>\n",
       "      <td>0</td>\n",
       "      <td>0</td>\n",
       "      <td>0</td>\n",
       "      <td>0</td>\n",
       "      <td>0</td>\n",
       "      <td>0</td>\n",
       "      <td>0</td>\n",
       "      <td>0</td>\n",
       "      <td>0</td>\n",
       "      <td>0</td>\n",
       "      <td>0</td>\n",
       "      <td>0</td>\n",
       "      <td>0yrs 0mon</td>\n",
       "      <td>0yrs 0mon</td>\n",
       "      <td>1</td>\n",
       "      <td>1</td>\n",
       "      <td>43</td>\n",
       "      <td>9</td>\n",
       "      <td>1</td>\n",
       "      <td>1</td>\n",
       "      <td>0</td>\n",
       "      <td>0</td>\n",
       "    </tr>\n",
       "    <tr>\n",
       "      <td>6</td>\n",
       "      <td>529269</td>\n",
       "      <td>46349</td>\n",
       "      <td>61500</td>\n",
       "      <td>76.42</td>\n",
       "      <td>67</td>\n",
       "      <td>22807</td>\n",
       "      <td>45</td>\n",
       "      <td>1502</td>\n",
       "      <td>01-06-88</td>\n",
       "      <td>Salaried</td>\n",
       "      <td>2018-09-23</td>\n",
       "      <td>6</td>\n",
       "      <td>1998</td>\n",
       "      <td>1</td>\n",
       "      <td>1</td>\n",
       "      <td>0</td>\n",
       "      <td>0</td>\n",
       "      <td>0</td>\n",
       "      <td>0</td>\n",
       "      <td>0</td>\n",
       "      <td>No_Score</td>\n",
       "      <td>0</td>\n",
       "      <td>0</td>\n",
       "      <td>0</td>\n",
       "      <td>0</td>\n",
       "      <td>0</td>\n",
       "      <td>0</td>\n",
       "      <td>0</td>\n",
       "      <td>0</td>\n",
       "      <td>0</td>\n",
       "      <td>0</td>\n",
       "      <td>0</td>\n",
       "      <td>0</td>\n",
       "      <td>0</td>\n",
       "      <td>0</td>\n",
       "      <td>0</td>\n",
       "      <td>0</td>\n",
       "      <td>0yrs 0mon</td>\n",
       "      <td>0yrs 0mon</td>\n",
       "      <td>0</td>\n",
       "      <td>0</td>\n",
       "      <td>32</td>\n",
       "      <td>9</td>\n",
       "      <td>1</td>\n",
       "      <td>1</td>\n",
       "      <td>0</td>\n",
       "      <td>0</td>\n",
       "    </tr>\n",
       "    <tr>\n",
       "      <td>22</td>\n",
       "      <td>563215</td>\n",
       "      <td>43594</td>\n",
       "      <td>78256</td>\n",
       "      <td>57.50</td>\n",
       "      <td>67</td>\n",
       "      <td>22744</td>\n",
       "      <td>86</td>\n",
       "      <td>1499</td>\n",
       "      <td>14-07-94</td>\n",
       "      <td>Self employed</td>\n",
       "      <td>2018-08-10</td>\n",
       "      <td>6</td>\n",
       "      <td>1998</td>\n",
       "      <td>1</td>\n",
       "      <td>1</td>\n",
       "      <td>0</td>\n",
       "      <td>0</td>\n",
       "      <td>0</td>\n",
       "      <td>0</td>\n",
       "      <td>0</td>\n",
       "      <td>No_Score</td>\n",
       "      <td>0</td>\n",
       "      <td>0</td>\n",
       "      <td>0</td>\n",
       "      <td>0</td>\n",
       "      <td>0</td>\n",
       "      <td>0</td>\n",
       "      <td>0</td>\n",
       "      <td>0</td>\n",
       "      <td>0</td>\n",
       "      <td>0</td>\n",
       "      <td>0</td>\n",
       "      <td>0</td>\n",
       "      <td>0</td>\n",
       "      <td>0</td>\n",
       "      <td>0</td>\n",
       "      <td>0</td>\n",
       "      <td>0yrs 0mon</td>\n",
       "      <td>0yrs 0mon</td>\n",
       "      <td>0</td>\n",
       "      <td>0</td>\n",
       "      <td>26</td>\n",
       "      <td>8</td>\n",
       "      <td>1</td>\n",
       "      <td>1</td>\n",
       "      <td>0</td>\n",
       "      <td>0</td>\n",
       "    </tr>\n",
       "  </tbody>\n",
       "</table>\n",
       "</div>"
      ],
      "text/plain": [
       "    UniqueID  disbursed_amount  asset_cost    ltv  branch_id  supplier_id  \\\n",
       "0     420825             50578       58400  89.55         67        22807   \n",
       "2     417566             53278       61360  89.63         67        22807   \n",
       "4     539055             52378       60300  88.39         67        22807   \n",
       "6     529269             46349       61500  76.42         67        22807   \n",
       "22    563215             43594       78256  57.50         67        22744   \n",
       "\n",
       "    manufacturer_id  Current_pincode_ID Date.of.Birth Employment.Type  \\\n",
       "0                45                1441      01-01-84        Salaried   \n",
       "2                45                1497      24-08-85   Self employed   \n",
       "4                45                1495      09-12-77   Self employed   \n",
       "6                45                1502      01-06-88        Salaried   \n",
       "22               86                1499      14-07-94   Self employed   \n",
       "\n",
       "   DisbursalDate  State_ID  Employee_code_ID  MobileNo_Avl_Flag  Aadhar_flag  \\\n",
       "0     2018-03-08         6              1998                  1            1   \n",
       "2     2018-01-08         6              1998                  1            1   \n",
       "4     2018-09-26         6              1998                  1            1   \n",
       "6     2018-09-23         6              1998                  1            1   \n",
       "22    2018-08-10         6              1998                  1            1   \n",
       "\n",
       "    PAN_flag  VoterID_flag  Driving_flag  Passport_flag  PERFORM_CNS.SCORE  \\\n",
       "0          0             0             0              0                  0   \n",
       "2          0             0             0              0                  0   \n",
       "4          0             0             0              0                  0   \n",
       "6          0             0             0              0                  0   \n",
       "22         0             0             0              0                  0   \n",
       "\n",
       "   PERFORM_CNS.SCORE.DESCRIPTION  PRI.NO.OF.ACCTS  PRI.ACTIVE.ACCTS  \\\n",
       "0                       No_Score                0                 0   \n",
       "2                       No_Score                0                 0   \n",
       "4                       No_Score                0                 0   \n",
       "6                       No_Score                0                 0   \n",
       "22                      No_Score                0                 0   \n",
       "\n",
       "    PRI.OVERDUE.ACCTS  PRI.CURRENT.BALANCE  PRI.SANCTIONED.AMOUNT  \\\n",
       "0                   0                    0                      0   \n",
       "2                   0                    0                      0   \n",
       "4                   0                    0                      0   \n",
       "6                   0                    0                      0   \n",
       "22                  0                    0                      0   \n",
       "\n",
       "    PRI.DISBURSED.AMOUNT  SEC.NO.OF.ACCTS  SEC.ACTIVE.ACCTS  \\\n",
       "0                      0                0                 0   \n",
       "2                      0                0                 0   \n",
       "4                      0                0                 0   \n",
       "6                      0                0                 0   \n",
       "22                     0                0                 0   \n",
       "\n",
       "    SEC.OVERDUE.ACCTS  SEC.CURRENT.BALANCE  SEC.SANCTIONED.AMOUNT  \\\n",
       "0                   0                    0                      0   \n",
       "2                   0                    0                      0   \n",
       "4                   0                    0                      0   \n",
       "6                   0                    0                      0   \n",
       "22                  0                    0                      0   \n",
       "\n",
       "    SEC.DISBURSED.AMOUNT  PRIMARY.INSTAL.AMT  SEC.INSTAL.AMT  \\\n",
       "0                      0                   0               0   \n",
       "2                      0                   0               0   \n",
       "4                      0                   0               0   \n",
       "6                      0                   0               0   \n",
       "22                     0                   0               0   \n",
       "\n",
       "    NEW.ACCTS.IN.LAST.SIX.MONTHS  DELINQUENT.ACCTS.IN.LAST.SIX.MONTHS  \\\n",
       "0                              0                                    0   \n",
       "2                              0                                    0   \n",
       "4                              0                                    0   \n",
       "6                              0                                    0   \n",
       "22                             0                                    0   \n",
       "\n",
       "   AVERAGE.ACCT.AGE CREDIT.HISTORY.LENGTH  NO.OF_INQUIRIES  loan_default  \\\n",
       "0         0yrs 0mon             0yrs 0mon                0             0   \n",
       "2         0yrs 0mon             0yrs 0mon                0             0   \n",
       "4         0yrs 0mon             0yrs 0mon                1             1   \n",
       "6         0yrs 0mon             0yrs 0mon                0             0   \n",
       "22        0yrs 0mon             0yrs 0mon                0             0   \n",
       "\n",
       "    Age_at_time_of_disbursement  month_of_disbursement  Scored_Or_Not  \\\n",
       "0                            36                      3              1   \n",
       "2                            35                      1              1   \n",
       "4                            43                      9              1   \n",
       "6                            32                      9              1   \n",
       "22                           26                      8              1   \n",
       "\n",
       "    First_Time_Account_Holder  Active_accounts_Flag  Overdue_accounts_Flag  \n",
       "0                           1                     0                      0  \n",
       "2                           1                     0                      0  \n",
       "4                           1                     0                      0  \n",
       "6                           1                     0                      0  \n",
       "22                          1                     0                      0  "
      ]
     },
     "execution_count": 153,
     "metadata": {},
     "output_type": "execute_result"
    }
   ],
   "source": [
    "df[df[\"First_Time_Account_Holder\"]==1].head()"
   ]
  },
  {
   "cell_type": "markdown",
   "metadata": {},
   "source": [
    "### H0-There is no siginificant relationship between the DELINQUENT.ACCTS.IN.LAST.SIX.MONTHS and no_of_defaulters\n",
    "### H1-There is  siginificant relationship between the DELINQUENT.ACCTS.IN.LAST.SIX.MONTHS and no_of_defaulters"
   ]
  },
  {
   "cell_type": "code",
   "execution_count": 154,
   "metadata": {},
   "outputs": [],
   "source": [
    "chi_2,p_value,dof,exp=chi2_contingency(conti_table)"
   ]
  },
  {
   "cell_type": "code",
   "execution_count": 155,
   "metadata": {},
   "outputs": [
    {
     "name": "stdout",
     "output_type": "stream",
     "text": [
      "chi_2- 2.28208875754001 p_value- 0.9995269170827656\n"
     ]
    }
   ],
   "source": [
    "print(\"chi_2-\",chi_2,\"p_value-\",p_value)"
   ]
  },
  {
   "cell_type": "markdown",
   "metadata": {},
   "source": [
    "#### This parameter also fails to reject null hypothesis which conveys there is no significant relationship between   DELINQUENT.ACCTS.IN.LAST.SIX.MONTHS and no_of_defaulters"
   ]
  },
  {
   "cell_type": "markdown",
   "metadata": {},
   "source": [
    "### NO.OF_INQUIRIES"
   ]
  },
  {
   "cell_type": "code",
   "execution_count": 156,
   "metadata": {},
   "outputs": [
    {
     "data": {
      "text/plain": [
       "0    201961\n",
       "1     22285\n",
       "2      5409\n",
       "3      1767\n",
       "4       760\n",
       "Name: NO.OF_INQUIRIES, dtype: int64"
      ]
     },
     "execution_count": 156,
     "metadata": {},
     "output_type": "execute_result"
    }
   ],
   "source": [
    "df[\"NO.OF_INQUIRIES\"].value_counts().head()"
   ]
  },
  {
   "cell_type": "code",
   "execution_count": 157,
   "metadata": {},
   "outputs": [],
   "source": [
    "conti_table=pd.crosstab(df['NO.OF_INQUIRIES'],df[\"loan_default\"],normalize=\"index\")"
   ]
  },
  {
   "cell_type": "markdown",
   "metadata": {},
   "source": [
    "### H0-There is no siginificant relationship between the NO.OF_INQUIRIES and no_of_defaulters\n",
    "### H1-There is  siginificant relationship between the NO.OF_INQUIRIES and no_of_defaulters"
   ]
  },
  {
   "cell_type": "code",
   "execution_count": 158,
   "metadata": {},
   "outputs": [],
   "source": [
    "chi_2,p_value,dof,exp=chi2_contingency(conti_table)"
   ]
  },
  {
   "cell_type": "code",
   "execution_count": 159,
   "metadata": {},
   "outputs": [
    {
     "name": "stdout",
     "output_type": "stream",
     "text": [
      "chi_2- 4.777288778135122 p_value- 0.9999919312983875\n"
     ]
    }
   ],
   "source": [
    "print(\"chi_2-\",chi_2,\"p_value-\",p_value)"
   ]
  },
  {
   "cell_type": "markdown",
   "metadata": {},
   "source": [
    "#### This parameter also fails to reject null hypothesis which conveys there is no significant relationship between   DELINQUENT.ACCTS.IN.LAST.SIX.MONTHS and no_of_defaulters"
   ]
  },
  {
   "cell_type": "markdown",
   "metadata": {},
   "source": [
    "### AVERAGE.ACCT.AGE"
   ]
  },
  {
   "cell_type": "code",
   "execution_count": 160,
   "metadata": {},
   "outputs": [
    {
     "data": {
      "text/plain": [
       "count        233154\n",
       "unique          192\n",
       "top       0yrs 0mon\n",
       "freq         119373\n",
       "Name: AVERAGE.ACCT.AGE, dtype: object"
      ]
     },
     "execution_count": 160,
     "metadata": {},
     "output_type": "execute_result"
    }
   ],
   "source": [
    "df[\"AVERAGE.ACCT.AGE\"].describe()"
   ]
  },
  {
   "cell_type": "code",
   "execution_count": 161,
   "metadata": {},
   "outputs": [],
   "source": [
    "df[\"AVERAGE.ACCT.AGE\"]=df[\"AVERAGE.ACCT.AGE\"].apply(lambda x:(int((x.split(\"y\"))[0])*12)+(int((x.split())[1].split(\"m\")[0])))"
   ]
  },
  {
   "cell_type": "code",
   "execution_count": 162,
   "metadata": {
    "scrolled": true
   },
   "outputs": [
    {
     "data": {
      "image/png": "[encoded data removed]",
      "text/plain": [
       "<Figure size 864x432 with 2 Axes>"
      ]
     },
     "metadata": {
      "needs_background": "light"
     },
     "output_type": "display_data"
    }
   ],
   "source": [
    "fig,ax=plt.subplots(1,2,figsize=(12,6))\n",
    "sns.distplot(df[\"AVERAGE.ACCT.AGE\"],ax=ax[0])\n",
    "sns.boxplot(df[\"AVERAGE.ACCT.AGE\"],ax=ax[1])\n",
    "plt.setp(ax[0].xaxis.get_majorticklabels(), rotation=45)\n",
    "plt.setp(ax[1].xaxis.get_majorticklabels(), rotation=45)\n",
    "plt.show()"
   ]
  },
  {
   "cell_type": "code",
   "execution_count": 163,
   "metadata": {},
   "outputs": [
    {
     "data": {
      "text/plain": [
       "<matplotlib.axes._subplots.AxesSubplot at 0x1f1ccec1608>"
      ]
     },
     "execution_count": 163,
     "metadata": {},
     "output_type": "execute_result"
    },
    {
     "data": {
      "image/png": "[encoded data removed]",
      "text/plain": [
       "<Figure size 432x288 with 1 Axes>"
      ]
     },
     "metadata": {
      "needs_background": "light"
     },
     "output_type": "display_data"
    }
   ],
   "source": [
    "sns.boxplot(x=df[\"loan_default\"],y=df[\"AVERAGE.ACCT.AGE\"])"
   ]
  },
  {
   "cell_type": "code",
   "execution_count": 164,
   "metadata": {},
   "outputs": [
    {
     "data": {
      "text/plain": [
       "count    233154.000000\n",
       "mean          8.915764\n",
       "std          15.106416\n",
       "min           0.000000\n",
       "25%           0.000000\n",
       "50%           0.000000\n",
       "75%          13.000000\n",
       "max         369.000000\n",
       "Name: AVERAGE.ACCT.AGE, dtype: float64"
      ]
     },
     "execution_count": 164,
     "metadata": {},
     "output_type": "execute_result"
    }
   ],
   "source": [
    "df[\"AVERAGE.ACCT.AGE\"].describe()"
   ]
  },
  {
   "cell_type": "code",
   "execution_count": 165,
   "metadata": {},
   "outputs": [],
   "source": [
    "group_0=df[df[\"loan_default\"]==0]\n",
    "group_1=df[df[\"loan_default\"]==1]"
   ]
  },
  {
   "cell_type": "code",
   "execution_count": 166,
   "metadata": {},
   "outputs": [
    {
     "data": {
      "image/png": "[encoded data removed]",
      "text/plain": [
       "<Figure size 432x288 with 1 Axes>"
      ]
     },
     "metadata": {
      "needs_background": "light"
     },
     "output_type": "display_data"
    }
   ],
   "source": [
    "sns.distplot(group_0[\"AVERAGE.ACCT.AGE\"])\n",
    "sns.distplot(group_1[\"AVERAGE.ACCT.AGE\"])\n",
    "plt.legend([0,1])\n",
    "plt.show()"
   ]
  },
  {
   "cell_type": "markdown",
   "metadata": {},
   "source": [
    "### H0:mean_avg_age_of_non_defaulters==mean_avg_age_of_non_defaulters\n",
    "### H1:mean_avg_age_of_non_defaulters!=mean_avg_age_of_non_defaulters"
   ]
  },
  {
   "cell_type": "code",
   "execution_count": 167,
   "metadata": {},
   "outputs": [
    {
     "data": {
      "text/plain": [
       "Ttest_indResult(statistic=11.969316978054646, pvalue=5.261091482095756e-33)"
      ]
     },
     "execution_count": 167,
     "metadata": {},
     "output_type": "execute_result"
    }
   ],
   "source": [
    "ttest_ind(group_0[\"AVERAGE.ACCT.AGE\"],group_1[\"AVERAGE.ACCT.AGE\"])"
   ]
  },
  {
   "cell_type": "markdown",
   "metadata": {},
   "source": [
    "#### pvalue less than .05 which rejects null hypothesis in favour of alternate hypothesis that emi of both groups differ."
   ]
  },
  {
   "cell_type": "code",
   "execution_count": 168,
   "metadata": {},
   "outputs": [],
   "source": [
    "df[\"CREDIT.HISTORY.LENGTH\"]=df[\"CREDIT.HISTORY.LENGTH\"].apply(lambda x:(int((x.split(\"y\"))[0])*12)+(int((x.split())[1].split(\"m\")[0])))"
   ]
  },
  {
   "cell_type": "code",
   "execution_count": 169,
   "metadata": {
    "scrolled": true
   },
   "outputs": [
    {
     "data": {
      "image/png": "[encoded data removed]",
      "text/plain": [
       "<Figure size 864x432 with 2 Axes>"
      ]
     },
     "metadata": {
      "needs_background": "light"
     },
     "output_type": "display_data"
    }
   ],
   "source": [
    "fig,ax=plt.subplots(1,2,figsize=(12,6))\n",
    "sns.distplot(df[\"CREDIT.HISTORY.LENGTH\"],ax=ax[0])\n",
    "sns.boxplot(df[\"CREDIT.HISTORY.LENGTH\"],ax=ax[1])\n",
    "plt.setp(ax[0].xaxis.get_majorticklabels(), rotation=45)\n",
    "plt.setp(ax[1].xaxis.get_majorticklabels(), rotation=45)\n",
    "plt.show()"
   ]
  },
  {
   "cell_type": "code",
   "execution_count": 170,
   "metadata": {},
   "outputs": [
    {
     "data": {
      "text/plain": [
       "<matplotlib.axes._subplots.AxesSubplot at 0x1f1c9b59ec8>"
      ]
     },
     "execution_count": 170,
     "metadata": {},
     "output_type": "execute_result"
    },
    {
     "data": {
      "image/png": "[encoded data removed]",
      "text/plain": [
       "<Figure size 432x288 with 1 Axes>"
      ]
     },
     "metadata": {
      "needs_background": "light"
     },
     "output_type": "display_data"
    }
   ],
   "source": [
    "sns.boxplot(x=df[\"loan_default\"],y=df[\"CREDIT.HISTORY.LENGTH\"])"
   ]
  },
  {
   "cell_type": "code",
   "execution_count": 171,
   "metadata": {},
   "outputs": [
    {
     "data": {
      "text/plain": [
       "count    233154.000000\n",
       "mean         16.252404\n",
       "std          28.581255\n",
       "min           0.000000\n",
       "25%           0.000000\n",
       "50%           0.000000\n",
       "75%          24.000000\n",
       "max         468.000000\n",
       "Name: CREDIT.HISTORY.LENGTH, dtype: float64"
      ]
     },
     "execution_count": 171,
     "metadata": {},
     "output_type": "execute_result"
    }
   ],
   "source": [
    "df[\"CREDIT.HISTORY.LENGTH\"].describe()"
   ]
  },
  {
   "cell_type": "code",
   "execution_count": 172,
   "metadata": {},
   "outputs": [
    {
     "data": {
      "image/png": "[encoded data removed]",
      "text/plain": [
       "<Figure size 432x288 with 1 Axes>"
      ]
     },
     "metadata": {
      "needs_background": "light"
     },
     "output_type": "display_data"
    }
   ],
   "source": [
    "sns.distplot(df[\"CREDIT.HISTORY.LENGTH\"])\n",
    "plt.show()"
   ]
  },
  {
   "cell_type": "code",
   "execution_count": 173,
   "metadata": {},
   "outputs": [],
   "source": [
    "df1=df[['disbursed_amount', 'asset_cost', 'ltv','Age_at_time_of_disbursement',\"PERFORM_CNS.SCORE\",\n",
    "   'PRI.CURRENT.BALANCE', 'PRI.SANCTIONED.AMOUNT','PRI.DISBURSED.AMOUNT','SEC.CURRENT.BALANCE', 'SEC.SANCTIONED.AMOUNT',\n",
    "       'SEC.DISBURSED.AMOUNT', 'PRIMARY.INSTAL.AMT', 'SEC.INSTAL.AMT','AVERAGE.ACCT.AGE', 'CREDIT.HISTORY.LENGTH']]"
   ]
  },
  {
   "cell_type": "code",
   "execution_count": 174,
   "metadata": {},
   "outputs": [
    {
     "data": {
      "text/html": [
       "<div>\n",
       "<style scoped>\n",
       "    .dataframe tbody tr th:only-of-type {\n",
       "        vertical-align: middle;\n",
       "    }\n",
       "\n",
       "    .dataframe tbody tr th {\n",
       "        vertical-align: top;\n",
       "    }\n",
       "\n",
       "    .dataframe thead th {\n",
       "        text-align: right;\n",
       "    }\n",
       "</style>\n",
       "<table border=\"1\" class=\"dataframe\">\n",
       "  <thead>\n",
       "    <tr style=\"text-align: right;\">\n",
       "      <th></th>\n",
       "      <th>count</th>\n",
       "      <th>mean</th>\n",
       "      <th>std</th>\n",
       "      <th>min</th>\n",
       "      <th>25%</th>\n",
       "      <th>50%</th>\n",
       "      <th>75%</th>\n",
       "      <th>max</th>\n",
       "    </tr>\n",
       "  </thead>\n",
       "  <tbody>\n",
       "    <tr>\n",
       "      <td>disbursed_amount</td>\n",
       "      <td>233154.0</td>\n",
       "      <td>54356.993528</td>\n",
       "      <td>1.297131e+04</td>\n",
       "      <td>13320.00</td>\n",
       "      <td>47145.00</td>\n",
       "      <td>53803.0</td>\n",
       "      <td>60413.00</td>\n",
       "      <td>9.905720e+05</td>\n",
       "    </tr>\n",
       "    <tr>\n",
       "      <td>asset_cost</td>\n",
       "      <td>233154.0</td>\n",
       "      <td>75865.068144</td>\n",
       "      <td>1.894478e+04</td>\n",
       "      <td>37000.00</td>\n",
       "      <td>65717.00</td>\n",
       "      <td>70946.0</td>\n",
       "      <td>79201.75</td>\n",
       "      <td>1.628992e+06</td>\n",
       "    </tr>\n",
       "    <tr>\n",
       "      <td>ltv</td>\n",
       "      <td>233154.0</td>\n",
       "      <td>74.746530</td>\n",
       "      <td>1.145664e+01</td>\n",
       "      <td>10.03</td>\n",
       "      <td>68.88</td>\n",
       "      <td>76.8</td>\n",
       "      <td>83.67</td>\n",
       "      <td>9.500000e+01</td>\n",
       "    </tr>\n",
       "    <tr>\n",
       "      <td>Age_at_time_of_disbursement</td>\n",
       "      <td>233154.0</td>\n",
       "      <td>36.100946</td>\n",
       "      <td>9.805992e+00</td>\n",
       "      <td>20.00</td>\n",
       "      <td>28.00</td>\n",
       "      <td>34.0</td>\n",
       "      <td>43.00</td>\n",
       "      <td>7.100000e+01</td>\n",
       "    </tr>\n",
       "    <tr>\n",
       "      <td>PERFORM_CNS.SCORE</td>\n",
       "      <td>233154.0</td>\n",
       "      <td>289.462994</td>\n",
       "      <td>3.383748e+02</td>\n",
       "      <td>0.00</td>\n",
       "      <td>0.00</td>\n",
       "      <td>0.0</td>\n",
       "      <td>678.00</td>\n",
       "      <td>8.900000e+02</td>\n",
       "    </tr>\n",
       "    <tr>\n",
       "      <td>PRI.CURRENT.BALANCE</td>\n",
       "      <td>233154.0</td>\n",
       "      <td>165900.076936</td>\n",
       "      <td>9.422736e+05</td>\n",
       "      <td>-6678296.00</td>\n",
       "      <td>0.00</td>\n",
       "      <td>0.0</td>\n",
       "      <td>35006.50</td>\n",
       "      <td>9.652492e+07</td>\n",
       "    </tr>\n",
       "    <tr>\n",
       "      <td>PRI.SANCTIONED.AMOUNT</td>\n",
       "      <td>233154.0</td>\n",
       "      <td>218503.855323</td>\n",
       "      <td>2.374794e+06</td>\n",
       "      <td>0.00</td>\n",
       "      <td>0.00</td>\n",
       "      <td>0.0</td>\n",
       "      <td>62500.00</td>\n",
       "      <td>1.000000e+09</td>\n",
       "    </tr>\n",
       "    <tr>\n",
       "      <td>PRI.DISBURSED.AMOUNT</td>\n",
       "      <td>233154.0</td>\n",
       "      <td>218065.898655</td>\n",
       "      <td>2.377744e+06</td>\n",
       "      <td>0.00</td>\n",
       "      <td>0.00</td>\n",
       "      <td>0.0</td>\n",
       "      <td>60800.00</td>\n",
       "      <td>1.000000e+09</td>\n",
       "    </tr>\n",
       "    <tr>\n",
       "      <td>SEC.CURRENT.BALANCE</td>\n",
       "      <td>233154.0</td>\n",
       "      <td>5427.792819</td>\n",
       "      <td>1.702370e+05</td>\n",
       "      <td>-574647.00</td>\n",
       "      <td>0.00</td>\n",
       "      <td>0.0</td>\n",
       "      <td>0.00</td>\n",
       "      <td>3.603285e+07</td>\n",
       "    </tr>\n",
       "    <tr>\n",
       "      <td>SEC.SANCTIONED.AMOUNT</td>\n",
       "      <td>233154.0</td>\n",
       "      <td>7295.923347</td>\n",
       "      <td>1.831560e+05</td>\n",
       "      <td>0.00</td>\n",
       "      <td>0.00</td>\n",
       "      <td>0.0</td>\n",
       "      <td>0.00</td>\n",
       "      <td>3.000000e+07</td>\n",
       "    </tr>\n",
       "    <tr>\n",
       "      <td>SEC.DISBURSED.AMOUNT</td>\n",
       "      <td>233154.0</td>\n",
       "      <td>7179.997873</td>\n",
       "      <td>1.825925e+05</td>\n",
       "      <td>0.00</td>\n",
       "      <td>0.00</td>\n",
       "      <td>0.0</td>\n",
       "      <td>0.00</td>\n",
       "      <td>3.000000e+07</td>\n",
       "    </tr>\n",
       "    <tr>\n",
       "      <td>PRIMARY.INSTAL.AMT</td>\n",
       "      <td>233154.0</td>\n",
       "      <td>13105.481720</td>\n",
       "      <td>1.513679e+05</td>\n",
       "      <td>0.00</td>\n",
       "      <td>0.00</td>\n",
       "      <td>0.0</td>\n",
       "      <td>1999.00</td>\n",
       "      <td>2.564281e+07</td>\n",
       "    </tr>\n",
       "    <tr>\n",
       "      <td>SEC.INSTAL.AMT</td>\n",
       "      <td>233154.0</td>\n",
       "      <td>323.268449</td>\n",
       "      <td>1.555369e+04</td>\n",
       "      <td>0.00</td>\n",
       "      <td>0.00</td>\n",
       "      <td>0.0</td>\n",
       "      <td>0.00</td>\n",
       "      <td>4.170901e+06</td>\n",
       "    </tr>\n",
       "    <tr>\n",
       "      <td>AVERAGE.ACCT.AGE</td>\n",
       "      <td>233154.0</td>\n",
       "      <td>8.915764</td>\n",
       "      <td>1.510642e+01</td>\n",
       "      <td>0.00</td>\n",
       "      <td>0.00</td>\n",
       "      <td>0.0</td>\n",
       "      <td>13.00</td>\n",
       "      <td>3.690000e+02</td>\n",
       "    </tr>\n",
       "    <tr>\n",
       "      <td>CREDIT.HISTORY.LENGTH</td>\n",
       "      <td>233154.0</td>\n",
       "      <td>16.252404</td>\n",
       "      <td>2.858125e+01</td>\n",
       "      <td>0.00</td>\n",
       "      <td>0.00</td>\n",
       "      <td>0.0</td>\n",
       "      <td>24.00</td>\n",
       "      <td>4.680000e+02</td>\n",
       "    </tr>\n",
       "  </tbody>\n",
       "</table>\n",
       "</div>"
      ],
      "text/plain": [
       "                                count           mean           std  \\\n",
       "disbursed_amount             233154.0   54356.993528  1.297131e+04   \n",
       "asset_cost                   233154.0   75865.068144  1.894478e+04   \n",
       "ltv                          233154.0      74.746530  1.145664e+01   \n",
       "Age_at_time_of_disbursement  233154.0      36.100946  9.805992e+00   \n",
       "PERFORM_CNS.SCORE            233154.0     289.462994  3.383748e+02   \n",
       "PRI.CURRENT.BALANCE          233154.0  165900.076936  9.422736e+05   \n",
       "PRI.SANCTIONED.AMOUNT        233154.0  218503.855323  2.374794e+06   \n",
       "PRI.DISBURSED.AMOUNT         233154.0  218065.898655  2.377744e+06   \n",
       "SEC.CURRENT.BALANCE          233154.0    5427.792819  1.702370e+05   \n",
       "SEC.SANCTIONED.AMOUNT        233154.0    7295.923347  1.831560e+05   \n",
       "SEC.DISBURSED.AMOUNT         233154.0    7179.997873  1.825925e+05   \n",
       "PRIMARY.INSTAL.AMT           233154.0   13105.481720  1.513679e+05   \n",
       "SEC.INSTAL.AMT               233154.0     323.268449  1.555369e+04   \n",
       "AVERAGE.ACCT.AGE             233154.0       8.915764  1.510642e+01   \n",
       "CREDIT.HISTORY.LENGTH        233154.0      16.252404  2.858125e+01   \n",
       "\n",
       "                                    min       25%      50%       75%  \\\n",
       "disbursed_amount               13320.00  47145.00  53803.0  60413.00   \n",
       "asset_cost                     37000.00  65717.00  70946.0  79201.75   \n",
       "ltv                               10.03     68.88     76.8     83.67   \n",
       "Age_at_time_of_disbursement       20.00     28.00     34.0     43.00   \n",
       "PERFORM_CNS.SCORE                  0.00      0.00      0.0    678.00   \n",
       "PRI.CURRENT.BALANCE         -6678296.00      0.00      0.0  35006.50   \n",
       "PRI.SANCTIONED.AMOUNT              0.00      0.00      0.0  62500.00   \n",
       "PRI.DISBURSED.AMOUNT               0.00      0.00      0.0  60800.00   \n",
       "SEC.CURRENT.BALANCE          -574647.00      0.00      0.0      0.00   \n",
       "SEC.SANCTIONED.AMOUNT              0.00      0.00      0.0      0.00   \n",
       "SEC.DISBURSED.AMOUNT               0.00      0.00      0.0      0.00   \n",
       "PRIMARY.INSTAL.AMT                 0.00      0.00      0.0   1999.00   \n",
       "SEC.INSTAL.AMT                     0.00      0.00      0.0      0.00   \n",
       "AVERAGE.ACCT.AGE                   0.00      0.00      0.0     13.00   \n",
       "CREDIT.HISTORY.LENGTH              0.00      0.00      0.0     24.00   \n",
       "\n",
       "                                      max  \n",
       "disbursed_amount             9.905720e+05  \n",
       "asset_cost                   1.628992e+06  \n",
       "ltv                          9.500000e+01  \n",
       "Age_at_time_of_disbursement  7.100000e+01  \n",
       "PERFORM_CNS.SCORE            8.900000e+02  \n",
       "PRI.CURRENT.BALANCE          9.652492e+07  \n",
       "PRI.SANCTIONED.AMOUNT        1.000000e+09  \n",
       "PRI.DISBURSED.AMOUNT         1.000000e+09  \n",
       "SEC.CURRENT.BALANCE          3.603285e+07  \n",
       "SEC.SANCTIONED.AMOUNT        3.000000e+07  \n",
       "SEC.DISBURSED.AMOUNT         3.000000e+07  \n",
       "PRIMARY.INSTAL.AMT           2.564281e+07  \n",
       "SEC.INSTAL.AMT               4.170901e+06  \n",
       "AVERAGE.ACCT.AGE             3.690000e+02  \n",
       "CREDIT.HISTORY.LENGTH        4.680000e+02  "
      ]
     },
     "execution_count": 174,
     "metadata": {},
     "output_type": "execute_result"
    }
   ],
   "source": [
    "df1.describe().T"
   ]
  },
  {
   "cell_type": "code",
   "execution_count": 175,
   "metadata": {},
   "outputs": [
    {
     "data": {
      "text/plain": [
       "<matplotlib.axes._subplots.AxesSubplot at 0x1f1ceb16708>"
      ]
     },
     "execution_count": 175,
     "metadata": {},
     "output_type": "execute_result"
    },
    {
     "data": {
      "image/png": "[encoded data removed]",
      "text/plain": [
       "<Figure size 432x288 with 1 Axes>"
      ]
     },
     "metadata": {
      "needs_background": "light"
     },
     "output_type": "display_data"
    }
   ],
   "source": [
    "sns.scatterplot(df[\"PRI.DISBURSED.AMOUNT\"],df[\"PRI.SANCTIONED.AMOUNT\"])"
   ]
  },
  {
   "cell_type": "code",
   "execution_count": 176,
   "metadata": {},
   "outputs": [
    {
     "data": {
      "text/plain": [
       "<matplotlib.axes._subplots.AxesSubplot at 0x1f1ceb011c8>"
      ]
     },
     "execution_count": 176,
     "metadata": {},
     "output_type": "execute_result"
    },
    {
     "data": {
      "image/png": "[encoded data removed]",
      "text/plain": [
       "<Figure size 432x288 with 1 Axes>"
      ]
     },
     "metadata": {
      "needs_background": "light"
     },
     "output_type": "display_data"
    }
   ],
   "source": [
    "sns.scatterplot(df[\"SEC.DISBURSED.AMOUNT\"],df[\"SEC.SANCTIONED.AMOUNT\"])"
   ]
  },
  {
   "cell_type": "code",
   "execution_count": 177,
   "metadata": {},
   "outputs": [],
   "source": [
    "num_cols=['disbursed_amount', 'asset_cost', 'ltv','Age_at_time_of_disbursement',\"PERFORM_CNS.SCORE\",\n",
    "   'PRI.CURRENT.BALANCE', 'PRI.SANCTIONED.AMOUNT','PRI.DISBURSED.AMOUNT','SEC.CURRENT.BALANCE', 'SEC.SANCTIONED.AMOUNT',\n",
    "       'SEC.DISBURSED.AMOUNT', 'PRIMARY.INSTAL.AMT', 'SEC.INSTAL.AMT','AVERAGE.ACCT.AGE', 'CREDIT.HISTORY.LENGTH']"
   ]
  },
  {
   "cell_type": "code",
   "execution_count": 178,
   "metadata": {},
   "outputs": [],
   "source": [
    "cat_cols=set(df.columns)-set(num_cols)"
   ]
  },
  {
   "cell_type": "code",
   "execution_count": 179,
   "metadata": {},
   "outputs": [],
   "source": [
    "cat_cols.remove(\"loan_default\")\n",
    "cat_cols.remove(\"DisbursalDate\")\n",
    "cat_cols.remove(\"Date.of.Birth\")"
   ]
  },
  {
   "cell_type": "code",
   "execution_count": 180,
   "metadata": {},
   "outputs": [],
   "source": [
    "cat_cols=list(cat_cols)"
   ]
  },
  {
   "cell_type": "code",
   "execution_count": 181,
   "metadata": {},
   "outputs": [
    {
     "data": {
      "text/plain": [
       "['manufacturer_id',\n",
       " 'SEC.OVERDUE.ACCTS',\n",
       " 'PERFORM_CNS.SCORE.DESCRIPTION',\n",
       " 'Driving_flag',\n",
       " 'UniqueID',\n",
       " 'Aadhar_flag',\n",
       " 'PRI.NO.OF.ACCTS',\n",
       " 'supplier_id',\n",
       " 'SEC.ACTIVE.ACCTS',\n",
       " 'PRI.ACTIVE.ACCTS',\n",
       " 'PAN_flag',\n",
       " 'Employment.Type',\n",
       " 'State_ID',\n",
       " 'month_of_disbursement',\n",
       " 'Active_accounts_Flag',\n",
       " 'Overdue_accounts_Flag',\n",
       " 'NEW.ACCTS.IN.LAST.SIX.MONTHS',\n",
       " 'Passport_flag',\n",
       " 'SEC.NO.OF.ACCTS',\n",
       " 'NO.OF_INQUIRIES',\n",
       " 'Employee_code_ID',\n",
       " 'VoterID_flag',\n",
       " 'Current_pincode_ID',\n",
       " 'DELINQUENT.ACCTS.IN.LAST.SIX.MONTHS',\n",
       " 'branch_id',\n",
       " 'MobileNo_Avl_Flag',\n",
       " 'PRI.OVERDUE.ACCTS',\n",
       " 'First_Time_Account_Holder',\n",
       " 'Scored_Or_Not']"
      ]
     },
     "execution_count": 181,
     "metadata": {},
     "output_type": "execute_result"
    }
   ],
   "source": [
    "cat_cols"
   ]
  },
  {
   "cell_type": "code",
   "execution_count": 182,
   "metadata": {},
   "outputs": [],
   "source": [
    "df1=df.copy()"
   ]
  },
  {
   "cell_type": "code",
   "execution_count": 183,
   "metadata": {},
   "outputs": [],
   "source": [
    "lb_cols=df1.select_dtypes(include=\"object\").columns"
   ]
  },
  {
   "cell_type": "code",
   "execution_count": 184,
   "metadata": {},
   "outputs": [],
   "source": [
    "from sklearn.preprocessing import LabelEncoder"
   ]
  },
  {
   "cell_type": "code",
   "execution_count": 185,
   "metadata": {},
   "outputs": [],
   "source": [
    "lb=LabelEncoder()\n",
    "for i in lb_cols:\n",
    "    df1[i]=lb.fit_transform(df1[i])"
   ]
  },
  {
   "cell_type": "code",
   "execution_count": 186,
   "metadata": {},
   "outputs": [],
   "source": [
    "Chi_stat=[]\n",
    "P_Val=[]\n",
    "for i in cat_cols:\n",
    "    table=pd.crosstab(df[i],df[\"loan_default\"])\n",
    "    Chi_stat.append(chi2_contingency(table)[0])\n",
    "    P_Val.append(chi2_contingency(table)[1])"
   ]
  },
  {
   "cell_type": "markdown",
   "metadata": {},
   "source": [
    "**Overall Statistical Data Analysis For Categorical Features**"
   ]
  },
  {
   "cell_type": "code",
   "execution_count": 187,
   "metadata": {},
   "outputs": [],
   "source": [
    "Cat_cols_Stat=pd.DataFrame(data=[Chi_stat,P_Val],columns=cat_cols,\n",
    "             index=[\"Chi_Stat\",\"P_value\"]).T.sort_values(\"P_value\")"
   ]
  },
  {
   "cell_type": "code",
   "execution_count": 188,
   "metadata": {},
   "outputs": [
    {
     "data": {
      "text/html": [
       "<div>\n",
       "<style scoped>\n",
       "    .dataframe tbody tr th:only-of-type {\n",
       "        vertical-align: middle;\n",
       "    }\n",
       "\n",
       "    .dataframe tbody tr th {\n",
       "        vertical-align: top;\n",
       "    }\n",
       "\n",
       "    .dataframe thead th {\n",
       "        text-align: right;\n",
       "    }\n",
       "</style>\n",
       "<table border=\"1\" class=\"dataframe\">\n",
       "  <thead>\n",
       "    <tr style=\"text-align: right;\">\n",
       "      <th></th>\n",
       "      <th>Chi_Stat</th>\n",
       "      <th>P_value</th>\n",
       "    </tr>\n",
       "  </thead>\n",
       "  <tbody>\n",
       "    <tr>\n",
       "      <td>Current_pincode_ID</td>\n",
       "      <td>12702.769933</td>\n",
       "      <td>0.000000e+00</td>\n",
       "    </tr>\n",
       "    <tr>\n",
       "      <td>PERFORM_CNS.SCORE.DESCRIPTION</td>\n",
       "      <td>2114.465408</td>\n",
       "      <td>0.000000e+00</td>\n",
       "    </tr>\n",
       "    <tr>\n",
       "      <td>branch_id</td>\n",
       "      <td>2930.842784</td>\n",
       "      <td>0.000000e+00</td>\n",
       "    </tr>\n",
       "    <tr>\n",
       "      <td>State_ID</td>\n",
       "      <td>1626.861781</td>\n",
       "      <td>0.000000e+00</td>\n",
       "    </tr>\n",
       "    <tr>\n",
       "      <td>Employee_code_ID</td>\n",
       "      <td>10531.308447</td>\n",
       "      <td>0.000000e+00</td>\n",
       "    </tr>\n",
       "    <tr>\n",
       "      <td>supplier_id</td>\n",
       "      <td>9339.709282</td>\n",
       "      <td>0.000000e+00</td>\n",
       "    </tr>\n",
       "    <tr>\n",
       "      <td>Overdue_accounts_Flag</td>\n",
       "      <td>567.070856</td>\n",
       "      <td>2.434934e-125</td>\n",
       "    </tr>\n",
       "    <tr>\n",
       "      <td>PRI.OVERDUE.ACCTS</td>\n",
       "      <td>593.752865</td>\n",
       "      <td>3.291632e-112</td>\n",
       "    </tr>\n",
       "    <tr>\n",
       "      <td>month_of_disbursement</td>\n",
       "      <td>524.415251</td>\n",
       "      <td>1.982491e-105</td>\n",
       "    </tr>\n",
       "    <tr>\n",
       "      <td>VoterID_flag</td>\n",
       "      <td>445.908843</td>\n",
       "      <td>5.603683e-99</td>\n",
       "    </tr>\n",
       "    <tr>\n",
       "      <td>NO.OF_INQUIRIES</td>\n",
       "      <td>524.890463</td>\n",
       "      <td>1.117569e-95</td>\n",
       "    </tr>\n",
       "    <tr>\n",
       "      <td>manufacturer_id</td>\n",
       "      <td>464.697640</td>\n",
       "      <td>1.527738e-93</td>\n",
       "    </tr>\n",
       "    <tr>\n",
       "      <td>Aadhar_flag</td>\n",
       "      <td>403.074838</td>\n",
       "      <td>1.179200e-89</td>\n",
       "    </tr>\n",
       "    <tr>\n",
       "      <td>PRI.ACTIVE.ACCTS</td>\n",
       "      <td>457.907532</td>\n",
       "      <td>6.539244e-73</td>\n",
       "    </tr>\n",
       "    <tr>\n",
       "      <td>PRI.NO.OF.ACCTS</td>\n",
       "      <td>591.507498</td>\n",
       "      <td>3.947704e-68</td>\n",
       "    </tr>\n",
       "    <tr>\n",
       "      <td>DELINQUENT.ACCTS.IN.LAST.SIX.MONTHS</td>\n",
       "      <td>347.560233</td>\n",
       "      <td>2.528829e-66</td>\n",
       "    </tr>\n",
       "    <tr>\n",
       "      <td>First_Time_Account_Holder</td>\n",
       "      <td>279.861154</td>\n",
       "      <td>8.051059e-63</td>\n",
       "    </tr>\n",
       "    <tr>\n",
       "      <td>Scored_Or_Not</td>\n",
       "      <td>275.683095</td>\n",
       "      <td>6.551645e-62</td>\n",
       "    </tr>\n",
       "    <tr>\n",
       "      <td>NEW.ACCTS.IN.LAST.SIX.MONTHS</td>\n",
       "      <td>287.040943</td>\n",
       "      <td>2.366614e-46</td>\n",
       "    </tr>\n",
       "    <tr>\n",
       "      <td>Employment.Type</td>\n",
       "      <td>183.744606</td>\n",
       "      <td>7.376772e-42</td>\n",
       "    </tr>\n",
       "    <tr>\n",
       "      <td>Active_accounts_Flag</td>\n",
       "      <td>178.260773</td>\n",
       "      <td>1.161915e-40</td>\n",
       "    </tr>\n",
       "    <tr>\n",
       "      <td>Passport_flag</td>\n",
       "      <td>13.077913</td>\n",
       "      <td>2.987982e-04</td>\n",
       "    </tr>\n",
       "    <tr>\n",
       "      <td>Driving_flag</td>\n",
       "      <td>7.808088</td>\n",
       "      <td>5.201291e-03</td>\n",
       "    </tr>\n",
       "    <tr>\n",
       "      <td>SEC.ACTIVE.ACCTS</td>\n",
       "      <td>36.267393</td>\n",
       "      <td>2.842133e-02</td>\n",
       "    </tr>\n",
       "    <tr>\n",
       "      <td>SEC.NO.OF.ACCTS</td>\n",
       "      <td>50.114650</td>\n",
       "      <td>5.918409e-02</td>\n",
       "    </tr>\n",
       "    <tr>\n",
       "      <td>PAN_flag</td>\n",
       "      <td>0.957671</td>\n",
       "      <td>3.277743e-01</td>\n",
       "    </tr>\n",
       "    <tr>\n",
       "      <td>UniqueID</td>\n",
       "      <td>233154.000000</td>\n",
       "      <td>4.990263e-01</td>\n",
       "    </tr>\n",
       "    <tr>\n",
       "      <td>SEC.OVERDUE.ACCTS</td>\n",
       "      <td>6.597539</td>\n",
       "      <td>5.806100e-01</td>\n",
       "    </tr>\n",
       "    <tr>\n",
       "      <td>MobileNo_Avl_Flag</td>\n",
       "      <td>0.000000</td>\n",
       "      <td>1.000000e+00</td>\n",
       "    </tr>\n",
       "  </tbody>\n",
       "</table>\n",
       "</div>"
      ],
      "text/plain": [
       "                                          Chi_Stat        P_value\n",
       "Current_pincode_ID                    12702.769933   0.000000e+00\n",
       "PERFORM_CNS.SCORE.DESCRIPTION          2114.465408   0.000000e+00\n",
       "branch_id                              2930.842784   0.000000e+00\n",
       "State_ID                               1626.861781   0.000000e+00\n",
       "Employee_code_ID                      10531.308447   0.000000e+00\n",
       "supplier_id                            9339.709282   0.000000e+00\n",
       "Overdue_accounts_Flag                   567.070856  2.434934e-125\n",
       "PRI.OVERDUE.ACCTS                       593.752865  3.291632e-112\n",
       "month_of_disbursement                   524.415251  1.982491e-105\n",
       "VoterID_flag                            445.908843   5.603683e-99\n",
       "NO.OF_INQUIRIES                         524.890463   1.117569e-95\n",
       "manufacturer_id                         464.697640   1.527738e-93\n",
       "Aadhar_flag                             403.074838   1.179200e-89\n",
       "PRI.ACTIVE.ACCTS                        457.907532   6.539244e-73\n",
       "PRI.NO.OF.ACCTS                         591.507498   3.947704e-68\n",
       "DELINQUENT.ACCTS.IN.LAST.SIX.MONTHS     347.560233   2.528829e-66\n",
       "First_Time_Account_Holder               279.861154   8.051059e-63\n",
       "Scored_Or_Not                           275.683095   6.551645e-62\n",
       "NEW.ACCTS.IN.LAST.SIX.MONTHS            287.040943   2.366614e-46\n",
       "Employment.Type                         183.744606   7.376772e-42\n",
       "Active_accounts_Flag                    178.260773   1.161915e-40\n",
       "Passport_flag                            13.077913   2.987982e-04\n",
       "Driving_flag                              7.808088   5.201291e-03\n",
       "SEC.ACTIVE.ACCTS                         36.267393   2.842133e-02\n",
       "SEC.NO.OF.ACCTS                          50.114650   5.918409e-02\n",
       "PAN_flag                                  0.957671   3.277743e-01\n",
       "UniqueID                             233154.000000   4.990263e-01\n",
       "SEC.OVERDUE.ACCTS                         6.597539   5.806100e-01\n",
       "MobileNo_Avl_Flag                         0.000000   1.000000e+00"
      ]
     },
     "execution_count": 188,
     "metadata": {},
     "output_type": "execute_result"
    }
   ],
   "source": [
    "Cat_cols_Stat"
   ]
  },
  {
   "cell_type": "code",
   "execution_count": 189,
   "metadata": {},
   "outputs": [],
   "source": [
    "from scipy.stats import f_oneway"
   ]
  },
  {
   "cell_type": "code",
   "execution_count": 190,
   "metadata": {},
   "outputs": [],
   "source": [
    "F_stat=[]\n",
    "P_Val=[]\n",
    "for i in num_cols:\n",
    "    F_stat.append(f_oneway(df[\"loan_default\"],df[i])[0])\n",
    "    P_Val.append(f_oneway(df[\"loan_default\"],df[i])[1])"
   ]
  },
  {
   "cell_type": "code",
   "execution_count": 191,
   "metadata": {},
   "outputs": [],
   "source": [
    "Num_cols_Stat=pd.DataFrame(data=[F_stat,P_Val],columns=num_cols,\n",
    "             index=[\"F_stat\",\"P_value\"]).T.sort_values(\"P_value\")"
   ]
  },
  {
   "cell_type": "code",
   "execution_count": 192,
   "metadata": {},
   "outputs": [
    {
     "data": {
      "text/html": [
       "<div>\n",
       "<style scoped>\n",
       "    .dataframe tbody tr th:only-of-type {\n",
       "        vertical-align: middle;\n",
       "    }\n",
       "\n",
       "    .dataframe tbody tr th {\n",
       "        vertical-align: top;\n",
       "    }\n",
       "\n",
       "    .dataframe thead th {\n",
       "        text-align: right;\n",
       "    }\n",
       "</style>\n",
       "<table border=\"1\" class=\"dataframe\">\n",
       "  <thead>\n",
       "    <tr style=\"text-align: right;\">\n",
       "      <th></th>\n",
       "      <th>F_stat</th>\n",
       "      <th>P_value</th>\n",
       "    </tr>\n",
       "  </thead>\n",
       "  <tbody>\n",
       "    <tr>\n",
       "      <td>disbursed_amount</td>\n",
       "      <td>4.094325e+06</td>\n",
       "      <td>0.000000e+00</td>\n",
       "    </tr>\n",
       "    <tr>\n",
       "      <td>asset_cost</td>\n",
       "      <td>3.738909e+06</td>\n",
       "      <td>0.000000e+00</td>\n",
       "    </tr>\n",
       "    <tr>\n",
       "      <td>ltv</td>\n",
       "      <td>9.854228e+06</td>\n",
       "      <td>0.000000e+00</td>\n",
       "    </tr>\n",
       "    <tr>\n",
       "      <td>Age_at_time_of_disbursement</td>\n",
       "      <td>3.116675e+06</td>\n",
       "      <td>0.000000e+00</td>\n",
       "    </tr>\n",
       "    <tr>\n",
       "      <td>PERFORM_CNS.SCORE</td>\n",
       "      <td>1.703651e+05</td>\n",
       "      <td>0.000000e+00</td>\n",
       "    </tr>\n",
       "    <tr>\n",
       "      <td>PRI.CURRENT.BALANCE</td>\n",
       "      <td>7.227380e+03</td>\n",
       "      <td>0.000000e+00</td>\n",
       "    </tr>\n",
       "    <tr>\n",
       "      <td>PRI.SANCTIONED.AMOUNT</td>\n",
       "      <td>1.973823e+03</td>\n",
       "      <td>0.000000e+00</td>\n",
       "    </tr>\n",
       "    <tr>\n",
       "      <td>PRI.DISBURSED.AMOUNT</td>\n",
       "      <td>1.961044e+03</td>\n",
       "      <td>0.000000e+00</td>\n",
       "    </tr>\n",
       "    <tr>\n",
       "      <td>PRIMARY.INSTAL.AMT</td>\n",
       "      <td>1.747700e+03</td>\n",
       "      <td>0.000000e+00</td>\n",
       "    </tr>\n",
       "    <tr>\n",
       "      <td>AVERAGE.ACCT.AGE</td>\n",
       "      <td>7.725110e+04</td>\n",
       "      <td>0.000000e+00</td>\n",
       "    </tr>\n",
       "    <tr>\n",
       "      <td>CREDIT.HISTORY.LENGTH</td>\n",
       "      <td>7.337463e+04</td>\n",
       "      <td>0.000000e+00</td>\n",
       "    </tr>\n",
       "    <tr>\n",
       "      <td>SEC.SANCTIONED.AMOUNT</td>\n",
       "      <td>3.699434e+02</td>\n",
       "      <td>2.072709e-82</td>\n",
       "    </tr>\n",
       "    <tr>\n",
       "      <td>SEC.DISBURSED.AMOUNT</td>\n",
       "      <td>3.604951e+02</td>\n",
       "      <td>2.356066e-80</td>\n",
       "    </tr>\n",
       "    <tr>\n",
       "      <td>SEC.CURRENT.BALANCE</td>\n",
       "      <td>2.369991e+02</td>\n",
       "      <td>1.829059e-53</td>\n",
       "    </tr>\n",
       "    <tr>\n",
       "      <td>SEC.INSTAL.AMT</td>\n",
       "      <td>1.005817e+02</td>\n",
       "      <td>1.142408e-23</td>\n",
       "    </tr>\n",
       "  </tbody>\n",
       "</table>\n",
       "</div>"
      ],
      "text/plain": [
       "                                   F_stat       P_value\n",
       "disbursed_amount             4.094325e+06  0.000000e+00\n",
       "asset_cost                   3.738909e+06  0.000000e+00\n",
       "ltv                          9.854228e+06  0.000000e+00\n",
       "Age_at_time_of_disbursement  3.116675e+06  0.000000e+00\n",
       "PERFORM_CNS.SCORE            1.703651e+05  0.000000e+00\n",
       "PRI.CURRENT.BALANCE          7.227380e+03  0.000000e+00\n",
       "PRI.SANCTIONED.AMOUNT        1.973823e+03  0.000000e+00\n",
       "PRI.DISBURSED.AMOUNT         1.961044e+03  0.000000e+00\n",
       "PRIMARY.INSTAL.AMT           1.747700e+03  0.000000e+00\n",
       "AVERAGE.ACCT.AGE             7.725110e+04  0.000000e+00\n",
       "CREDIT.HISTORY.LENGTH        7.337463e+04  0.000000e+00\n",
       "SEC.SANCTIONED.AMOUNT        3.699434e+02  2.072709e-82\n",
       "SEC.DISBURSED.AMOUNT         3.604951e+02  2.356066e-80\n",
       "SEC.CURRENT.BALANCE          2.369991e+02  1.829059e-53\n",
       "SEC.INSTAL.AMT               1.005817e+02  1.142408e-23"
      ]
     },
     "execution_count": 192,
     "metadata": {},
     "output_type": "execute_result"
    }
   ],
   "source": [
    "Num_cols_Stat"
   ]
  },
  {
   "cell_type": "code",
   "execution_count": 193,
   "metadata": {},
   "outputs": [],
   "source": [
    "def cramers_corrected_stat(col):\n",
    "    \"\"\" calculate Cramers V statistic for categorial-categorial association.\n",
    "        uses correction from Bergsma and Wicher, \n",
    "        Journal of the Korean Statistical Society 42 (2013): 323-328\n",
    "    \"\"\"\n",
    "    confusion_matrix=pd.crosstab(df[col],df[\"loan_default\"])\n",
    "    chi2 = chi2_contingency(confusion_matrix)[0]\n",
    "    n = confusion_matrix.sum().sum()\n",
    "    phi2 = chi2/n\n",
    "    r,k = confusion_matrix.shape\n",
    "    phi2corr = max(0, phi2 - ((k-1)*(r-1))/(n-1))    \n",
    "    rcorr = r - ((r-1)**2)/(n-1)\n",
    "    kcorr = k - ((k-1)**2)/(n-1)\n",
    "    return np.sqrt(phi2corr / min( (kcorr-1), (rcorr-1)))"
   ]
  },
  {
   "cell_type": "code",
   "execution_count": 194,
   "metadata": {},
   "outputs": [
    {
     "name": "stderr",
     "output_type": "stream",
     "text": [
      "C:\\Users\\Nantha\\Anaconda3\\lib\\site-packages\\ipykernel_launcher.py:14: RuntimeWarning:\n",
      "\n",
      "invalid value encountered in double_scalars\n",
      "\n"
     ]
    }
   ],
   "source": [
    "cramers_val=[cramers_corrected_stat(i) for i in cat_cols]"
   ]
  },
  {
   "cell_type": "code",
   "execution_count": 195,
   "metadata": {},
   "outputs": [],
   "source": [
    "cramers_df=pd.DataFrame(data=cramers_val,index=cat_cols,columns=[\"Strength\"]).sort_values(\"Strength\",ascending=False)"
   ]
  },
  {
   "cell_type": "code",
   "execution_count": 196,
   "metadata": {},
   "outputs": [],
   "source": [
    "cm = sns.light_palette(\"green\", as_cmap=True)"
   ]
  },
  {
   "cell_type": "code",
   "execution_count": 197,
   "metadata": {},
   "outputs": [
    {
     "data": {
      "text/html": [
       "<style  type=\"text/css\" >\n",
       "    #T_fb405ec8_afd2_11ea_bb75_f0761cb234c1row0_col0 {\n",
       "            background-color:  #008000;\n",
       "            color:  #f1f1f1;\n",
       "        }    #T_fb405ec8_afd2_11ea_bb75_f0761cb234c1row1_col0 {\n",
       "            background-color:  #0e870e;\n",
       "            color:  #f1f1f1;\n",
       "        }    #T_fb405ec8_afd2_11ea_bb75_f0761cb234c1row2_col0 {\n",
       "            background-color:  #158b15;\n",
       "            color:  #000000;\n",
       "        }    #T_fb405ec8_afd2_11ea_bb75_f0761cb234c1row3_col0 {\n",
       "            background-color:  #56af56;\n",
       "            color:  #000000;\n",
       "        }    #T_fb405ec8_afd2_11ea_bb75_f0761cb234c1row4_col0 {\n",
       "            background-color:  #6abb6a;\n",
       "            color:  #000000;\n",
       "        }    #T_fb405ec8_afd2_11ea_bb75_f0761cb234c1row5_col0 {\n",
       "            background-color:  #7ac37a;\n",
       "            color:  #000000;\n",
       "        }    #T_fb405ec8_afd2_11ea_bb75_f0761cb234c1row6_col0 {\n",
       "            background-color:  #a6dca6;\n",
       "            color:  #000000;\n",
       "        }    #T_fb405ec8_afd2_11ea_bb75_f0761cb234c1row7_col0 {\n",
       "            background-color:  #a6dca6;\n",
       "            color:  #000000;\n",
       "        }    #T_fb405ec8_afd2_11ea_bb75_f0761cb234c1row8_col0 {\n",
       "            background-color:  #a8dda8;\n",
       "            color:  #000000;\n",
       "        }    #T_fb405ec8_afd2_11ea_bb75_f0761cb234c1row9_col0 {\n",
       "            background-color:  #a9dea9;\n",
       "            color:  #000000;\n",
       "        }    #T_fb405ec8_afd2_11ea_bb75_f0761cb234c1row10_col0 {\n",
       "            background-color:  #aadeaa;\n",
       "            color:  #000000;\n",
       "        }    #T_fb405ec8_afd2_11ea_bb75_f0761cb234c1row11_col0 {\n",
       "            background-color:  #acdfac;\n",
       "            color:  #000000;\n",
       "        }    #T_fb405ec8_afd2_11ea_bb75_f0761cb234c1row12_col0 {\n",
       "            background-color:  #ade0ad;\n",
       "            color:  #000000;\n",
       "        }    #T_fb405ec8_afd2_11ea_bb75_f0761cb234c1row13_col0 {\n",
       "            background-color:  #afe1af;\n",
       "            color:  #000000;\n",
       "        }    #T_fb405ec8_afd2_11ea_bb75_f0761cb234c1row14_col0 {\n",
       "            background-color:  #b0e1b0;\n",
       "            color:  #000000;\n",
       "        }    #T_fb405ec8_afd2_11ea_bb75_f0761cb234c1row15_col0 {\n",
       "            background-color:  #b5e4b5;\n",
       "            color:  #000000;\n",
       "        }    #T_fb405ec8_afd2_11ea_bb75_f0761cb234c1row16_col0 {\n",
       "            background-color:  #b8e6b8;\n",
       "            color:  #000000;\n",
       "        }    #T_fb405ec8_afd2_11ea_bb75_f0761cb234c1row17_col0 {\n",
       "            background-color:  #b9e7b9;\n",
       "            color:  #000000;\n",
       "        }    #T_fb405ec8_afd2_11ea_bb75_f0761cb234c1row18_col0 {\n",
       "            background-color:  #bae7ba;\n",
       "            color:  #000000;\n",
       "        }    #T_fb405ec8_afd2_11ea_bb75_f0761cb234c1row19_col0 {\n",
       "            background-color:  #c2ebc2;\n",
       "            color:  #000000;\n",
       "        }    #T_fb405ec8_afd2_11ea_bb75_f0761cb234c1row20_col0 {\n",
       "            background-color:  #c2ecc2;\n",
       "            color:  #000000;\n",
       "        }    #T_fb405ec8_afd2_11ea_bb75_f0761cb234c1row21_col0 {\n",
       "            background-color:  #dcfadc;\n",
       "            color:  #000000;\n",
       "        }    #T_fb405ec8_afd2_11ea_bb75_f0761cb234c1row22_col0 {\n",
       "            background-color:  #dcfadc;\n",
       "            color:  #000000;\n",
       "        }    #T_fb405ec8_afd2_11ea_bb75_f0761cb234c1row23_col0 {\n",
       "            background-color:  #dcfadc;\n",
       "            color:  #000000;\n",
       "        }    #T_fb405ec8_afd2_11ea_bb75_f0761cb234c1row24_col0 {\n",
       "            background-color:  #dffcdf;\n",
       "            color:  #000000;\n",
       "        }    #T_fb405ec8_afd2_11ea_bb75_f0761cb234c1row25_col0 {\n",
       "            background-color:  #e5ffe5;\n",
       "            color:  #000000;\n",
       "        }    #T_fb405ec8_afd2_11ea_bb75_f0761cb234c1row26_col0 {\n",
       "            background-color:  #e5ffe5;\n",
       "            color:  #000000;\n",
       "        }</style><table id=\"T_fb405ec8_afd2_11ea_bb75_f0761cb234c1\" ><thead>    <tr>        <th class=\"blank level0\" ></th>        <th class=\"col_heading level0 col0\" >Strength</th>    </tr></thead><tbody>\n",
       "                <tr>\n",
       "                        <th id=\"T_fb405ec8_afd2_11ea_bb75_f0761cb234c1level0_row0\" class=\"row_heading level0 row0\" >Employee_code_ID</th>\n",
       "                        <td id=\"T_fb405ec8_afd2_11ea_bb75_f0761cb234c1row0_col0\" class=\"data row0 col0\" >0.176489</td>\n",
       "            </tr>\n",
       "            <tr>\n",
       "                        <th id=\"T_fb405ec8_afd2_11ea_bb75_f0761cb234c1level0_row1\" class=\"row_heading level0 row1\" >supplier_id</th>\n",
       "                        <td id=\"T_fb405ec8_afd2_11ea_bb75_f0761cb234c1row1_col0\" class=\"data row1 col0\" >0.16552</td>\n",
       "            </tr>\n",
       "            <tr>\n",
       "                        <th id=\"T_fb405ec8_afd2_11ea_bb75_f0761cb234c1level0_row2\" class=\"row_heading level0 row2\" >Current_pincode_ID</th>\n",
       "                        <td id=\"T_fb405ec8_afd2_11ea_bb75_f0761cb234c1row2_col0\" class=\"data row2 col0\" >0.160495</td>\n",
       "            </tr>\n",
       "            <tr>\n",
       "                        <th id=\"T_fb405ec8_afd2_11ea_bb75_f0761cb234c1level0_row3\" class=\"row_heading level0 row3\" >branch_id</th>\n",
       "                        <td id=\"T_fb405ec8_afd2_11ea_bb75_f0761cb234c1row3_col0\" class=\"data row3 col0\" >0.110558</td>\n",
       "            </tr>\n",
       "            <tr>\n",
       "                        <th id=\"T_fb405ec8_afd2_11ea_bb75_f0761cb234c1level0_row4\" class=\"row_heading level0 row4\" >PERFORM_CNS.SCORE.DESCRIPTION</th>\n",
       "                        <td id=\"T_fb405ec8_afd2_11ea_bb75_f0761cb234c1row4_col0\" class=\"data row4 col0\" >0.0949381</td>\n",
       "            </tr>\n",
       "            <tr>\n",
       "                        <th id=\"T_fb405ec8_afd2_11ea_bb75_f0761cb234c1level0_row5\" class=\"row_heading level0 row5\" >State_ID</th>\n",
       "                        <td id=\"T_fb405ec8_afd2_11ea_bb75_f0761cb234c1row5_col0\" class=\"data row5 col0\" >0.0829915</td>\n",
       "            </tr>\n",
       "            <tr>\n",
       "                        <th id=\"T_fb405ec8_afd2_11ea_bb75_f0761cb234c1level0_row6\" class=\"row_heading level0 row6\" >PRI.OVERDUE.ACCTS</th>\n",
       "                        <td id=\"T_fb405ec8_afd2_11ea_bb75_f0761cb234c1row6_col0\" class=\"data row6 col0\" >0.0495636</td>\n",
       "            </tr>\n",
       "            <tr>\n",
       "                        <th id=\"T_fb405ec8_afd2_11ea_bb75_f0761cb234c1level0_row7\" class=\"row_heading level0 row7\" >Overdue_accounts_Flag</th>\n",
       "                        <td id=\"T_fb405ec8_afd2_11ea_bb75_f0761cb234c1row7_col0\" class=\"data row7 col0\" >0.0492737</td>\n",
       "            </tr>\n",
       "            <tr>\n",
       "                        <th id=\"T_fb405ec8_afd2_11ea_bb75_f0761cb234c1level0_row8\" class=\"row_heading level0 row8\" >month_of_disbursement</th>\n",
       "                        <td id=\"T_fb405ec8_afd2_11ea_bb75_f0761cb234c1row8_col0\" class=\"data row8 col0\" >0.046926</td>\n",
       "            </tr>\n",
       "            <tr>\n",
       "                        <th id=\"T_fb405ec8_afd2_11ea_bb75_f0761cb234c1level0_row9\" class=\"row_heading level0 row9\" >NO.OF_INQUIRIES</th>\n",
       "                        <td id=\"T_fb405ec8_afd2_11ea_bb75_f0761cb234c1row9_col0\" class=\"data row9 col0\" >0.0463501</td>\n",
       "            </tr>\n",
       "            <tr>\n",
       "                        <th id=\"T_fb405ec8_afd2_11ea_bb75_f0761cb234c1level0_row10\" class=\"row_heading level0 row10\" >PRI.NO.OF.ACCTS</th>\n",
       "                        <td id=\"T_fb405ec8_afd2_11ea_bb75_f0761cb234c1row10_col0\" class=\"data row10 col0\" >0.0455858</td>\n",
       "            </tr>\n",
       "            <tr>\n",
       "                        <th id=\"T_fb405ec8_afd2_11ea_bb75_f0761cb234c1level0_row11\" class=\"row_heading level0 row11\" >manufacturer_id</th>\n",
       "                        <td id=\"T_fb405ec8_afd2_11ea_bb75_f0761cb234c1row11_col0\" class=\"data row11 col0\" >0.0441612</td>\n",
       "            </tr>\n",
       "            <tr>\n",
       "                        <th id=\"T_fb405ec8_afd2_11ea_bb75_f0761cb234c1level0_row12\" class=\"row_heading level0 row12\" >VoterID_flag</th>\n",
       "                        <td id=\"T_fb405ec8_afd2_11ea_bb75_f0761cb234c1row12_col0\" class=\"data row12 col0\" >0.0436833</td>\n",
       "            </tr>\n",
       "            <tr>\n",
       "                        <th id=\"T_fb405ec8_afd2_11ea_bb75_f0761cb234c1level0_row13\" class=\"row_heading level0 row13\" >PRI.ACTIVE.ACCTS</th>\n",
       "                        <td id=\"T_fb405ec8_afd2_11ea_bb75_f0761cb234c1row13_col0\" class=\"data row13 col0\" >0.0423876</td>\n",
       "            </tr>\n",
       "            <tr>\n",
       "                        <th id=\"T_fb405ec8_afd2_11ea_bb75_f0761cb234c1level0_row14\" class=\"row_heading level0 row14\" >Aadhar_flag</th>\n",
       "                        <td id=\"T_fb405ec8_afd2_11ea_bb75_f0761cb234c1row14_col0\" class=\"data row14 col0\" >0.0415272</td>\n",
       "            </tr>\n",
       "            <tr>\n",
       "                        <th id=\"T_fb405ec8_afd2_11ea_bb75_f0761cb234c1level0_row15\" class=\"row_heading level0 row15\" >DELINQUENT.ACCTS.IN.LAST.SIX.MONTHS</th>\n",
       "                        <td id=\"T_fb405ec8_afd2_11ea_bb75_f0761cb234c1row15_col0\" class=\"data row15 col0\" >0.0378806</td>\n",
       "            </tr>\n",
       "            <tr>\n",
       "                        <th id=\"T_fb405ec8_afd2_11ea_bb75_f0761cb234c1level0_row16\" class=\"row_heading level0 row16\" >First_Time_Account_Holder</th>\n",
       "                        <td id=\"T_fb405ec8_afd2_11ea_bb75_f0761cb234c1row16_col0\" class=\"data row16 col0\" >0.0345839</td>\n",
       "            </tr>\n",
       "            <tr>\n",
       "                        <th id=\"T_fb405ec8_afd2_11ea_bb75_f0761cb234c1level0_row17\" class=\"row_heading level0 row17\" >Scored_Or_Not</th>\n",
       "                        <td id=\"T_fb405ec8_afd2_11ea_bb75_f0761cb234c1row17_col0\" class=\"data row17 col0\" >0.0343238</td>\n",
       "            </tr>\n",
       "            <tr>\n",
       "                        <th id=\"T_fb405ec8_afd2_11ea_bb75_f0761cb234c1level0_row18\" class=\"row_heading level0 row18\" >NEW.ACCTS.IN.LAST.SIX.MONTHS</th>\n",
       "                        <td id=\"T_fb405ec8_afd2_11ea_bb75_f0761cb234c1row18_col0\" class=\"data row18 col0\" >0.0335246</td>\n",
       "            </tr>\n",
       "            <tr>\n",
       "                        <th id=\"T_fb405ec8_afd2_11ea_bb75_f0761cb234c1level0_row19\" class=\"row_heading level0 row19\" >Employment.Type</th>\n",
       "                        <td id=\"T_fb405ec8_afd2_11ea_bb75_f0761cb234c1row19_col0\" class=\"data row19 col0\" >0.0279964</td>\n",
       "            </tr>\n",
       "            <tr>\n",
       "                        <th id=\"T_fb405ec8_afd2_11ea_bb75_f0761cb234c1level0_row20\" class=\"row_heading level0 row20\" >Active_accounts_Flag</th>\n",
       "                        <td id=\"T_fb405ec8_afd2_11ea_bb75_f0761cb234c1row20_col0\" class=\"data row20 col0\" >0.0275731</td>\n",
       "            </tr>\n",
       "            <tr>\n",
       "                        <th id=\"T_fb405ec8_afd2_11ea_bb75_f0761cb234c1level0_row21\" class=\"row_heading level0 row21\" >SEC.ACTIVE.ACCTS</th>\n",
       "                        <td id=\"T_fb405ec8_afd2_11ea_bb75_f0761cb234c1row21_col0\" class=\"data row21 col0\" >0.00782259</td>\n",
       "            </tr>\n",
       "            <tr>\n",
       "                        <th id=\"T_fb405ec8_afd2_11ea_bb75_f0761cb234c1level0_row22\" class=\"row_heading level0 row22\" >SEC.NO.OF.ACCTS</th>\n",
       "                        <td id=\"T_fb405ec8_afd2_11ea_bb75_f0761cb234c1row22_col0\" class=\"data row22 col0\" >0.00778058</td>\n",
       "            </tr>\n",
       "            <tr>\n",
       "                        <th id=\"T_fb405ec8_afd2_11ea_bb75_f0761cb234c1level0_row23\" class=\"row_heading level0 row23\" >Passport_flag</th>\n",
       "                        <td id=\"T_fb405ec8_afd2_11ea_bb75_f0761cb234c1row23_col0\" class=\"data row23 col0\" >0.0071974</td>\n",
       "            </tr>\n",
       "            <tr>\n",
       "                        <th id=\"T_fb405ec8_afd2_11ea_bb75_f0761cb234c1level0_row24\" class=\"row_heading level0 row24\" >Driving_flag</th>\n",
       "                        <td id=\"T_fb405ec8_afd2_11ea_bb75_f0761cb234c1row24_col0\" class=\"data row24 col0\" >0.00540371</td>\n",
       "            </tr>\n",
       "            <tr>\n",
       "                        <th id=\"T_fb405ec8_afd2_11ea_bb75_f0761cb234c1level0_row25\" class=\"row_heading level0 row25\" >SEC.OVERDUE.ACCTS</th>\n",
       "                        <td id=\"T_fb405ec8_afd2_11ea_bb75_f0761cb234c1row25_col0\" class=\"data row25 col0\" >0</td>\n",
       "            </tr>\n",
       "            <tr>\n",
       "                        <th id=\"T_fb405ec8_afd2_11ea_bb75_f0761cb234c1level0_row26\" class=\"row_heading level0 row26\" >PAN_flag</th>\n",
       "                        <td id=\"T_fb405ec8_afd2_11ea_bb75_f0761cb234c1row26_col0\" class=\"data row26 col0\" >0</td>\n",
       "            </tr>\n",
       "    </tbody></table>"
      ],
      "text/plain": [
       "<pandas.io.formats.style.Styler at 0x1f1bae4a488>"
      ]
     },
     "execution_count": 197,
     "metadata": {},
     "output_type": "execute_result"
    }
   ],
   "source": [
    "cramers_df[:-2].style.background_gradient(cmap=cm)"
   ]
  },
  {
   "cell_type": "code",
   "execution_count": 198,
   "metadata": {},
   "outputs": [],
   "source": [
    "from scipy.stats import pointbiserialr"
   ]
  },
  {
   "cell_type": "code",
   "execution_count": 199,
   "metadata": {},
   "outputs": [],
   "source": [
    "val=[abs(pointbiserialr(df[i],df[\"loan_default\"])[0]) for i in num_cols]"
   ]
  },
  {
   "cell_type": "code",
   "execution_count": 200,
   "metadata": {},
   "outputs": [],
   "source": [
    "Num_cols_strength=pd.DataFrame(data=val,index=num_cols,columns=[\"Strength\"]).sort_values(\"Strength\",ascending=False)"
   ]
  },
  {
   "cell_type": "code",
   "execution_count": 201,
   "metadata": {},
   "outputs": [
    {
     "data": {
      "text/html": [
       "<style  type=\"text/css\" >\n",
       "    #T_fb988bbe_afd2_11ea_a0ea_f0761cb234c1row0_col0 {\n",
       "            background-color:  #008000;\n",
       "            color:  #f1f1f1;\n",
       "        }    #T_fb988bbe_afd2_11ea_a0ea_f0761cb234c1row1_col0 {\n",
       "            background-color:  #319b31;\n",
       "            color:  #000000;\n",
       "        }    #T_fb988bbe_afd2_11ea_a0ea_f0761cb234c1row2_col0 {\n",
       "            background-color:  #5fb55f;\n",
       "            color:  #000000;\n",
       "        }    #T_fb988bbe_afd2_11ea_a0ea_f0761cb234c1row3_col0 {\n",
       "            background-color:  #85ca85;\n",
       "            color:  #000000;\n",
       "        }    #T_fb988bbe_afd2_11ea_a0ea_f0761cb234c1row4_col0 {\n",
       "            background-color:  #91d091;\n",
       "            color:  #000000;\n",
       "        }    #T_fb988bbe_afd2_11ea_a0ea_f0761cb234c1row5_col0 {\n",
       "            background-color:  #a8dda8;\n",
       "            color:  #000000;\n",
       "        }    #T_fb988bbe_afd2_11ea_a0ea_f0761cb234c1row6_col0 {\n",
       "            background-color:  #afe1af;\n",
       "            color:  #000000;\n",
       "        }    #T_fb988bbe_afd2_11ea_a0ea_f0761cb234c1row7_col0 {\n",
       "            background-color:  #c8efc8;\n",
       "            color:  #000000;\n",
       "        }    #T_fb988bbe_afd2_11ea_a0ea_f0761cb234c1row8_col0 {\n",
       "            background-color:  #cff3cf;\n",
       "            color:  #000000;\n",
       "        }    #T_fb988bbe_afd2_11ea_a0ea_f0761cb234c1row9_col0 {\n",
       "            background-color:  #cff3cf;\n",
       "            color:  #000000;\n",
       "        }    #T_fb988bbe_afd2_11ea_a0ea_f0761cb234c1row10_col0 {\n",
       "            background-color:  #d0f3d0;\n",
       "            color:  #000000;\n",
       "        }    #T_fb988bbe_afd2_11ea_a0ea_f0761cb234c1row11_col0 {\n",
       "            background-color:  #dbf9db;\n",
       "            color:  #000000;\n",
       "        }    #T_fb988bbe_afd2_11ea_a0ea_f0761cb234c1row12_col0 {\n",
       "            background-color:  #dbf9db;\n",
       "            color:  #000000;\n",
       "        }    #T_fb988bbe_afd2_11ea_a0ea_f0761cb234c1row13_col0 {\n",
       "            background-color:  #dcfadc;\n",
       "            color:  #000000;\n",
       "        }    #T_fb988bbe_afd2_11ea_a0ea_f0761cb234c1row14_col0 {\n",
       "            background-color:  #e5ffe5;\n",
       "            color:  #000000;\n",
       "        }</style><table id=\"T_fb988bbe_afd2_11ea_a0ea_f0761cb234c1\" ><thead>    <tr>        <th class=\"blank level0\" ></th>        <th class=\"col_heading level0 col0\" >Strength</th>    </tr></thead><tbody>\n",
       "                <tr>\n",
       "                        <th id=\"T_fb988bbe_afd2_11ea_a0ea_f0761cb234c1level0_row0\" class=\"row_heading level0 row0\" >ltv</th>\n",
       "                        <td id=\"T_fb988bbe_afd2_11ea_a0ea_f0761cb234c1row0_col0\" class=\"data row0 col0\" >0.0982078</td>\n",
       "            </tr>\n",
       "            <tr>\n",
       "                        <th id=\"T_fb988bbe_afd2_11ea_a0ea_f0761cb234c1level0_row1\" class=\"row_heading level0 row1\" >disbursed_amount</th>\n",
       "                        <td id=\"T_fb988bbe_afd2_11ea_a0ea_f0761cb234c1row1_col0\" class=\"data row1 col0\" >0.0776749</td>\n",
       "            </tr>\n",
       "            <tr>\n",
       "                        <th id=\"T_fb988bbe_afd2_11ea_a0ea_f0761cb234c1level0_row2\" class=\"row_heading level0 row2\" >PERFORM_CNS.SCORE</th>\n",
       "                        <td id=\"T_fb988bbe_afd2_11ea_a0ea_f0761cb234c1row2_col0\" class=\"data row2 col0\" >0.0579291</td>\n",
       "            </tr>\n",
       "            <tr>\n",
       "                        <th id=\"T_fb988bbe_afd2_11ea_a0ea_f0761cb234c1level0_row3\" class=\"row_heading level0 row3\" >CREDIT.HISTORY.LENGTH</th>\n",
       "                        <td id=\"T_fb988bbe_afd2_11ea_a0ea_f0761cb234c1row3_col0\" class=\"data row3 col0\" >0.0421261</td>\n",
       "            </tr>\n",
       "            <tr>\n",
       "                        <th id=\"T_fb988bbe_afd2_11ea_a0ea_f0761cb234c1level0_row4\" class=\"row_heading level0 row4\" >Age_at_time_of_disbursement</th>\n",
       "                        <td id=\"T_fb988bbe_afd2_11ea_a0ea_f0761cb234c1row4_col0\" class=\"data row4 col0\" >0.0372868</td>\n",
       "            </tr>\n",
       "            <tr>\n",
       "                        <th id=\"T_fb988bbe_afd2_11ea_a0ea_f0761cb234c1level0_row5\" class=\"row_heading level0 row5\" >PRI.CURRENT.BALANCE</th>\n",
       "                        <td id=\"T_fb988bbe_afd2_11ea_a0ea_f0761cb234c1row5_col0\" class=\"data row5 col0\" >0.0273857</td>\n",
       "            </tr>\n",
       "            <tr>\n",
       "                        <th id=\"T_fb988bbe_afd2_11ea_a0ea_f0761cb234c1level0_row6\" class=\"row_heading level0 row6\" >AVERAGE.ACCT.AGE</th>\n",
       "                        <td id=\"T_fb988bbe_afd2_11ea_a0ea_f0761cb234c1row6_col0\" class=\"data row6 col0\" >0.0247809</td>\n",
       "            </tr>\n",
       "            <tr>\n",
       "                        <th id=\"T_fb988bbe_afd2_11ea_a0ea_f0761cb234c1level0_row7\" class=\"row_heading level0 row7\" >asset_cost</th>\n",
       "                        <td id=\"T_fb988bbe_afd2_11ea_a0ea_f0761cb234c1row7_col0\" class=\"data row7 col0\" >0.0142613</td>\n",
       "            </tr>\n",
       "            <tr>\n",
       "                        <th id=\"T_fb988bbe_afd2_11ea_a0ea_f0761cb234c1level0_row8\" class=\"row_heading level0 row8\" >PRI.SANCTIONED.AMOUNT</th>\n",
       "                        <td id=\"T_fb988bbe_afd2_11ea_a0ea_f0761cb234c1row8_col0\" class=\"data row8 col0\" >0.0113045</td>\n",
       "            </tr>\n",
       "            <tr>\n",
       "                        <th id=\"T_fb988bbe_afd2_11ea_a0ea_f0761cb234c1level0_row9\" class=\"row_heading level0 row9\" >PRI.DISBURSED.AMOUNT</th>\n",
       "                        <td id=\"T_fb988bbe_afd2_11ea_a0ea_f0761cb234c1row9_col0\" class=\"data row9 col0\" >0.0111555</td>\n",
       "            </tr>\n",
       "            <tr>\n",
       "                        <th id=\"T_fb988bbe_afd2_11ea_a0ea_f0761cb234c1level0_row10\" class=\"row_heading level0 row10\" >PRIMARY.INSTAL.AMT</th>\n",
       "                        <td id=\"T_fb988bbe_afd2_11ea_a0ea_f0761cb234c1row10_col0\" class=\"data row10 col0\" >0.0106158</td>\n",
       "            </tr>\n",
       "            <tr>\n",
       "                        <th id=\"T_fb988bbe_afd2_11ea_a0ea_f0761cb234c1level0_row11\" class=\"row_heading level0 row11\" >SEC.SANCTIONED.AMOUNT</th>\n",
       "                        <td id=\"T_fb988bbe_afd2_11ea_a0ea_f0761cb234c1row11_col0\" class=\"data row11 col0\" >0.00635432</td>\n",
       "            </tr>\n",
       "            <tr>\n",
       "                        <th id=\"T_fb988bbe_afd2_11ea_a0ea_f0761cb234c1level0_row12\" class=\"row_heading level0 row12\" >SEC.DISBURSED.AMOUNT</th>\n",
       "                        <td id=\"T_fb988bbe_afd2_11ea_a0ea_f0761cb234c1row12_col0\" class=\"data row12 col0\" >0.0062483</td>\n",
       "            </tr>\n",
       "            <tr>\n",
       "                        <th id=\"T_fb988bbe_afd2_11ea_a0ea_f0761cb234c1level0_row13\" class=\"row_heading level0 row13\" >SEC.CURRENT.BALANCE</th>\n",
       "                        <td id=\"T_fb988bbe_afd2_11ea_a0ea_f0761cb234c1row13_col0\" class=\"data row13 col0\" >0.00553145</td>\n",
       "            </tr>\n",
       "            <tr>\n",
       "                        <th id=\"T_fb988bbe_afd2_11ea_a0ea_f0761cb234c1level0_row14\" class=\"row_heading level0 row14\" >SEC.INSTAL.AMT</th>\n",
       "                        <td id=\"T_fb988bbe_afd2_11ea_a0ea_f0761cb234c1row14_col0\" class=\"data row14 col0\" >0.00154848</td>\n",
       "            </tr>\n",
       "    </tbody></table>"
      ],
      "text/plain": [
       "<pandas.io.formats.style.Styler at 0x1f1c9a85648>"
      ]
     },
     "execution_count": 201,
     "metadata": {},
     "output_type": "execute_result"
    }
   ],
   "source": [
    "Num_cols_strength.style.background_gradient(cmap=cm)"
   ]
  },
  {
   "cell_type": "code",
   "execution_count": 202,
   "metadata": {},
   "outputs": [],
   "source": [
    "def cramers_corrected_stat(col1,col2):\n",
    "    \"\"\" calculate Cramers V statistic for categorial-categorial association.\n",
    "        uses correction from Bergsma and Wicher, \n",
    "        Journal of the Korean Statistical Society 42 (2013): 323-328\n",
    "    \"\"\"\n",
    "    confusion_matrix=pd.crosstab(df[col1],df[col2])\n",
    "    chi2 = chi2_contingency(confusion_matrix)[0]\n",
    "    n = confusion_matrix.sum().sum()\n",
    "    phi2 = chi2/n\n",
    "    r,k = confusion_matrix.shape\n",
    "    phi2corr = max(0, phi2 - ((k-1)*(r-1))/(n-1))    \n",
    "    rcorr = r - ((r-1)**2)/(n-1)\n",
    "    kcorr = k - ((k-1)**2)/(n-1)\n",
    "    return np.sqrt(phi2corr / min( (kcorr-1), (rcorr-1)))"
   ]
  },
  {
   "cell_type": "code",
   "execution_count": 203,
   "metadata": {},
   "outputs": [],
   "source": [
    "cat_cols.remove(\"MobileNo_Avl_Flag\")"
   ]
  },
  {
   "cell_type": "code",
   "execution_count": 204,
   "metadata": {},
   "outputs": [],
   "source": [
    "cat_cols.remove(\"UniqueID\")"
   ]
  },
  {
   "cell_type": "code",
   "execution_count": 205,
   "metadata": {},
   "outputs": [],
   "source": [
    "val=[]\n",
    "for i in cat_cols:\n",
    "    for j in cat_cols:\n",
    "        val.append(cramers_corrected_stat(i,j))"
   ]
  },
  {
   "cell_type": "code",
   "execution_count": 206,
   "metadata": {},
   "outputs": [
    {
     "data": {
      "text/plain": [
       "27.0"
      ]
     },
     "execution_count": 206,
     "metadata": {},
     "output_type": "execute_result"
    }
   ],
   "source": [
    "len(val)**.5"
   ]
  },
  {
   "cell_type": "code",
   "execution_count": 207,
   "metadata": {},
   "outputs": [],
   "source": [
    "cramers_df=pd.DataFrame(data=np.array(val).reshape(27,27),index=cat_cols,columns=cat_cols)"
   ]
  },
  {
   "cell_type": "code",
   "execution_count": 208,
   "metadata": {},
   "outputs": [
    {
     "data": {
      "text/plain": [
       "<matplotlib.axes._subplots.AxesSubplot at 0x1f1bd0db448>"
      ]
     },
     "execution_count": 208,
     "metadata": {},
     "output_type": "execute_result"
    },
    {
     "data": {
      "image/png": "[encoded data removed]",
      "text/plain": [
       "<Figure size 1008x720 with 2 Axes>"
      ]
     },
     "metadata": {
      "needs_background": "light"
     },
     "output_type": "display_data"
    }
   ],
   "source": [
    "plt.figure(figsize=(14,10))\n",
    "sns.heatmap(cramers_df)"
   ]
  },
  {
   "cell_type": "code",
   "execution_count": 209,
   "metadata": {},
   "outputs": [
    {
     "data": {
      "text/plain": [
       "<matplotlib.axes._subplots.AxesSubplot at 0x1f1c9a79048>"
      ]
     },
     "execution_count": 209,
     "metadata": {},
     "output_type": "execute_result"
    },
    {
     "data": {
      "image/png": "[encoded data removed]",
      "text/plain": [
       "<Figure size 1008x720 with 2 Axes>"
      ]
     },
     "metadata": {
      "needs_background": "light"
     },
     "output_type": "display_data"
    }
   ],
   "source": [
    "plt.figure(figsize=(14,10))\n",
    "sns.heatmap(df[num_cols].corr(),annot=True)"
   ]
  }
 ],
 "metadata": {
  "kernelspec": {
   "display_name": "Python 3 (ipykernel)",
   "language": "python",
   "name": "python3"
  },
  "language_info": {
   "codemirror_mode": {
    "name": "ipython",
    "version": 3
   },
   "file_extension": ".py",
   "mimetype": "text/x-python",
   "name": "python",
   "nbconvert_exporter": "python",
   "pygments_lexer": "ipython3",
   "version": "3.9.7"
  }
 },
 "nbformat": 4,
 "nbformat_minor": 2
}
