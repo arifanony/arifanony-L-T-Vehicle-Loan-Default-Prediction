{
 "cells": [
  {
   "cell_type": "code",
   "execution_count": 50,
   "metadata": {},
   "outputs": [],
   "source": [
    "import pandas as pd\n",
    "import numpy as np\n",
    "import seaborn as sns\n",
    "import matplotlib.pyplot as plt\n",
    "import datetime\n",
    "from datetime import date"
   ]
  },
  {
   "cell_type": "code",
   "execution_count": 51,
   "metadata": {},
   "outputs": [],
   "source": [
    "import warnings\n",
    "warnings.filterwarnings(\"ignore\")"
   ]
  },
  {
   "cell_type": "code",
   "execution_count": 52,
   "metadata": {},
   "outputs": [],
   "source": [
    "df_train=pd.read_csv('train.csv')"
   ]
  },
  {
   "cell_type": "code",
   "execution_count": 53,
   "metadata": {},
   "outputs": [],
   "source": [
    "df_train=df_train.dropna()"
   ]
  },
  {
   "cell_type": "code",
   "execution_count": 54,
   "metadata": {},
   "outputs": [
    {
     "data": {
      "text/plain": [
       "(225493, 41)"
      ]
     },
     "execution_count": 54,
     "metadata": {},
     "output_type": "execute_result"
    }
   ],
   "source": [
    "df_train.shape"
   ]
  },
  {
   "cell_type": "code",
   "execution_count": 55,
   "metadata": {},
   "outputs": [
    {
     "data": {
      "text/plain": [
       "(225493, 41)"
      ]
     },
     "execution_count": 55,
     "metadata": {},
     "output_type": "execute_result"
    }
   ],
   "source": [
    "df_train.shape"
   ]
  },
  {
   "cell_type": "code",
   "execution_count": 56,
   "metadata": {},
   "outputs": [
    {
     "data": {
      "text/plain": [
       "Index(['Date.of.Birth', 'Employment.Type', 'DisbursalDate',\n",
       "       'PERFORM_CNS.SCORE.DESCRIPTION', 'AVERAGE.ACCT.AGE',\n",
       "       'CREDIT.HISTORY.LENGTH'],\n",
       "      dtype='object')"
      ]
     },
     "execution_count": 56,
     "metadata": {},
     "output_type": "execute_result"
    }
   ],
   "source": [
    "df_train.select_dtypes('object').columns"
   ]
  },
  {
   "cell_type": "code",
   "execution_count": 57,
   "metadata": {},
   "outputs": [],
   "source": [
    "def cns_desc(x):\n",
    "    if x<300:\n",
    "        return 0\n",
    "    elif (x>=300) and (x<=350):\n",
    "        return 1\n",
    "    elif (x>350) and (x<=570):\n",
    "        return 2\n",
    "    elif (x>570) and (x<=630):\n",
    "        return 3\n",
    "    elif (x>630) and (x<=705):\n",
    "        return 4\n",
    "    else:\n",
    "        return 5"
   ]
  },
  {
   "cell_type": "code",
   "execution_count": 58,
   "metadata": {},
   "outputs": [],
   "source": [
    "def fix_date(x):\n",
    "\n",
    "    if x.year >= 2049:\n",
    "        year = x.year - 100\n",
    "    else:\n",
    "        year = x.year\n",
    "    return datetime.date(year,x.month,x.day)\n",
    "df_train[\"Date.of.Birth\"]=pd.to_datetime(df_train[\"Date.of.Birth\"])\n",
    "df_train[\"Date.of.Birth\"] = df_train[\"Date.of.Birth\"].apply(fix_date)\n",
    "\n"
   ]
  },
  {
   "cell_type": "code",
   "execution_count": 59,
   "metadata": {},
   "outputs": [],
   "source": [
    "df_train[\"Date.of.Birth\"]=pd.to_datetime(df_train[\"Date.of.Birth\"])\n",
    "\n",
    "df_train[\"DisbursalDate\"]=pd.to_datetime(df_train[\"DisbursalDate\"])\n",
    "df_train[\"DisbursalDate_Month\"]=df_train[\"DisbursalDate\"].dt.month\n",
    "\n",
    "df_train[\"Age_at_disbursement\"]=((df_train['DisbursalDate']-df_train[\"Date.of.Birth\"])/365).apply(lambda x:x.days)\n",
    "\n",
    "df_train[\"Employment.Type\"]=df_train[\"Employment.Type\"].map({'Salaried':0,\"Self employed\":1,np.nan:2})\n",
    "\n",
    "df_train[\"PERFORM_CNS.SCORE.DESCRIPTION\"]=df_train[\"PERFORM_CNS.SCORE\"].apply(cns_desc)\n",
    "\n",
    "df_train[\"AVERAGE.ACCT.AGE\"]=df_train[\"AVERAGE.ACCT.AGE\"].apply(lambda x:(int((x.split(\"y\"))[0])*12)+(int((x.split())[1].split(\"m\")[0])))\n",
    "\n",
    "df_train[\"CREDIT.HISTORY.LENGTH\"]=df_train[\"CREDIT.HISTORY.LENGTH\"].apply(lambda x:(int((x.split(\"y\"))[0])*12)+(int((x.split())[1].split(\"m\")[0])))"
   ]
  },
  {
   "cell_type": "code",
   "execution_count": 60,
   "metadata": {},
   "outputs": [],
   "source": [
    "df_train['NO.OF.ACCTS']=df_train['PRI.NO.OF.ACCTS']+df_train['SEC.NO.OF.ACCTS']\n",
    "df_train['ACTIVE.ACCTS']=df_train['PRI.ACTIVE.ACCTS']+df_train['SEC.ACTIVE.ACCTS']\n",
    "df_train['OVERDUE.ACCTS']=df_train['PRI.OVERDUE.ACCTS']+df_train['SEC.OVERDUE.ACCTS']\n",
    "df_train['CURRENT.BALANCE']=df_train['PRI.CURRENT.BALANCE']+df_train['SEC.CURRENT.BALANCE']\n",
    "df_train['SANCTIONED.AMOUNT']=df_train['PRI.SANCTIONED.AMOUNT']+df_train['SEC.SANCTIONED.AMOUNT']\n",
    "df_train['DISBURSED.AMOUNT']=df_train['PRI.DISBURSED.AMOUNT']+df_train['SEC.DISBURSED.AMOUNT']\n",
    "df_train['INSTAL.AMT']=df_train['PRIMARY.INSTAL.AMT']+df_train['SEC.INSTAL.AMT']\n",
    "\n",
    "df_train=df_train.drop(['PRI.NO.OF.ACCTS','SEC.NO.OF.ACCTS','PRI.ACTIVE.ACCTS','SEC.ACTIVE.ACCTS','PRI.OVERDUE.ACCTS','SEC.OVERDUE.ACCTS','PRI.CURRENT.BALANCE','SEC.CURRENT.BALANCE','PRI.SANCTIONED.AMOUNT','SEC.SANCTIONED.AMOUNT','PRI.DISBURSED.AMOUNT','SEC.DISBURSED.AMOUNT','PRIMARY.INSTAL.AMT','SEC.INSTAL.AMT'],axis=1)"
   ]
  },
  {
   "cell_type": "code",
   "execution_count": 61,
   "metadata": {},
   "outputs": [],
   "source": [
    "df_train=df_train.drop(columns=['Date.of.Birth',\"DisbursalDate\"])"
   ]
  },
  {
   "cell_type": "code",
   "execution_count": 62,
   "metadata": {
    "scrolled": true
   },
   "outputs": [
    {
     "data": {
      "text/html": [
       "<div>\n",
       "<style scoped>\n",
       "    .dataframe tbody tr th:only-of-type {\n",
       "        vertical-align: middle;\n",
       "    }\n",
       "\n",
       "    .dataframe tbody tr th {\n",
       "        vertical-align: top;\n",
       "    }\n",
       "\n",
       "    .dataframe thead th {\n",
       "        text-align: right;\n",
       "    }\n",
       "</style>\n",
       "<table border=\"1\" class=\"dataframe\">\n",
       "  <thead>\n",
       "    <tr style=\"text-align: right;\">\n",
       "      <th></th>\n",
       "      <th>UniqueID</th>\n",
       "      <th>disbursed_amount</th>\n",
       "      <th>asset_cost</th>\n",
       "      <th>ltv</th>\n",
       "      <th>branch_id</th>\n",
       "      <th>supplier_id</th>\n",
       "      <th>manufacturer_id</th>\n",
       "      <th>Current_pincode_ID</th>\n",
       "      <th>Employment.Type</th>\n",
       "      <th>State_ID</th>\n",
       "      <th>...</th>\n",
       "      <th>loan_default</th>\n",
       "      <th>DisbursalDate_Month</th>\n",
       "      <th>Age_at_disbursement</th>\n",
       "      <th>NO.OF.ACCTS</th>\n",
       "      <th>ACTIVE.ACCTS</th>\n",
       "      <th>OVERDUE.ACCTS</th>\n",
       "      <th>CURRENT.BALANCE</th>\n",
       "      <th>SANCTIONED.AMOUNT</th>\n",
       "      <th>DISBURSED.AMOUNT</th>\n",
       "      <th>INSTAL.AMT</th>\n",
       "    </tr>\n",
       "  </thead>\n",
       "  <tbody>\n",
       "    <tr>\n",
       "      <th>71593</th>\n",
       "      <td>598208</td>\n",
       "      <td>47773</td>\n",
       "      <td>85964</td>\n",
       "      <td>59.33</td>\n",
       "      <td>20</td>\n",
       "      <td>16700</td>\n",
       "      <td>86</td>\n",
       "      <td>6434</td>\n",
       "      <td>1</td>\n",
       "      <td>5</td>\n",
       "      <td>...</td>\n",
       "      <td>1</td>\n",
       "      <td>10</td>\n",
       "      <td>50</td>\n",
       "      <td>2</td>\n",
       "      <td>1</td>\n",
       "      <td>0</td>\n",
       "      <td>36041</td>\n",
       "      <td>1000000000</td>\n",
       "      <td>1000000000</td>\n",
       "      <td>0</td>\n",
       "    </tr>\n",
       "  </tbody>\n",
       "</table>\n",
       "<p>1 rows × 34 columns</p>\n",
       "</div>"
      ],
      "text/plain": [
       "       UniqueID  disbursed_amount  asset_cost    ltv  branch_id  supplier_id  \\\n",
       "71593    598208             47773       85964  59.33         20        16700   \n",
       "\n",
       "       manufacturer_id  Current_pincode_ID  Employment.Type  State_ID  ...  \\\n",
       "71593               86                6434                1         5  ...   \n",
       "\n",
       "       loan_default  DisbursalDate_Month  Age_at_disbursement  NO.OF.ACCTS  \\\n",
       "71593             1                   10                   50            2   \n",
       "\n",
       "       ACTIVE.ACCTS  OVERDUE.ACCTS  CURRENT.BALANCE  SANCTIONED.AMOUNT  \\\n",
       "71593             1              0            36041         1000000000   \n",
       "\n",
       "       DISBURSED.AMOUNT  INSTAL.AMT  \n",
       "71593        1000000000           0  \n",
       "\n",
       "[1 rows x 34 columns]"
      ]
     },
     "execution_count": 62,
     "metadata": {},
     "output_type": "execute_result"
    }
   ],
   "source": [
    "df_train[df_train['DISBURSED.AMOUNT']==df_train['DISBURSED.AMOUNT'].max()]"
   ]
  },
  {
   "cell_type": "code",
   "execution_count": 63,
   "metadata": {},
   "outputs": [
    {
     "name": "stdout",
     "output_type": "stream",
     "text": [
      "<class 'pandas.core.frame.DataFrame'>\n",
      "Int64Index: 225493 entries, 0 to 233153\n",
      "Data columns (total 34 columns):\n",
      " #   Column                               Non-Null Count   Dtype  \n",
      "---  ------                               --------------   -----  \n",
      " 0   UniqueID                             225493 non-null  int64  \n",
      " 1   disbursed_amount                     225493 non-null  int64  \n",
      " 2   asset_cost                           225493 non-null  int64  \n",
      " 3   ltv                                  225493 non-null  float64\n",
      " 4   branch_id                            225493 non-null  int64  \n",
      " 5   supplier_id                          225493 non-null  int64  \n",
      " 6   manufacturer_id                      225493 non-null  int64  \n",
      " 7   Current_pincode_ID                   225493 non-null  int64  \n",
      " 8   Employment.Type                      225493 non-null  int64  \n",
      " 9   State_ID                             225493 non-null  int64  \n",
      " 10  Employee_code_ID                     225493 non-null  int64  \n",
      " 11  MobileNo_Avl_Flag                    225493 non-null  int64  \n",
      " 12  Aadhar_flag                          225493 non-null  int64  \n",
      " 13  PAN_flag                             225493 non-null  int64  \n",
      " 14  VoterID_flag                         225493 non-null  int64  \n",
      " 15  Driving_flag                         225493 non-null  int64  \n",
      " 16  Passport_flag                        225493 non-null  int64  \n",
      " 17  PERFORM_CNS.SCORE                    225493 non-null  int64  \n",
      " 18  PERFORM_CNS.SCORE.DESCRIPTION        225493 non-null  int64  \n",
      " 19  NEW.ACCTS.IN.LAST.SIX.MONTHS         225493 non-null  int64  \n",
      " 20  DELINQUENT.ACCTS.IN.LAST.SIX.MONTHS  225493 non-null  int64  \n",
      " 21  AVERAGE.ACCT.AGE                     225493 non-null  int64  \n",
      " 22  CREDIT.HISTORY.LENGTH                225493 non-null  int64  \n",
      " 23  NO.OF_INQUIRIES                      225493 non-null  int64  \n",
      " 24  loan_default                         225493 non-null  int64  \n",
      " 25  DisbursalDate_Month                  225493 non-null  int64  \n",
      " 26  Age_at_disbursement                  225493 non-null  int64  \n",
      " 27  NO.OF.ACCTS                          225493 non-null  int64  \n",
      " 28  ACTIVE.ACCTS                         225493 non-null  int64  \n",
      " 29  OVERDUE.ACCTS                        225493 non-null  int64  \n",
      " 30  CURRENT.BALANCE                      225493 non-null  int64  \n",
      " 31  SANCTIONED.AMOUNT                    225493 non-null  int64  \n",
      " 32  DISBURSED.AMOUNT                     225493 non-null  int64  \n",
      " 33  INSTAL.AMT                           225493 non-null  int64  \n",
      "dtypes: float64(1), int64(33)\n",
      "memory usage: 60.2 MB\n"
     ]
    }
   ],
   "source": [
    "df_train.info()"
   ]
  },
  {
   "cell_type": "markdown",
   "metadata": {},
   "source": [
    "### Import statements for models"
   ]
  },
  {
   "cell_type": "code",
   "execution_count": 46,
   "metadata": {},
   "outputs": [],
   "source": [
    "from sklearn.linear_model import LogisticRegression\n",
    "from sklearn.tree import DecisionTreeClassifier\n",
    "from sklearn.ensemble import RandomForestClassifier"
   ]
  },
  {
   "cell_type": "code",
   "execution_count": 67,
   "metadata": {},
   "outputs": [],
   "source": [
    "import lightgbm as lgb"
   ]
  },
  {
   "cell_type": "code",
   "execution_count": 21,
   "metadata": {},
   "outputs": [],
   "source": [
    "X=df_train.drop(['loan_default'],axis=1)\n",
    "y=df_train['loan_default']"
   ]
  },
  {
   "cell_type": "code",
   "execution_count": 22,
   "metadata": {},
   "outputs": [],
   "source": [
    "from sklearn.model_selection import KFold,cross_val_score,train_test_split"
   ]
  },
  {
   "cell_type": "code",
   "execution_count": 42,
   "metadata": {},
   "outputs": [
    {
     "name": "stdout",
     "output_type": "stream",
     "text": [
      "0.5543033112858818\n",
      "0.007687559667951311\n"
     ]
    }
   ],
   "source": [
    "d={}\n",
    "lr=LogisticRegression()\n",
    "kfolds=KFold(n_splits=5,shuffle=True,random_state=1)\n",
    "scorers=cross_val_score(lr,X,y,scoring='roc_auc')\n",
    "print(np.mean(scorers))\n",
    "print(np.std(scorers))\n",
    "d['logistic_regression']=scorers"
   ]
  },
  {
   "cell_type": "code",
   "execution_count": 45,
   "metadata": {},
   "outputs": [
    {
     "name": "stdout",
     "output_type": "stream",
     "text": [
      "0.5179952600924311\n",
      "0.007535133174971846\n"
     ]
    }
   ],
   "source": [
    "d={}\n",
    "dt=DecisionTreeClassifier()\n",
    "kfolds=KFold(n_splits=5,shuffle=True,random_state=1)\n",
    "scorers=cross_val_score(dt,X,y,scoring='roc_auc')\n",
    "print(np.mean(scorers))\n",
    "print(np.std(scorers))\n",
    "d['Decision_Tree']=scorers"
   ]
  },
  {
   "cell_type": "code",
   "execution_count": 47,
   "metadata": {},
   "outputs": [
    {
     "name": "stdout",
     "output_type": "stream",
     "text": [
      "0.6089171705159476\n",
      "0.01389497825310791\n"
     ]
    }
   ],
   "source": [
    "d={}\n",
    "rfc=RandomForestClassifier()\n",
    "kfolds=KFold(n_splits=5,shuffle=True,random_state=1)\n",
    "scorers=cross_val_score(rfc,X,y,scoring='roc_auc')\n",
    "print(np.mean(scorers))\n",
    "print(np.std(scorers))\n",
    "d['Random_forest']=scorers"
   ]
  },
  {
   "cell_type": "code",
   "execution_count": 48,
   "metadata": {},
   "outputs": [
    {
     "data": {
      "text/plain": [
       "{'Random_forest': array([0.63264253, 0.60395348, 0.59225692, 0.61486823, 0.6008647 ])}"
      ]
     },
     "execution_count": 48,
     "metadata": {},
     "output_type": "execute_result"
    }
   ],
   "source": [
    "d"
   ]
  },
  {
   "cell_type": "code",
   "execution_count": 69,
   "metadata": {},
   "outputs": [
    {
     "name": "stdout",
     "output_type": "stream",
     "text": [
      "0.6210544223495829\n",
      "0.02430213370190127\n"
     ]
    }
   ],
   "source": [
    "d={}\n",
    "lgbc=lgb.LGBMClassifier()\n",
    "kfolds=KFold(n_splits=5,shuffle=True,random_state=1)\n",
    "scorers=cross_val_score(lgbc,X,y,scoring='roc_auc')\n",
    "print(np.mean(scorers))\n",
    "print(np.std(scorers))\n",
    "d['Random_forest']=scorers"
   ]
  }
 ],
 "metadata": {
  "kernelspec": {
   "display_name": "Python 3 (ipykernel)",
   "language": "python",
   "name": "python3"
  },
  "language_info": {
   "codemirror_mode": {
    "name": "ipython",
    "version": 3
   },
   "file_extension": ".py",
   "mimetype": "text/x-python",
   "name": "python",
   "nbconvert_exporter": "python",
   "pygments_lexer": "ipython3",
   "version": "3.9.7"
  }
 },
 "nbformat": 4,
 "nbformat_minor": 4
}
